{
  "cells": [
    {
      "cell_type": "markdown",
      "source": [
        "---\n",
        "\n",
        "<h1 align=left><font size = 8, style=\"color:rgb(200,0,0)\"><b>Classificação dos Dados </b></font></h1>\n",
        "\n",
        "---"
      ],
      "metadata": {
        "id": "TsBQXHyOk8m0"
      },
      "id": "TsBQXHyOk8m0"
    },
    {
      "cell_type": "markdown",
      "source": [
        "A classificação dos dados é um processo fundamental na análise de dados, onde os dados são organizados em diferentes categorias ou tipos com base em suas características. Essa classificação facilita a escolha das técnicas de análise apropriadas e a interpretação dos resultados. Os dados podem ser classificados de várias maneiras, incluindo:\n",
        "\n",
        "\n",
        "- A estrutura dos dados;\n",
        "- A natureza dos dados;\n",
        "- A escala de medição.\n"
      ],
      "metadata": {
        "id": "eRLqc0Wcv3Rh"
      },
      "id": "eRLqc0Wcv3Rh"
    },
    {
      "cell_type": "markdown",
      "source": [
        "# **Classificação:** com Base na **Estrutura dos dados**\n",
        "\n",
        "- Estruturados;\n",
        "- Semiestruturados;\n",
        "- Não Estruturados."
      ],
      "metadata": {
        "id": "N5qdNE3vjc36"
      },
      "id": "N5qdNE3vjc36"
    },
    {
      "cell_type": "markdown",
      "metadata": {
        "tags": [],
        "id": "b2e0c068-1ed2-421c-b8da-498f8e380ca1"
      },
      "source": [
        "## **Dados Estruturados**"
      ],
      "id": "b2e0c068-1ed2-421c-b8da-498f8e380ca1"
    },
    {
      "cell_type": "markdown",
      "source": [
        "<br>\n",
        "<img src=\"https://universodosdados.com/wp-content/uploads/2022/11/image.png?w=1024\" width=700, align=\"centre\">\n",
        "<br>\n",
        "\n",
        "[imagem](\"https://universodosdados.com/wp-content/uploads/2022/11/image.png?w=1024\")"
      ],
      "metadata": {
        "id": "4W3XV9br0Mow"
      },
      "id": "4W3XV9br0Mow"
    },
    {
      "cell_type": "markdown",
      "source": [
        "**Definição:**\n",
        "Dados estruturados são aqueles que seguem um formato predefinido e são facilmente organizáveis em tabelas, bancos de dados ou planilhas. Eles são altamente organizados e geralmente armazenados em um formato relacional.\n",
        "\n",
        "**Características:**\n",
        "- **Formato:** Tabelar, com linhas e colunas bem definidas.\n",
        "- **Organização:** Dados são armazenados em bases de dados relacionais (RDBMS) e podem ser facilmente consultados usando SQL.\n",
        "- **Consistência:** Estruturado e previsível.\n",
        "\n",
        "**Exemplos:**\n",
        "\n",
        "- **Bases de Dados Relacionais:** Dados armazenados em tabelas em sistemas de banco de dados como MySQL, PostgreSQL e Oracle.\n",
        "\n",
        "- **Planilhas:** Dados armazenados em planilhas como Microsoft Excel ou Google Sheets.\n",
        "  - **Exemplo:** Planilha com dados de vendas mensais, incluindo colunas para data, produto, quantidade e receita.\n",
        "\n",
        "- **Arquivos CSV:** Arquivos de texto delimitados por vírgulas que armazenam dados tabulares.\n",
        "\n",
        "**Análise e Manipulação:**\n",
        "- **SQL:** Consultas para extrair e manipular dados.\n",
        "- **Pandas (Python):** Para análise de dados estruturados em DataFrames."
      ],
      "metadata": {
        "id": "wEnNksj6j1Hs"
      },
      "id": "wEnNksj6j1Hs"
    },
    {
      "cell_type": "markdown",
      "source": [
        "## **Dados Semiestruturados**"
      ],
      "metadata": {
        "id": "q2pvL00wvZSK"
      },
      "id": "q2pvL00wvZSK"
    },
    {
      "cell_type": "markdown",
      "source": [
        "\n",
        "\n",
        "<br>\n",
        "<img src=\"https://businesscentralgeek.com/wp-content/uploads/2023/12/image-7.png \" width=700, align=\"centre\">\n",
        "<br>\n",
        "\n",
        "[imagem](\"https://businesscentralgeek.com/wp-content/uploads/2023/12/image-7.png \")"
      ],
      "metadata": {
        "id": "FTTkwkOS1aPn"
      },
      "id": "FTTkwkOS1aPn"
    },
    {
      "cell_type": "markdown",
      "source": [],
      "metadata": {
        "id": "CkCCz9xd1cLn"
      },
      "id": "CkCCz9xd1cLn"
    },
    {
      "cell_type": "markdown",
      "source": [],
      "metadata": {
        "id": "xlzdyoLl1cIL"
      },
      "id": "xlzdyoLl1cIL"
    },
    {
      "cell_type": "markdown",
      "source": [
        ">Têm uma organização flexível, mas ainda contêm tags ou outros marcadores para separar elementos de dados. Eles não seguem um modelo fixo como dados estruturados.\n",
        "\n",
        "- **Exemplo:** Arquivos XML, JSON."
      ],
      "metadata": {
        "id": "VqJ8B8MgvUBs"
      },
      "id": "VqJ8B8MgvUBs"
    },
    {
      "cell_type": "markdown",
      "metadata": {
        "tags": [],
        "id": "d6f256a3-7f82-4b8c-b457-04fb9995190b"
      },
      "source": [
        "## **Dados Não Estruturados**"
      ],
      "id": "d6f256a3-7f82-4b8c-b457-04fb9995190b"
    },
    {
      "cell_type": "markdown",
      "source": [
        "<br>\n",
        "<img src=\"https://media.licdn.com/dms/image/C4E12AQHzFFaWajJ0Xg/article-inline_image-shrink_1000_1488/0/1520562536090?e=1726704000&v=beta&t=2KCA02mwTlmFwENK8H8hoYtc_DtArBeA6QZBuDe2dyg\" width=700, align=\"centre\">\n",
        "<br>\n",
        "\n",
        "[imagem](\"https://media.licdn.com/dms/image/C4E12AQHzFFaWajJ0Xg/article-inline_image-shrink_1000_1488/0/1520562536090?e=1726704000&v=beta&t=2KCA02mwTlmFwENK8H8hoYtc_DtArBeA6QZBuDe2dyg\")"
      ],
      "metadata": {
        "id": "9fGo_gnW0xqb"
      },
      "id": "9fGo_gnW0xqb"
    },
    {
      "cell_type": "markdown",
      "source": [
        "**Definição:**\n",
        "Dados não estruturados não seguem um formato predefinido e não são facilmente organizáveis em tabelas. Eles são frequentemente mais difíceis de processar e analisar devido à falta de estrutura.\n",
        "\n",
        "**Características:**\n",
        "- **Formato:** Texto livre, imagens, vídeos, áudios, etc.\n",
        "- **Organização:** Sem uma estrutura rígida, frequentemente armazenados em formatos como arquivos de texto, e-mails, ou mídias sociais.\n",
        "- **Variedade:** Diversidade de formatos e tipos de dados.\n",
        "\n",
        "**Exemplos:**\n",
        "\n",
        "- **Texto Livre:** Documentos de texto, artigos, posts em redes sociais.\n",
        "  - **Exemplo:** Comentários de clientes em uma plataforma de e-commerce.\n",
        "\n",
        "  ```plaintext\n",
        "  \"O produto chegou danificado. Preciso de uma substituição.\"\n",
        "  \"Excelente qualidade, superou minhas expectativas!\"\n",
        "  ```\n",
        "\n",
        "- **Imagens:** Arquivos de imagem como JPEG, PNG, e GIF.\n",
        "  - **Exemplo:** Fotos de produtos em um site de vendas.\n",
        "\n",
        "- **Vídeos:** Arquivos de vídeo em formatos como MP4, AVI.\n",
        "  - **Exemplo:** Vídeos promocionais de um produto em uma campanha de marketing.\n",
        "\n",
        "- **Áudios:** Arquivos de áudio como MP3, WAV.\n",
        "  - **Exemplo:** Gravações de chamadas de atendimento ao cliente.\n",
        "\n",
        "- **E-mails e Mensagens:** Comunicações em formato de texto, como e-mails corporativos ou mensagens em apps de chat.\n",
        "\n",
        "**Análise e Manipulação:**\n",
        "\n",
        "- **Processamento de Linguagem Natural (NLP):** Para análise de texto, como análise de sentimentos e extração de entidades.\n",
        "- **Visão Computacional:** Para analisar imagens e vídeos, como reconhecimento de objetos e análise de padrões.\n",
        "- **Tecnologias de Big Data:** Para armazenar e processar grandes volumes de dados não estruturados."
      ],
      "metadata": {
        "id": "3dMMjJY7kcOV"
      },
      "id": "3dMMjJY7kcOV"
    },
    {
      "cell_type": "markdown",
      "source": [
        "\n",
        "### **6. Dados Geoespaciais**\n",
        "- **Descrição:** Dados que possuem uma componente geográfica, como coordenadas de latitude e longitude.\n",
        "  - **Exemplo:** Localização de clientes, áreas de vendas.\n",
        "\n",
        "- **Exemplos de EDA:**\n",
        "  - **Mapas de Calor (Heatmaps):** Para visualizar a densidade de eventos em uma área.\n",
        "  - **Mapas de Pontos:** Para mostrar a distribuição de pontos de interesse.\n",
        "  - **Clusterização Geoespacial:** Para identificar agrupamentos de dados em uma área específica."
      ],
      "metadata": {
        "id": "hV4IBo7aijzF"
      },
      "id": "hV4IBo7aijzF"
    },
    {
      "cell_type": "markdown",
      "id": "a7b50b22-cadf-4470-a9d0-d26bc1531d95",
      "metadata": {
        "id": "a7b50b22-cadf-4470-a9d0-d26bc1531d95"
      },
      "source": [
        "# **Classificação:** com Base na **Natureza dos Dados**\n",
        "\n",
        "- Quantitativas <br>(Discretas, Continuas)\n",
        "- Qualitativas  <br> (Nominais, Ordinais)"
      ]
    },
    {
      "cell_type": "markdown",
      "source": [
        "## **Variáveis Quant**itativas _(Numéricos)_"
      ],
      "metadata": {
        "id": "cKFDd0NfooMV"
      },
      "id": "cKFDd0NfooMV"
    },
    {
      "cell_type": "markdown",
      "source": [
        "> Variáveis quantitativas são aquelas que expressam uma quantidade e podem ser medidas numericamente. Elas representam valores numéricos que indicam \"quanto\" ou \"quantos\" de algo existe. Essas variáveis podem ser manipuladas matematicamente para realizar operações como soma, subtração, multiplicação, e divisão.\n",
        "\n",
        "As variáveis quantitativas podem ser divididas em `dois tipos` principais:"
      ],
      "metadata": {
        "id": "GE7p8vysoXIU"
      },
      "id": "GE7p8vysoXIU"
    },
    {
      "cell_type": "markdown",
      "source": [
        "### **1. Variáveis Quantitativas Discretas**"
      ],
      "metadata": {
        "id": "F2_drT8vravf"
      },
      "id": "F2_drT8vravf"
    },
    {
      "cell_type": "markdown",
      "source": [
        "\n",
        "Essas variáveis assumem valores inteiros e contáveis. Elas representam quantidades que podem ser contadas, e os valores possíveis são geralmente números inteiros.\n",
        "\n",
        "- **Exemplos:**\n",
        "  - **Número de filhos em uma família:** Pode ser 0, 1, 2, 3, etc.\n",
        "  - **Número de carros em uma garagem:** Pode ser 1, 2, 3, etc.\n",
        "  - **Número de chamadas recebidas em um dia:** Pode ser 0, 10, 20, etc.\n",
        "  - **Quantidade de produtos vendidos:** Pode ser 50, 100, 150, etc.\n"
      ],
      "metadata": {
        "id": "_RX_gscVrV2_"
      },
      "id": "_RX_gscVrV2_"
    },
    {
      "cell_type": "markdown",
      "source": [
        "\n",
        "### **2. Variáveis Quantitativas Contínuas**\n"
      ],
      "metadata": {
        "id": "VPh5xym2rXVB"
      },
      "id": "VPh5xym2rXVB"
    },
    {
      "cell_type": "markdown",
      "source": [
        "Essas variáveis podem assumir qualquer valor dentro de um intervalo contínuo. Elas representam quantidades que podem ser medidas e podem ter valores decimais.\n",
        "\n",
        "- **Exemplos:**\n",
        "  - **Altura de uma pessoa:** Pode ser 1,75 m, 1,80 m, etc.\n",
        "  - **Peso de um objeto:** Pode ser 50,5 kg, 70,2 kg, etc.\n",
        "  - **Temperatura em uma cidade:** Pode ser 20,3°C, 35,7°C, etc.\n",
        "  - **Tempo gasto em uma tarefa:** Pode ser 1,5 horas, 2,25 horas, etc.\n"
      ],
      "metadata": {
        "id": "85S5aTwIrdMp"
      },
      "id": "85S5aTwIrdMp"
    },
    {
      "cell_type": "markdown",
      "source": [
        "### Como Analisar Variáveis Quantitativas\n",
        "\n",
        "Dependendo do tipo de variável quantitativa, diferentes técnicas estatísticas e gráficas podem ser usadas para analisá-las:\n",
        "\n",
        "\n",
        "  \n"
      ],
      "metadata": {
        "id": "UsWL6efXpAbS"
      },
      "id": "UsWL6efXpAbS"
    },
    {
      "cell_type": "markdown",
      "source": [
        "- **Histograma:** Utilizado para visualizar a distribuição de uma variável contínua."
      ],
      "metadata": {
        "id": "AxUG85uhrDnj"
      },
      "id": "AxUG85uhrDnj"
    },
    {
      "cell_type": "code",
      "source": [
        "import pandas as pd\n",
        "import matplotlib.pyplot as plt\n",
        "\n",
        "df = pd.DataFrame({'altura': [1.60, 1.75, 1.82, 1.67, 1.90]})\n",
        "df['altura'].plot(kind='hist', bins=10)\n",
        "plt.title('Distribuição das Alturas')\n",
        "plt.xlabel('Altura (m)')\n",
        "plt.ylabel('Frequência')\n",
        "plt.show()"
      ],
      "metadata": {
        "colab": {
          "base_uri": "https://localhost:8080/",
          "height": 472
        },
        "id": "QT6wxZTXpi-0",
        "outputId": "9c6a244a-f3b1-40ec-f477-f6dc346cb9bd"
      },
      "id": "QT6wxZTXpi-0",
      "execution_count": null,
      "outputs": [
        {
          "output_type": "display_data",
          "data": {
            "text/plain": [
              "<Figure size 640x480 with 1 Axes>"
            ],
            "image/png": "[encoded data removed]"
          },
          "metadata": {}
        }
      ]
    },
    {
      "cell_type": "markdown",
      "source": [
        "- **Gráfico de Barras:** Usado para visualizar a frequência de uma variável discreta.\n"
      ],
      "metadata": {
        "id": "t3ic1QbEpfKG"
      },
      "id": "t3ic1QbEpfKG"
    },
    {
      "cell_type": "code",
      "source": [
        "df1 = pd.DataFrame({'numero_carros': [1, 2, 3, 2, 1, 3, 2, 1, 3]})\n",
        "df1['numero_carros'].value_counts().plot(kind='bar')\n",
        "plt.title('Distribuição do Número de Carros')\n",
        "plt.xlabel('Número de Carros')\n",
        "plt.ylabel('Frequência')\n",
        "plt.show()\n"
      ],
      "metadata": {
        "colab": {
          "base_uri": "https://localhost:8080/",
          "height": 467
        },
        "id": "b7t-TI7vpwYR",
        "outputId": "af02038b-6c83-4049-cf8d-6c3114382cd7"
      },
      "id": "b7t-TI7vpwYR",
      "execution_count": null,
      "outputs": [
        {
          "output_type": "display_data",
          "data": {
            "text/plain": [
              "<Figure size 640x480 with 1 Axes>"
            ],
            "image/png": "[encoded data removed]"
          },
          "metadata": {}
        }
      ]
    },
    {
      "cell_type": "markdown",
      "source": [
        "\n",
        "\n",
        "- **Estatísticas Descritivas:** Cálculo de média, mediana, moda, desvio padrão, etc., para entender a distribuição da variável.\n"
      ],
      "metadata": {
        "id": "S0_lgJ7Lptxi"
      },
      "id": "S0_lgJ7Lptxi"
    },
    {
      "cell_type": "code",
      "source": [
        "print(df['altura'].describe())"
      ],
      "metadata": {
        "colab": {
          "base_uri": "https://localhost:8080/"
        },
        "id": "BtlpQa0SqFEM",
        "outputId": "4eada458-9ab3-48e0-d3bd-41aa16ec7ec4"
      },
      "id": "BtlpQa0SqFEM",
      "execution_count": null,
      "outputs": [
        {
          "output_type": "stream",
          "name": "stdout",
          "text": [
            "count    5.000000\n",
            "mean     1.748000\n",
            "std      0.118617\n",
            "min      1.600000\n",
            "25%      1.670000\n",
            "50%      1.750000\n",
            "75%      1.820000\n",
            "max      1.900000\n",
            "Name: altura, dtype: float64\n"
          ]
        }
      ]
    },
    {
      "cell_type": "markdown",
      "source": [
        "### Importância das Variáveis Quantitativas"
      ],
      "metadata": {
        "id": "tp_c5bWZrg1Q"
      },
      "id": "tp_c5bWZrg1Q"
    },
    {
      "cell_type": "markdown",
      "source": [
        ">As variáveis quantitativas são fundamentais na análise de dados, pois permitem a **realização de cálculos precisos e análises estatísticas rigorosas**. Elas são frequentemente utilizadas em estudos científicos, econômicos, sociais, e de saúde, entre outros, para medir, comparar, e inferir informações a partir dos dados coletados."
      ],
      "metadata": {
        "id": "t0Z8-8UoqAuX"
      },
      "id": "t0Z8-8UoqAuX"
    },
    {
      "cell_type": "markdown",
      "source": [
        "## **Variáveis Quali**tativas _(Categóricos)_"
      ],
      "metadata": {
        "id": "FRYJpLh6rqUb"
      },
      "id": "FRYJpLh6rqUb"
    },
    {
      "cell_type": "markdown",
      "source": [
        "> Variáveis qualitativas, também conhecidas como variáveis categóricas, são aquelas que expressam uma qualidade ou característica e não são medidas numericamente. Em vez disso, elas classificam os dados em categorias ou grupos distintos.\n",
        "\n",
        "As variáveis qualitativas podem ser divididas em dois tipos principais:\n"
      ],
      "metadata": {
        "id": "TEQWjj7Rrl7V"
      },
      "id": "TEQWjj7Rrl7V"
    },
    {
      "cell_type": "markdown",
      "source": [
        "\n",
        "### **1. Variáveis Nominais**"
      ],
      "metadata": {
        "id": "K0OE-uvQsXB1"
      },
      "id": "K0OE-uvQsXB1"
    },
    {
      "cell_type": "markdown",
      "source": [
        "\n",
        "Essas variáveis categorizam os dados em grupos que `não têm uma ordem intrínseca`. As categorias são mutuamente exclusivas e não seguem uma sequência lógica.\n",
        "\n",
        "- **Exemplos:**\n",
        "  - **Cor dos olhos:** azul, verde, castanho.\n",
        "  - **Gênero:** masculino, feminino, não-binário.\n",
        "  - **Tipo de fruta:** maçã, banana, laranja.\n",
        "  - **Estado civil:** solteiro, casado, divorciado.\n",
        "\n",
        "  As categorias podem ser representadas por rótulos ou nomes, e não há uma hierarquia entre elas.\n"
      ],
      "metadata": {
        "id": "bK7quwxpsU8c"
      },
      "id": "bK7quwxpsU8c"
    },
    {
      "cell_type": "markdown",
      "source": [
        "\n",
        "### **2. Variáveis Ordinais**"
      ],
      "metadata": {
        "id": "CwyF7BKUsbvG"
      },
      "id": "CwyF7BKUsbvG"
    },
    {
      "cell_type": "markdown",
      "source": [
        "\n",
        "Essas variáveis categorizam os dados em grupos que `têm uma ordem ou hierarquia natural`. Embora as categorias tenham uma sequência lógica, as diferenças entre elas não são necessariamente uniformes ou quantificáveis.\n",
        "\n",
        "- **Exemplos:**\n",
        "  - **Nível de escolaridade:** fundamental, médio, superior.\n",
        "  - **Classificação de satisfação:** muito insatisfeito, insatisfeito, neutro, satisfeito, muito satisfeito.\n",
        "  - **Nível de dor:** leve, moderada, severa.\n",
        "\n",
        "  Aqui, as categorias têm uma ordem, mas a diferença entre elas (por exemplo, entre \"satisfeito\" e \"muito satisfeito\") não é quantificada numericamente.\n"
      ],
      "metadata": {
        "id": "PWrcIPwXsaLE"
      },
      "id": "PWrcIPwXsaLE"
    },
    {
      "cell_type": "markdown",
      "source": [
        "### **Como Analisar Variáveis Qualitativas**\n",
        "\n",
        "Análises de variáveis qualitativas geralmente envolvem a contagem das frequências de cada categoria e a visualização dessas frequências em gráficos ou tabelas."
      ],
      "metadata": {
        "id": "IG76ysEDssCY"
      },
      "id": "IG76ysEDssCY"
    },
    {
      "cell_type": "markdown",
      "source": [
        "- **Tabela de Frequência:** Mostra quantas vezes cada categoria aparece nos dados.\n"
      ],
      "metadata": {
        "id": "kMHcc0sysqW9"
      },
      "id": "kMHcc0sysqW9"
    },
    {
      "cell_type": "code",
      "source": [
        "import pandas as pd\n",
        "\n",
        "df = pd.DataFrame({'estado_civil': ['solteiro', 'casado', 'divorciado', 'solteiro', 'casado']})\n",
        "print(df['estado_civil'].value_counts())"
      ],
      "metadata": {
        "id": "uFb_38G9s65w",
        "colab": {
          "base_uri": "https://localhost:8080/"
        },
        "outputId": "3c195bf1-29f1-4874-e1ba-348c2718855b"
      },
      "id": "uFb_38G9s65w",
      "execution_count": null,
      "outputs": [
        {
          "output_type": "stream",
          "name": "stdout",
          "text": [
            "estado_civil\n",
            "solteiro      2\n",
            "casado        2\n",
            "divorciado    1\n",
            "Name: count, dtype: int64\n"
          ]
        }
      ]
    },
    {
      "cell_type": "markdown",
      "source": [
        "\n",
        "- **Gráfico de Barras:** Útil para visualizar a frequência de cada categoria."
      ],
      "metadata": {
        "id": "MiMAe6CwsyD8"
      },
      "id": "MiMAe6CwsyD8"
    },
    {
      "cell_type": "code",
      "source": [
        "df['estado_civil'].value_counts().plot(kind='bar')\n",
        "plt.title('Distribuição do Estado Civil')\n",
        "plt.xlabel('Estado Civil')\n",
        "plt.ylabel('Frequência')\n",
        "plt.show()"
      ],
      "metadata": {
        "id": "XibREsUFtC8m",
        "colab": {
          "base_uri": "https://localhost:8080/",
          "height": 530
        },
        "outputId": "e5b94c53-42fb-4db1-a20a-46ca297a7003"
      },
      "id": "XibREsUFtC8m",
      "execution_count": null,
      "outputs": [
        {
          "output_type": "display_data",
          "data": {
            "text/plain": [
              "<Figure size 640x480 with 1 Axes>"
            ],
            "image/png": "[encoded data removed]"
          },
          "metadata": {}
        }
      ]
    },
    {
      "cell_type": "markdown",
      "source": [
        "\n",
        "- **Gráfico de Pizza:** Outro método para visualizar a proporção de cada categoria."
      ],
      "metadata": {
        "id": "5TkOq706sz4d"
      },
      "id": "5TkOq706sz4d"
    },
    {
      "cell_type": "code",
      "source": [
        "df['estado_civil'].value_counts().plot(kind='pie', autopct='%1.1f%%')\n",
        "plt.title('Proporção do Estado Civil')\n",
        "plt.show()"
      ],
      "metadata": {
        "id": "Ldf_u7xhtHAt",
        "colab": {
          "base_uri": "https://localhost:8080/",
          "height": 428
        },
        "outputId": "c90943af-79b8-4b1c-aee4-84d6d866d1b5"
      },
      "id": "Ldf_u7xhtHAt",
      "execution_count": null,
      "outputs": [
        {
          "output_type": "display_data",
          "data": {
            "text/plain": [
              "<Figure size 640x480 with 1 Axes>"
            ],
            "image/png": "[encoded data removed]"
          },
          "metadata": {}
        }
      ]
    },
    {
      "cell_type": "markdown",
      "source": [
        "### **Importância das Variáveis Qualitativas**"
      ],
      "metadata": {
        "id": "azFbfJo1s2cc"
      },
      "id": "azFbfJo1s2cc"
    },
    {
      "cell_type": "markdown",
      "source": [
        "\n",
        "\n",
        "\n",
        "Variáveis qualitativas são cruciais para **classificar e compreender dados** em contextos onde a medição numérica não é apropriada ou necessária. Elas permitem que se analise a diversidade e as características dos dados, como preferências de clientes, classificações de produtos, ou demografia da população.\n",
        "\n",
        "Essas variáveis são amplamente usadas em pesquisas de mercado, ciências sociais, medicina, e muitas outras áreas onde a categorização de dados é fundamental para a análise e tomada de decisões."
      ],
      "metadata": {
        "id": "p1dNzpoAs1Je"
      },
      "id": "p1dNzpoAs1Je"
    },
    {
      "cell_type": "markdown",
      "source": [
        "# **Classificação:** com Base na **Escala de Medição**\n",
        "\n",
        "- Nominal;\n",
        "- Ordinal;\n",
        "- Intervalar;\n",
        "- Razão."
      ],
      "metadata": {
        "id": "6iv28qAmwDFL"
      },
      "id": "6iv28qAmwDFL"
    },
    {
      "cell_type": "markdown",
      "source": [
        "## **1. Escala Nominal**\n",
        "Os dados são categorizados sem uma ordem específica, e as categorias são mutuamente exclusivas.\n",
        "\n",
        "- **Exemplo:** Cores de carros, tipos de frutas, gêneros de filmes."
      ],
      "metadata": {
        "id": "Jaz3iNwawSlq"
      },
      "id": "Jaz3iNwawSlq"
    },
    {
      "cell_type": "markdown",
      "source": [
        "## **2. Escala Ordinal**\n",
        "Os dados são categorizados com uma ordem ou classificação, mas as diferenças entre as categorias não são uniformes ou mensuráveis.\n",
        "\n",
        "- **Exemplo:** Classificação de serviço (ruim, regular, bom, excelente), posição em uma competição (primeiro, segundo, terceiro)."
      ],
      "metadata": {
        "id": "McnTBfypwV2Y"
      },
      "id": "McnTBfypwV2Y"
    },
    {
      "cell_type": "markdown",
      "source": [
        "## **3. Escala Intervalar**\n",
        "Os dados são medidos em uma escala onde as diferenças entre os valores são significativas, mas não há um ponto zero absoluto.\n",
        "\n",
        "- **Exemplo:** Temperatura em graus Celsius ou Fahrenheit, datas no calendário."
      ],
      "metadata": {
        "id": "gnaeB2DewXmn"
      },
      "id": "gnaeB2DewXmn"
    },
    {
      "cell_type": "markdown",
      "source": [
        "## **4. Escala de Razão**\n",
        "Os dados são medidos em uma escala com um ponto zero absoluto, permitindo a realização de operações matemáticas completas (adição, subtração, multiplicação, divisão).\n",
        "\n",
        "- **Exemplo:** Peso, altura, distância, tempo.\n"
      ],
      "metadata": {
        "id": "aTrHjeIivxR5"
      },
      "id": "aTrHjeIivxR5"
    },
    {
      "cell_type": "markdown",
      "source": [],
      "metadata": {
        "id": "BZpbUlxB5Wgm"
      },
      "id": "BZpbUlxB5Wgm"
    }
  ],
  "metadata": {
    "kernelspec": {
      "display_name": "Python 3 (ipykernel)",
      "language": "python",
      "name": "python3"
    },
    "language_info": {
      "codemirror_mode": {
        "name": "ipython",
        "version": 3
      },
      "file_extension": ".py",
      "mimetype": "text/x-python",
      "name": "python",
      "nbconvert_exporter": "python",
      "pygments_lexer": "ipython3",
      "version": "3.11.2"
    },
    "colab": {
      "provenance": [],
      "collapsed_sections": [
        "N5qdNE3vjc36"
      ]
    }
  },
  "nbformat": 4,
  "nbformat_minor": 5
}