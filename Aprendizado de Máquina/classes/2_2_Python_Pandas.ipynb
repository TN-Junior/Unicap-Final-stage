{
  "cells": [
    {
      "cell_type": "markdown",
      "id": "31b7f138-f6df-4d27-bd68-55e8f2cf687d",
      "metadata": {
        "tags": [],
        "id": "31b7f138-f6df-4d27-bd68-55e8f2cf687d"
      },
      "source": [
        "---\n",
        "\n",
        "<h1 align=left><font size = 8, style=\"color:rgb(200,0,0)\"><b>Bibliotecas: <br>\n",
        "- Pandas\n",
        "</b></font></h1>\n",
        "\n",
        "---"
      ]
    },
    {
      "cell_type": "markdown",
      "id": "132e66ec-5469-4ff5-9541-da1a4e96c1ed",
      "metadata": {
        "tags": [],
        "id": "132e66ec-5469-4ff5-9541-da1a4e96c1ed"
      },
      "source": [
        "Click aqui e saiba mais ==> [Pandas](https://pandas.pydata.org/)"
      ]
    },
    {
      "cell_type": "markdown",
      "id": "909911d1-d8a9-421e-819c-0647e904d1ad",
      "metadata": {
        "tags": [],
        "id": "909911d1-d8a9-421e-819c-0647e904d1ad"
      },
      "source": [
        "# Importamos a Biblioteca: Pandas"
      ]
    },
    {
      "cell_type": "markdown",
      "id": "79e8743c-b9ce-4df7-9ae2-8c8b88d33710",
      "metadata": {
        "id": "79e8743c-b9ce-4df7-9ae2-8c8b88d33710"
      },
      "source": [
        "- Importamos a biblioteca"
      ]
    },
    {
      "cell_type": "code",
      "execution_count": null,
      "id": "42135620-1f2c-45bd-adc0-c89aab0a1d12",
      "metadata": {
        "tags": [],
        "id": "42135620-1f2c-45bd-adc0-c89aab0a1d12"
      },
      "outputs": [],
      "source": [
        "import pandas as pd"
      ]
    },
    {
      "cell_type": "markdown",
      "id": "666b1124-34c9-4753-9715-846bceb8269d",
      "metadata": {
        "id": "666b1124-34c9-4753-9715-846bceb8269d"
      },
      "source": [
        "> Em seguida iremos criar algumas listas que irão compor nosso dataframe"
      ]
    },
    {
      "cell_type": "markdown",
      "id": "7baff343-3784-4d95-a658-4a009902eed8",
      "metadata": {
        "id": "7baff343-3784-4d95-a658-4a009902eed8"
      },
      "source": [
        "## Criando um dataframe"
      ]
    },
    {
      "cell_type": "code",
      "execution_count": null,
      "id": "b5bd8c5b-ec5a-4e46-87d6-1f8ba46cc5c0",
      "metadata": {
        "id": "b5bd8c5b-ec5a-4e46-87d6-1f8ba46cc5c0",
        "outputId": "c16d55eb-150a-438b-91af-96d7be453822"
      },
      "outputs": [
        {
          "data": {
            "text/plain": [
              "{'nome': ['rafael', 'joao', 'rafael', 'maria'],\n",
              " 'nota': [10, 9, 8, 7],\n",
              " 'idade': [23, 23, 34, 21],\n",
              " 'salario': [1, 2, 3, 4]}"
            ]
          },
          "execution_count": 2,
          "metadata": {},
          "output_type": "execute_result"
        }
      ],
      "source": [
        "# lista com Strings\n",
        "nomes  = [ 'rafael', 'joao', 'rafael', 'maria']\n",
        "\n",
        "# lista com interios --> int\n",
        "idades = [ 23, 23, 34 ,21]\n",
        "\n",
        "# lista com decimais -->\n",
        "salario:[1.1, 2.3, 3.1, 4,4]\n",
        "\n",
        "\n",
        "# lista com Strings\n",
        "sexo   = ('M', 'M', 'F', 'O')\n",
        "\n",
        "\n",
        "# Criando o dicionario\n",
        "cadastro = {'nome':['rafael', 'joao', 'rafael', 'maria'],\n",
        "                    'nota':[10, 9, 8,7 ],\n",
        "                   'idade':[23, 23, 34 ,21],\n",
        "                   'salario':[1,2,3,4]}\n",
        "# imprimindo o dicionario\n",
        "cadastro"
      ]
    },
    {
      "cell_type": "code",
      "execution_count": null,
      "id": "5c658c78-44bd-4b02-a9dc-a19216172481",
      "metadata": {
        "tags": [],
        "id": "5c658c78-44bd-4b02-a9dc-a19216172481"
      },
      "outputs": [],
      "source": [
        "df = pd.DataFrame( cadastro )"
      ]
    },
    {
      "cell_type": "markdown",
      "id": "479a0d1f-89f9-41cd-b168-678e2d69397e",
      "metadata": {
        "id": "479a0d1f-89f9-41cd-b168-678e2d69397e"
      },
      "source": [
        "## Imprimir o dataframe"
      ]
    },
    {
      "cell_type": "code",
      "execution_count": null,
      "id": "0d1e5923-3834-4104-9709-7a93865d708f",
      "metadata": {
        "tags": [],
        "id": "0d1e5923-3834-4104-9709-7a93865d708f",
        "outputId": "c171c175-e22e-4a4a-a065-ebe6e7e2b16b"
      },
      "outputs": [
        {
          "data": {
            "text/html": [
              "<div>\n",
              "<style scoped>\n",
              "    .dataframe tbody tr th:only-of-type {\n",
              "        vertical-align: middle;\n",
              "    }\n",
              "\n",
              "    .dataframe tbody tr th {\n",
              "        vertical-align: top;\n",
              "    }\n",
              "\n",
              "    .dataframe thead th {\n",
              "        text-align: right;\n",
              "    }\n",
              "</style>\n",
              "<table border=\"1\" class=\"dataframe\">\n",
              "  <thead>\n",
              "    <tr style=\"text-align: right;\">\n",
              "      <th></th>\n",
              "      <th>nome</th>\n",
              "      <th>nota</th>\n",
              "      <th>idade</th>\n",
              "      <th>salario</th>\n",
              "    </tr>\n",
              "  </thead>\n",
              "  <tbody>\n",
              "    <tr>\n",
              "      <th>0</th>\n",
              "      <td>rafael</td>\n",
              "      <td>10</td>\n",
              "      <td>23</td>\n",
              "      <td>1</td>\n",
              "    </tr>\n",
              "    <tr>\n",
              "      <th>1</th>\n",
              "      <td>joao</td>\n",
              "      <td>9</td>\n",
              "      <td>23</td>\n",
              "      <td>2</td>\n",
              "    </tr>\n",
              "    <tr>\n",
              "      <th>2</th>\n",
              "      <td>rafael</td>\n",
              "      <td>8</td>\n",
              "      <td>34</td>\n",
              "      <td>3</td>\n",
              "    </tr>\n",
              "    <tr>\n",
              "      <th>3</th>\n",
              "      <td>maria</td>\n",
              "      <td>7</td>\n",
              "      <td>21</td>\n",
              "      <td>4</td>\n",
              "    </tr>\n",
              "  </tbody>\n",
              "</table>\n",
              "</div>"
            ],
            "text/plain": [
              "     nome  nota  idade  salario\n",
              "0  rafael    10     23        1\n",
              "1    joao     9     23        2\n",
              "2  rafael     8     34        3\n",
              "3   maria     7     21        4"
            ]
          },
          "execution_count": 4,
          "metadata": {},
          "output_type": "execute_result"
        }
      ],
      "source": [
        "df"
      ]
    },
    {
      "cell_type": "code",
      "execution_count": null,
      "id": "c8ad8bad-773f-4e5b-a718-d300eee3d2cb",
      "metadata": {
        "tags": [],
        "id": "c8ad8bad-773f-4e5b-a718-d300eee3d2cb",
        "outputId": "c39de232-1da7-4d57-9e37-9d00ec994c5f"
      },
      "outputs": [
        {
          "name": "stdout",
          "output_type": "stream",
          "text": [
            "     nome  nota  idade  salario\n",
            "0  rafael    10     23        1\n",
            "1    joao     9     23        2\n",
            "2  rafael     8     34        3\n",
            "3   maria     7     21        4\n"
          ]
        }
      ],
      "source": [
        "print(df)"
      ]
    },
    {
      "cell_type": "markdown",
      "id": "0d29372f-fe48-4b6c-a5e1-e60bfda58e8a",
      "metadata": {
        "id": "0d29372f-fe48-4b6c-a5e1-e60bfda58e8a"
      },
      "source": [
        "## Resgatando um valor de alguma das colunas"
      ]
    },
    {
      "cell_type": "code",
      "execution_count": null,
      "id": "457ab292-ea10-44d9-84a9-8b1bf292613b",
      "metadata": {
        "id": "457ab292-ea10-44d9-84a9-8b1bf292613b",
        "outputId": "41fa481f-b93e-4425-c2ab-445c4270fa34"
      },
      "outputs": [
        {
          "data": {
            "text/plain": [
              "'rafael'"
            ]
          },
          "execution_count": 6,
          "metadata": {},
          "output_type": "execute_result"
        }
      ],
      "source": [
        "df.nome[2]"
      ]
    },
    {
      "cell_type": "markdown",
      "id": "3f344880-275e-4133-b9fc-af2e87d489ff",
      "metadata": {
        "id": "3f344880-275e-4133-b9fc-af2e87d489ff"
      },
      "source": [
        "- Obter os 3 primeiros valores da coluna nomes"
      ]
    },
    {
      "cell_type": "code",
      "execution_count": null,
      "id": "8e8fff46-821c-4e8a-822a-d69fbabdd25b",
      "metadata": {
        "tags": [],
        "id": "8e8fff46-821c-4e8a-822a-d69fbabdd25b",
        "outputId": "fc79f5d7-4bec-4b90-df17-2239b4cd9516"
      },
      "outputs": [
        {
          "data": {
            "text/plain": [
              "0    rafael\n",
              "1      joao\n",
              "2    rafael\n",
              "Name: nome, dtype: object"
            ]
          },
          "execution_count": 7,
          "metadata": {},
          "output_type": "execute_result"
        }
      ],
      "source": [
        "df.nome[:3]"
      ]
    },
    {
      "cell_type": "code",
      "execution_count": null,
      "id": "33acb0c5-aa47-47c5-8c1d-2539f9d0dc1a",
      "metadata": {
        "id": "33acb0c5-aa47-47c5-8c1d-2539f9d0dc1a",
        "outputId": "6ae06aa0-460c-4e15-8167-3dfd07a19a78"
      },
      "outputs": [
        {
          "data": {
            "text/plain": [
              "0    rafael\n",
              "1      joao\n",
              "2    rafael\n",
              "3     maria\n",
              "Name: nome, dtype: object"
            ]
          },
          "execution_count": 42,
          "metadata": {},
          "output_type": "execute_result"
        }
      ],
      "source": [
        "df['nome']"
      ]
    },
    {
      "cell_type": "markdown",
      "id": "b9e1d52a-4381-4f76-9cc2-dd86889efbf9",
      "metadata": {
        "id": "b9e1d52a-4381-4f76-9cc2-dd86889efbf9"
      },
      "source": [
        "## Agregando valores ao dataframe"
      ]
    },
    {
      "cell_type": "code",
      "execution_count": null,
      "id": "c8203696-30b5-4ace-9b59-406f0e6c33ca",
      "metadata": {
        "tags": [],
        "id": "c8203696-30b5-4ace-9b59-406f0e6c33ca",
        "outputId": "48afae05-1165-4e7c-bbdd-245f1c40b6a5"
      },
      "outputs": [
        {
          "data": {
            "text/html": [
              "<div>\n",
              "<style scoped>\n",
              "    .dataframe tbody tr th:only-of-type {\n",
              "        vertical-align: middle;\n",
              "    }\n",
              "\n",
              "    .dataframe tbody tr th {\n",
              "        vertical-align: top;\n",
              "    }\n",
              "\n",
              "    .dataframe thead th {\n",
              "        text-align: right;\n",
              "    }\n",
              "</style>\n",
              "<table border=\"1\" class=\"dataframe\">\n",
              "  <thead>\n",
              "    <tr style=\"text-align: right;\">\n",
              "      <th></th>\n",
              "      <th>nota</th>\n",
              "      <th>idade</th>\n",
              "      <th>salario</th>\n",
              "    </tr>\n",
              "    <tr>\n",
              "      <th>nome</th>\n",
              "      <th></th>\n",
              "      <th></th>\n",
              "      <th></th>\n",
              "    </tr>\n",
              "  </thead>\n",
              "  <tbody>\n",
              "    <tr>\n",
              "      <th>joao</th>\n",
              "      <td>1</td>\n",
              "      <td>23</td>\n",
              "      <td>2.0</td>\n",
              "    </tr>\n",
              "    <tr>\n",
              "      <th>maria</th>\n",
              "      <td>1</td>\n",
              "      <td>21</td>\n",
              "      <td>4.0</td>\n",
              "    </tr>\n",
              "    <tr>\n",
              "      <th>rafael</th>\n",
              "      <td>2</td>\n",
              "      <td>57</td>\n",
              "      <td>2.0</td>\n",
              "    </tr>\n",
              "  </tbody>\n",
              "</table>\n",
              "</div>"
            ],
            "text/plain": [
              "        nota  idade  salario\n",
              "nome                        \n",
              "joao       1     23      2.0\n",
              "maria      1     21      4.0\n",
              "rafael     2     57      2.0"
            ]
          },
          "execution_count": 9,
          "metadata": {},
          "output_type": "execute_result"
        }
      ],
      "source": [
        "\n",
        "df1 = df.set_index('nome')\n",
        "\n",
        "df1.groupby('nome').agg({'nota':'count',\n",
        "                           'idade':'sum',\n",
        "                           'salario':'mean'})"
      ]
    },
    {
      "cell_type": "code",
      "execution_count": null,
      "id": "f895cfd9-a034-4332-9350-6f4ba55c649a",
      "metadata": {
        "tags": [],
        "id": "f895cfd9-a034-4332-9350-6f4ba55c649a",
        "outputId": "58553fec-531f-4917-d3db-a49429a66f7d"
      },
      "outputs": [
        {
          "data": {
            "text/plain": [
              "nome\n",
              "rafael    23\n",
              "rafael    34\n",
              "Name: idade, dtype: int64"
            ]
          },
          "execution_count": 44,
          "metadata": {},
          "output_type": "execute_result"
        }
      ],
      "source": [
        "df1.idade['rafael']"
      ]
    },
    {
      "cell_type": "markdown",
      "id": "e988812e-d784-4bbf-bc11-7c48ba36f4af",
      "metadata": {
        "id": "e988812e-d784-4bbf-bc11-7c48ba36f4af"
      },
      "source": [
        "# **`loc` e `iloc` - Resgatar valores do dataframe**"
      ]
    },
    {
      "cell_type": "markdown",
      "id": "72ad34f1-a58a-4d32-a0c8-8bacb28cabd4",
      "metadata": {
        "id": "72ad34f1-a58a-4d32-a0c8-8bacb28cabd4"
      },
      "source": [
        "## loc\n",
        "> Este método é primariamente baseado nas `labels da colunas`, porém podemos utilizar com um array booleano também.\n",
        "\n",
        "\n",
        "> `df.loc[ <linhas>, <colunas>]`"
      ]
    },
    {
      "cell_type": "code",
      "execution_count": null,
      "id": "5a27818d-36c4-42a9-9cf6-340a307f2939",
      "metadata": {
        "id": "5a27818d-36c4-42a9-9cf6-340a307f2939",
        "outputId": "671c3d4a-4e03-4678-b431-e449e90f5da2"
      },
      "outputs": [
        {
          "data": {
            "text/plain": [
              "'rafael'"
            ]
          },
          "execution_count": 10,
          "metadata": {},
          "output_type": "execute_result"
        }
      ],
      "source": [
        "df.loc[2, 'nome']"
      ]
    },
    {
      "cell_type": "code",
      "execution_count": null,
      "id": "1e862693-2d8d-434d-84f5-d04cae3e79d5",
      "metadata": {
        "tags": [],
        "id": "1e862693-2d8d-434d-84f5-d04cae3e79d5",
        "outputId": "9973e285-7166-4662-e1d6-5255e387f3a7"
      },
      "outputs": [
        {
          "data": {
            "text/plain": [
              "nome\n",
              "rafael    23\n",
              "rafael    34\n",
              "Name: idade, dtype: int64"
            ]
          },
          "execution_count": 46,
          "metadata": {},
          "output_type": "execute_result"
        }
      ],
      "source": [
        "df1.loc['rafael', 'idade']"
      ]
    },
    {
      "cell_type": "markdown",
      "id": "a5129a24-a097-4ef0-9a36-5f34ba9f5a64",
      "metadata": {
        "id": "a5129a24-a097-4ef0-9a36-5f34ba9f5a64"
      },
      "source": [
        "## iloc\n",
        "\n",
        "> O indexador iloc é um tanto mais simples, ele seleciona por `números inteiros` das linhas, arrays ou por slice.\n",
        "\n",
        "> `df.iloc[<linhas>, <colunas>]`"
      ]
    },
    {
      "cell_type": "code",
      "execution_count": null,
      "id": "02bf90c7-1194-49e8-9898-06783dc0fda9",
      "metadata": {
        "id": "02bf90c7-1194-49e8-9898-06783dc0fda9",
        "outputId": "1bcd7153-93d7-464c-9ba3-8ff1e5bac19c"
      },
      "outputs": [
        {
          "data": {
            "text/plain": [
              "'rafael'"
            ]
          },
          "execution_count": 11,
          "metadata": {},
          "output_type": "execute_result"
        }
      ],
      "source": [
        "df.iloc[2, 0] # obtemos"
      ]
    },
    {
      "cell_type": "markdown",
      "id": "debad594-26e6-46f1-bfe6-065d36a821b4",
      "metadata": {
        "id": "debad594-26e6-46f1-bfe6-065d36a821b4"
      },
      "source": [
        "- Calculando a média das nota"
      ]
    },
    {
      "cell_type": "markdown",
      "id": "d1583751-daab-4974-9a91-6b3b6a2d31f7",
      "metadata": {
        "id": "d1583751-daab-4974-9a91-6b3b6a2d31f7"
      },
      "source": [
        "# Agrupamento dos dados -- _GROUPBY_\n",
        "**[groupby](https://pandas.pydata.org/docs/reference/api/pandas.DataFrame.groupby.html)**\n"
      ]
    },
    {
      "cell_type": "markdown",
      "id": "4619ce37-ad23-46b0-a3e5-68b5618a634f",
      "metadata": {
        "id": "4619ce37-ad23-46b0-a3e5-68b5618a634f"
      },
      "source": [
        "- Agrupar pelo nome e obter a média"
      ]
    },
    {
      "cell_type": "code",
      "execution_count": null,
      "id": "56e4d10c-14a3-4e99-9e66-434c5bec0ac3",
      "metadata": {
        "id": "56e4d10c-14a3-4e99-9e66-434c5bec0ac3",
        "outputId": "ccb9b63c-2d5f-4ab9-99c1-cd1b54258a0e"
      },
      "outputs": [
        {
          "data": {
            "text/html": [
              "<div>\n",
              "<style scoped>\n",
              "    .dataframe tbody tr th:only-of-type {\n",
              "        vertical-align: middle;\n",
              "    }\n",
              "\n",
              "    .dataframe tbody tr th {\n",
              "        vertical-align: top;\n",
              "    }\n",
              "\n",
              "    .dataframe thead th {\n",
              "        text-align: right;\n",
              "    }\n",
              "</style>\n",
              "<table border=\"1\" class=\"dataframe\">\n",
              "  <thead>\n",
              "    <tr style=\"text-align: right;\">\n",
              "      <th></th>\n",
              "      <th>nota</th>\n",
              "      <th>idade</th>\n",
              "      <th>salario</th>\n",
              "    </tr>\n",
              "    <tr>\n",
              "      <th>nome</th>\n",
              "      <th></th>\n",
              "      <th></th>\n",
              "      <th></th>\n",
              "    </tr>\n",
              "  </thead>\n",
              "  <tbody>\n",
              "    <tr>\n",
              "      <th>joao</th>\n",
              "      <td>9.0</td>\n",
              "      <td>23.0</td>\n",
              "      <td>2.0</td>\n",
              "    </tr>\n",
              "    <tr>\n",
              "      <th>maria</th>\n",
              "      <td>7.0</td>\n",
              "      <td>21.0</td>\n",
              "      <td>4.0</td>\n",
              "    </tr>\n",
              "    <tr>\n",
              "      <th>rafael</th>\n",
              "      <td>9.0</td>\n",
              "      <td>28.5</td>\n",
              "      <td>2.0</td>\n",
              "    </tr>\n",
              "  </tbody>\n",
              "</table>\n",
              "</div>"
            ],
            "text/plain": [
              "        nota  idade  salario\n",
              "nome                        \n",
              "joao     9.0   23.0      2.0\n",
              "maria    7.0   21.0      4.0\n",
              "rafael   9.0   28.5      2.0"
            ]
          },
          "execution_count": 12,
          "metadata": {},
          "output_type": "execute_result"
        }
      ],
      "source": [
        "df.groupby('nome').mean()"
      ]
    },
    {
      "cell_type": "markdown",
      "id": "8c7e3b65-48ec-457e-abb4-3dffce48ec90",
      "metadata": {
        "id": "8c7e3b65-48ec-457e-abb4-3dffce48ec90"
      },
      "source": [
        "- Contando o número de nomes"
      ]
    },
    {
      "cell_type": "code",
      "execution_count": null,
      "id": "b866f6f9-a8f4-4dba-96cc-724bf09a8cae",
      "metadata": {
        "id": "b866f6f9-a8f4-4dba-96cc-724bf09a8cae",
        "outputId": "6c90a8b8-97f8-4901-ebf7-56595b35457f"
      },
      "outputs": [
        {
          "data": {
            "text/html": [
              "<div>\n",
              "<style scoped>\n",
              "    .dataframe tbody tr th:only-of-type {\n",
              "        vertical-align: middle;\n",
              "    }\n",
              "\n",
              "    .dataframe tbody tr th {\n",
              "        vertical-align: top;\n",
              "    }\n",
              "\n",
              "    .dataframe thead th {\n",
              "        text-align: right;\n",
              "    }\n",
              "</style>\n",
              "<table border=\"1\" class=\"dataframe\">\n",
              "  <thead>\n",
              "    <tr style=\"text-align: right;\">\n",
              "      <th></th>\n",
              "      <th>nota</th>\n",
              "      <th>idade</th>\n",
              "      <th>salario</th>\n",
              "    </tr>\n",
              "    <tr>\n",
              "      <th>nome</th>\n",
              "      <th></th>\n",
              "      <th></th>\n",
              "      <th></th>\n",
              "    </tr>\n",
              "  </thead>\n",
              "  <tbody>\n",
              "    <tr>\n",
              "      <th>joao</th>\n",
              "      <td>1</td>\n",
              "      <td>1</td>\n",
              "      <td>1</td>\n",
              "    </tr>\n",
              "    <tr>\n",
              "      <th>maria</th>\n",
              "      <td>1</td>\n",
              "      <td>1</td>\n",
              "      <td>1</td>\n",
              "    </tr>\n",
              "    <tr>\n",
              "      <th>rafael</th>\n",
              "      <td>2</td>\n",
              "      <td>2</td>\n",
              "      <td>2</td>\n",
              "    </tr>\n",
              "  </tbody>\n",
              "</table>\n",
              "</div>"
            ],
            "text/plain": [
              "        nota  idade  salario\n",
              "nome                        \n",
              "joao       1      1        1\n",
              "maria      1      1        1\n",
              "rafael     2      2        2"
            ]
          },
          "execution_count": 13,
          "metadata": {},
          "output_type": "execute_result"
        }
      ],
      "source": [
        "df.groupby('nome').count()"
      ]
    },
    {
      "cell_type": "markdown",
      "id": "a71e0daf-4576-491b-8acc-9bbb0f7d36a7",
      "metadata": {
        "id": "a71e0daf-4576-491b-8acc-9bbb0f7d36a7"
      },
      "source": [
        "- Obter o valor (nota) de um especifico dado"
      ]
    },
    {
      "cell_type": "code",
      "execution_count": null,
      "id": "cf68e210-b6e5-4641-b3fa-406205924781",
      "metadata": {
        "id": "cf68e210-b6e5-4641-b3fa-406205924781",
        "outputId": "e2890c9a-9046-4ab3-b6ae-d1194297345a"
      },
      "outputs": [
        {
          "data": {
            "text/plain": [
              "0    10\n",
              "2     8\n",
              "Name: nota, dtype: int64"
            ]
          },
          "execution_count": 14,
          "metadata": {},
          "output_type": "execute_result"
        }
      ],
      "source": [
        "df.nota[df.nome=='rafael']"
      ]
    },
    {
      "cell_type": "markdown",
      "id": "8a3df018-8692-40df-8e84-51d735d9f53b",
      "metadata": {
        "tags": [],
        "id": "8a3df018-8692-40df-8e84-51d735d9f53b"
      },
      "source": [
        "- obtendo número de observações por grupo"
      ]
    },
    {
      "cell_type": "code",
      "execution_count": null,
      "id": "c2779e53-01b2-44f5-99f8-a7fc4e984281",
      "metadata": {
        "tags": [],
        "id": "c2779e53-01b2-44f5-99f8-a7fc4e984281",
        "outputId": "e4960536-fe2b-4aa6-eb8f-636283c795d1"
      },
      "outputs": [
        {
          "data": {
            "text/plain": [
              "nome\n",
              "joao      1\n",
              "maria     1\n",
              "rafael    2\n",
              "dtype: int64"
            ]
          },
          "execution_count": 15,
          "metadata": {},
          "output_type": "execute_result"
        }
      ],
      "source": [
        "df.groupby('nome').size()"
      ]
    },
    {
      "cell_type": "markdown",
      "id": "9046e14d-1229-49b7-8881-1178968fb0db",
      "metadata": {
        "tags": [],
        "id": "9046e14d-1229-49b7-8881-1178968fb0db"
      },
      "source": [
        "- Número de grupos"
      ]
    },
    {
      "cell_type": "code",
      "execution_count": null,
      "id": "2ff40e1c-0932-4eef-b816-d01e6e1f2991",
      "metadata": {
        "tags": [],
        "id": "2ff40e1c-0932-4eef-b816-d01e6e1f2991",
        "outputId": "31ea394d-32fc-4bb1-92b3-4247f41c2c76"
      },
      "outputs": [
        {
          "data": {
            "text/plain": [
              "3"
            ]
          },
          "execution_count": 16,
          "metadata": {},
          "output_type": "execute_result"
        }
      ],
      "source": [
        "df.groupby('nome').ngroups"
      ]
    },
    {
      "cell_type": "markdown",
      "id": "b8299b23-70c5-4a3b-90a5-d66b3b53781d",
      "metadata": {
        "id": "b8299b23-70c5-4a3b-90a5-d66b3b53781d"
      },
      "source": [
        "> **8 coisas que você não sabia sobre o Pandas groupby**\n",
        "\n",
        "click aqui ==> [Click](https://medium.com/data-hackers/8-coisas-que-voc%C3%AA-n%C3%A3o-sabia-sobre-o-pandas-groupby-b2c9033d7034)"
      ]
    },
    {
      "cell_type": "markdown",
      "id": "224bf1e2-482e-4555-ad41-a1ad884f7dc9",
      "metadata": {
        "id": "224bf1e2-482e-4555-ad41-a1ad884f7dc9",
        "tags": []
      },
      "source": [
        "# Exportando a bases de dados para .csv ou .xlsx"
      ]
    },
    {
      "cell_type": "markdown",
      "id": "e94b6c8f-3abc-40ac-b8b9-a8be39619861",
      "metadata": {
        "id": "e94b6c8f-3abc-40ac-b8b9-a8be39619861"
      },
      "source": [
        "- caso deseje exportar o dataframe sem o index use este comando\n",
        "\n",
        "> df.to_csv('file_name.csv', index=False)"
      ]
    },
    {
      "cell_type": "markdown",
      "id": "6a5fa799-78c0-4011-9a51-c7b0e6f07817",
      "metadata": {
        "id": "6a5fa799-78c0-4011-9a51-c7b0e6f07817",
        "tags": []
      },
      "source": [
        "- Se vc quer exportar com index pode utilizar o seguinte comando\n",
        "\n",
        "> df.to_excel(r'Path where the exported excel will be stored\\File Name.xlsx', index=False)\n",
        "\n",
        "> df.to_csv('file_name.csv'.csv')"
      ]
    },
    {
      "cell_type": "markdown",
      "id": "37cba19e-6791-4f52-a187-3fbf061695e8",
      "metadata": {
        "id": "37cba19e-6791-4f52-a187-3fbf061695e8",
        "tags": []
      },
      "source": [
        "- Utilizaremos a última versão e exportaremos em formato `.csv` por já conter os indexes como foi feito nas práticas anteriores, e identificamos este arquivo com o nome de `'vendas_estudo.csv'`\n",
        "\n",
        "> **Importante**, ainda que exporte com a coluna de index é preciso quando for importar essa base de dados, definir ou assignar os indexes novamente."
      ]
    },
    {
      "cell_type": "markdown",
      "id": "3f415bb3-2715-4e35-af35-3a0d704288fd",
      "metadata": {
        "tags": [],
        "id": "3f415bb3-2715-4e35-af35-3a0d704288fd"
      },
      "source": [
        "## Salvando o dataframe em um novo arquivo `.csv`"
      ]
    },
    {
      "cell_type": "markdown",
      "id": "6defb627-b035-488e-bcc8-fdeec01b0c40",
      "metadata": {
        "id": "6defb627-b035-488e-bcc8-fdeec01b0c40"
      },
      "source": [
        "- para criar uma nova pasta chamada de `Results` e armazenar os nossos `arquivos` ou `dataframes` que contém os dados resultantes, utilizamos o seguinte codigo"
      ]
    },
    {
      "cell_type": "code",
      "execution_count": null,
      "id": "dacd23cb-918a-4683-811a-4d65ad2c1042",
      "metadata": {
        "id": "dacd23cb-918a-4683-811a-4d65ad2c1042",
        "tags": []
      },
      "outputs": [],
      "source": [
        "# df.to_csv('Aula_pandas_1.csv')"
      ]
    },
    {
      "cell_type": "markdown",
      "id": "45d76bcf-8d84-4ff4-8827-8c9c2b37023d",
      "metadata": {
        "id": "45d76bcf-8d84-4ff4-8827-8c9c2b37023d"
      },
      "source": [
        "## Copia de dataframe"
      ]
    },
    {
      "cell_type": "code",
      "execution_count": null,
      "id": "857690aa-19f0-4d34-9ecb-abd2efd8c77e",
      "metadata": {
        "id": "857690aa-19f0-4d34-9ecb-abd2efd8c77e"
      },
      "outputs": [],
      "source": [
        "import numpy as np"
      ]
    },
    {
      "cell_type": "code",
      "execution_count": null,
      "id": "13a83c13-725a-45c2-b1aa-f132d0329527",
      "metadata": {
        "id": "13a83c13-725a-45c2-b1aa-f132d0329527",
        "outputId": "9c97ceaa-f6db-4867-dbf4-704ebf0ad3fc"
      },
      "outputs": [
        {
          "data": {
            "text/plain": [
              "array([['rafael', 10, 23, 1],\n",
              "       ['joao', 9, 23, 2],\n",
              "       ['rafael', 8, 34, 3],\n",
              "       ['maria', 7, 21, 4]], dtype=object)"
            ]
          },
          "execution_count": 20,
          "metadata": {},
          "output_type": "execute_result"
        }
      ],
      "source": [
        "df2 = np.array(df)\n",
        "df2"
      ]
    },
    {
      "cell_type": "markdown",
      "id": "95952419-c928-41a6-8930-750e4620d7bb",
      "metadata": {
        "id": "95952419-c928-41a6-8930-750e4620d7bb"
      },
      "source": [
        "> **Nota** <br>Cuidado com a copia das tabelas, pois a copia simples influencia nas derivadas, melhor usar a função 'copy'... veja o que acontece com o simples copiar dados"
      ]
    },
    {
      "cell_type": "code",
      "execution_count": null,
      "id": "8372ad83-047f-4d7e-9613-a382a118377c",
      "metadata": {
        "id": "8372ad83-047f-4d7e-9613-a382a118377c",
        "outputId": "1c1485dc-6cef-4203-bac2-6236cc03924d"
      },
      "outputs": [
        {
          "data": {
            "text/html": [
              "<div>\n",
              "<style scoped>\n",
              "    .dataframe tbody tr th:only-of-type {\n",
              "        vertical-align: middle;\n",
              "    }\n",
              "\n",
              "    .dataframe tbody tr th {\n",
              "        vertical-align: top;\n",
              "    }\n",
              "\n",
              "    .dataframe thead th {\n",
              "        text-align: right;\n",
              "    }\n",
              "</style>\n",
              "<table border=\"1\" class=\"dataframe\">\n",
              "  <thead>\n",
              "    <tr style=\"text-align: right;\">\n",
              "      <th></th>\n",
              "      <th>nome</th>\n",
              "      <th>nota</th>\n",
              "      <th>idade</th>\n",
              "      <th>salario</th>\n",
              "    </tr>\n",
              "  </thead>\n",
              "  <tbody>\n",
              "    <tr>\n",
              "      <th>0</th>\n",
              "      <td>rafael</td>\n",
              "      <td>10</td>\n",
              "      <td>23</td>\n",
              "      <td>1</td>\n",
              "    </tr>\n",
              "    <tr>\n",
              "      <th>1</th>\n",
              "      <td>joao</td>\n",
              "      <td>9</td>\n",
              "      <td>23</td>\n",
              "      <td>2</td>\n",
              "    </tr>\n",
              "    <tr>\n",
              "      <th>2</th>\n",
              "      <td>rafael</td>\n",
              "      <td>8</td>\n",
              "      <td>34</td>\n",
              "      <td>3</td>\n",
              "    </tr>\n",
              "    <tr>\n",
              "      <th>3</th>\n",
              "      <td>maria</td>\n",
              "      <td>7</td>\n",
              "      <td>21</td>\n",
              "      <td>4</td>\n",
              "    </tr>\n",
              "  </tbody>\n",
              "</table>\n",
              "</div>"
            ],
            "text/plain": [
              "     nome  nota  idade  salario\n",
              "0  rafael    10     23        1\n",
              "1    joao     9     23        2\n",
              "2  rafael     8     34        3\n",
              "3   maria     7     21        4"
            ]
          },
          "execution_count": 21,
          "metadata": {},
          "output_type": "execute_result"
        }
      ],
      "source": [
        "df3 = df\n",
        "df3"
      ]
    },
    {
      "cell_type": "markdown",
      "id": "ed79862f-f6c3-4b9f-b2d5-b01cc58166bf",
      "metadata": {
        "id": "ed79862f-f6c3-4b9f-b2d5-b01cc58166bf"
      },
      "source": [
        "- Vamos modificar a tabela original (df3)"
      ]
    },
    {
      "cell_type": "code",
      "execution_count": null,
      "id": "56671219-d1aa-44d6-a2a6-5f6523a1c62f",
      "metadata": {
        "id": "56671219-d1aa-44d6-a2a6-5f6523a1c62f",
        "outputId": "d7c81c9d-0f99-4d65-fcc3-2d600c6c69e9"
      },
      "outputs": [
        {
          "data": {
            "text/html": [
              "<div>\n",
              "<style scoped>\n",
              "    .dataframe tbody tr th:only-of-type {\n",
              "        vertical-align: middle;\n",
              "    }\n",
              "\n",
              "    .dataframe tbody tr th {\n",
              "        vertical-align: top;\n",
              "    }\n",
              "\n",
              "    .dataframe thead th {\n",
              "        text-align: right;\n",
              "    }\n",
              "</style>\n",
              "<table border=\"1\" class=\"dataframe\">\n",
              "  <thead>\n",
              "    <tr style=\"text-align: right;\">\n",
              "      <th></th>\n",
              "      <th>nome</th>\n",
              "      <th>nota</th>\n",
              "      <th>idade</th>\n",
              "      <th>salario</th>\n",
              "    </tr>\n",
              "  </thead>\n",
              "  <tbody>\n",
              "    <tr>\n",
              "      <th>0</th>\n",
              "      <td>rafael</td>\n",
              "      <td>10</td>\n",
              "      <td>23</td>\n",
              "      <td>1</td>\n",
              "    </tr>\n",
              "    <tr>\n",
              "      <th>1</th>\n",
              "      <td>joao</td>\n",
              "      <td>9</td>\n",
              "      <td>23</td>\n",
              "      <td>2</td>\n",
              "    </tr>\n",
              "    <tr>\n",
              "      <th>2</th>\n",
              "      <td>rafael</td>\n",
              "      <td>8</td>\n",
              "      <td>34</td>\n",
              "      <td>3</td>\n",
              "    </tr>\n",
              "    <tr>\n",
              "      <th>3</th>\n",
              "      <td>maria</td>\n",
              "      <td>7</td>\n",
              "      <td>21</td>\n",
              "      <td>4</td>\n",
              "    </tr>\n",
              "  </tbody>\n",
              "</table>\n",
              "</div>"
            ],
            "text/plain": [
              "     nome  nota  idade  salario\n",
              "0  rafael    10     23        1\n",
              "1    joao     9     23        2\n",
              "2  rafael     8     34        3\n",
              "3   maria     7     21        4"
            ]
          },
          "execution_count": 22,
          "metadata": {},
          "output_type": "execute_result"
        }
      ],
      "source": [
        "df3.loc[0,'nota']  = 10\n",
        "df3"
      ]
    },
    {
      "cell_type": "markdown",
      "id": "188b532f-7b37-49c9-bc6a-4a087138788f",
      "metadata": {
        "tags": [],
        "id": "188b532f-7b37-49c9-bc6a-4a087138788f"
      },
      "source": [
        "> Agora se olharmos a tabela original vemos que são identicas após a modificação da tabela 3"
      ]
    },
    {
      "cell_type": "code",
      "execution_count": null,
      "id": "862651ff-7f21-43c2-8b42-09396ae7509c",
      "metadata": {
        "id": "862651ff-7f21-43c2-8b42-09396ae7509c",
        "outputId": "51dec83b-3941-41b3-c841-c4e45b465b4b"
      },
      "outputs": [
        {
          "data": {
            "text/html": [
              "<div>\n",
              "<style scoped>\n",
              "    .dataframe tbody tr th:only-of-type {\n",
              "        vertical-align: middle;\n",
              "    }\n",
              "\n",
              "    .dataframe tbody tr th {\n",
              "        vertical-align: top;\n",
              "    }\n",
              "\n",
              "    .dataframe thead th {\n",
              "        text-align: right;\n",
              "    }\n",
              "</style>\n",
              "<table border=\"1\" class=\"dataframe\">\n",
              "  <thead>\n",
              "    <tr style=\"text-align: right;\">\n",
              "      <th></th>\n",
              "      <th>nome</th>\n",
              "      <th>nota</th>\n",
              "      <th>idade</th>\n",
              "      <th>salario</th>\n",
              "    </tr>\n",
              "  </thead>\n",
              "  <tbody>\n",
              "    <tr>\n",
              "      <th>0</th>\n",
              "      <td>rafael</td>\n",
              "      <td>10</td>\n",
              "      <td>23</td>\n",
              "      <td>1</td>\n",
              "    </tr>\n",
              "    <tr>\n",
              "      <th>1</th>\n",
              "      <td>joao</td>\n",
              "      <td>9</td>\n",
              "      <td>23</td>\n",
              "      <td>2</td>\n",
              "    </tr>\n",
              "    <tr>\n",
              "      <th>2</th>\n",
              "      <td>rafael</td>\n",
              "      <td>8</td>\n",
              "      <td>34</td>\n",
              "      <td>3</td>\n",
              "    </tr>\n",
              "    <tr>\n",
              "      <th>3</th>\n",
              "      <td>maria</td>\n",
              "      <td>7</td>\n",
              "      <td>21</td>\n",
              "      <td>4</td>\n",
              "    </tr>\n",
              "  </tbody>\n",
              "</table>\n",
              "</div>"
            ],
            "text/plain": [
              "     nome  nota  idade  salario\n",
              "0  rafael    10     23        1\n",
              "1    joao     9     23        2\n",
              "2  rafael     8     34        3\n",
              "3   maria     7     21        4"
            ]
          },
          "execution_count": 23,
          "metadata": {},
          "output_type": "execute_result"
        }
      ],
      "source": [
        "df"
      ]
    },
    {
      "cell_type": "markdown",
      "id": "569881e1-da19-4459-b1f9-de28d9166cb1",
      "metadata": {
        "id": "569881e1-da19-4459-b1f9-de28d9166cb1"
      },
      "source": [
        "- Então para que isso não aconteça utilizaremos a função \"copy\""
      ]
    },
    {
      "cell_type": "code",
      "execution_count": null,
      "id": "7a40ef1e-5592-4e2a-89bb-bef6aa4a4123",
      "metadata": {
        "id": "7a40ef1e-5592-4e2a-89bb-bef6aa4a4123"
      },
      "outputs": [],
      "source": [
        "import copy"
      ]
    },
    {
      "cell_type": "code",
      "execution_count": null,
      "id": "44dc34b0-0135-420a-9076-bbadd3d67aa9",
      "metadata": {
        "id": "44dc34b0-0135-420a-9076-bbadd3d67aa9",
        "outputId": "c56add70-1217-4e36-d0d4-dbc3fc69453c"
      },
      "outputs": [
        {
          "data": {
            "text/html": [
              "<div>\n",
              "<style scoped>\n",
              "    .dataframe tbody tr th:only-of-type {\n",
              "        vertical-align: middle;\n",
              "    }\n",
              "\n",
              "    .dataframe tbody tr th {\n",
              "        vertical-align: top;\n",
              "    }\n",
              "\n",
              "    .dataframe thead th {\n",
              "        text-align: right;\n",
              "    }\n",
              "</style>\n",
              "<table border=\"1\" class=\"dataframe\">\n",
              "  <thead>\n",
              "    <tr style=\"text-align: right;\">\n",
              "      <th></th>\n",
              "      <th>nome</th>\n",
              "      <th>nota</th>\n",
              "      <th>idade</th>\n",
              "      <th>salario</th>\n",
              "    </tr>\n",
              "  </thead>\n",
              "  <tbody>\n",
              "    <tr>\n",
              "      <th>0</th>\n",
              "      <td>rafael</td>\n",
              "      <td>10</td>\n",
              "      <td>23</td>\n",
              "      <td>1</td>\n",
              "    </tr>\n",
              "    <tr>\n",
              "      <th>1</th>\n",
              "      <td>joao</td>\n",
              "      <td>9</td>\n",
              "      <td>23</td>\n",
              "      <td>2</td>\n",
              "    </tr>\n",
              "    <tr>\n",
              "      <th>2</th>\n",
              "      <td>rafael</td>\n",
              "      <td>8</td>\n",
              "      <td>34</td>\n",
              "      <td>3</td>\n",
              "    </tr>\n",
              "    <tr>\n",
              "      <th>3</th>\n",
              "      <td>maria</td>\n",
              "      <td>7</td>\n",
              "      <td>21</td>\n",
              "      <td>4</td>\n",
              "    </tr>\n",
              "  </tbody>\n",
              "</table>\n",
              "</div>"
            ],
            "text/plain": [
              "     nome  nota  idade  salario\n",
              "0  rafael    10     23        1\n",
              "1    joao     9     23        2\n",
              "2  rafael     8     34        3\n",
              "3   maria     7     21        4"
            ]
          },
          "execution_count": 25,
          "metadata": {},
          "output_type": "execute_result"
        }
      ],
      "source": [
        "df3 = copy.deepcopy( df )\n",
        "df3"
      ]
    },
    {
      "cell_type": "markdown",
      "id": "f4318550-a7d1-41a0-a32f-0aec5425b934",
      "metadata": {
        "id": "f4318550-a7d1-41a0-a32f-0aec5425b934"
      },
      "source": [
        "- Testando novamente"
      ]
    },
    {
      "cell_type": "code",
      "execution_count": null,
      "id": "c273e80d-280c-4d88-838e-3fa7578ef0fb",
      "metadata": {
        "id": "c273e80d-280c-4d88-838e-3fa7578ef0fb",
        "outputId": "2673658e-ce49-45fe-f45a-124edb118b39"
      },
      "outputs": [
        {
          "data": {
            "text/html": [
              "<div>\n",
              "<style scoped>\n",
              "    .dataframe tbody tr th:only-of-type {\n",
              "        vertical-align: middle;\n",
              "    }\n",
              "\n",
              "    .dataframe tbody tr th {\n",
              "        vertical-align: top;\n",
              "    }\n",
              "\n",
              "    .dataframe thead th {\n",
              "        text-align: right;\n",
              "    }\n",
              "</style>\n",
              "<table border=\"1\" class=\"dataframe\">\n",
              "  <thead>\n",
              "    <tr style=\"text-align: right;\">\n",
              "      <th></th>\n",
              "      <th>nome</th>\n",
              "      <th>nota</th>\n",
              "      <th>idade</th>\n",
              "      <th>salario</th>\n",
              "    </tr>\n",
              "  </thead>\n",
              "  <tbody>\n",
              "    <tr>\n",
              "      <th>0</th>\n",
              "      <td>rafael</td>\n",
              "      <td>6</td>\n",
              "      <td>23</td>\n",
              "      <td>1</td>\n",
              "    </tr>\n",
              "    <tr>\n",
              "      <th>1</th>\n",
              "      <td>joao</td>\n",
              "      <td>9</td>\n",
              "      <td>23</td>\n",
              "      <td>2</td>\n",
              "    </tr>\n",
              "    <tr>\n",
              "      <th>2</th>\n",
              "      <td>rafael</td>\n",
              "      <td>8</td>\n",
              "      <td>34</td>\n",
              "      <td>3</td>\n",
              "    </tr>\n",
              "    <tr>\n",
              "      <th>3</th>\n",
              "      <td>maria</td>\n",
              "      <td>7</td>\n",
              "      <td>21</td>\n",
              "      <td>4</td>\n",
              "    </tr>\n",
              "  </tbody>\n",
              "</table>\n",
              "</div>"
            ],
            "text/plain": [
              "     nome  nota  idade  salario\n",
              "0  rafael     6     23        1\n",
              "1    joao     9     23        2\n",
              "2  rafael     8     34        3\n",
              "3   maria     7     21        4"
            ]
          },
          "execution_count": 26,
          "metadata": {},
          "output_type": "execute_result"
        }
      ],
      "source": [
        "#modificamos a nossa 'tabela 3' que é uma copia da nossa 'tabela'\n",
        "\n",
        "df3.loc[0, 'nota'] = 6\n",
        "df3"
      ]
    },
    {
      "cell_type": "markdown",
      "id": "2ded6bb8-5cf3-47ea-976a-69f83b3ee6a9",
      "metadata": {
        "id": "2ded6bb8-5cf3-47ea-976a-69f83b3ee6a9"
      },
      "source": [
        "- E conferimos se foi modificada a nossa tabela original 'tabela'"
      ]
    },
    {
      "cell_type": "code",
      "execution_count": null,
      "id": "692a6de7-1cc1-4290-8ea5-f36e8da3f201",
      "metadata": {
        "id": "692a6de7-1cc1-4290-8ea5-f36e8da3f201",
        "outputId": "cf91a16a-f0d4-4841-ddd9-54edaefcdaa8"
      },
      "outputs": [
        {
          "data": {
            "text/html": [
              "<div>\n",
              "<style scoped>\n",
              "    .dataframe tbody tr th:only-of-type {\n",
              "        vertical-align: middle;\n",
              "    }\n",
              "\n",
              "    .dataframe tbody tr th {\n",
              "        vertical-align: top;\n",
              "    }\n",
              "\n",
              "    .dataframe thead th {\n",
              "        text-align: right;\n",
              "    }\n",
              "</style>\n",
              "<table border=\"1\" class=\"dataframe\">\n",
              "  <thead>\n",
              "    <tr style=\"text-align: right;\">\n",
              "      <th></th>\n",
              "      <th>nome</th>\n",
              "      <th>nota</th>\n",
              "      <th>idade</th>\n",
              "      <th>salario</th>\n",
              "    </tr>\n",
              "  </thead>\n",
              "  <tbody>\n",
              "    <tr>\n",
              "      <th>0</th>\n",
              "      <td>rafael</td>\n",
              "      <td>10</td>\n",
              "      <td>23</td>\n",
              "      <td>1</td>\n",
              "    </tr>\n",
              "    <tr>\n",
              "      <th>1</th>\n",
              "      <td>joao</td>\n",
              "      <td>9</td>\n",
              "      <td>23</td>\n",
              "      <td>2</td>\n",
              "    </tr>\n",
              "    <tr>\n",
              "      <th>2</th>\n",
              "      <td>rafael</td>\n",
              "      <td>8</td>\n",
              "      <td>34</td>\n",
              "      <td>3</td>\n",
              "    </tr>\n",
              "    <tr>\n",
              "      <th>3</th>\n",
              "      <td>maria</td>\n",
              "      <td>7</td>\n",
              "      <td>21</td>\n",
              "      <td>4</td>\n",
              "    </tr>\n",
              "  </tbody>\n",
              "</table>\n",
              "</div>"
            ],
            "text/plain": [
              "     nome  nota  idade  salario\n",
              "0  rafael    10     23        1\n",
              "1    joao     9     23        2\n",
              "2  rafael     8     34        3\n",
              "3   maria     7     21        4"
            ]
          },
          "execution_count": 27,
          "metadata": {},
          "output_type": "execute_result"
        }
      ],
      "source": [
        "df"
      ]
    },
    {
      "cell_type": "markdown",
      "id": "7195dbc6-e871-4207-800d-abc9bfb0f48a",
      "metadata": {
        "id": "7195dbc6-e871-4207-800d-abc9bfb0f48a"
      },
      "source": [
        "> Otimo!!!"
      ]
    },
    {
      "cell_type": "markdown",
      "id": "7f95e5f4-b1e0-40f6-87e0-5d120c501f36",
      "metadata": {
        "tags": [],
        "id": "7f95e5f4-b1e0-40f6-87e0-5d120c501f36"
      },
      "source": [
        "## Pandas: Leitura de DataFrame"
      ]
    },
    {
      "cell_type": "markdown",
      "id": "9dae6ebc-2535-4ba7-a4c3-3a7b0b9a49a9",
      "metadata": {
        "id": "9dae6ebc-2535-4ba7-a4c3-3a7b0b9a49a9"
      },
      "source": [
        "- Importando desde um servidor"
      ]
    },
    {
      "cell_type": "markdown",
      "id": "8db6957f-7556-49b3-b62a-e38c526c9d7c",
      "metadata": {
        "id": "8db6957f-7556-49b3-b62a-e38c526c9d7c"
      },
      "source": [
        ".... Importaremos os dados do arquivo `Aula_dados.xlsx` desde o servidor GITHUB  para serem usados diretamente aqui sem precisar baixalos"
      ]
    },
    {
      "cell_type": "markdown",
      "id": "5698f2b6-cf87-469c-ac2d-78463eae7a43",
      "metadata": {
        "tags": [],
        "id": "5698f2b6-cf87-469c-ac2d-78463eae7a43"
      },
      "source": [
        "[Click aqui para baixar o arquivo `Aula_dados.xlsx`](https://github.com/tuliofor/Aulas_analiseExploratoriaDados/raw/main/Aula_dados.xlsx)"
      ]
    },
    {
      "cell_type": "markdown",
      "id": "b698be00-e348-4b82-ae4d-1784dc6c0a01",
      "metadata": {
        "tags": [],
        "id": "b698be00-e348-4b82-ae4d-1784dc6c0a01"
      },
      "source": [
        "- Lendo os dados desde um arquivo de excel [.xlsx, .csv]"
      ]
    },
    {
      "cell_type": "code",
      "execution_count": null,
      "id": "3f17ed04-d5f9-4692-8df1-9e388869742e",
      "metadata": {
        "id": "3f17ed04-d5f9-4692-8df1-9e388869742e"
      },
      "outputs": [],
      "source": [
        "import pandas as pd"
      ]
    },
    {
      "cell_type": "code",
      "execution_count": null,
      "id": "d703ad0f-6292-4bc2-adcb-408fee4fa1e1",
      "metadata": {
        "id": "d703ad0f-6292-4bc2-adcb-408fee4fa1e1"
      },
      "outputs": [],
      "source": [
        "# utiizando os dados hospedado no GitHUb\n",
        "address = 'https://github.com/tuliofor/dados_aula/raw/main/Aula_dados.xlsx'"
      ]
    },
    {
      "cell_type": "code",
      "execution_count": null,
      "id": "8ce513c5-288d-4815-9626-c6b49838ad09",
      "metadata": {
        "id": "8ce513c5-288d-4815-9626-c6b49838ad09"
      },
      "outputs": [],
      "source": [
        "dados_pessoas = pd.read_excel(address, sheet_name='pessoas')\n",
        "dados_notas = pd.read_excel(address, sheet_name='notas')"
      ]
    },
    {
      "cell_type": "markdown",
      "id": "e1e50958-bc53-4da6-b364-ace82600166e",
      "metadata": {
        "id": "e1e50958-bc53-4da6-b364-ace82600166e"
      },
      "source": [
        "- imprimindo os dados do dataframe `pessoas`"
      ]
    },
    {
      "cell_type": "code",
      "execution_count": null,
      "id": "b022fb5f-8c72-4f19-ae49-c338082ebabe",
      "metadata": {
        "id": "b022fb5f-8c72-4f19-ae49-c338082ebabe",
        "outputId": "2471d907-75de-49f2-97fb-68ab1b23dc27"
      },
      "outputs": [
        {
          "data": {
            "text/html": [
              "<div>\n",
              "<style scoped>\n",
              "    .dataframe tbody tr th:only-of-type {\n",
              "        vertical-align: middle;\n",
              "    }\n",
              "\n",
              "    .dataframe tbody tr th {\n",
              "        vertical-align: top;\n",
              "    }\n",
              "\n",
              "    .dataframe thead th {\n",
              "        text-align: right;\n",
              "    }\n",
              "</style>\n",
              "<table border=\"1\" class=\"dataframe\">\n",
              "  <thead>\n",
              "    <tr style=\"text-align: right;\">\n",
              "      <th></th>\n",
              "      <th>nome</th>\n",
              "      <th>idade</th>\n",
              "    </tr>\n",
              "  </thead>\n",
              "  <tbody>\n",
              "    <tr>\n",
              "      <th>0</th>\n",
              "      <td>rafael</td>\n",
              "      <td>15</td>\n",
              "    </tr>\n",
              "    <tr>\n",
              "      <th>1</th>\n",
              "      <td>joao</td>\n",
              "      <td>10</td>\n",
              "    </tr>\n",
              "    <tr>\n",
              "      <th>2</th>\n",
              "      <td>maria</td>\n",
              "      <td>18</td>\n",
              "    </tr>\n",
              "    <tr>\n",
              "      <th>3</th>\n",
              "      <td>mateus</td>\n",
              "      <td>12</td>\n",
              "    </tr>\n",
              "    <tr>\n",
              "      <th>4</th>\n",
              "      <td>pedro</td>\n",
              "      <td>11</td>\n",
              "    </tr>\n",
              "    <tr>\n",
              "      <th>5</th>\n",
              "      <td>ana</td>\n",
              "      <td>19</td>\n",
              "    </tr>\n",
              "  </tbody>\n",
              "</table>\n",
              "</div>"
            ],
            "text/plain": [
              "     nome  idade\n",
              "0  rafael     15\n",
              "1    joao     10\n",
              "2   maria     18\n",
              "3  mateus     12\n",
              "4   pedro     11\n",
              "5     ana     19"
            ]
          },
          "execution_count": 31,
          "metadata": {},
          "output_type": "execute_result"
        }
      ],
      "source": [
        "dados_pessoas"
      ]
    },
    {
      "cell_type": "markdown",
      "id": "88189094-0a40-44bd-8833-e562ded7de78",
      "metadata": {
        "id": "88189094-0a40-44bd-8833-e562ded7de78"
      },
      "source": [
        "- Imprimindo os dados do dataframe `NOTAS`"
      ]
    },
    {
      "cell_type": "code",
      "execution_count": null,
      "id": "91849ba0-d419-4121-9aae-5d8cec77d0b8",
      "metadata": {
        "id": "91849ba0-d419-4121-9aae-5d8cec77d0b8",
        "outputId": "1f7b072a-9bb7-4422-c7a2-51bee5b1313b"
      },
      "outputs": [
        {
          "data": {
            "text/html": [
              "<div>\n",
              "<style scoped>\n",
              "    .dataframe tbody tr th:only-of-type {\n",
              "        vertical-align: middle;\n",
              "    }\n",
              "\n",
              "    .dataframe tbody tr th {\n",
              "        vertical-align: top;\n",
              "    }\n",
              "\n",
              "    .dataframe thead th {\n",
              "        text-align: right;\n",
              "    }\n",
              "</style>\n",
              "<table border=\"1\" class=\"dataframe\">\n",
              "  <thead>\n",
              "    <tr style=\"text-align: right;\">\n",
              "      <th></th>\n",
              "      <th>nome</th>\n",
              "      <th>semestre</th>\n",
              "      <th>nota</th>\n",
              "    </tr>\n",
              "  </thead>\n",
              "  <tbody>\n",
              "    <tr>\n",
              "      <th>0</th>\n",
              "      <td>rafael</td>\n",
              "      <td>1</td>\n",
              "      <td>7</td>\n",
              "    </tr>\n",
              "    <tr>\n",
              "      <th>1</th>\n",
              "      <td>joao</td>\n",
              "      <td>1</td>\n",
              "      <td>4</td>\n",
              "    </tr>\n",
              "    <tr>\n",
              "      <th>2</th>\n",
              "      <td>maria</td>\n",
              "      <td>1</td>\n",
              "      <td>9</td>\n",
              "    </tr>\n",
              "    <tr>\n",
              "      <th>3</th>\n",
              "      <td>mateus</td>\n",
              "      <td>1</td>\n",
              "      <td>8</td>\n",
              "    </tr>\n",
              "    <tr>\n",
              "      <th>4</th>\n",
              "      <td>pedro</td>\n",
              "      <td>1</td>\n",
              "      <td>7</td>\n",
              "    </tr>\n",
              "    <tr>\n",
              "      <th>5</th>\n",
              "      <td>ana</td>\n",
              "      <td>1</td>\n",
              "      <td>10</td>\n",
              "    </tr>\n",
              "    <tr>\n",
              "      <th>6</th>\n",
              "      <td>rafael</td>\n",
              "      <td>2</td>\n",
              "      <td>10</td>\n",
              "    </tr>\n",
              "    <tr>\n",
              "      <th>7</th>\n",
              "      <td>joao</td>\n",
              "      <td>2</td>\n",
              "      <td>8</td>\n",
              "    </tr>\n",
              "    <tr>\n",
              "      <th>8</th>\n",
              "      <td>maria</td>\n",
              "      <td>2</td>\n",
              "      <td>6</td>\n",
              "    </tr>\n",
              "    <tr>\n",
              "      <th>9</th>\n",
              "      <td>mateus</td>\n",
              "      <td>2</td>\n",
              "      <td>9</td>\n",
              "    </tr>\n",
              "    <tr>\n",
              "      <th>10</th>\n",
              "      <td>pedro</td>\n",
              "      <td>2</td>\n",
              "      <td>8</td>\n",
              "    </tr>\n",
              "    <tr>\n",
              "      <th>11</th>\n",
              "      <td>ana</td>\n",
              "      <td>2</td>\n",
              "      <td>6</td>\n",
              "    </tr>\n",
              "  </tbody>\n",
              "</table>\n",
              "</div>"
            ],
            "text/plain": [
              "      nome  semestre  nota\n",
              "0   rafael         1     7\n",
              "1     joao         1     4\n",
              "2    maria         1     9\n",
              "3   mateus         1     8\n",
              "4    pedro         1     7\n",
              "5      ana         1    10\n",
              "6   rafael         2    10\n",
              "7     joao         2     8\n",
              "8    maria         2     6\n",
              "9   mateus         2     9\n",
              "10   pedro         2     8\n",
              "11     ana         2     6"
            ]
          },
          "execution_count": 32,
          "metadata": {},
          "output_type": "execute_result"
        }
      ],
      "source": [
        "dados_notas"
      ]
    },
    {
      "cell_type": "markdown",
      "id": "77f4560f-aefd-43b4-bcd2-1af5cd8fdfd7",
      "metadata": {
        "id": "77f4560f-aefd-43b4-bcd2-1af5cd8fdfd7"
      },
      "source": [
        "- Agora podemos juntar os dois dataframes (notas e pessoas)"
      ]
    },
    {
      "cell_type": "code",
      "execution_count": null,
      "id": "dc9ff41a-80b9-42ea-9786-ac96d2639b58",
      "metadata": {
        "id": "dc9ff41a-80b9-42ea-9786-ac96d2639b58",
        "outputId": "1b33c042-04c6-4c11-844e-7704a1136c3f"
      },
      "outputs": [
        {
          "data": {
            "text/html": [
              "<div>\n",
              "<style scoped>\n",
              "    .dataframe tbody tr th:only-of-type {\n",
              "        vertical-align: middle;\n",
              "    }\n",
              "\n",
              "    .dataframe tbody tr th {\n",
              "        vertical-align: top;\n",
              "    }\n",
              "\n",
              "    .dataframe thead th {\n",
              "        text-align: right;\n",
              "    }\n",
              "</style>\n",
              "<table border=\"1\" class=\"dataframe\">\n",
              "  <thead>\n",
              "    <tr style=\"text-align: right;\">\n",
              "      <th></th>\n",
              "      <th>semestre</th>\n",
              "      <th>nota</th>\n",
              "      <th>idade</th>\n",
              "    </tr>\n",
              "    <tr>\n",
              "      <th>nome</th>\n",
              "      <th></th>\n",
              "      <th></th>\n",
              "      <th></th>\n",
              "    </tr>\n",
              "  </thead>\n",
              "  <tbody>\n",
              "    <tr>\n",
              "      <th>ana</th>\n",
              "      <td>1</td>\n",
              "      <td>10</td>\n",
              "      <td>19</td>\n",
              "    </tr>\n",
              "    <tr>\n",
              "      <th>ana</th>\n",
              "      <td>2</td>\n",
              "      <td>6</td>\n",
              "      <td>19</td>\n",
              "    </tr>\n",
              "    <tr>\n",
              "      <th>joao</th>\n",
              "      <td>1</td>\n",
              "      <td>4</td>\n",
              "      <td>10</td>\n",
              "    </tr>\n",
              "    <tr>\n",
              "      <th>joao</th>\n",
              "      <td>2</td>\n",
              "      <td>8</td>\n",
              "      <td>10</td>\n",
              "    </tr>\n",
              "    <tr>\n",
              "      <th>maria</th>\n",
              "      <td>1</td>\n",
              "      <td>9</td>\n",
              "      <td>18</td>\n",
              "    </tr>\n",
              "    <tr>\n",
              "      <th>maria</th>\n",
              "      <td>2</td>\n",
              "      <td>6</td>\n",
              "      <td>18</td>\n",
              "    </tr>\n",
              "    <tr>\n",
              "      <th>mateus</th>\n",
              "      <td>1</td>\n",
              "      <td>8</td>\n",
              "      <td>12</td>\n",
              "    </tr>\n",
              "    <tr>\n",
              "      <th>mateus</th>\n",
              "      <td>2</td>\n",
              "      <td>9</td>\n",
              "      <td>12</td>\n",
              "    </tr>\n",
              "    <tr>\n",
              "      <th>pedro</th>\n",
              "      <td>1</td>\n",
              "      <td>7</td>\n",
              "      <td>11</td>\n",
              "    </tr>\n",
              "    <tr>\n",
              "      <th>pedro</th>\n",
              "      <td>2</td>\n",
              "      <td>8</td>\n",
              "      <td>11</td>\n",
              "    </tr>\n",
              "    <tr>\n",
              "      <th>rafael</th>\n",
              "      <td>1</td>\n",
              "      <td>7</td>\n",
              "      <td>15</td>\n",
              "    </tr>\n",
              "    <tr>\n",
              "      <th>rafael</th>\n",
              "      <td>2</td>\n",
              "      <td>10</td>\n",
              "      <td>15</td>\n",
              "    </tr>\n",
              "  </tbody>\n",
              "</table>\n",
              "</div>"
            ],
            "text/plain": [
              "        semestre  nota  idade\n",
              "nome                         \n",
              "ana            1    10     19\n",
              "ana            2     6     19\n",
              "joao           1     4     10\n",
              "joao           2     8     10\n",
              "maria          1     9     18\n",
              "maria          2     6     18\n",
              "mateus         1     8     12\n",
              "mateus         2     9     12\n",
              "pedro          1     7     11\n",
              "pedro          2     8     11\n",
              "rafael         1     7     15\n",
              "rafael         2    10     15"
            ]
          },
          "execution_count": 33,
          "metadata": {},
          "output_type": "execute_result"
        }
      ],
      "source": [
        "dados_todos = dados_notas.set_index('nome').join(dados_pessoas.set_index('nome'))\n",
        "dados_todos"
      ]
    },
    {
      "cell_type": "markdown",
      "id": "318461ef-ec9a-4609-9ced-1252bde33fd5",
      "metadata": {
        "id": "318461ef-ec9a-4609-9ced-1252bde33fd5"
      },
      "source": [
        "- Exibindo através de Boleanos uma condição"
      ]
    },
    {
      "cell_type": "code",
      "execution_count": null,
      "id": "ac176c0a-ee4e-4844-be66-df879b1db2fc",
      "metadata": {
        "tags": [],
        "id": "ac176c0a-ee4e-4844-be66-df879b1db2fc",
        "outputId": "b30a867f-b1ca-4c95-a62a-43e31321a4d4"
      },
      "outputs": [
        {
          "data": {
            "text/plain": [
              "nome\n",
              "ana        True\n",
              "ana       False\n",
              "joao      False\n",
              "joao      False\n",
              "maria     False\n",
              "maria     False\n",
              "mateus    False\n",
              "mateus    False\n",
              "pedro     False\n",
              "pedro     False\n",
              "rafael    False\n",
              "rafael     True\n",
              "Name: nota, dtype: bool"
            ]
          },
          "execution_count": 34,
          "metadata": {},
          "output_type": "execute_result"
        }
      ],
      "source": [
        "dados_todos['nota']== 10"
      ]
    },
    {
      "cell_type": "markdown",
      "id": "bc887a05-92af-422a-ac47-3bc8b09e3a33",
      "metadata": {
        "tags": [],
        "id": "bc887a05-92af-422a-ac47-3bc8b09e3a33"
      },
      "source": [
        "- Utilizando a função `groupby` agrupar os dados e calcular a média"
      ]
    },
    {
      "cell_type": "code",
      "execution_count": null,
      "id": "b2c48a8b-8010-4535-b293-974296345e2c",
      "metadata": {
        "id": "b2c48a8b-8010-4535-b293-974296345e2c",
        "outputId": "7db77428-c604-44ce-ad55-b3dbe27382fc"
      },
      "outputs": [
        {
          "data": {
            "text/plain": [
              "nome\n",
              "ana       19.0\n",
              "joao      10.0\n",
              "maria     18.0\n",
              "mateus    12.0\n",
              "pedro     11.0\n",
              "rafael    15.0\n",
              "Name: idade, dtype: float64"
            ]
          },
          "execution_count": 35,
          "metadata": {},
          "output_type": "execute_result"
        }
      ],
      "source": [
        "medias_idades = dados_todos.groupby('nome').idade.mean()\n",
        "medias_idades"
      ]
    },
    {
      "cell_type": "markdown",
      "id": "4c3ee045-1f4c-4ee5-b68b-c67e624487f2",
      "metadata": {
        "id": "4c3ee045-1f4c-4ee5-b68b-c67e624487f2"
      },
      "source": [
        "- Calculando a máxima de cada pessoa"
      ]
    },
    {
      "cell_type": "code",
      "execution_count": null,
      "id": "14c4a5d0-7a88-4143-b0dd-93ce559320de",
      "metadata": {
        "id": "14c4a5d0-7a88-4143-b0dd-93ce559320de",
        "outputId": "49dddc2f-ff4d-47a8-d4ac-a86243036cdf"
      },
      "outputs": [
        {
          "data": {
            "text/plain": [
              "nome\n",
              "ana       19\n",
              "joao      10\n",
              "maria     18\n",
              "mateus    12\n",
              "pedro     11\n",
              "rafael    15\n",
              "Name: idade, dtype: int64"
            ]
          },
          "execution_count": 36,
          "metadata": {},
          "output_type": "execute_result"
        }
      ],
      "source": [
        "max_idades = dados_todos.groupby('nome').idade.max()\n",
        "max_idades"
      ]
    },
    {
      "cell_type": "markdown",
      "id": "d461520e-7afd-41cb-a860-f8326bba5d93",
      "metadata": {
        "id": "d461520e-7afd-41cb-a860-f8326bba5d93"
      },
      "source": [
        "- Para importar o dataframe `medias_idades` usamos o seguinte código"
      ]
    },
    {
      "cell_type": "code",
      "execution_count": null,
      "id": "29d414a4-dbdf-4d97-ac52-256ffc2011a5",
      "metadata": {
        "id": "29d414a4-dbdf-4d97-ac52-256ffc2011a5"
      },
      "outputs": [],
      "source": [
        "# medias_idades.to_excel(nome_do_arquivo + extensão)"
      ]
    }
  ],
  "metadata": {
    "kernelspec": {
      "display_name": "Python 3 (ipykernel)",
      "language": "python",
      "name": "python3"
    },
    "language_info": {
      "codemirror_mode": {
        "name": "ipython",
        "version": 3
      },
      "file_extension": ".py",
      "mimetype": "text/x-python",
      "name": "python",
      "nbconvert_exporter": "python",
      "pygments_lexer": "ipython3",
      "version": "3.11.2"
    },
    "toc-autonumbering": true,
    "toc-showcode": false,
    "toc-showmarkdowntxt": false,
    "colab": {
      "provenance": []
    }
  },
  "nbformat": 4,
  "nbformat_minor": 5
}