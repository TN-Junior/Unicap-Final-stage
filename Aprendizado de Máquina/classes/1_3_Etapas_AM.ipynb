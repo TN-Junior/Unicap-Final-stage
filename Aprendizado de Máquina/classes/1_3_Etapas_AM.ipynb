{
  "cells": [
    {
      "cell_type": "markdown",
      "id": "b04ca497-88d7-4a04-b987-04fbaaad6653",
      "metadata": {
        "id": "b04ca497-88d7-4a04-b987-04fbaaad6653"
      },
      "source": [
        "---\n",
        "\n",
        "<h1 align=left><font size = 8, style=\"color:rgb(200,0,0)\"><b>Etapas <br> Aprendizado de Máquina  </b></font></h1>\n",
        "\n",
        "---"
      ]
    },
    {
      "cell_type": "markdown",
      "id": "3adba436-39b9-489f-8646-836ba2d98964",
      "metadata": {
        "id": "3adba436-39b9-489f-8646-836ba2d98964"
      },
      "source": [
        "\n",
        "* [CRISP Visual Guide](http://meusite.mackenzie.br/rogerio/TIC2021S1/T1/crisp_visualguide.pdf)\n",
        "* [CRISP DM 1.0](http://meusite.mackenzie.br/rogerio/TIC2021S1$/T1/crisp-dm.pdf)\n",
        "\n",
        "<br>\n",
        "<img src=\"https://cdn.prod.website-files.com/625af9ac050b6e6379b3c444/6480acb9f030976b53cf48bd_1-crisp-dm-as-etapas-da-metodologia.png\" width=600, align=\"center\">\n",
        "<br>\n",
        "\n",
        "[imagem](https://cdn.prod.website-files.com/625af9ac050b6e6379b3c444/6480acb9f030976b53cf48bd_1-crisp-dm-as-etapas-da-metodologia.png)\n",
        "\n",
        "\n",
        "\n",
        "<small><b>\n",
        "Fig . metolodogia CRISP\n"
      ]
    },
    {
      "cell_type": "markdown",
      "source": [
        "# **1. Entendimento do Negocio**\n",
        "Entender o negócio é um passo crucial na modelagem de aprendizado de máquina (ML). Esse entendimento guia a definição do problema, a seleção de variáveis, a escolha do modelo e a interpretação dos resultados. Aqui estão os principais aspectos a serem considerados:"
      ],
      "metadata": {
        "id": "TI2NaRb0yoWe"
      },
      "id": "TI2NaRb0yoWe"
    },
    {
      "cell_type": "markdown",
      "source": [
        "## **Definição Clara do Problema**\n",
        "   - **Objetivo de Negócio:** Compreender o objetivo principal do projeto de ML. Por exemplo, a meta é aumentar as vendas, reduzir o churn, ou otimizar a logística?\n",
        "   - **Questões a Responder:**\n",
        "     - Qual problema de negócio estamos tentando resolver?\n",
        "     - Quais são os indicadores-chave de desempenho (KPIs) relevantes?\n",
        "     - Quais decisões serão informadas pelos resultados do modelo?\n"
      ],
      "metadata": {
        "id": "D-BL16llyuJn"
      },
      "id": "D-BL16llyuJn"
    },
    {
      "cell_type": "markdown",
      "source": [
        "\n",
        "## **Conhecimento do Domínio**\n",
        "   - **Variáveis Relevantes:** Identificar quais variáveis (features) são importantes para o negócio e como elas afetam os resultados.\n",
        "   - **Comportamento do Mercado:** Compreender as dinâmicas do mercado ou setor em que o negócio opera.\n",
        "   - **Restrição do Negócio:** Considerar restrições como orçamento, recursos, tempo, e regulamentações.\n"
      ],
      "metadata": {
        "id": "NIXxKSoPzvq0"
      },
      "id": "NIXxKSoPzvq0"
    },
    {
      "cell_type": "markdown",
      "source": [
        "\n",
        "## **Disponibilidade e Qualidade dos Dados**\n",
        "   - **Fontes de Dados:** Identificar de onde os dados vêm e garantir que sejam representativos do problema de negócio.\n",
        "   - **Qualidade dos Dados:** Verificar a qualidade, precisão, completude e atualidade dos dados disponíveis.\n",
        "   - **Integridade e Confidencialidade:** Assegurar que os dados respeitam as leis de privacidade e ética, como a LGPD (Lei Geral de Proteção de Dados).\n"
      ],
      "metadata": {
        "id": "cxzYXD06zx1Z"
      },
      "id": "cxzYXD06zx1Z"
    },
    {
      "cell_type": "markdown",
      "source": [
        "\n",
        "## **Entendimento dos Stakeholders**\n",
        "   - **Necessidades dos Stakeholders:** Quem são os stakeholders (tomadores de decisão, usuários finais, etc.) e quais são as suas expectativas em relação ao modelo?\n",
        "   - **Interpretação dos Resultados:** Como os resultados do modelo serão comunicados aos stakeholders? Eles precisam de explicações simples ou técnicas?\n",
        "   - **Impacto Decisório:** Como os resultados influenciam as decisões de negócio? Quais são os riscos e benefícios?\n"
      ],
      "metadata": {
        "id": "JyER5mvlzz4u"
      },
      "id": "JyER5mvlzz4u"
    },
    {
      "cell_type": "markdown",
      "source": [
        "\n",
        "## **Viabilidade Técnica**\n",
        "   - **Capacidades Tecnológicas:** Avaliar se a infraestrutura atual suporta a implementação do modelo de ML. Existe capacidade computacional suficiente?\n",
        "   - **Disponibilidade de Ferramentas:** As ferramentas e plataformas usadas são adequadas para o desenvolvimento, treinamento, e implantação do modelo?\n",
        "   - **Equipes e Habilidades:** A equipe possui as habilidades técnicas necessárias para desenvolver, implementar, e manter o modelo?\n"
      ],
      "metadata": {
        "id": "qvPixh2iz1xE"
      },
      "id": "qvPixh2iz1xE"
    },
    {
      "cell_type": "markdown",
      "source": [
        "\n",
        "## **Objetivos e Métricas de Sucesso**\n",
        "   - **Métricas de Desempenho:** Definir claramente as métricas que determinarão o sucesso do modelo, como acurácia, precisão, recall, ou F1-score.\n",
        "   - **Trade-offs:** Considerar possíveis trade-offs, como entre precisão e interpretabilidade, ou entre custo e benefício.\n",
        "   - **ROI (Retorno sobre o Investimento):** Como o modelo impactará o retorno financeiro? O investimento no modelo é justificado pelos benefícios esperados?\n"
      ],
      "metadata": {
        "id": "jroaXUcbz3Xs"
      },
      "id": "jroaXUcbz3Xs"
    },
    {
      "cell_type": "markdown",
      "source": [
        "\n",
        "## **Interpretação e Ação**\n",
        "   - **Interpretação do Modelo:** O modelo precisa ser interpretável? As decisões derivadas do modelo precisam ser facilmente justificáveis?\n",
        "   - **Tomada de Ação:** Como as previsões ou insights do modelo serão traduzidos em ações práticas? Existem processos definidos para isso?\n",
        "   - **Monitoramento e Manutenção:** Como o modelo será monitorado ao longo do tempo? Existe um plano para sua atualização ou retraining?\n"
      ],
      "metadata": {
        "id": "Sp7eofBfz5l5"
      },
      "id": "Sp7eofBfz5l5"
    },
    {
      "cell_type": "markdown",
      "source": [
        "\n",
        "## **Riscos e Conformidade**\n",
        "   - **Riscos de Negócio:** Considerar os riscos associados ao uso do modelo, como impacto em clientes, reputação, ou compliance.\n",
        "   - **Aspectos Legais e Regulatórios:** O modelo está em conformidade com as leis e regulamentos aplicáveis? Existem preocupações éticas, como viés ou discriminação?\n"
      ],
      "metadata": {
        "id": "quCEpdtkz62P"
      },
      "id": "quCEpdtkz62P"
    },
    {
      "cell_type": "markdown",
      "source": [
        "\n",
        "## **Cultura e Adoção**\n",
        "   - **Cultura Organizacional:** A organização está pronta para adotar uma abordagem baseada em dados? Existe resistência à mudança?\n",
        "   - **Treinamento e Suporte:** Os usuários finais do modelo receberam o treinamento adequado? Há suporte contínuo disponível para eles?\n"
      ],
      "metadata": {
        "id": "lEkUkKPgz8eY"
      },
      "id": "lEkUkKPgz8eY"
    },
    {
      "cell_type": "markdown",
      "id": "fdb532e2-12dd-4384-b2a4-ad770ca540cc",
      "metadata": {
        "jp-MarkdownHeadingCollapsed": true,
        "tags": [],
        "id": "fdb532e2-12dd-4384-b2a4-ad770ca540cc"
      },
      "source": [
        "# **2. Coleta de dados**\n",
        "\n",
        "Depois de determinar exatamente o que se deseja e quais serão os equipamentos utilizados, a primeira etapa do machine learning é a coleta de dados. Trata-se de um momento crucial para o resultado final, pois a quantidade e a qualidade das informações determina o quão preditivo o modelo de machine learning vai ser.\n"
      ]
    },
    {
      "cell_type": "markdown",
      "id": "24db06aa-f72b-4342-8c3f-d702bb1ac1a0",
      "metadata": {
        "id": "24db06aa-f72b-4342-8c3f-d702bb1ac1a0"
      },
      "source": [
        "<br>\n",
        "<img src=\"https://docs.cronapp.io/download/attachments/145490725/fonteDadosFluxogramaDados.png?version=1&modificationDate=1693850541000&api=v2\" width=600, align=\"center\">\n",
        "<br>\n",
        "\n",
        "[imagem](https://docs.cronapp.io/download/attachments/145490725/fonteDadosFluxogramaDados.png?version=1&modificationDate=1693850541000&api=v2)"
      ]
    },
    {
      "cell_type": "markdown",
      "source": [
        "\n",
        "## **Definir Objetivos Claros**\n",
        "   - **Objetivo do Modelo:** Antes de iniciar a coleta, **é crucial entender o objetivo do modelo de aprendizado de máquina**. Saber se o modelo visa prever churn, classificar imagens, ou otimizar processos ajuda a direcionar a coleta de dados.\n",
        "   - **Especificação dos Dados Necessários:** Liste as variáveis ou atributos que serão necessários para treinar o modelo. Considere tanto os dados históricos quanto os dados que serão utilizados na predição.\n"
      ],
      "metadata": {
        "id": "1NWgnwRV0Uxi"
      },
      "id": "1NWgnwRV0Uxi"
    },
    {
      "cell_type": "markdown",
      "source": [
        "### **Objetivos: Modelos de Aprendizado de máquina supervisionado**\n",
        "\n",
        "Principais finalidades dos modelos de **aprendizado de máquina supervisionado**, que são aplicados em diversos setores para resolver problemas específicos, melhorar processos e facilitar a tomada de decisões baseada em dados.\n",
        "\n",
        "Os modelos de aprendizado de máquina supervisionado são desenvolvidos para realizar tarefas específicas com base em dados rotulados, onde o modelo aprende a partir de exemplos de entrada e saída fornecidos.\n"
      ],
      "metadata": {
        "id": "aTkUr_Ni15zQ"
      },
      "id": "aTkUr_Ni15zQ"
    },
    {
      "cell_type": "markdown",
      "source": [
        "\n",
        "**Classificação**\n",
        "   - **Objetivo:** Atribuir uma classe ou categoria a uma nova observação com base em seu conjunto de características. Por exemplo, classificar e-mails como \"spam\" ou \"não spam\".\n",
        "   - **Exemplos de Aplicações:**\n",
        "     - Detecção de fraudes em transações financeiras.\n",
        "     - Diagnóstico médico (e.g., identificar se uma imagem de raio-X mostra sinais de pneumonia).\n",
        "     - Classificação de sentimentos em análises de texto (e.g., determinar se uma avaliação de produto é positiva ou negativa).\n",
        "\n",
        "**Regressão**\n",
        "   - **Objetivo:** Prever um valor numérico contínuo para uma nova observação, com base nas características fornecidas. Por exemplo, prever o preço de uma casa com base em características como tamanho, localização e número de quartos.\n",
        "   - **Exemplos de Aplicações:**\n",
        "     - Previsão de vendas futuras.\n",
        "     - Estimativa do valor de seguros.\n",
        "     - Previsão de demanda de energia elétrica.\n",
        "\n",
        "**Detecção de Anomalias**\n",
        "   - **Objetivo:** Identificar observações que não seguem o padrão esperado, que podem indicar erros, fraudes ou outras ocorrências incomuns.\n",
        "   - **Exemplos de Aplicações:**\n",
        "     - Monitoramento de redes para identificar atividades suspeitas.\n",
        "     - Verificação de qualidade em linhas de produção para detectar defeitos.\n",
        "     - Análise de comportamento de usuários para detectar comportamentos incomuns que possam indicar uma conta comprometida.\n",
        "\n",
        "**Previsão de Séries Temporais**\n",
        "   - **Objetivo:** Prever valores futuros com base em dados históricos que são organizados em uma sequência temporal. Embora frequentemente associada à regressão, a previsão de séries temporais foca em dados que variam ao longo do tempo.\n",
        "   - **Exemplos de Aplicações:**\n",
        "     - Previsão de preços de ações.\n",
        "     - Previsão de demanda de produtos em varejo.\n",
        "     - Previsão de tráfego de rede ou acessos a um site.\n",
        "\n",
        "**Classificação de Imagens e Processamento de Imagens**\n",
        "   - **Objetivo:** Atribuir rótulos a imagens ou segmentos de imagens (como em visão computacional), reconhecendo objetos, padrões ou características.\n",
        "   - **Exemplos de Aplicações:**\n",
        "     - Reconhecimento facial em sistemas de segurança.\n",
        "     - Detecção de objetos em sistemas de carros autônomos.\n",
        "     - Análise de imagens médicas para identificar doenças.\n",
        "\n",
        "**Reconhecimento de Padrões**\n",
        "   - **Objetivo:** Identificar padrões ou estruturas em dados, como a detecção de grupos ou padrões de comportamento. Embora a detecção de padrões seja comumente associada ao aprendizado não supervisionado, pode ser realizada no contexto supervisionado quando há rótulos para os padrões.\n",
        "   - **Exemplos de Aplicações:**\n",
        "     - Reconhecimento de voz e fala.\n",
        "     - Identificação de padrões de compras em e-commerce para personalização.\n",
        "     - Análise de padrões de tráfego em sistemas de transporte.\n",
        "\n",
        "**Recomendações**\n",
        "   - **Objetivo:** Sugerir itens ou ações a usuários com base em suas preferências passadas e no comportamento de usuários semelhantes. Embora muitos sistemas de recomendação utilizem aprendizado não supervisionado, o aprendizado supervisionado pode ser usado quando há um conjunto rotulado de preferências ou interações.\n",
        "   - **Exemplos de Aplicações:**\n",
        "     - Sistemas de recomendação de filmes e músicas.\n",
        "     - Recomendação de produtos em lojas online.\n",
        "     - Personalização de conteúdo em plataformas de streaming.\n",
        "\n",
        "**Análise de Sentimentos**\n",
        "   - **Objetivo:** Determinar a polaridade de um texto (positivo, negativo, neutro) com base em seus conteúdos, o que é uma forma de classificação.\n",
        "   - **Exemplos de Aplicações:**\n",
        "     - Análise de opiniões em redes sociais.\n",
        "     - Monitoramento de marca e reputação online.\n",
        "     - Avaliação de feedbacks de clientes para produtos e serviços.\n",
        "\n",
        "**Segmentação de Clientes (quando supervisionada)**\n",
        "   - **Objetivo:** Agrupar clientes em segmentos baseados em características rotuladas, permitindo estratégias de marketing direcionadas.\n",
        "   - **Exemplos de Aplicações:**\n",
        "     - Campanhas de marketing personalizadas.\n",
        "     - Identificação de grupos de clientes para promoções específicas.\n",
        "     - Criação de personas para novos produtos.\n",
        "\n",
        "**Conversão de Voz para Texto e Texto para Voz**\n",
        "   - **Objetivo:** Transcrever fala em texto ou sintetizar voz a partir de texto, ambas tarefas de classificação (voz para texto) ou geração (texto para voz).\n",
        "   - **Exemplos de Aplicações:**\n",
        "     - Assistentes virtuais como Alexa ou Google Assistant.\n",
        "     - Sistemas de ditado para documentos.\n",
        "     - Ferramentas de acessibilidade para pessoas com deficiência visual."
      ],
      "metadata": {
        "id": "ydqHI4SX2lM_"
      },
      "id": "ydqHI4SX2lM_"
    },
    {
      "cell_type": "markdown",
      "source": [
        "### **Objetivos: Modelos de Aprendizado de máquina Não supervisionado**\n",
        "Os modelos de aprendizado de máquina não supervisionado têm como objetivo principal descobrir padrões, estruturas ou relacionamentos nos dados **sem o uso de rótulos ou respostas pré-definidas**. Aqui estão os principais objetivos desses modelos:\n"
      ],
      "metadata": {
        "id": "Un6Wvqq83JTo"
      },
      "id": "Un6Wvqq83JTo"
    },
    {
      "cell_type": "markdown",
      "source": [
        "\n",
        "**Agrupamento (Clustering)**\n",
        "   - **Objetivo:** Dividir um conjunto de dados em grupos ou clusters, onde os dados dentro de um mesmo cluster são mais semelhantes entre si do que em relação aos dados de outros clusters.\n",
        "   - **Aplicações:**\n",
        "     - Segmentação de clientes em marketing.\n",
        "     - Agrupamento de imagens semelhantes em visão computacional.\n",
        "     - Identificação de padrões em dados genômicos.\n",
        "\n",
        "**Redução de Dimensionalidade**\n",
        "   - **Objetivo:** Reduzir o número de variáveis ou características em um conjunto de dados, preservando a maior quantidade possível de informação relevante.\n",
        "   - **Aplicações:**\n",
        "     - Compressão de dados para visualização (ex.: PCA).\n",
        "     - Eliminação de redundância em grandes conjuntos de dados.\n",
        "     - Melhoria da eficiência de algoritmos de aprendizado de máquina.\n",
        "\n",
        "**Detecção de Anomalias (Anomaly Detection)**\n",
        "   - **Objetivo:** Identificar dados que se desviam significativamente do padrão geral ou da estrutura dos dados.\n",
        "   - **Aplicações:**\n",
        "     - Detecção de fraudes em transações financeiras.\n",
        "     - Identificação de falhas em sistemas industriais.\n",
        "     - Monitoramento de segurança em redes de computadores.\n",
        "\n",
        "**Aprendizado de Padrões Associativos**\n",
        "   - **Objetivo:** Descobrir relações de associação ou co-ocorrência entre variáveis em grandes conjuntos de dados.\n",
        "   - **Aplicações:**\n",
        "     - Regras de associação em cestas de compras (ex.: \"os clientes que compram X também compram Y\").\n",
        "     - Recomendação de produtos em sistemas de recomendação.\n",
        "     - Descoberta de padrões em sequências de eventos.\n",
        "\n",
        "**Modelagem de Mistura**\n",
        "   - **Objetivo:** Modelar a distribuição dos dados como uma combinação de várias distribuições probabilísticas, frequentemente usadas para modelar dados em cenários onde não há uma estrutura clara.\n",
        "   - **Aplicações:**\n",
        "     - Identificação de subpopulações em um conjunto de dados.\n",
        "     - Segmentação de imagem baseada em modelos de mistura gaussiana.\n",
        "     - Análise de dados em bioinformática.\n",
        "\n",
        "**Agrupamento de Séries Temporais**\n",
        "   - **Objetivo:** Agrupar séries temporais com padrões similares ou identificar tendências e padrões de comportamento ao longo do tempo.\n",
        "   - **Aplicações:**\n",
        "     - Previsão de demanda em cadeias de suprimentos.\n",
        "     - Análise de padrões de uso de energia.\n",
        "     - Identificação de comportamentos anômalos em séries temporais financeiras.\n",
        "\n",
        "**Análise de Componentes Independentes (ICA)**\n",
        "   - **Objetivo:** Separar um sinal multivariado em componentes aditivos independentes, geralmente usada para separar sinais misturados em suas fontes originais.\n",
        "   - **Aplicações:**\n",
        "     - Separação de fontes em sinais de áudio (ex.: separar vozes de fundo em uma gravação).\n",
        "     - Análise de dados genômicos.\n",
        "     - Processamento de imagens e vídeo.\n",
        "\n",
        "**Mapeamento de Dados Não Lineares**\n",
        "   - **Objetivo:** Encontrar uma representação de baixa dimensionalidade de dados não lineares, preservando a estrutura intrínseca dos dados.\n",
        "   - **Aplicações:**\n",
        "     - Visualização de dados complexos (ex.: t-SNE, UMAP).\n",
        "     - Descoberta de padrões ocultos em dados multidimensionais.\n",
        "     - Análise exploratória de dados.\n",
        "\n",
        "**Análise de Coorte**\n",
        "   - **Objetivo:** Identificar grupos de indivíduos ou itens que compartilham características comuns ao longo do tempo, geralmente usada em marketing e análise de produtos.\n",
        "   - **Aplicações:**\n",
        "     - Análise do comportamento de usuários em produtos digitais.\n",
        "     - Análise de retenção de clientes.\n",
        "     - Estudo de efeitos longitudinais em coortes de pacientes.\n",
        "\n",
        "**Aprendizado Baseado em Densidade**\n",
        "   - **Objetivo:** Identificar clusters de diferentes formas, com base na densidade dos dados (ex.: DBSCAN).\n",
        "   - **Aplicações:**\n",
        "     - Identificação de clusters em dados espaciais.\n",
        "     - Descoberta de padrões em dados biológicos.\n",
        "     - Detecção de padrões em dados de redes sociais.\n",
        "\n",
        "**Aprendizado de Estruturas Latentes**\n",
        "   - **Objetivo:** Descobrir variáveis latentes que explicam as relações entre as variáveis observadas.\n",
        "   - **Aplicações:**\n",
        "     - Modelos de tópicos em processamento de linguagem natural.\n",
        "     - Análise de sentimento e opinião.\n",
        "     - Descoberta de fatores ocultos em dados colaborativos (ex.: sistemas de recomendação)."
      ],
      "metadata": {
        "id": "323_AvS83LZN"
      },
      "id": "323_AvS83LZN"
    },
    {
      "cell_type": "markdown",
      "source": [
        "\n",
        "## **Fontes de Dados Diversificadas**\n",
        "   - **Dados Internos:** Aproveite dados que já estão disponíveis dentro da organização, como bancos de dados de clientes, registros de vendas, ou logs de sistemas.\n",
        "   - **Dados Externos:** Considere fontes de dados externas, como APIs públicas, dados governamentais, ou dados de mercado. Esses dados podem complementar os dados internos e enriquecer o conjunto de dados.\n",
        "   - **Crowdsourcing:** Em alguns casos, dados podem ser coletados através de plataformas de crowdsourcing, onde diversas pessoas contribuem para a criação de um dataset, como no caso de classificação de imagens ou etiquetagem de texto.\n"
      ],
      "metadata": {
        "id": "-fqv5Xu407dj"
      },
      "id": "-fqv5Xu407dj"
    },
    {
      "cell_type": "markdown",
      "source": [
        "\n",
        "## **Coleta Automatizada de Dados**\n",
        "   - **Web Scraping:** Utilize técnicas de web scraping para coletar dados de sites, respeitando sempre os termos de uso do site e as leis aplicáveis.\n",
        "   - **Sensores e IoT:** Se aplicável, use sensores e dispositivos IoT para coletar dados em tempo real, como em projetos relacionados a manufatura, agricultura, ou cidades inteligentes.\n",
        "   - **APIs:** Integre APIs para coletar dados de outras plataformas ou serviços, como redes sociais, provedores de clima, ou serviços financeiros.\n"
      ],
      "metadata": {
        "id": "dJRaDPP_1BmI"
      },
      "id": "dJRaDPP_1BmI"
    },
    {
      "cell_type": "markdown",
      "source": [
        "\n",
        "## **Estruturação e Armazenamento dos Dados**\n",
        "   - **Escolha do Formato:** Decida o formato em que os dados serão armazenados (CSV, JSON, SQL, etc.) com base na natureza dos dados e nas ferramentas que serão usadas posteriormente.\n",
        "   - **Data Lakes e Data Warehouses:** Considere o uso de data lakes para armazenar dados brutos em grande escala, ou data warehouses para dados mais estruturados e prontos para análise.\n",
        "   - **Cloud Storage:** Utilize soluções de armazenamento em nuvem, como AWS S3, Google Cloud Storage, ou Azure Blob Storage para escalabilidade e facilidade de acesso.\n"
      ],
      "metadata": {
        "id": "6FIAJ6zS1Djg"
      },
      "id": "6FIAJ6zS1Djg"
    },
    {
      "cell_type": "markdown",
      "source": [
        "\n",
        "## **Qualidade e Limpeza dos Dados**\n",
        "   - **Validação de Dados:** Implemente verificações automáticas para garantir a qualidade dos dados coletados, como checagem de formatos, validação de valores esperados, e verificação de duplicatas.\n",
        "   - **Tratamento de Dados Ausentes:** Planeje estratégias para lidar com dados ausentes, seja por imputação (substituir valores ausentes por médias ou medianas) ou remoção de registros incompletos.\n",
        "   - **Anotação de Dados:** Se estiver coletando dados não estruturados (como imagens ou textos), assegure-se de que os dados sejam devidamente anotados ou rotulados, de preferência com verificações de qualidade.\n"
      ],
      "metadata": {
        "id": "zqKTsbpP1Fba"
      },
      "id": "zqKTsbpP1Fba"
    },
    {
      "cell_type": "markdown",
      "source": [
        "\n",
        "## **Volume e Amostragem**\n",
        "   - **Tamanho do Conjunto de Dados:** Certifique-se de coletar uma quantidade de dados suficiente para treinar e testar o modelo com precisão. O volume ideal depende da complexidade do modelo e da variabilidade dos dados.\n",
        "   - **Amostragem Representativa:** Se não for viável coletar todos os dados possíveis, utilize técnicas de amostragem para garantir que o conjunto de dados seja representativo da população ou do problema em questão.\n"
      ],
      "metadata": {
        "id": "dglp_x3j1Hsy"
      },
      "id": "dglp_x3j1Hsy"
    },
    {
      "cell_type": "markdown",
      "source": [
        "\n",
        "## **Considerações Éticas e Legais**\n",
        "   - **Privacidade dos Dados:** Respeite as leis de privacidade, como a LGPD (Lei Geral de Proteção de Dados) no Brasil, garantindo que os dados pessoais sejam coletados, armazenados e utilizados de maneira ética.\n",
        "   - **Consentimento:** Obtenha o consentimento explícito dos indivíduos cujos dados serão coletados, especialmente em projetos que envolvem dados pessoais ou sensíveis.\n",
        "   - **Transparência:** Seja transparente sobre como os dados serão utilizados, especialmente se eles forem coletados de usuários ou clientes.\n"
      ],
      "metadata": {
        "id": "-2r3Gqva1Jl5"
      },
      "id": "-2r3Gqva1Jl5"
    },
    {
      "cell_type": "markdown",
      "source": [
        "\n",
        "## **Integração e Engenharia de Dados**\n",
        "   - **Combinação de Dados:** Integre dados de múltiplas fontes para criar um dataset unificado, utilizando técnicas de matching e deduplicação para assegurar que os dados estão corretamente alinhados.\n",
        "   - **Feature Engineering:** Durante ou após a coleta, considere a criação de novas variáveis a partir dos dados brutos, que possam ajudar a melhorar o desempenho do modelo.\n",
        "   - **Automatização de Pipelines:** Utilize ferramentas e frameworks como Apache Airflow, Luigi, ou serviços de automação em nuvem para criar pipelines de coleta e preparação de dados automatizados.\n"
      ],
      "metadata": {
        "id": "o_6XCYER1Lhi"
      },
      "id": "o_6XCYER1Lhi"
    },
    {
      "cell_type": "markdown",
      "source": [
        "\n",
        "## **Monitoramento e Atualização de Dados**\n",
        "   - **Coleta Contínua:** Em projetos onde os dados mudam com o tempo, como em previsões em tempo real ou modelos de séries temporais, implemente mecanismos para a coleta contínua e a atualização do conjunto de dados.\n",
        "   - **Verificação de Drift:** Monitorize possíveis mudanças na distribuição dos dados ao longo do tempo, conhecidas como drift, para garantir que o modelo permaneça válido e eficaz.\n"
      ],
      "metadata": {
        "id": "-wMEybl41NF9"
      },
      "id": "-wMEybl41NF9"
    },
    {
      "cell_type": "markdown",
      "source": [
        "\n",
        "## **Documentação e Versionamento**\n",
        "   - **Documentação:** Documente claramente o processo de coleta de dados, incluindo as fontes, as técnicas utilizadas, e os critérios de qualidade aplicados.\n",
        "   - **Versionamento:** Utilize sistemas de versionamento de dados para rastrear alterações nos conjuntos de dados ao longo do tempo, especialmente em ambientes colaborativos ou onde os dados são atualizados periodicamente.\n"
      ],
      "metadata": {
        "id": "QB1CxKOQ1Ov9"
      },
      "id": "QB1CxKOQ1Ov9"
    },
    {
      "cell_type": "markdown",
      "id": "b611fad9-0020-46e5-8d2e-e03397a945d3",
      "metadata": {
        "jp-MarkdownHeadingCollapsed": true,
        "tags": [],
        "toc-hr-collapsed": true,
        "id": "b611fad9-0020-46e5-8d2e-e03397a945d3"
      },
      "source": [
        "# **3. Entendimento dos Dados | Analise Exploraroria dos dados (EDA)**\n",
        "\n",
        "A análise exploratória de dados (AED) é uma etapa crítica no processo de análise de dados e modelagem de aprendizado de máquina. Ela ajuda a entender a estrutura, padrões e características dos dados antes de aplicar modelos mais complexos."
      ]
    },
    {
      "cell_type": "markdown",
      "id": "947de2ce-6c05-46c9-9d80-f5289053150b",
      "metadata": {
        "toc-hr-collapsed": true,
        "id": "947de2ce-6c05-46c9-9d80-f5289053150b"
      },
      "source": [
        "## **Identificação dos dados**\n",
        "    "
      ]
    },
    {
      "cell_type": "markdown",
      "id": "9d5fd972-a921-4407-a1cd-840d1e283230",
      "metadata": {
        "id": "9d5fd972-a921-4407-a1cd-840d1e283230"
      },
      "source": [
        "**Segunda a natureza dos dados**\n",
        "- **Nominal / categórico** – Uma coisa ou outra (mutuamente exclusivo). Por exemplo, para balanças de automóveis, a cor é uma categoria. Um carro pode ser azul, mas não branco. Um pedido não importa.\n",
        "- **Numérico:** qualquer valor contínuo em que a diferença entre eles importa. Por exemplo, ao vender casas o valor de R107.850,00 é maior do que R$ 56.400,00.\n",
        "- **Ordinal:** Dados que têm ordem, mas a distância entre os valores é desconhecida. Por exemplo, uma pergunta como: como você classificaria sua saúde de 1 a 5? 1 sendo pobre, 5 sendo saudável. Você pode responder 1,2,3,4,5, mas a distância entre cada valor não significa necessariamente que uma resposta de 5 é cinco vezes melhor do que uma resposta de 1.\n",
        "\n",
        "- **Séries temporais:** dados ao longo do tempo. Por exemplo, os valores históricos de venda de Bulldozers de 2012-2018."
      ]
    },
    {
      "cell_type": "markdown",
      "id": "f72d157b-d386-4452-b78e-5684e33cdd4f",
      "metadata": {
        "id": "f72d157b-d386-4452-b78e-5684e33cdd4f"
      },
      "source": [
        "<br>\n",
        "<img src=\"https://i.ytimg.com/vi/1zy6DTHQDzM/maxresdefault.jpg\" width=700, align=\"centre\">\n",
        "<br>\n",
        "\n",
        "[link: imagem](\"https://i.ytimg.com/vi/1zy6DTHQDzM/maxresdefault.jpg\")"
      ]
    },
    {
      "cell_type": "markdown",
      "id": "b17cd10c-4076-4432-b039-99b46be2644c",
      "metadata": {
        "id": "b17cd10c-4076-4432-b039-99b46be2644c"
      },
      "source": [
        "- Quais são as **variáveis de recursos (entrada) e as variáveis de destino (saída)?** Por exemplo, para prever doenças cardíacas, as variáveis de recursos podem ser a idade, peso, frequência cardíaca média e nível de atividade física de uma pessoa. E a variável de destino será a informação se eles têm ou não uma doença.\n",
        "\n",
        "- Que tipo de dado você tem? Estruturado, não estruturado, numérico, séries temporais. Existem valores ausentes? Você deve removê-los ou preenchê-los com imputação de recursos.\n",
        "\n",
        "- Onde estão os outliers? Quantos deles existem? Por que eles estão lá? Há alguma pergunta que você possa fazer a um especialista de domínio sobre os dados? Por exemplo, um médico cardiopata poderia lançar alguma luz sobre seu dataset de doenças cardíacas?"
      ]
    },
    {
      "cell_type": "markdown",
      "id": "5015fcf4-fba1-456e-abc4-aa4859d8429b",
      "metadata": {
        "jp-MarkdownHeadingCollapsed": true,
        "tags": [],
        "toc-hr-collapsed": true,
        "id": "5015fcf4-fba1-456e-abc4-aa4859d8429b"
      },
      "source": [
        "# **4. Preparação e transformação dos dados**\n",
        "A etapa de preparação e transformação dos dados é fundamental no aprendizado de máquina, pois garante que os dados estejam prontos para ser usados pelos algoritmos de modelagem. Esta etapa envolve diversas tarefas para limpar, formatar e transformar os dados de modo que eles sejam adequados e úteis para treinamento e avaliação de modelos."
      ]
    },
    {
      "cell_type": "markdown",
      "source": [
        "    \n",
        "### **Criação de Novas Variáveis (Feature Engineering):**\n",
        "\n"
      ],
      "metadata": {
        "id": "DK2QpnVqAw1w"
      },
      "id": "DK2QpnVqAw1w"
    },
    {
      "cell_type": "markdown",
      "source": [
        "Processo de criar novas variáveis (features) a partir dos dados existentes ou transformar variáveis existentes para melhorar a performance dos modelos de aprendizado de máquina.\n"
      ],
      "metadata": {
        "id": "AZ6VhZhjIoWX"
      },
      "id": "AZ6VhZhjIoWX"
    },
    {
      "cell_type": "markdown",
      "source": [
        "> **Variaveis Derivadas** <br>\n",
        "\n",
        "**Exemplo:** Suponha que você tenha dados sobre transações financeiras e queira criar uma variável que indique o tempo desde a última transação.\n",
        "\n",
        "**Dados de exemplo**<br>\n",
        "Data_Transacao: ['2024-01-01', '2024-01-05', '2024-01-10']) <br>\n",
        "Valor: [100, 150, 200]\n",
        "\n",
        "\n",
        "**Resultado:** <br>\n",
        "\n",
        "| Data_Transacao | Valor | Dias_Desde_Ultima_Transacao |\n",
        "|----------------|-------|------------------------------|\n",
        "| 2024-01-01     | 100   | 0                            |\n",
        "| 2024-01-05     | 150   | 4                            |\n",
        "| 2024-01-10     | 200   | 5                            |\n"
      ],
      "metadata": {
        "id": "cnwZsEeQLTdE"
      },
      "id": "cnwZsEeQLTdE"
    },
    {
      "cell_type": "markdown",
      "source": [
        "\n",
        "---\n",
        "> **Variaveis - data e hora** <br>\n",
        "\n",
        "**Dados de exemplo**<br>\n",
        "Datas : 2024-01-01', '2024-02-14', '2024-03-28']\n",
        "\n",
        "#### Resultado:\n",
        "| Data      | Ano | Mes | Dia_Semana |\n",
        "|-----------|-----|-----|------------|\n",
        "| 2024-01-01 | 2024|  1  | 0          |\n",
        "| 2024-02-14 | 2024|  2  | 3          |\n",
        "| 2024-03-28 | 2024|  3  | 4          |\n"
      ],
      "metadata": {
        "id": "KpTupDBRLVk6"
      },
      "id": "KpTupDBRLVk6"
    },
    {
      "cell_type": "markdown",
      "source": [
        "> **Interação entre Variáveis**\n",
        "\n",
        "**Objetivo:** Criar variáveis que representem interações entre diferentes características.\n",
        "\n",
        "**Exemplo:** Criar uma nova variável que seja o produto de duas variáveis existentes.\n",
        "\n",
        "\n",
        "**Dados de exemplo**<br>\n",
        "data = pd.DataFrame({\n",
        "    'Compras': [5, 10, 15],\n",
        "    'Preço': [20, 30, 40]\n",
        "\n",
        "**Resultado:** <br>\n",
        "\n",
        "| Compras | Preço | Valor_Total |\n",
        "|---------|-------|-------------|\n",
        "| 5       | 20    | 100         |\n",
        "| 10      | 30    | 300         |\n",
        "| 15      | 40    | 600         |"
      ],
      "metadata": {
        "id": "ZfjFQwI-LXZb"
      },
      "id": "ZfjFQwI-LXZb"
    },
    {
      "cell_type": "markdown",
      "source": [
        "\n",
        "## **Normalização**\n",
        "\n"
      ],
      "metadata": {
        "id": "ofLcFhtDDRMV"
      },
      "id": "ofLcFhtDDRMV"
    },
    {
      "cell_type": "markdown",
      "source": [
        "Ajuste os dados para uma escala comum (ex.: z-score, min-max) para garantir que variáveis com diferentes escalas não distorçam o aprendizado.\n",
        "\n",
        "Ajustar os dados para um intervalo específico, geralmente entre 0 e 1. É útil quando você deseja que todas as variáveis tenham a mesma escala e é particularmente importante para algoritmos que usam distâncias, como *K-means e KNN*.\n",
        "\n",
        "**exemplo** <br>\n",
        "Antes\n",
        "1,2,3,4,5\n",
        "<br>\n",
        "Depois:\n",
        "0.00, 0.25, 0.50, 0.75, 1.00"
      ],
      "metadata": {
        "id": "pUVfPd7nDWLF"
      },
      "id": "pUVfPd7nDWLF"
    },
    {
      "cell_type": "markdown",
      "source": [
        "## **Padronização**"
      ],
      "metadata": {
        "id": "jDeh3t9BHdt8"
      },
      "id": "jDeh3t9BHdt8"
    },
    {
      "cell_type": "markdown",
      "source": [
        "Objetivo: Ajustar os dados para que tenham uma **média de 0 e um desvio padrão de 1**. É útil para algoritmos que assumem que os dados estão distribuídos normalmente, como ***Regressão Linear e SVM***.\n",
        "\n",
        "**Antes** <br>\n",
        "data = pd.DataFrame({'A': [1, 2, 3, 4, 5]})\n",
        "\n",
        "\n",
        "**Resultado:** <br>\n",
        "\n",
        "| A         |\n",
        "|-----------|\n",
        "| -1.414214 |\n",
        "| -0.707107 |\n",
        "|  0.000000 |\n",
        "|  0.707107 |\n",
        "|  1.414214 |\n",
        "\n",
        "Os valores são ajustados para ter uma média de 0 e um desvio padrão de 1."
      ],
      "metadata": {
        "id": "POYmwnQAHpk5"
      },
      "id": "POYmwnQAHpk5"
    },
    {
      "cell_type": "markdown",
      "source": [
        "## **Codificação de Dados Categóricos**\n"
      ],
      "metadata": {
        "id": "CNlv5OHUDTDt"
      },
      "id": "CNlv5OHUDTDt"
    },
    {
      "cell_type": "markdown",
      "source": [
        "Transforme rótulos em valores numéricos distintos. Por exemplo, se suas variáveis ​​de destino forem animais diferentes, como cachorro, gato, pássaro, eles podem se tornar 0, 1 e 2, respectivamente.\n",
        "\n",
        "Converta variáveis categóricas em formatos numéricos (ex.: one-hot encoding, label encoding)."
      ],
      "metadata": {
        "id": "jHB8NLkKHvFH"
      },
      "id": "jHB8NLkKHvFH"
    },
    {
      "cell_type": "markdown",
      "source": [
        "### **One-hot encoding**"
      ],
      "metadata": {
        "id": "-qKpBas_Gr5K"
      },
      "id": "-qKpBas_Gr5K"
    },
    {
      "cell_type": "markdown",
      "source": [
        "\n",
        "\n",
        "\n",
        "\n",
        "**Objetivo:**\n",
        "Converter variáveis categóricas em um formato binário onde cada categoria é representada por uma coluna separada com valores 0 ou 1.\n",
        "\n",
        "**Quando Usar:** É ideal quando você tem variáveis categóricas que não têm uma ordem implícita ou quando a variável categórica possui um número relativamente pequeno de categorias.\n",
        "\n",
        "  - **Vantagens:** Mantém a integridade das categorias, evitando que o modelo interprete as categorias como ordens numéricas. Útil para variáveis categóricas sem ordem.\n",
        "  - **Desvantagens:** Pode resultar em uma grande quantidade de colunas, especialmente se a variável tiver muitas categorias, o que pode levar a um aumento no tempo de treinamento e no uso de memória.\n",
        "\n",
        "**Exemplo:**\n",
        "Suponha que você tem uma variável categórica \"Cor\" com três categorias: \"Vermelho\", \"Verde\", e \"Azul\".\n",
        "<br>\n",
        "Antes:\n",
        "\n",
        "| Cor    |\n",
        "|--------|\n",
        "| Vermelho |\n",
        "| Verde   |\n",
        "| Azul    |\n",
        "| Verde   |\n",
        "<br>\n",
        "Após o processamento:\n",
        "\n",
        "| Cor_Vermelho | Cor_Verde | Cor_Azul |\n",
        "|--------------|-----------|----------|\n",
        "| 1            | 0         | 0        |\n",
        "| 0            | 1         | 0        |\n",
        "| 0            | 0         | 1        |\n",
        "| 0            | 1         | 0        |\n",
        "\n",
        "\n"
      ],
      "metadata": {
        "id": "KAD_qRrwDhNV"
      },
      "id": "KAD_qRrwDhNV"
    },
    {
      "cell_type": "markdown",
      "source": [
        "\n",
        "### **Label Encoding**"
      ],
      "metadata": {
        "id": "3Voc1KGQGhEz"
      },
      "id": "3Voc1KGQGhEz"
    },
    {
      "cell_type": "markdown",
      "source": [
        "\n",
        "\n",
        "**Objetivo:** Converter variáveis categóricas em valores numéricos inteiros, atribuindo um número único para cada categoria.\n",
        "\n",
        "**Quando Usar:** É ideal para variáveis categóricas que têm uma ordem implícita (por exemplo, \"Baixo\", \"Médio\", \"Alto\") ou quando a variável categórica possui um número muito grande de categorias.\n",
        "\n",
        "  - **Vantagens:** Simples e eficiente em termos de memória, não aumenta o número de colunas. Adequado para variáveis categóricas com uma ordem implícita.\n",
        "  - **Desvantagens:** Pode introduzir uma relação ordinal onde não existe, o que pode afetar negativamente a performance do modelo se a variável não tiver uma ordem natural.\n",
        "\n",
        "**Exemplo:**\n",
        "\n",
        "Usando o mesmo exemplo da variável \"Cor\":\n",
        "\n",
        "**Dados Originais** <br>\n",
        "\n",
        "| Cor    |\n",
        "|--------|\n",
        "| Vermelho |\n",
        "| Verde   |\n",
        "| Azul    |\n",
        "| Verde   |\n",
        "\n",
        "\n",
        "**Resultado:** <br>\n",
        "\n",
        "| Cor    | Cor_encoded |\n",
        "|--------|-------------|\n",
        "| Vermelho | 2           |\n",
        "| Verde   | 1           |\n",
        "| Azul    | 0           |\n",
        "| Verde   | 1           |\n",
        "\n",
        "Cada categoria é mapeada para um número inteiro. A ordem dos números não carrega informação implícita sobre a ordem das categorias, mas pode ser útil para algumas análises e modelos."
      ],
      "metadata": {
        "id": "zg8eJBcaFwYX"
      },
      "id": "zg8eJBcaFwYX"
    },
    {
      "cell_type": "markdown",
      "source": [
        "\n",
        "## **Redução de Dimensionalidade**\n",
        "  \n"
      ],
      "metadata": {
        "id": "hstWVM-aB98S"
      },
      "id": "hstWVM-aB98S"
    },
    {
      "cell_type": "markdown",
      "source": [
        " - **Objetivo:** Diminuir o número de variáveis para simplificar o modelo e melhorar a eficiência.\n",
        "   - **Atividades:**\n",
        "     - **Análise de Componentes Principais (PCA):** Reduza a dimensionalidade mantendo a maior parte da variância dos dados.\n",
        "     - **Seleção de Atributos:** Escolha um subconjunto de variáveis que são mais relevantes para o problema."
      ],
      "metadata": {
        "id": "YTMmO4QBC48N"
      },
      "id": "YTMmO4QBC48N"
    },
    {
      "cell_type": "markdown",
      "source": [
        "## **Detecção e Tratamento de Outliers**"
      ],
      "metadata": {
        "id": "hZbPLLOQCAFv"
      },
      "id": "hZbPLLOQCAFv"
    },
    {
      "cell_type": "markdown",
      "source": [
        "\n",
        "   - **Objetivo:** Identificar e lidar com valores extremos que podem impactar o modelo.\n",
        "   - **Atividades:**\n",
        "     - **Identificação de Outliers:** Use métodos estatísticos ou gráficos (ex.: boxplots) para detectar outliers.\n",
        "     - **Tratamento de Outliers:** Decida se deve remover ou ajustar outliers com base em seu impacto e relevância.\n"
      ],
      "metadata": {
        "id": "WcOEVcUmCh8d"
      },
      "id": "WcOEVcUmCh8d"
    },
    {
      "cell_type": "markdown",
      "source": [
        "\n",
        "### **Feature Selection e Extraction**\n",
        "  \n"
      ],
      "metadata": {
        "id": "LGG7mSgOCCzb"
      },
      "id": "LGG7mSgOCCzb"
    },
    {
      "cell_type": "markdown",
      "source": [
        " - **Objetivo:** Selecionar as variáveis mais relevantes e extrair características importantes dos dados.\n",
        "   - **Atividades:**\n",
        "     - **Feature Selection:** Use técnicas como análise univariada, RFE, ou importâncias de atributos para escolher as variáveis mais significativas.\n",
        "     - **Feature Extraction:** Crie novas características a partir dos dados existentes que podem ajudar a melhorar o desempenho do modelo."
      ],
      "metadata": {
        "id": "JyB_FqcECx73"
      },
      "id": "JyB_FqcECx73"
    },
    {
      "cell_type": "markdown",
      "source": [
        "\n",
        "### **Formatação e Conversão**\n",
        "  \n"
      ],
      "metadata": {
        "id": "8st8uHviCLg8"
      },
      "id": "8st8uHviCLg8"
    },
    {
      "cell_type": "markdown",
      "source": [
        " - **Objetivo:** Garantir que os dados estejam no formato necessário para o modelo.\n",
        "   - **Atividades:**\n",
        "     - **Formatação de Dados:** Converta os dados em formatos adequados para o treinamento (ex.: arrays NumPy, DataFrames pandas).\n",
        "     - **Conversão de Tipos de Dados:** Assegure que todos os dados estejam no tipo correto (ex.: números inteiros, floats, strings)."
      ],
      "metadata": {
        "id": "VVW9y3ExCtDK"
      },
      "id": "VVW9y3ExCtDK"
    },
    {
      "cell_type": "markdown",
      "source": [
        "\n",
        "### **Escalabilidade e Performance**\n",
        "  \n",
        "\n",
        "\n",
        "\n",
        "\n"
      ],
      "metadata": {
        "id": "p66QS85pCNvF"
      },
      "id": "p66QS85pCNvF"
    },
    {
      "cell_type": "markdown",
      "source": [
        " - **Objetivo:** Garantir que a preparação dos dados seja eficiente e escalável.\n",
        "   - **Atividades:**\n",
        "     - **Otimização de Código:** Use técnicas eficientes para manipulação e transformação de dados, como operações vetorizadas e processamento paralelo.\n",
        "     - **Armazenamento e Processamento:** Considere o uso de soluções de armazenamento e processamento escaláveis para grandes conjuntos de dados.\n"
      ],
      "metadata": {
        "id": "1zlr1D8ECqha"
      },
      "id": "1zlr1D8ECqha"
    },
    {
      "cell_type": "markdown",
      "id": "82ff8037-1adc-46c5-a744-90efeebc8cd4",
      "metadata": {
        "id": "82ff8037-1adc-46c5-a744-90efeebc8cd4"
      },
      "source": [
        "## **Seleção de atributos**"
      ]
    },
    {
      "cell_type": "markdown",
      "source": [
        "A seleção de atributos (feature selection) é um passo fundamental no processo de aprendizado de máquina, pois ajuda a **identificar as características mais relevantes para o modelo**, reduzindo a dimensionalidade dos dados e melhorando o desempenho do modelo.\n",
        "\n",
        "Seguem alguns métodos comuns de seleção de atributos:"
      ],
      "metadata": {
        "id": "sUHK7isAtniA"
      },
      "id": "sUHK7isAtniA"
    },
    {
      "cell_type": "markdown",
      "source": [
        "### **Métodos Baseados em Filtros (Filtering)**\n"
      ],
      "metadata": {
        "id": "ZtOVMT67OAe4"
      },
      "id": "ZtOVMT67OAe4"
    },
    {
      "cell_type": "markdown",
      "source": [
        "\n",
        "Avaliar a relevância dos atributos com base em estatísticas univariadas.\n",
        "\n",
        "**Correlação** Usando a correlação para selecionar *atributos*\n",
        "\n",
        "**Chi-Square Test**\n",
        "Método: Avalia a relação entre atributos categóricos e a variável alvo categórica."
      ],
      "metadata": {
        "id": "0nMdZHNTR91T"
      },
      "id": "0nMdZHNTR91T"
    },
    {
      "cell_type": "markdown",
      "source": [
        "\n",
        "### **Métodos Baseados em Wrapper**\n"
      ],
      "metadata": {
        "id": "5jGsDKUkOR6q"
      },
      "id": "5jGsDKUkOR6q"
    },
    {
      "cell_type": "markdown",
      "source": [
        "\n",
        "Esses métodos utilizam o modelo de aprendizado de máquina para avaliar a qualidade dos atributos.\n",
        "\n",
        "**Busca Exhaustiva**\n",
        "Remove atributos com base na importância calculada pelo modelo e reavalia o desempenho do modelo."
      ],
      "metadata": {
        "id": "MPiga9uMTPeH"
      },
      "id": "MPiga9uMTPeH"
    },
    {
      "cell_type": "markdown",
      "source": [
        "\n",
        "### **Métodos Baseados em Embedded**\n",
        "\n"
      ],
      "metadata": {
        "id": "a8GtDPR-OJjr"
      },
      "id": "a8GtDPR-OJjr"
    },
    {
      "cell_type": "markdown",
      "source": [
        "\n",
        "Esses métodos realizam a seleção de atributos como parte do processo de treinamento do modelo.\n",
        "\n",
        "**Árvores de Decisão** Utiliza a importância dos atributos calculada pelo modelo de árvore de decisão"
      ],
      "metadata": {
        "id": "-IlR0XN_S3w5"
      },
      "id": "-IlR0XN_S3w5"
    },
    {
      "cell_type": "markdown",
      "source": [
        "**Correlação** Usando a correlação para selecionar atributos"
      ],
      "metadata": {
        "id": "31dTXfT7UwS3"
      },
      "id": "31dTXfT7UwS3"
    },
    {
      "cell_type": "markdown",
      "source": [
        "**Chi-Square Test**\n",
        "Método: Avalia a relação entre atributos categóricos e a variável alvo categórica."
      ],
      "metadata": {
        "id": "zhr6DhrVUwS3"
      },
      "id": "zhr6DhrVUwS3"
    },
    {
      "cell_type": "markdown",
      "source": [
        "\n",
        "### **Métodos de Seleção Baseados em Modelos**\n",
        "\n",
        "Alguns modelos são naturalmente capazes de selecionar atributos como parte do treinamento.\n",
        "\n",
        "**Árvores de Decisão e Random Forest**\n"
      ],
      "metadata": {
        "id": "1eIdeAy8OLt7"
      },
      "id": "1eIdeAy8OLt7"
    },
    {
      "cell_type": "markdown",
      "source": [
        "## **Dados Desbalanceados**\n"
      ],
      "metadata": {
        "id": "4C1HZKOnrgPJ"
      },
      "id": "4C1HZKOnrgPJ"
    },
    {
      "cell_type": "markdown",
      "source": [
        "**Seus dados têm 10.000 exemplos de uma classe, mas apenas 100 exemplos de outra?**\n",
        "\n",
        "Dados desbalanceados ocorrem quando as classes ou categorias em um conjunto de dados têm uma distribuição desigual. I*sso é comum em problemas de classificação*, onde uma classe pode ter muito mais exemplos do que outra. Isso pode levar a modelos que têm um desempenho ruim, especialmente para a classe minoritária, pois o modelo pode se tornar tendencioso em favor da classe majoritária.\n",
        "<br>\n",
        "- Colete mais dados (se puder);\n",
        "- Use o pacote **scikit-learn-contrib imbalanced- learn**;\n",
        "- Use SMOTE: técnica de sobreamostragem de minoria sintética. Ele cria amostras sintéticas de sua classe secundária para tentar nivelar o campo de jogo"
      ],
      "metadata": {
        "id": "t5aJp-G8L64K"
      },
      "id": "t5aJp-G8L64K"
    },
    {
      "cell_type": "markdown",
      "id": "06eb3b5f-4424-408b-9790-5a6eb848e6ad",
      "metadata": {
        "jp-MarkdownHeadingCollapsed": true,
        "tags": [],
        "id": "06eb3b5f-4424-408b-9790-5a6eb848e6ad"
      },
      "source": [
        "## **Divisão dos dados (treino e teste)**"
      ]
    },
    {
      "cell_type": "markdown",
      "id": "1308990c-28ef-4205-a2d8-e87b81abbdbb",
      "metadata": {
        "id": "1308990c-28ef-4205-a2d8-e87b81abbdbb"
      },
      "source": [
        "Nessa etapa, os dados coletados são separados em duas amostras — uma a ser utilizada no treinamento  e outra para a avaliação de performance do modelo.\n",
        "\n",
        "- Conjunto de treinamento: geralmente  o modelo aprende com 70-80% dos dados;\n",
        "- Conjunto de validação: normalmente os hiperparâmetros do modelo são ajustados com 10-15% dos dados;\n",
        "- Conjunto de teste: geralmente o desempenho final dos modelos é avaliado com 10-15% dos dados. Se você fizer certo os resultados no conjunto de teste fornecerão uma boa indicação de como o modelo deve funcionar no mundo real. Não use este dataset para ajustar o modelo.\n",
        "\n",
        "<br>\n",
        "<img src=\"https://www.insightlab.ufc.br/wp-content/webp-express/webp-images/doc-root/wp-content/uploads/2022/01/6.png.webp\" width=700, align=\"centre\">\n",
        "<br>\n",
        "\n",
        "[link: imagem](\"https://www.insightlab.ufc.br/wp-content/webp-express/webp-images/doc-root/wp-content/uploads/2022/01/6.png.webp\")\n"
      ]
    },
    {
      "cell_type": "markdown",
      "id": "ee7860c2-baca-4145-8ccb-7de7fa91299f",
      "metadata": {
        "jp-MarkdownHeadingCollapsed": true,
        "tags": [],
        "toc-hr-collapsed": true,
        "id": "ee7860c2-baca-4145-8ccb-7de7fa91299f"
      },
      "source": [
        "# **5. Modelagem e Analise**\n",
        "\n",
        "Há uma infinidade de modelos de machine learning disponíveis, cada um voltado ao cumprimento de uma determinada função. Portanto, a escolha do modelo mais adequado deve ser feita de acordo com o objetivo proposto inicialmente."
      ]
    },
    {
      "cell_type": "markdown",
      "id": "0d18a57a-54ac-4e8f-826b-03ace2f345d3",
      "metadata": {
        "id": "0d18a57a-54ac-4e8f-826b-03ace2f345d3"
      },
      "source": [
        "> **Algoritmos supervisionados** [**Alvo desta disciplina**]\n",
        "- Regressão Linear,\n",
        "- Regressão Logística,\n",
        "- KNN,\n",
        "- SVMs,\n",
        "- Árvore de decisão (decision tree)\n",
        "- random forest\n",
        "- AdaBoost / Gradient Boosting Machine (boosting);\n",
        "\n",
        "> **Algoritmos não supervisionados** –\n",
        "- Clustering;\n",
        "- redução de dimensionalidade (PCA, Autoencoders, t-SNE)\n",
        "- Uma detecção de anomalia."
      ]
    },
    {
      "cell_type": "markdown",
      "id": "c06f0653-2688-42b5-b2a4-45804f3fc7b7",
      "metadata": {
        "id": "c06f0653-2688-42b5-b2a4-45804f3fc7b7"
      },
      "source": [
        "<br>\n",
        "<img src=\"https://www.insightlab.ufc.br/wp-content/webp-express/webp-images/doc-root/wp-content/uploads/2022/01/7.png.webp\" width=700, align=\"centre\">\n",
        "<br>\n",
        "\n",
        "[link: imagem](\"https://www.insightlab.ufc.br/wp-content/webp-express/webp-images/doc-root/wp-content/uploads/2022/01/7.png.webp\")"
      ]
    },
    {
      "cell_type": "markdown",
      "id": "e08eb525-c001-44c1-a6fc-959d236f1912",
      "metadata": {
        "jp-MarkdownHeadingCollapsed": true,
        "tags": [],
        "id": "e08eb525-c001-44c1-a6fc-959d236f1912"
      },
      "source": [
        "# **6. Analise | Avaliação**\n",
        "A avaliação permite testar se, após o treinamento, a máquina está suficientemente capacitada. Com base na configuração designada anteriormente, a avaliação testa-a diante de dados que ela jamais havia visto. Sendo assim, a ideia é que a avaliação seja uma representação de como a máquina pode performar em um contexto real."
      ]
    },
    {
      "cell_type": "markdown",
      "id": "9a79b3db-0ad1-4204-b13c-1c029c9768e9",
      "metadata": {
        "id": "9a79b3db-0ad1-4204-b13c-1c029c9768e9"
      },
      "source": [
        "> **Regressão**\n",
        "- MSE\n",
        "- MAE\n",
        "- R ^ 2;\n",
        "\n",
        "\n",
        "> **Classificação**\n",
        "- Acurácia\n",
        "- precisão\n",
        "- recall\n",
        "- F1 score\n",
        "- matriz de confusão\n",
        "- precisão média (detecção de objeto);\n",
        "\n",
        "\n",
        "\n",
        "> Métrica baseada em tarefas – por exemplo, para um carro que dirige sozinho, você pode querer saber o número de desengates."
      ]
    },
    {
      "cell_type": "markdown",
      "id": "180c913d-d505-48be-b3d5-2f0cae541643",
      "metadata": {
        "id": "180c913d-d505-48be-b3d5-2f0cae541643"
      },
      "source": [
        "> **Underfitting –** acontece quando seu modelo não funciona tão bem quanto você gostaria. Tente treinar para um modelo mais longo ou mais avançado.\n",
        "\n",
        "> **Overfitting –** acontece quando sua perda de validação começa a aumentar ou quando o modelo tem um desempenho melhor no conjunto de treinamento do que no conjunto de testes.\n",
        "\n",
        "> **Regularização:** uma coleção de tecnologias para prevenir / reduzir overfitting (por exemplo, L1, L2, Dropout, Parada antecipada, Aumento de dados, normalização em lote)."
      ]
    },
    {
      "cell_type": "markdown",
      "id": "ebcc9c70-d866-4793-b142-019bd9dd8cb7",
      "metadata": {
        "jp-MarkdownHeadingCollapsed": true,
        "tags": [],
        "id": "ebcc9c70-d866-4793-b142-019bd9dd8cb7"
      },
      "source": [
        "## 4.1 **Ajuste e regularização**"
      ]
    },
    {
      "cell_type": "markdown",
      "id": "521ea1ae-6355-4cfe-acf0-76658c65db9b",
      "metadata": {
        "jp-MarkdownHeadingCollapsed": true,
        "tags": [],
        "id": "521ea1ae-6355-4cfe-acf0-76658c65db9b"
      },
      "source": [
        "## 4.2 **Aprimoramento dos parâmetros**"
      ]
    },
    {
      "cell_type": "markdown",
      "id": "f11b3698-2cc9-487a-9750-c7dc6f563431",
      "metadata": {
        "tags": [],
        "id": "f11b3698-2cc9-487a-9750-c7dc6f563431"
      },
      "source": [
        "Nesta etapa,visa-se o aprimoramento dos parâmetros, visando sempre melhorar a qualidade e a eficiência do modelo de machine learning que está sendo utilizado. Essa etapa é importante para identificar valores que afetam diretamente a acurácia do modelo e o tempo de treinamento necessário.\n",
        "\n",
        "Um dos principais parâmetros a serem analisados aqui é o quanto a linha de aprendizado da máquina é alterada de acordo com a informação adquirida no procedimento anterior. Ao longo dessa etapa, testam-se possibilidades para analisar melhor o machine learning e ensaiar formas de como ele pode ser aprimorado.\n",
        "\n",
        "É importante destacar que, antes de começar a frase, deve-se estabelecer quais serão as definições de um bom modelo, pois elas guiarão o aprimoramento dele. Afinal, os ajustes e melhorias que serão feitos dependem da base de dados, do modelo e do treinamento.\n",
        "\n",
        "Considerando tudo isso, o processo de machine learning deve ser continuado apenas quando o aprimoramento dos parâmetros for alcançado."
      ]
    },
    {
      "cell_type": "markdown",
      "id": "0b159f0f-d7c4-4f97-b4ea-8152b5cc79af",
      "metadata": {
        "jp-MarkdownHeadingCollapsed": true,
        "tags": [],
        "id": "0b159f0f-d7c4-4f97-b4ea-8152b5cc79af"
      },
      "source": [
        "# **7. Deploy (implantação de um modelo)**\n",
        "\n",
        "\n",
        "O deploy de modelos de aprendizado de máquina é a etapa em que um modelo treinado é colocado em produção para ser usado em um ambiente real. Esse processo envolve transformar o modelo em uma aplicação ou serviço que pode receber dados novos e retornar previsões ou resultados."
      ]
    },
    {
      "cell_type": "markdown",
      "id": "4389a4e0-1559-4b9b-8369-72efb100e64c",
      "metadata": {
        "id": "4389a4e0-1559-4b9b-8369-72efb100e64c"
      },
      "source": [
        "<br>\n",
        "<img src=\"https://www.valuehost.com.br/blog/wp-content/uploads/2022/10/post_thumbnail-cf6cefb124007c3ee64cd93a99da90a6.jpeg.webp\" width=600, align=\"center\">\n",
        "<br>\n",
        "\n",
        "[Imagem](\"https://www.valuehost.com.br/blog/wp-content/uploads/2022/10/post_thumbnail-cf6cefb124007c3ee64cd93a99da90a6.jpeg.webp\")\n",
        "\n",
        "<small><b>\n",
        "Fig . tipos de deploy\n",
        "\n"
      ]
    },
    {
      "cell_type": "markdown",
      "source": [
        "\n",
        "## **Hospedagem: Deploy de Modelos**\n",
        "\n",
        "\n"
      ],
      "metadata": {
        "id": "3C0VnoCBNwjD"
      },
      "id": "3C0VnoCBNwjD"
    },
    {
      "cell_type": "markdown",
      "source": [
        "\n",
        "1. **Deploy Local**\n",
        "manutenção.\n",
        "\n",
        "2. **Deploy na Nuvem**\n",
        "\n",
        "\n",
        "3. **Deploy em Dispositivos IoT ou Edge Computing**"
      ],
      "metadata": {
        "id": "f4Y8IJwEQfr6"
      },
      "id": "f4Y8IJwEQfr6"
    },
    {
      "cell_type": "markdown",
      "source": [
        "## **Ferramentas e Tecnologias Comuns**"
      ],
      "metadata": {
        "id": "c2Tf7f19QqXi"
      },
      "id": "c2Tf7f19QqXi"
    },
    {
      "cell_type": "markdown",
      "source": [
        "\n",
        "\n",
        "\n",
        "1. **Flask ou FastAPI**\n",
        "\n",
        "2. **Docker**\n",
        "\n",
        "3. **Kubernetes**\n",
        "\n",
        "4. **AWS SageMaker**\n",
        "\n",
        "5. **TensorFlow Serving**\n",
        "\n",
        "6. **MLflow**\n",
        "\n"
      ],
      "metadata": {
        "id": "GHTTqcAjO-b7"
      },
      "id": "GHTTqcAjO-b7"
    },
    {
      "cell_type": "markdown",
      "source": [
        "## **Passos para o Deploy de um Modelo**"
      ],
      "metadata": {
        "id": "hLpRLCIYQzy-"
      },
      "id": "hLpRLCIYQzy-"
    },
    {
      "cell_type": "markdown",
      "source": [
        "\n",
        "1. **Treinamento e Salvamento do Modelo**\n",
        "\n",
        "2. **Criação de uma API ou Interface de Serviço**\n",
        "   \n",
        "3. **Containerização (Opcional)**\n",
        "\n",
        "4. **Testes**\n",
        "\n",
        "5. **Deploy em Produção**\n",
        "\n",
        "6. **Monitoramento e Manutenção**\n",
        "\n"
      ],
      "metadata": {
        "id": "Z-eYKkCtPFYT"
      },
      "id": "Z-eYKkCtPFYT"
    }
  ],
  "metadata": {
    "kernelspec": {
      "display_name": "Python 3 (ipykernel)",
      "language": "python",
      "name": "python3"
    },
    "language_info": {
      "codemirror_mode": {
        "name": "ipython",
        "version": 3
      },
      "file_extension": ".py",
      "mimetype": "text/x-python",
      "name": "python",
      "nbconvert_exporter": "python",
      "pygments_lexer": "ipython3",
      "version": "3.11.2"
    },
    "toc-autonumbering": true,
    "toc-showcode": true,
    "toc-showmarkdowntxt": false,
    "colab": {
      "provenance": [],
      "collapsed_sections": [
        "TI2NaRb0yoWe",
        "fdb532e2-12dd-4384-b2a4-ad770ca540cc",
        "1NWgnwRV0Uxi",
        "aTkUr_Ni15zQ",
        "Un6Wvqq83JTo",
        "b611fad9-0020-46e5-8d2e-e03397a945d3",
        "5015fcf4-fba1-456e-abc4-aa4859d8429b",
        "DK2QpnVqAw1w",
        "ofLcFhtDDRMV",
        "jDeh3t9BHdt8",
        "CNlv5OHUDTDt",
        "-qKpBas_Gr5K",
        "3Voc1KGQGhEz",
        "hstWVM-aB98S",
        "hZbPLLOQCAFv",
        "LGG7mSgOCCzb",
        "8st8uHviCLg8",
        "82ff8037-1adc-46c5-a744-90efeebc8cd4",
        "ZtOVMT67OAe4",
        "0nMdZHNTR91T",
        "5jGsDKUkOR6q",
        "a8GtDPR-OJjr",
        "zhr6DhrVUwS3",
        "4C1HZKOnrgPJ",
        "06eb3b5f-4424-408b-9790-5a6eb848e6ad",
        "ee7860c2-baca-4145-8ccb-7de7fa91299f",
        "e08eb525-c001-44c1-a6fc-959d236f1912",
        "521ea1ae-6355-4cfe-acf0-76658c65db9b",
        "0b159f0f-d7c4-4f97-b4ea-8152b5cc79af",
        "3C0VnoCBNwjD",
        "c2Tf7f19QqXi",
        "hLpRLCIYQzy-"
      ]
    }
  },
  "nbformat": 4,
  "nbformat_minor": 5
}