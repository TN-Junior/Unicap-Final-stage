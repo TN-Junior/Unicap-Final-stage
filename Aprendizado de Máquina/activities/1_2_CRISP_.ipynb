{
  "cells": [
    {
      "cell_type": "markdown",
      "metadata": {
        "id": "dPWmDMdBPCG0"
      },
      "source": [
        "\n",
        "---\n",
        "\n",
        "<h1 align=left><font size = 8, style=\"color:rgb(200,0,0)\"><b>CRISP DM, Modelo de referência</b></font></h1>\n",
        "\n",
        "---"
      ]
    },
    {
      "cell_type": "markdown",
      "metadata": {
        "id": "9D6yHbJ4POWG"
      },
      "source": [
        "\n",
        "\n",
        "### **Questionário: Método CRISP-DM e Sua Aplicação no Google Colab com Python**"
      ]
    },
    {
      "cell_type": "markdown",
      "metadata": {
        "id": "5_JCIVChPJaJ"
      },
      "source": [
        "\n",
        "\n",
        "1. **O que significa CRISP-DM?**\n",
        "   - A) Continuous Research in Statistical Programming - Data Mining\n",
        "   - B) Cross-Industry Standard Process for Data Mining\n",
        "   - C) Customer-Ready Insights for Strategic Planning\n",
        "   - D) Creative Research in Software Programming - Data Management\n"
      ]
    },
    {
      "cell_type": "code",
      "execution_count": null,
      "metadata": {
        "id": "Ww4nBljMPwqi"
      },
      "outputs": [],
      "source": [
        "\"Resposta: B) Cross-Industry Standard Process for Data Mining\""
      ]
    },
    {
      "cell_type": "markdown",
      "metadata": {
        "id": "BU4aaadWPfj7"
      },
      "source": [
        "\n",
        "2. **Qual é a primeira fase do método CRISP-DM?**\n",
        "   - A) Preparação dos dados\n",
        "   - B) Entendimento do problema de negócio\n",
        "   - C) Modelagem\n",
        "   - D) Avaliação dos resultados\n"
      ]
    },
    {
      "cell_type": "code",
      "execution_count": null,
      "metadata": {
        "id": "iidYwJxCPwQJ"
      },
      "outputs": [],
      "source": [
        "\"Resposta: B) Entendimento do problema de negócio\""
      ]
    },
    {
      "cell_type": "markdown",
      "metadata": {
        "id": "QgjRu378PhS9"
      },
      "source": [
        "\n",
        "3. **Na fase de \"Entendimento dos Dados\" do CRISP-DM, qual é a principal atividade?**\n",
        "   - A) Implementar algoritmos de aprendizado de máquina.\n",
        "   - B) Coletar, descrever e explorar os dados disponíveis.\n",
        "   - C) Realizar a otimização do código Python.\n",
        "   - D) Implementar uma interface gráfica para o usuário.\n"
      ]
    },
    {
      "cell_type": "code",
      "execution_count": null,
      "metadata": {
        "id": "H6r9I3e_PvvP"
      },
      "outputs": [],
      "source": [
        "\"Resposta: B) Coletar, descrever e explorar os dados disponíveis.\""
      ]
    },
    {
      "cell_type": "markdown",
      "metadata": {
        "id": "Nl_EF4XAPi7e"
      },
      "source": [
        "\n",
        "4. **Durante a fase de \"Preparação dos Dados\", qual é uma das principais tarefas?**\n",
        "   - A) Criar um modelo preditivo.\n",
        "   - B) Limpar e transformar os dados para que possam ser usados na modelagem.\n",
        "   - C) Desenvolver um plano de marketing.\n",
        "   - D) Implementar uma API para os dados.\n"
      ]
    },
    {
      "cell_type": "code",
      "execution_count": null,
      "metadata": {
        "id": "x_W-04vuPvXl"
      },
      "outputs": [],
      "source": [
        "\"Resposta: B) Limpar e transformar os dados para que possam ser usados na modelagem.\""
      ]
    },
    {
      "cell_type": "markdown",
      "metadata": {
        "id": "C1eMjqlhPkjo"
      },
      "source": [
        "\n",
        "5. **Qual fase do CRISP-DM envolve a seleção e aplicação de técnicas de modelagem?**\n",
        "   - A) Entendimento do negócio\n",
        "   - B) Preparação dos dados\n",
        "   - C) Modelagem\n",
        "   - D) Avaliação\n"
      ]
    },
    {
      "cell_type": "code",
      "execution_count": null,
      "metadata": {
        "id": "k8rpKlOPPu9J"
      },
      "outputs": [],
      "source": [
        "\"Resposta: C) Modelagem\""
      ]
    },
    {
      "cell_type": "markdown",
      "metadata": {
        "id": "hPl0vTe2Pmai"
      },
      "source": [
        "\n",
        "6. **Como o Google Colab pode ajudar na fase de \"Modelagem\" do CRISP-DM?**\n",
        "   - A) Oferecendo uma plataforma para criar e treinar modelos de aprendizado de máquina com Python.\n",
        "   - B) Facilitando a criação de apresentações de PowerPoint.\n",
        "   - C) Automatizando a coleta de dados em campo.\n",
        "   - D) Fornecendo templates de sites prontos.\n"
      ]
    },
    {
      "cell_type": "code",
      "execution_count": null,
      "metadata": {
        "id": "hpCvVcDvPuki"
      },
      "outputs": [],
      "source": [
        "\"Resposta: A) Oferecendo uma plataforma para criar e treinar modelos de aprendizado de máquina com Python.\""
      ]
    },
    {
      "cell_type": "markdown",
      "metadata": {
        "id": "GJW-zqwEPn3v"
      },
      "source": [
        "\n",
        "7. **Na fase de \"Avaliação\" do CRISP-DM, o que é mais importante?**\n",
        "   - A) Criar visualizações atrativas.\n",
        "   - B) Avaliar a qualidade e a eficácia dos modelos desenvolvidos.\n",
        "   - C) Publicar os resultados na internet.\n",
        "   - D) Garantir que o código esteja otimizado para velocidade.\n"
      ]
    },
    {
      "cell_type": "code",
      "execution_count": null,
      "metadata": {
        "id": "bWHlD1NjPuJB"
      },
      "outputs": [],
      "source": [
        "\"Resposta: B) Avaliar a qualidade e a eficácia dos modelos desenvolvidos.\""
      ]
    },
    {
      "cell_type": "markdown",
      "metadata": {
        "id": "kfxlolLgPpgX"
      },
      "source": [
        "\n",
        "8. **O que é abordado na fase de \"Desenvolvimento e Implantação\" do CRISP-DM?**\n",
        "   - A) Publicar o código em um repositório.\n",
        "   - B) Implantar o modelo preditivo em um ambiente de produção e planejar sua manutenção.\n",
        "   - C) Preparar uma documentação completa do projeto.\n",
        "   - D) Gerar um relatório final sobre o impacto visual do modelo.\n"
      ]
    },
    {
      "cell_type": "code",
      "execution_count": null,
      "metadata": {
        "id": "l3sPZ8SzPt1T"
      },
      "outputs": [],
      "source": [
        "\"Resposta: B) Implantar o modelo preditivo em um ambiente de produção e planejar sua manutenção.\""
      ]
    },
    {
      "cell_type": "markdown",
      "metadata": {
        "id": "6-8cbl2VPqse"
      },
      "source": [
        "\n",
        "9. **Como Python e Google Colab podem ser utilizados na fase de \"Preparação dos Dados\" do CRISP-DM?**\n",
        "   - A) Para criar uma interface de usuário personalizada.\n",
        "   - B) Para limpar, transformar e explorar os dados utilizando bibliotecas como Pandas e NumPy.\n",
        "   - C) Para desenhar diagramas de fluxo de trabalho.\n",
        "   - D) Para configurar servidores de banco de dados.\n"
      ]
    },
    {
      "cell_type": "code",
      "execution_count": null,
      "metadata": {
        "id": "TDdIlsLWPtIP"
      },
      "outputs": [],
      "source": [
        "\"Resposta: B) Para limpar, transformar e explorar os dados utilizando bibliotecas como Pandas e NumPy.\""
      ]
    },
    {
      "cell_type": "markdown",
      "metadata": {
        "id": "IaQQgamPPsoG"
      },
      "source": [
        "\n",
        "10. **Qual é o principal objetivo da fase \"Entendimento do Negócio\" no CRISP-DM?**\n",
        "    - A) Implementar a solução tecnológica o mais rápido possível.\n",
        "    - B) Compreender os objetivos e requisitos do projeto para orientar o processo de mineração de dados.\n",
        "    - C) Analisar a performance dos algoritmos de aprendizado de máquina.\n",
        "    - D) Reduzir custos ao máximo no projeto.\n"
      ]
    },
    {
      "cell_type": "code",
      "execution_count": null,
      "metadata": {},
      "outputs": [],
      "source": [
        "\"Resposta: B) Compreender os objetivos e requisitos do projeto para orientar o processo de mineração de dados.\""
      ]
    }
  ],
  "metadata": {
    "colab": {
      "provenance": []
    },
    "kernelspec": {
      "display_name": "Python 3",
      "name": "python3"
    },
    "language_info": {
      "name": "python"
    }
  },
  "nbformat": 4,
  "nbformat_minor": 0
}
