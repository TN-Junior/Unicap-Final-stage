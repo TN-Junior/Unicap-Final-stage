{
  "cells": [
    {
      "cell_type": "markdown",
      "metadata": {
        "id": "ZIS4AHzxS5kO"
      },
      "source": [
        "---\n",
        "\n",
        "<h1 align=left><font size = 8, style=\"color:rgb(200,0,0)\"><b>Bibliotecas: <br>\n",
        "- Numpy <br>\n",
        "- Pandas\n",
        "</b></font></h1>\n",
        "\n",
        "---"
      ]
    },
    {
      "cell_type": "markdown",
      "metadata": {
        "id": "RpONK-01S_pd"
      },
      "source": [
        "\n",
        "### **Lista de Exercícios: Utilização de NumPy e Pandas no Google Colab**\n",
        "\n",
        "\n"
      ]
    },
    {
      "cell_type": "markdown",
      "metadata": {
        "id": "Fq3-udiDTEmO"
      },
      "source": [
        "#### **1. Exercícios com NumPy**"
      ]
    },
    {
      "cell_type": "markdown",
      "metadata": {
        "id": "ZHoYFRtlSvyC"
      },
      "source": [
        "\n",
        "\n",
        "1. **Criação de Arrays:**\n",
        "   - Crie um array unidimensional com os números de 0 a 9. Em seguida, crie um array bidimensional (matriz) de 3x3 com números aleatórios entre 1 e 10.\n"
      ]
    },
    {
      "cell_type": "code",
      "execution_count": 1,
      "metadata": {
        "id": "pQFB-phYTled"
      },
      "outputs": [
        {
          "name": "stdout",
          "output_type": "stream",
          "text": [
            "[0 1 2 3 4 5 6 7 8 9]\n",
            "[[7 5 8]\n",
            " [1 8 8]\n",
            " [2 2 6]]\n"
          ]
        }
      ],
      "source": [
        "import numpy as np\n",
        "\n",
        "# Criação de um array unidimensional com os números de 0 a 9\n",
        "array_unidimensional = np.arange(10)\n",
        "\n",
        "# Criação de um array bidimensional (matriz) 3x3 com números aleatórios entre 1 e 10\n",
        "array_bidimensional = np.random.randint(1, 11, size=(3, 3))\n",
        "\n",
        "print(array_unidimensional)\n",
        "print(array_bidimensional)\n"
      ]
    },
    {
      "cell_type": "markdown",
      "metadata": {
        "id": "zC1NTLNjTXm-"
      },
      "source": [
        "\n",
        "2. **Operações Básicas com Arrays:**\n",
        "   - Crie dois arrays de tamanho 5 com números inteiros. Realize operações básicas como adição, subtração e multiplicação entre eles.\n",
        "\n"
      ]
    },
    {
      "cell_type": "code",
      "execution_count": 2,
      "metadata": {
        "id": "Ye-deccRTmZB"
      },
      "outputs": [
        {
          "name": "stdout",
          "output_type": "stream",
          "text": [
            "Array 1: [13  8 19  3 16]\n",
            "Array 2: [19  4 17  6 14]\n",
            "Adição: [32 12 36  9 30]\n",
            "Subtração: [-6  4  2 -3  2]\n",
            "Multiplicação: [247  32 323  18 224]\n"
          ]
        }
      ],
      "source": [
        "import numpy as np\n",
        "\n",
        "# Criação de dois arrays de tamanho 5 com números inteiros aleatórios\n",
        "array1 = np.random.randint(1, 20, size=5)\n",
        "array2 = np.random.randint(1, 20, size=5)\n",
        "\n",
        "# Operações básicas: adição, subtração e multiplicação entre os arrays\n",
        "soma = array1 + array2\n",
        "subtracao = array1 - array2\n",
        "multiplicacao = array1 * array2\n",
        "\n",
        "print(\"Array 1:\", array1)\n",
        "print(\"Array 2:\", array2)\n",
        "print(\"Adição:\", soma)\n",
        "print(\"Subtração:\", subtracao)\n",
        "print(\"Multiplicação:\", multiplicacao)\n"
      ]
    },
    {
      "cell_type": "markdown",
      "metadata": {
        "id": "rwVl3ri2TZE1"
      },
      "source": [
        "\n",
        "3. **Estatísticas Básicas:**\n",
        "   - Dado um array de números aleatórios de tamanho 100, calcule a média, mediana e desvio padrão.\n"
      ]
    },
    {
      "cell_type": "code",
      "execution_count": 3,
      "metadata": {
        "id": "zyFIX-FkTm09"
      },
      "outputs": [
        {
          "name": "stdout",
          "output_type": "stream",
          "text": [
            "Array: [100  15  30  41  26  83  50  75  49  17  88  91  52  37  57  69  41  69\n",
            "  61  44  29  91  51  44  34  73  48  22  42  49  23  57   3  90  79  19\n",
            "  12  57  52  60 100  41  77  12  97  36  90  57  17  98  99  38  84  46\n",
            "  96  91  74  27  46  84  52  36  16  37  57  10  82  99  47  88  22  66\n",
            "  82  34  87  33  67   8  49  21  24  35  37  93   9  36  93   7   2  57\n",
            "  33  57   1  28  64  73  24  83  79  28]\n",
            "Média: 51.96\n",
            "Mediana: 49.0\n",
            "Desvio Padrão: 27.945275092580502\n"
          ]
        }
      ],
      "source": [
        "import numpy as np\n",
        "\n",
        "# Criação de um array de números aleatórios de tamanho 100\n",
        "array_estatisticas = np.random.randint(1, 101, size=100)\n",
        "\n",
        "# Cálculo da média, mediana e desvio padrão\n",
        "media = np.mean(array_estatisticas)\n",
        "mediana = np.median(array_estatisticas)\n",
        "desvio_padrao = np.std(array_estatisticas)\n",
        "\n",
        "print(\"Array:\", array_estatisticas)\n",
        "print(\"Média:\", media)\n",
        "print(\"Mediana:\", mediana)\n",
        "print(\"Desvio Padrão:\", desvio_padrao)\n"
      ]
    },
    {
      "cell_type": "markdown",
      "metadata": {
        "id": "xpm_pkk8TamI"
      },
      "source": [
        "\n",
        "\n",
        "4. **Indexação e Fatiamento:**\n",
        "   - Crie um array de 1 a 20 e selecione os elementos nas posições pares. Em seguida, selecione os elementos maiores que 10.\n",
        "\n"
      ]
    },
    {
      "cell_type": "code",
      "execution_count": 4,
      "metadata": {
        "id": "SLIlkpsmTnND"
      },
      "outputs": [
        {
          "name": "stdout",
          "output_type": "stream",
          "text": [
            "Array: [ 1  2  3  4  5  6  7  8  9 10 11 12 13 14 15 16 17 18 19 20]\n",
            "Elementos nas posições pares: [ 2  4  6  8 10 12 14 16 18 20]\n",
            "Elementos maiores que 10: [11 12 13 14 15 16 17 18 19 20]\n"
          ]
        }
      ],
      "source": [
        "import numpy as np\n",
        "\n",
        "# Criação de um array de 1 a 20\n",
        "array_indexacao = np.arange(1, 21)\n",
        "\n",
        "# Seleção dos elementos nas posições pares (índices ímpares)\n",
        "elementos_pares = array_indexacao[1::2]\n",
        "\n",
        "# Seleção dos elementos maiores que 10\n",
        "elementos_maiores_que_10 = array_indexacao[array_indexacao > 10]\n",
        "\n",
        "print(\"Array:\", array_indexacao)\n",
        "print(\"Elementos nas posições pares:\", elementos_pares)\n",
        "print(\"Elementos maiores que 10:\", elementos_maiores_que_10)\n"
      ]
    },
    {
      "cell_type": "markdown",
      "metadata": {
        "id": "1T9ojAFFTb9y"
      },
      "source": [
        "\n",
        "5. **Reshape e Transposição:**\n",
        "   - Crie um array de 12 elementos e reshaping-o para uma matriz de 3x4. Em seguida, transponha a matriz.\n",
        "\n"
      ]
    },
    {
      "cell_type": "code",
      "execution_count": 5,
      "metadata": {
        "id": "cB0MWumUTnwf"
      },
      "outputs": [
        {
          "name": "stdout",
          "output_type": "stream",
          "text": [
            "Array: [ 0  1  2  3  4  5  6  7  8  9 10 11]\n",
            "Matriz 3x4: [[ 0  1  2  3]\n",
            " [ 4  5  6  7]\n",
            " [ 8  9 10 11]]\n",
            "Matriz transposta: [[ 0  4  8]\n",
            " [ 1  5  9]\n",
            " [ 2  6 10]\n",
            " [ 3  7 11]]\n"
          ]
        }
      ],
      "source": [
        "import numpy as np\n",
        "\n",
        "# Criação de um array de 12 elementos\n",
        "array_reshape = np.arange(12)\n",
        "\n",
        "# Reshape do array para uma matriz de 3x4\n",
        "matriz_3x4 = array_reshape.reshape(3, 4)\n",
        "\n",
        "# Transposição da matriz\n",
        "matriz_transposta = matriz_3x4.T\n",
        "\n",
        "print(\"Array:\", array_reshape)\n",
        "print(\"Matriz 3x4:\", matriz_3x4)\n",
        "print(\"Matriz transposta:\", matriz_transposta)\n"
      ]
    },
    {
      "cell_type": "markdown",
      "metadata": {
        "id": "AZMcxtunTdVf"
      },
      "source": [
        "\n",
        "#### **2. Exercícios com Pandas**\n"
      ]
    },
    {
      "cell_type": "markdown",
      "metadata": {
        "id": "e4qf2gifTeh9"
      },
      "source": [
        "\n",
        "6. **Criação de DataFrame:**\n",
        "   - Crie um DataFrame com as seguintes colunas: `Nome`, `Idade`, e `Cidade`, e adicione alguns dados fictícios.\n"
      ]
    },
    {
      "cell_type": "code",
      "execution_count": null,
      "metadata": {
        "id": "aV0ZaqnwToUN"
      },
      "outputs": [],
      "source": []
    },
    {
      "cell_type": "markdown",
      "metadata": {
        "id": "XOCLaEp0Tfke"
      },
      "source": [
        "\n",
        "7. **Leitura e Escrita de Arquivos CSV:**\n",
        "   - Crie um DataFrame com alguns dados e salve-o em um arquivo CSV. Em seguida, leia o arquivo CSV e exiba o conteúdo.\n"
      ]
    },
    {
      "cell_type": "code",
      "execution_count": null,
      "metadata": {
        "id": "Xq09Csc2TovZ"
      },
      "outputs": [],
      "source": []
    },
    {
      "cell_type": "markdown",
      "metadata": {
        "id": "C5iRsfCFTgwX"
      },
      "source": [
        "\n",
        "\n",
        "8. **Manipulação de Dados:**\n",
        "   - Adicione uma nova coluna ao DataFrame com valores calculados, como a idade em meses (suponha que cada ano tem 12 meses).\n",
        "\n"
      ]
    },
    {
      "cell_type": "code",
      "execution_count": null,
      "metadata": {
        "id": "-Siaw5piTpKA"
      },
      "outputs": [],
      "source": []
    },
    {
      "cell_type": "markdown",
      "metadata": {
        "id": "499zq2GCTh5y"
      },
      "source": [
        "\n",
        "9. **Filtragem de Dados:**\n",
        "   - Filtre o DataFrame para mostrar apenas as linhas onde a idade é maior que 30.\n"
      ]
    },
    {
      "cell_type": "code",
      "execution_count": null,
      "metadata": {
        "id": "mEebQ07aTpmC"
      },
      "outputs": [],
      "source": []
    },
    {
      "cell_type": "markdown",
      "metadata": {
        "id": "5Dm4oI3yTi7X"
      },
      "source": [
        "\n",
        "\n",
        "10. **Estatísticas Descritivas:**\n",
        "    - Utilize o DataFrame criado para calcular a média e o desvio padrão da coluna `Idade`.\n"
      ]
    },
    {
      "cell_type": "code",
      "execution_count": null,
      "metadata": {
        "id": "byeZUBkjTqIO"
      },
      "outputs": [],
      "source": []
    }
  ],
  "metadata": {
    "colab": {
      "provenance": []
    },
    "kernelspec": {
      "display_name": "Python 3",
      "name": "python3"
    },
    "language_info": {
      "codemirror_mode": {
        "name": "ipython",
        "version": 3
      },
      "file_extension": ".py",
      "mimetype": "text/x-python",
      "name": "python",
      "nbconvert_exporter": "python",
      "pygments_lexer": "ipython3",
      "version": "3.11.5"
    }
  },
  "nbformat": 4,
  "nbformat_minor": 0
}
