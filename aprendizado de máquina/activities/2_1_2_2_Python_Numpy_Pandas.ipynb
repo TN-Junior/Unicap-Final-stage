{
  "nbformat": 4,
  "nbformat_minor": 0,
  "metadata": {
    "colab": {
      "provenance": []
    },
    "kernelspec": {
      "name": "python3",
      "display_name": "Python 3"
    },
    "language_info": {
      "name": "python"
    }
  },
  "cells": [
    {
      "cell_type": "markdown",
      "source": [
        "---\n",
        "\n",
        "<h1 align=left><font size = 8, style=\"color:rgb(200,0,0)\"><b>Bibliotecas: <br>\n",
        "- Numpy <br>\n",
        "- Pandas\n",
        "</b></font></h1>\n",
        "\n",
        "---"
      ],
      "metadata": {
        "id": "ZIS4AHzxS5kO"
      }
    },
    {
      "cell_type": "markdown",
      "source": [
        "\n",
        "### **Lista de Exercícios: Utilização de NumPy e Pandas no Google Colab**\n",
        "\n",
        "\n"
      ],
      "metadata": {
        "id": "RpONK-01S_pd"
      }
    },
    {
      "cell_type": "markdown",
      "source": [
        "#### **1. Exercícios com NumPy**"
      ],
      "metadata": {
        "id": "Fq3-udiDTEmO"
      }
    },
    {
      "cell_type": "markdown",
      "source": [
        "\n",
        "\n",
        "1. **Criação de Arrays:**\n",
        "   - Crie um array unidimensional com os números de 0 a 9. Em seguida, crie um array bidimensional (matriz) de 3x3 com números aleatórios entre 1 e 10.\n"
      ],
      "metadata": {
        "id": "ZHoYFRtlSvyC"
      }
    },
    {
      "cell_type": "code",
      "source": [],
      "metadata": {
        "id": "pQFB-phYTled"
      },
      "execution_count": null,
      "outputs": []
    },
    {
      "cell_type": "markdown",
      "source": [
        "\n",
        "2. **Operações Básicas com Arrays:**\n",
        "   - Crie dois arrays de tamanho 5 com números inteiros. Realize operações básicas como adição, subtração e multiplicação entre eles.\n",
        "\n"
      ],
      "metadata": {
        "id": "zC1NTLNjTXm-"
      }
    },
    {
      "cell_type": "code",
      "source": [],
      "metadata": {
        "id": "Ye-deccRTmZB"
      },
      "execution_count": null,
      "outputs": []
    },
    {
      "cell_type": "markdown",
      "source": [
        "\n",
        "3. **Estatísticas Básicas:**\n",
        "   - Dado um array de números aleatórios de tamanho 100, calcule a média, mediana e desvio padrão.\n"
      ],
      "metadata": {
        "id": "rwVl3ri2TZE1"
      }
    },
    {
      "cell_type": "code",
      "source": [],
      "metadata": {
        "id": "zyFIX-FkTm09"
      },
      "execution_count": null,
      "outputs": []
    },
    {
      "cell_type": "markdown",
      "source": [
        "\n",
        "\n",
        "4. **Indexação e Fatiamento:**\n",
        "   - Crie um array de 1 a 20 e selecione os elementos nas posições pares. Em seguida, selecione os elementos maiores que 10.\n",
        "\n"
      ],
      "metadata": {
        "id": "xpm_pkk8TamI"
      }
    },
    {
      "cell_type": "code",
      "source": [],
      "metadata": {
        "id": "SLIlkpsmTnND"
      },
      "execution_count": null,
      "outputs": []
    },
    {
      "cell_type": "markdown",
      "source": [
        "\n",
        "5. **Reshape e Transposição:**\n",
        "   - Crie um array de 12 elementos e reshaping-o para uma matriz de 3x4. Em seguida, transponha a matriz.\n",
        "\n"
      ],
      "metadata": {
        "id": "1T9ojAFFTb9y"
      }
    },
    {
      "cell_type": "code",
      "source": [],
      "metadata": {
        "id": "cB0MWumUTnwf"
      },
      "execution_count": null,
      "outputs": []
    },
    {
      "cell_type": "markdown",
      "source": [
        "\n",
        "#### **2. Exercícios com Pandas**\n"
      ],
      "metadata": {
        "id": "AZMcxtunTdVf"
      }
    },
    {
      "cell_type": "markdown",
      "source": [
        "\n",
        "6. **Criação de DataFrame:**\n",
        "   - Crie um DataFrame com as seguintes colunas: `Nome`, `Idade`, e `Cidade`, e adicione alguns dados fictícios.\n"
      ],
      "metadata": {
        "id": "e4qf2gifTeh9"
      }
    },
    {
      "cell_type": "code",
      "source": [],
      "metadata": {
        "id": "aV0ZaqnwToUN"
      },
      "execution_count": null,
      "outputs": []
    },
    {
      "cell_type": "markdown",
      "source": [
        "\n",
        "7. **Leitura e Escrita de Arquivos CSV:**\n",
        "   - Crie um DataFrame com alguns dados e salve-o em um arquivo CSV. Em seguida, leia o arquivo CSV e exiba o conteúdo.\n"
      ],
      "metadata": {
        "id": "XOCLaEp0Tfke"
      }
    },
    {
      "cell_type": "code",
      "source": [],
      "metadata": {
        "id": "Xq09Csc2TovZ"
      },
      "execution_count": null,
      "outputs": []
    },
    {
      "cell_type": "markdown",
      "source": [
        "\n",
        "\n",
        "8. **Manipulação de Dados:**\n",
        "   - Adicione uma nova coluna ao DataFrame com valores calculados, como a idade em meses (suponha que cada ano tem 12 meses).\n",
        "\n"
      ],
      "metadata": {
        "id": "C5iRsfCFTgwX"
      }
    },
    {
      "cell_type": "code",
      "source": [],
      "metadata": {
        "id": "-Siaw5piTpKA"
      },
      "execution_count": null,
      "outputs": []
    },
    {
      "cell_type": "markdown",
      "source": [
        "\n",
        "9. **Filtragem de Dados:**\n",
        "   - Filtre o DataFrame para mostrar apenas as linhas onde a idade é maior que 30.\n"
      ],
      "metadata": {
        "id": "499zq2GCTh5y"
      }
    },
    {
      "cell_type": "code",
      "source": [],
      "metadata": {
        "id": "mEebQ07aTpmC"
      },
      "execution_count": null,
      "outputs": []
    },
    {
      "cell_type": "markdown",
      "source": [
        "\n",
        "\n",
        "10. **Estatísticas Descritivas:**\n",
        "    - Utilize o DataFrame criado para calcular a média e o desvio padrão da coluna `Idade`.\n"
      ],
      "metadata": {
        "id": "5Dm4oI3yTi7X"
      }
    },
    {
      "cell_type": "code",
      "source": [],
      "metadata": {
        "id": "byeZUBkjTqIO"
      },
      "execution_count": null,
      "outputs": []
    }
  ]
}