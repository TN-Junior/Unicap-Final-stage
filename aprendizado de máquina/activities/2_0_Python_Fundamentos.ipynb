{
  "cells": [
    {
      "cell_type": "markdown",
      "metadata": {
        "id": "nca0B6sMP-bX"
      },
      "source": [
        "---\n",
        "\n",
        "<h1 align=left><font size = 8, style=\"color:rgb(200,0,0)\"><b>Python: Fundamentos</b></font></h1>\n",
        "\n",
        "---\n"
      ]
    },
    {
      "cell_type": "markdown",
      "metadata": {
        "id": "HuFiKphKRAA0"
      },
      "source": [
        "### **Lista de Exercícios Básicos em Python**\n"
      ]
    },
    {
      "cell_type": "markdown",
      "metadata": {
        "id": "4VLWvgR5SE8i"
      },
      "source": [
        "\n",
        "#### **1. Tipos de Variáveis**"
      ]
    },
    {
      "cell_type": "markdown",
      "metadata": {
        "id": "3xB3HWRKQ7DX"
      },
      "source": [
        "\n",
        "\n",
        "1. **Identificação de Tipos de Dados:**\n",
        "   - Crie três variáveis, uma para cada tipo: `int`, `float`, e `str`. Atribua valores a essas variáveis e use a função `type()` para imprimir o tipo de cada variável.\n"
      ]
    },
    {
      "cell_type": "code",
      "execution_count": 6,
      "metadata": {
        "id": "NDZ5jIOaSDps"
      },
      "outputs": [
        {
          "name": "stdout",
          "output_type": "stream",
          "text": [
            "<class 'int'>\n",
            "<class 'float'>\n",
            "<class 'str'>\n"
          ]
        }
      ],
      "source": [
        "# RESPOSTA\n",
        "\n",
        "variavel_int = 10\n",
        "variavel_float = 10.5\n",
        "variavel_str = \"Olá, mundo!\"\n",
        "\n",
        "print(type(variavel_int))   \n",
        "print(type(variavel_float)) \n",
        "print(type(variavel_str))  \n"
      ]
    },
    {
      "cell_type": "markdown",
      "metadata": {
        "id": "7txz0GDERlJV"
      },
      "source": [
        "\n",
        "2. **Conversão de Tipos:**\n",
        "   - Dada a string `\"123\"`, converta-a em um inteiro e em um número de ponto flutuante. Verifique os tipos resultantes.\n"
      ]
    },
    {
      "cell_type": "code",
      "execution_count": 7,
      "metadata": {
        "id": "-r_o8-clSDTc"
      },
      "outputs": [
        {
          "name": "stdout",
          "output_type": "stream",
          "text": [
            "<class 'int'>\n",
            "<class 'float'>\n"
          ]
        }
      ],
      "source": [
        "# RESPOSTA\n",
        "\n",
        "str_numero = \"123\"\n",
        "\n",
        "numero_int = int(str_numero)\n",
        "numero_float = float(str_numero)\n",
        "\n",
        "print(type(numero_int), numero_int)\n",
        "print(type(numero_float), numero_float)\n",
        "\n"
      ]
    },
    {
      "cell_type": "markdown",
      "metadata": {
        "id": "v-DPFoQ1Rwwb"
      },
      "source": [
        "\n",
        "3. **Operações Básicas com Diferentes Tipos de Dados:**\n",
        "   - Crie duas variáveis, uma `int` e uma `float`, e realize operações de adição, subtração, multiplicação e divisão entre elas. Observe os tipos de dados dos resultados.\n",
        "\n"
      ]
    },
    {
      "cell_type": "code",
      "execution_count": 8,
      "metadata": {
        "id": "qKI3AB1XSC2p"
      },
      "outputs": [
        {
          "name": "stdout",
          "output_type": "stream",
          "text": [
            "9.5 <class 'float'>\n",
            "4.5 <class 'float'>\n",
            "17.5 <class 'float'>\n",
            "2.8 <class 'float'>\n"
          ]
        }
      ],
      "source": [
        "# RESPOSTA\n",
        "\n",
        "variavel_int = 7\n",
        "variavel_float = 2.5\n",
        "\n",
        "soma = variavel_int + variavel_float\n",
        "subtracao = variavel_int - variavel_float\n",
        "multiplicacao = variavel_int * variavel_float\n",
        "divisao = variavel_int / variavel_float\n",
        "\n",
        "print(soma, type(soma))             \n",
        "print(subtracao, type(subtracao))   \n",
        "print(multiplicacao, type(multiplicacao)) \n",
        "print(divisao, type(divisao))        \n"
      ]
    },
    {
      "cell_type": "markdown",
      "metadata": {
        "id": "hyPqfh_jSB8m"
      },
      "source": [
        "\n",
        "#### **2. Estruturas Básicas (Listas, Dicionários)**"
      ]
    },
    {
      "cell_type": "markdown",
      "metadata": {
        "id": "Bb8zfDK3RyKz"
      },
      "source": [
        "\n",
        "\n",
        "4. **Manipulação de Listas:**\n",
        "   - Crie uma lista com os números de 1 a 5. Adicione o número 6 ao final da lista, remova o número 2, e inverta a ordem dos elementos.\n"
      ]
    },
    {
      "cell_type": "code",
      "execution_count": 9,
      "metadata": {
        "id": "li8NgFq_SAp6"
      },
      "outputs": [
        {
          "name": "stdout",
          "output_type": "stream",
          "text": [
            "[6, 5, 4, 3, 1]\n"
          ]
        }
      ],
      "source": [
        "# RESPOSTA\n",
        "\n",
        "lista = [1, 2, 3, 4, 5]\n",
        "\n",
        "lista.append(6)\n",
        "\n",
        "lista.remove(2)\n",
        "\n",
        "lista.reverse()\n",
        "\n",
        "print(lista) \n"
      ]
    },
    {
      "cell_type": "markdown",
      "metadata": {
        "id": "ZAzyQN06R0DB"
      },
      "source": [
        "\n",
        "5. **Acessando Elementos da Lista:**\n",
        "   - Dada a lista `[10, 20, 30, 40, 50]`, acesse e imprima o primeiro, o terceiro e o último elemento da lista.\n",
        "\n"
      ]
    },
    {
      "cell_type": "code",
      "execution_count": 10,
      "metadata": {
        "id": "QOcycPXZSASf"
      },
      "outputs": [
        {
          "name": "stdout",
          "output_type": "stream",
          "text": [
            "10\n",
            "30\n",
            "50\n"
          ]
        }
      ],
      "source": [
        "# RESPOSTA\n",
        "\n",
        "lista = [10, 20, 30, 40, 50]\n",
        "\n",
        "print(lista[0])  # 10\n",
        "print(lista[2])  # 30\n",
        "print(lista[-1]) # 50\n",
        "\n",
        "\n"
      ]
    },
    {
      "cell_type": "markdown",
      "metadata": {
        "id": "rhLiDhC7R1Sp"
      },
      "source": [
        "\n",
        "6. **Criação e Manipulação de Dicionários:**\n",
        "   - Crie um dicionário para armazenar as notas de três alunos (ex.: `{'João': 8.5, 'Maria': 9.0, 'Pedro': 7.5}`). Adicione a nota de um quarto aluno, remova a nota de um aluno, e imprima todas as chaves e valores do dicionário.\n",
        "\n",
        "\n"
      ]
    },
    {
      "cell_type": "code",
      "execution_count": 11,
      "metadata": {
        "id": "vEEs-jJfR_sE"
      },
      "outputs": [
        {
          "name": "stdout",
          "output_type": "stream",
          "text": [
            "João 8.5\n",
            "Maria 9.0\n",
            "Ana 8.0\n"
          ]
        }
      ],
      "source": [
        "# RESPOSTA\n",
        "\n",
        "notas = {'João': 8.5, 'Maria': 9.0, 'Pedro': 7.5}\n",
        "\n",
        "notas['Ana'] = 8.0\n",
        "\n",
        "del notas['Pedro']\n",
        "\n",
        "\n",
        "for aluno, nota in notas.items():\n",
        "    print(aluno, nota)\n",
        "\n"
      ]
    },
    {
      "cell_type": "markdown",
      "metadata": {
        "id": "G0MnxaMuR2cT"
      },
      "source": [
        "\n",
        "7. **Acessando Elementos do Dicionário:**\n",
        "   - Usando o dicionário criado no exercício anterior, acesse e imprima a nota de um aluno específico, por exemplo, `Maria`.\n"
      ]
    },
    {
      "cell_type": "code",
      "execution_count": 12,
      "metadata": {
        "id": "5oBTW-qGR_Ba"
      },
      "outputs": [
        {
          "name": "stdout",
          "output_type": "stream",
          "text": [
            "9.0\n"
          ]
        }
      ],
      "source": [
        "# RESPOSTA\n",
        "\n",
        "print(notas['Maria']) \n"
      ]
    },
    {
      "cell_type": "markdown",
      "metadata": {
        "id": "i1Ys5gwgR-Jh"
      },
      "source": [
        "\n",
        "#### **3. Laços Condicionais**"
      ]
    },
    {
      "cell_type": "markdown",
      "metadata": {
        "id": "vQNCCcdIR3pU"
      },
      "source": [
        "\n",
        "\n",
        "\n",
        "8. **Verificação de Números Pares e Ímpares:**\n",
        "   - Escreva um código que percorre uma lista de números de 1 a 10 e imprime se cada número é par ou ímpar.\n",
        "\n"
      ]
    },
    {
      "cell_type": "code",
      "execution_count": 13,
      "metadata": {
        "id": "8bwGVU4CR8Yv"
      },
      "outputs": [
        {
          "name": "stdout",
          "output_type": "stream",
          "text": [
            "1 é ímpar\n",
            "2 é par\n",
            "3 é ímpar\n",
            "4 é par\n",
            "5 é ímpar\n",
            "6 é par\n",
            "7 é ímpar\n",
            "8 é par\n",
            "9 é ímpar\n",
            "10 é par\n"
          ]
        }
      ],
      "source": [
        "# RESPOSTA\n",
        "\n",
        "numeros = list(range(1, 11))\n",
        "\n",
        "for numero in numeros:\n",
        "    if numero % 2 == 0:\n",
        "        print(f\"{numero} é par\")\n",
        "    else:\n",
        "        print(f\"{numero} é ímpar\")\n"
      ]
    },
    {
      "cell_type": "markdown",
      "metadata": {
        "id": "mTz0cU-GR4wg"
      },
      "source": [
        "\n",
        "9. **Encontrando o Maior Número:**\n",
        "   - Dada uma lista de números `[3, 7, 2, 8, 5, 10]`, escreva um código que encontre e imprima o maior número da lista.\n"
      ]
    },
    {
      "cell_type": "code",
      "execution_count": 14,
      "metadata": {
        "id": "0olYWpQkR7-f"
      },
      "outputs": [
        {
          "name": "stdout",
          "output_type": "stream",
          "text": [
            "O maior número é 10\n"
          ]
        }
      ],
      "source": [
        "# RESPOSTA\n",
        "\n",
        "numeros = [3, 7, 2, 8, 5, 10]\n",
        "\n",
        "maior_numero = max(numeros)\n",
        "print(f\"O maior número é {maior_numero}\")  # O maior número é 10\n"
      ]
    },
    {
      "cell_type": "markdown",
      "metadata": {
        "id": "fP51eZHfR6QQ"
      },
      "source": [
        "\n",
        "10. **Contando Ocorrências de um Elemento:**\n",
        "    - Escreva um código que percorra uma lista de elementos (por exemplo, `['a', 'b', 'a', 'c', 'a', 'b']`) e conte quantas vezes o elemento `'a'` aparece na lista.\n"
      ]
    },
    {
      "cell_type": "code",
      "execution_count": 15,
      "metadata": {
        "id": "8-wJcqFARir8"
      },
      "outputs": [
        {
          "name": "stdout",
          "output_type": "stream",
          "text": [
            "O elemento 'a' aparece 3 vezes\n"
          ]
        }
      ],
      "source": [
        "# RESPOSTA\n",
        "\n",
        "elementos = ['a', 'b', 'a', 'c', 'a', 'b']\n",
        "\n",
        "contagem_a = elementos.count('a')\n",
        "print(f\"O elemento 'a' aparece {contagem_a} vezes\") \n"
      ]
    }
  ],
  "metadata": {
    "colab": {
      "provenance": []
    },
    "kernelspec": {
      "display_name": "Python 3",
      "name": "python3"
    },
    "language_info": {
      "codemirror_mode": {
        "name": "ipython",
        "version": 3
      },
      "file_extension": ".py",
      "mimetype": "text/x-python",
      "name": "python",
      "nbconvert_exporter": "python",
      "pygments_lexer": "ipython3",
      "version": "3.11.5"
    }
  },
  "nbformat": 4,
  "nbformat_minor": 0
}
