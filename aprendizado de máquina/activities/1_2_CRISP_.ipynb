{
  "nbformat": 4,
  "nbformat_minor": 0,
  "metadata": {
    "colab": {
      "provenance": []
    },
    "kernelspec": {
      "name": "python3",
      "display_name": "Python 3"
    },
    "language_info": {
      "name": "python"
    }
  },
  "cells": [
    {
      "cell_type": "markdown",
      "source": [
        "\n",
        "---\n",
        "\n",
        "<h1 align=left><font size = 8, style=\"color:rgb(200,0,0)\"><b>CRISP DM, Modelo de referência</b></font></h1>\n",
        "\n",
        "---"
      ],
      "metadata": {
        "id": "dPWmDMdBPCG0"
      }
    },
    {
      "cell_type": "markdown",
      "source": [
        "\n",
        "\n",
        "### **Questionário: Método CRISP-DM e Sua Aplicação no Google Colab com Python**"
      ],
      "metadata": {
        "id": "9D6yHbJ4POWG"
      }
    },
    {
      "cell_type": "markdown",
      "source": [
        "\n",
        "\n",
        "1. **O que significa CRISP-DM?**\n",
        "   - A) Continuous Research in Statistical Programming - Data Mining\n",
        "   - B) Cross-Industry Standard Process for Data Mining\n",
        "   - C) Customer-Ready Insights for Strategic Planning\n",
        "   - D) Creative Research in Software Programming - Data Management\n"
      ],
      "metadata": {
        "id": "5_JCIVChPJaJ"
      }
    },
    {
      "cell_type": "code",
      "source": [],
      "metadata": {
        "id": "Ww4nBljMPwqi"
      },
      "execution_count": null,
      "outputs": []
    },
    {
      "cell_type": "markdown",
      "source": [
        "\n",
        "2. **Qual é a primeira fase do método CRISP-DM?**\n",
        "   - A) Preparação dos dados\n",
        "   - B) Entendimento do problema de negócio\n",
        "   - C) Modelagem\n",
        "   - D) Avaliação dos resultados\n"
      ],
      "metadata": {
        "id": "BU4aaadWPfj7"
      }
    },
    {
      "cell_type": "code",
      "source": [],
      "metadata": {
        "id": "iidYwJxCPwQJ"
      },
      "execution_count": null,
      "outputs": []
    },
    {
      "cell_type": "markdown",
      "source": [
        "\n",
        "3. **Na fase de \"Entendimento dos Dados\" do CRISP-DM, qual é a principal atividade?**\n",
        "   - A) Implementar algoritmos de aprendizado de máquina.\n",
        "   - B) Coletar, descrever e explorar os dados disponíveis.\n",
        "   - C) Realizar a otimização do código Python.\n",
        "   - D) Implementar uma interface gráfica para o usuário.\n"
      ],
      "metadata": {
        "id": "QgjRu378PhS9"
      }
    },
    {
      "cell_type": "code",
      "source": [],
      "metadata": {
        "id": "H6r9I3e_PvvP"
      },
      "execution_count": null,
      "outputs": []
    },
    {
      "cell_type": "markdown",
      "source": [
        "\n",
        "4. **Durante a fase de \"Preparação dos Dados\", qual é uma das principais tarefas?**\n",
        "   - A) Criar um modelo preditivo.\n",
        "   - B) Limpar e transformar os dados para que possam ser usados na modelagem.\n",
        "   - C) Desenvolver um plano de marketing.\n",
        "   - D) Implementar uma API para os dados.\n"
      ],
      "metadata": {
        "id": "Nl_EF4XAPi7e"
      }
    },
    {
      "cell_type": "code",
      "source": [],
      "metadata": {
        "id": "x_W-04vuPvXl"
      },
      "execution_count": null,
      "outputs": []
    },
    {
      "cell_type": "markdown",
      "source": [
        "\n",
        "5. **Qual fase do CRISP-DM envolve a seleção e aplicação de técnicas de modelagem?**\n",
        "   - A) Entendimento do negócio\n",
        "   - B) Preparação dos dados\n",
        "   - C) Modelagem\n",
        "   - D) Avaliação\n"
      ],
      "metadata": {
        "id": "C1eMjqlhPkjo"
      }
    },
    {
      "cell_type": "code",
      "source": [],
      "metadata": {
        "id": "k8rpKlOPPu9J"
      },
      "execution_count": null,
      "outputs": []
    },
    {
      "cell_type": "markdown",
      "source": [
        "\n",
        "6. **Como o Google Colab pode ajudar na fase de \"Modelagem\" do CRISP-DM?**\n",
        "   - A) Oferecendo uma plataforma para criar e treinar modelos de aprendizado de máquina com Python.\n",
        "   - B) Facilitando a criação de apresentações de PowerPoint.\n",
        "   - C) Automatizando a coleta de dados em campo.\n",
        "   - D) Fornecendo templates de sites prontos.\n"
      ],
      "metadata": {
        "id": "hPl0vTe2Pmai"
      }
    },
    {
      "cell_type": "code",
      "source": [],
      "metadata": {
        "id": "hpCvVcDvPuki"
      },
      "execution_count": null,
      "outputs": []
    },
    {
      "cell_type": "markdown",
      "source": [
        "\n",
        "7. **Na fase de \"Avaliação\" do CRISP-DM, o que é mais importante?**\n",
        "   - A) Criar visualizações atrativas.\n",
        "   - B) Avaliar a qualidade e a eficácia dos modelos desenvolvidos.\n",
        "   - C) Publicar os resultados na internet.\n",
        "   - D) Garantir que o código esteja otimizado para velocidade.\n"
      ],
      "metadata": {
        "id": "GJW-zqwEPn3v"
      }
    },
    {
      "cell_type": "code",
      "source": [],
      "metadata": {
        "id": "bWHlD1NjPuJB"
      },
      "execution_count": null,
      "outputs": []
    },
    {
      "cell_type": "markdown",
      "source": [
        "\n",
        "8. **O que é abordado na fase de \"Desenvolvimento e Implantação\" do CRISP-DM?**\n",
        "   - A) Publicar o código em um repositório.\n",
        "   - B) Implantar o modelo preditivo em um ambiente de produção e planejar sua manutenção.\n",
        "   - C) Preparar uma documentação completa do projeto.\n",
        "   - D) Gerar um relatório final sobre o impacto visual do modelo.\n"
      ],
      "metadata": {
        "id": "kfxlolLgPpgX"
      }
    },
    {
      "cell_type": "code",
      "source": [],
      "metadata": {
        "id": "l3sPZ8SzPt1T"
      },
      "execution_count": null,
      "outputs": []
    },
    {
      "cell_type": "markdown",
      "source": [
        "\n",
        "9. **Como Python e Google Colab podem ser utilizados na fase de \"Preparação dos Dados\" do CRISP-DM?**\n",
        "   - A) Para criar uma interface de usuário personalizada.\n",
        "   - B) Para limpar, transformar e explorar os dados utilizando bibliotecas como Pandas e NumPy.\n",
        "   - C) Para desenhar diagramas de fluxo de trabalho.\n",
        "   - D) Para configurar servidores de banco de dados.\n"
      ],
      "metadata": {
        "id": "6-8cbl2VPqse"
      }
    },
    {
      "cell_type": "code",
      "source": [],
      "metadata": {
        "id": "TDdIlsLWPtIP"
      },
      "execution_count": null,
      "outputs": []
    },
    {
      "cell_type": "markdown",
      "source": [
        "\n",
        "10. **Qual é o principal objetivo da fase \"Entendimento do Negócio\" no CRISP-DM?**\n",
        "    - A) Implementar a solução tecnológica o mais rápido possível.\n",
        "    - B) Compreender os objetivos e requisitos do projeto para orientar o processo de mineração de dados.\n",
        "    - C) Analisar a performance dos algoritmos de aprendizado de máquina.\n",
        "    - D) Reduzir custos ao máximo no projeto.\n"
      ],
      "metadata": {
        "id": "IaQQgamPPsoG"
      }
    }
  ]
}