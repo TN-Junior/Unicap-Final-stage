{
  "nbformat": 4,
  "nbformat_minor": 0,
  "metadata": {
    "colab": {
      "provenance": []
    },
    "kernelspec": {
      "name": "python3",
      "display_name": "Python 3"
    },
    "language_info": {
      "name": "python"
    }
  },
  "cells": [
    {
      "cell_type": "markdown",
      "source": [
        "\n",
        "---\n",
        "\n",
        "<h1 align=left><font size = 8, style=\"color:rgb(200,0,0)\"><b>Análise de Dados - Tomada de Decisão </b></font></h1>\n",
        "\n",
        "---"
      ],
      "metadata": {
        "id": "T_IYnwoaK2ik"
      }
    },
    {
      "cell_type": "markdown",
      "source": [
        "### **Questionário: A Importância da Análise de Dados na Tomada de Decisões**"
      ],
      "metadata": {
        "id": "emxX_zJVLgEN"
      }
    },
    {
      "cell_type": "markdown",
      "source": [
        "\n",
        "1. **Por que a análise de dados é crucial na tomada de decisões em uma organização?**\n",
        "   - A) Ajuda a tomar decisões baseadas em intuição.\n",
        "   - B) Fornece insights baseados em evidências e dados objetivos.\n",
        "   - C) Garante que todas as decisões sejam rápidas.\n",
        "   - D) Substitui a necessidade de experiência no setor.\n",
        "\n"
      ],
      "metadata": {
        "id": "K7RQSsWCK3c-"
      }
    },
    {
      "cell_type": "code",
      "source": [],
      "metadata": {
        "id": "lRXwLtfCL1KD"
      },
      "execution_count": null,
      "outputs": []
    },
    {
      "cell_type": "markdown",
      "source": [
        "\n",
        "2. **Como Python pode ser utilizado para análise de dados?**\n",
        "   - A) Apenas para criação de sites.\n",
        "   - B) Como uma linguagem de script para automatizar tarefas de análise.\n",
        "   - C) Apenas para desenvolvimento de jogos.\n",
        "   - D) Para editar imagens e vídeos.\n"
      ],
      "metadata": {
        "id": "DVSQqguJLmwI"
      }
    },
    {
      "cell_type": "code",
      "source": [],
      "metadata": {
        "id": "mjZEkGXOL1op"
      },
      "execution_count": null,
      "outputs": []
    },
    {
      "cell_type": "markdown",
      "source": [
        "\n",
        "3. **Qual das bibliotecas a seguir é mais comumente usada em Python para análise de dados?**\n",
        "   - A) TensorFlow\n",
        "   - B) Pandas\n",
        "   - C) Flask\n",
        "   - D) Matplotlib\n",
        "\n"
      ],
      "metadata": {
        "id": "ge5vB3xqLobP"
      }
    },
    {
      "cell_type": "code",
      "source": [],
      "metadata": {
        "id": "ajSVYTXyL2Q2"
      },
      "execution_count": null,
      "outputs": []
    },
    {
      "cell_type": "markdown",
      "source": [
        "4. **Como o Google Colab facilita o processo de análise de dados?**\n",
        "   - A) Permitindo a execução de código Python em um ambiente baseado na nuvem sem configuração local.\n",
        "   - B) Fornecendo templates de apresentações prontas.\n",
        "   - C) Garantindo anonimato total em todas as análises.\n",
        "   - D) Fazendo backup automático de todos os dados analisados.\n"
      ],
      "metadata": {
        "id": "p7bDerEbLqXS"
      }
    },
    {
      "cell_type": "code",
      "source": [],
      "metadata": {
        "id": "wS-Bet31L20S"
      },
      "execution_count": null,
      "outputs": []
    },
    {
      "cell_type": "markdown",
      "source": [
        "\n",
        "5. **Qual é o papel da visualização de dados na tomada de decisões?**\n",
        "   - A) Apenas embelezar relatórios.\n",
        "   - B) Simplificar a interpretação de dados complexos.\n",
        "   - C) Reduzir a precisão dos dados.\n",
        "   - D) Proteger os dados contra perda.\n"
      ],
      "metadata": {
        "id": "WE-prwjqLsDW"
      }
    },
    {
      "cell_type": "code",
      "source": [],
      "metadata": {
        "id": "xofZY_pmL3Or"
      },
      "execution_count": null,
      "outputs": []
    },
    {
      "cell_type": "markdown",
      "source": [
        "\n",
        "6. **Qual ferramenta em Python é amplamente usada para criar gráficos e visualizações que auxiliam na tomada de decisões?**\n",
        "   - A) Scikit-learn\n",
        "   - B) Matplotlib\n",
        "   - C) Beautiful Soup\n",
        "   - D) Django\n"
      ],
      "metadata": {
        "id": "8gtMFBhvLuQP"
      }
    },
    {
      "cell_type": "code",
      "source": [],
      "metadata": {
        "id": "nnMSdqLSL3vj"
      },
      "execution_count": null,
      "outputs": []
    },
    {
      "cell_type": "markdown",
      "source": [
        "\n",
        "7. **Como a análise preditiva pode influenciar a tomada de decisões em uma empresa?**\n",
        "   - A) Ela elimina completamente a necessidade de análise histórica.\n",
        "   - B) Ajuda a prever resultados futuros e a planejar estratégias.\n",
        "   - C) Substitui a necessidade de análise de dados em tempo real.\n",
        "   - D) Aumenta o risco de decisões equivocadas.\n"
      ],
      "metadata": {
        "id": "0LnB4tQ7Lvpk"
      }
    },
    {
      "cell_type": "code",
      "source": [],
      "metadata": {
        "id": "Et6R1n3kL4SE"
      },
      "execution_count": null,
      "outputs": []
    },
    {
      "cell_type": "markdown",
      "source": [
        "\n",
        "8. **Por que a integração do Python com bibliotecas como Pandas e NumPy é importante na análise de dados?**\n",
        "   - A) Apenas para desenvolvedores web.\n",
        "   - B) Facilita a manipulação e análise eficiente de grandes conjuntos de dados.\n",
        "   - C) Só é útil em aplicativos móveis.\n",
        "   - D) Serve para melhorar a qualidade da imagem.\n",
        "\n"
      ],
      "metadata": {
        "id": "7_ibbSiDLxFK"
      }
    },
    {
      "cell_type": "code",
      "source": [],
      "metadata": {
        "id": "VXKcRdA1L4wD"
      },
      "execution_count": null,
      "outputs": []
    },
    {
      "cell_type": "markdown",
      "source": [
        "9. **De que maneira o Google Colab permite uma análise colaborativa de dados?**\n",
        "   - A) Permitindo que vários usuários compartilhem e editem o mesmo notebook em tempo real.\n",
        "   - B) Limitando o acesso aos notebooks para um único usuário.\n",
        "   - C) Fazendo backup dos dados diretamente em um dispositivo externo.\n",
        "   - D) Fornecendo gráficos prontos para uso em relatórios.\n"
      ],
      "metadata": {
        "id": "sh-k59ZCLyRe"
      }
    },
    {
      "cell_type": "code",
      "source": [],
      "metadata": {
        "id": "CvFVfhrEL5Ag"
      },
      "execution_count": null,
      "outputs": []
    },
    {
      "cell_type": "markdown",
      "source": [
        "\n",
        "10. **Como o uso de Python em ambientes como o Google Colab pode impactar a agilidade na tomada de decisões?**\n",
        "    - A) Tornando o processo de análise mais lento e burocrático.\n",
        "    - B) Facilitando a experimentação rápida e a prototipagem de modelos de dados.\n",
        "    - C) Aumentando a necessidade de hardware especializado.\n",
        "    - D) Garantindo que apenas uma pessoa tenha acesso aos resultados."
      ],
      "metadata": {
        "id": "uWGhlSN1Lzbo"
      }
    },
    {
      "cell_type": "code",
      "source": [],
      "metadata": {
        "id": "fS8cGZm4L5da"
      },
      "execution_count": null,
      "outputs": []
    }
  ]
}