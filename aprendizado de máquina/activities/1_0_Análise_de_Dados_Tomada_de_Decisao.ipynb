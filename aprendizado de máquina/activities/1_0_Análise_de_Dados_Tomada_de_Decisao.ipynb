{
  "cells": [
    {
      "cell_type": "markdown",
      "metadata": {
        "id": "T_IYnwoaK2ik"
      },
      "source": [
        "\n",
        "---\n",
        "\n",
        "<h1 align=left><font size = 8, style=\"color:rgb(200,0,0)\"><b>Análise de Dados - Tomada de Decisão </b></font></h1>\n",
        "\n",
        "---"
      ]
    },
    {
      "cell_type": "markdown",
      "metadata": {
        "id": "emxX_zJVLgEN"
      },
      "source": [
        "### **Questionário: A Importância da Análise de Dados na Tomada de Decisões**"
      ]
    },
    {
      "cell_type": "markdown",
      "metadata": {
        "id": "K7RQSsWCK3c-"
      },
      "source": [
        "\n",
        "1. **Por que a análise de dados é crucial na tomada de decisões em uma organização?**\n",
        "   - A) Ajuda a tomar decisões baseadas em intuição.\n",
        "   - B) Fornece insights baseados em evidências e dados objetivos.\n",
        "   - C) Garante que todas as decisões sejam rápidas.\n",
        "   - D) Substitui a necessidade de experiência no setor.\n",
        "\n"
      ]
    },
    {
      "cell_type": "code",
      "execution_count": null,
      "metadata": {
        "id": "lRXwLtfCL1KD"
      },
      "outputs": [],
      "source": [
        "\"B) Fornece insights baseados em evidências e dados objetivos.\""
      ]
    },
    {
      "cell_type": "markdown",
      "metadata": {
        "id": "DVSQqguJLmwI"
      },
      "source": [
        "\n",
        "2. **Como Python pode ser utilizado para análise de dados?**\n",
        "   - A) Apenas para criação de sites.\n",
        "   - B) Como uma linguagem de script para automatizar tarefas de análise.\n",
        "   - C) Apenas para desenvolvimento de jogos.\n",
        "   - D) Para editar imagens e vídeos.\n"
      ]
    },
    {
      "cell_type": "code",
      "execution_count": null,
      "metadata": {
        "id": "mjZEkGXOL1op"
      },
      "outputs": [],
      "source": [
        "\" B) Como uma linguagem de script para automatizar tarefas de análise. \""
      ]
    },
    {
      "cell_type": "markdown",
      "metadata": {
        "id": "ge5vB3xqLobP"
      },
      "source": [
        "\n",
        "3. **Qual das bibliotecas a seguir é mais comumente usada em Python para análise de dados?**\n",
        "   - A) TensorFlow\n",
        "   - B) Pandas\n",
        "   - C) Flask\n",
        "   - D) Matplotlib\n",
        "\n"
      ]
    },
    {
      "cell_type": "code",
      "execution_count": null,
      "metadata": {
        "id": "ajSVYTXyL2Q2"
      },
      "outputs": [],
      "source": [
        "\" B) Pandas \""
      ]
    },
    {
      "cell_type": "markdown",
      "metadata": {
        "id": "p7bDerEbLqXS"
      },
      "source": [
        "4. **Como o Google Colab facilita o processo de análise de dados?**\n",
        "   - A) Permitindo a execução de código Python em um ambiente baseado na nuvem sem configuração local.\n",
        "   - B) Fornecendo templates de apresentações prontas.\n",
        "   - C) Garantindo anonimato total em todas as análises.\n",
        "   - D) Fazendo backup automático de todos os dados analisados.\n"
      ]
    },
    {
      "cell_type": "code",
      "execution_count": null,
      "metadata": {
        "id": "wS-Bet31L20S"
      },
      "outputs": [],
      "source": [
        "\" A) Permitindo a execução de código Python em um ambiente baseado na nuvem sem configuração local. \""
      ]
    },
    {
      "cell_type": "markdown",
      "metadata": {
        "id": "WE-prwjqLsDW"
      },
      "source": [
        "\n",
        "5. **Qual é o papel da visualização de dados na tomada de decisões?**\n",
        "   - A) Apenas embelezar relatórios.\n",
        "   - B) Simplificar a interpretação de dados complexos.\n",
        "   - C) Reduzir a precisão dos dados.\n",
        "   - D) Proteger os dados contra perda.\n"
      ]
    },
    {
      "cell_type": "code",
      "execution_count": null,
      "metadata": {
        "id": "xofZY_pmL3Or"
      },
      "outputs": [],
      "source": [
        "\"B) Simplificar a interpretação de dados complexos.\""
      ]
    },
    {
      "cell_type": "markdown",
      "metadata": {
        "id": "8gtMFBhvLuQP"
      },
      "source": [
        "\n",
        "6. **Qual ferramenta em Python é amplamente usada para criar gráficos e visualizações que auxiliam na tomada de decisões?**\n",
        "   - A) Scikit-learn\n",
        "   - B) Matplotlib\n",
        "   - C) Beautiful Soup\n",
        "   - D) Django\n"
      ]
    },
    {
      "cell_type": "code",
      "execution_count": null,
      "metadata": {
        "id": "nnMSdqLSL3vj"
      },
      "outputs": [],
      "source": [
        "\"B) Matplotlib\""
      ]
    },
    {
      "cell_type": "markdown",
      "metadata": {
        "id": "0LnB4tQ7Lvpk"
      },
      "source": [
        "\n",
        "7. **Como a análise preditiva pode influenciar a tomada de decisões em uma empresa?**\n",
        "   - A) Ela elimina completamente a necessidade de análise histórica.\n",
        "   - B) Ajuda a prever resultados futuros e a planejar estratégias.\n",
        "   - C) Substitui a necessidade de análise de dados em tempo real.\n",
        "   - D) Aumenta o risco de decisões equivocadas.\n"
      ]
    },
    {
      "cell_type": "code",
      "execution_count": null,
      "metadata": {
        "id": "Et6R1n3kL4SE"
      },
      "outputs": [],
      "source": [
        "\"B) Ajuda a prever resultados futuros e a planejar estratégias.\""
      ]
    },
    {
      "cell_type": "markdown",
      "metadata": {
        "id": "7_ibbSiDLxFK"
      },
      "source": [
        "\n",
        "8. **Por que a integração do Python com bibliotecas como Pandas e NumPy é importante na análise de dados?**\n",
        "   - A) Apenas para desenvolvedores web.\n",
        "   - B) Facilita a manipulação e análise eficiente de grandes conjuntos de dados.\n",
        "   - C) Só é útil em aplicativos móveis.\n",
        "   - D) Serve para melhorar a qualidade da imagem.\n",
        "\n"
      ]
    },
    {
      "cell_type": "code",
      "execution_count": null,
      "metadata": {
        "id": "VXKcRdA1L4wD"
      },
      "outputs": [],
      "source": [
        "\"B) Facilita a manipulação e análise eficiente de grandes conjuntos de dados.\""
      ]
    },
    {
      "cell_type": "markdown",
      "metadata": {
        "id": "sh-k59ZCLyRe"
      },
      "source": [
        "9. **De que maneira o Google Colab permite uma análise colaborativa de dados?**\n",
        "   - A) Permitindo que vários usuários compartilhem e editem o mesmo notebook em tempo real.\n",
        "   - B) Limitando o acesso aos notebooks para um único usuário.\n",
        "   - C) Fazendo backup dos dados diretamente em um dispositivo externo.\n",
        "   - D) Fornecendo gráficos prontos para uso em relatórios.\n"
      ]
    },
    {
      "cell_type": "code",
      "execution_count": null,
      "metadata": {
        "id": "CvFVfhrEL5Ag"
      },
      "outputs": [],
      "source": [
        "\"A) Permitindo que vários usuários compartilhem e editem o mesmo notebook em tempo real.\""
      ]
    },
    {
      "cell_type": "markdown",
      "metadata": {
        "id": "uWGhlSN1Lzbo"
      },
      "source": [
        "\n",
        "10. **Como o uso de Python em ambientes como o Google Colab pode impactar a agilidade na tomada de decisões?**\n",
        "    - A) Tornando o processo de análise mais lento e burocrático.\n",
        "    - B) Facilitando a experimentação rápida e a prototipagem de modelos de dados.\n",
        "    - C) Aumentando a necessidade de hardware especializado.\n",
        "    - D) Garantindo que apenas uma pessoa tenha acesso aos resultados."
      ]
    },
    {
      "cell_type": "code",
      "execution_count": null,
      "metadata": {
        "id": "fS8cGZm4L5da"
      },
      "outputs": [],
      "source": [
        "\"B) Facilitando a experimentação rápida e a prototipagem de modelos de dados.\""
      ]
    }
  ],
  "metadata": {
    "colab": {
      "provenance": []
    },
    "kernelspec": {
      "display_name": "Python 3",
      "name": "python3"
    },
    "language_info": {
      "name": "python"
    }
  },
  "nbformat": 4,
  "nbformat_minor": 0
}
