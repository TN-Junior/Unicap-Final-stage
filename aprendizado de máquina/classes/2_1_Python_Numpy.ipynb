{
  "cells": [
    {
      "cell_type": "markdown",
      "id": "f2a49cf3-ac16-4331-8186-84d928cdd82f",
      "metadata": {
        "tags": [],
        "id": "f2a49cf3-ac16-4331-8186-84d928cdd82f"
      },
      "source": [
        "---\n",
        "\n",
        "<h1 align=left><font size = 8, style=\"color:rgb(200,0,0)\"><b>Bibliotecas: <br>\n",
        "- Numpy\n",
        "</b></font></h1>\n",
        "\n",
        "---"
      ]
    },
    {
      "cell_type": "markdown",
      "id": "dd65e5e2-aa2a-4fb4-a066-6941667aa8a8",
      "metadata": {
        "tags": [],
        "id": "dd65e5e2-aa2a-4fb4-a066-6941667aa8a8"
      },
      "source": [
        "# Numpy\n",
        "[Numpy](https://numpy.org/)"
      ]
    },
    {
      "cell_type": "markdown",
      "id": "fd2e3d78-1fe1-4cde-9275-0a55658c0ae9",
      "metadata": {
        "id": "fd2e3d78-1fe1-4cde-9275-0a55658c0ae9"
      },
      "source": [
        "## Importando a biblioteca"
      ]
    },
    {
      "cell_type": "code",
      "execution_count": null,
      "id": "04fa8aa2-211d-4e17-bff7-215d01a4dbe4",
      "metadata": {
        "id": "04fa8aa2-211d-4e17-bff7-215d01a4dbe4"
      },
      "outputs": [],
      "source": [
        "import numpy as np"
      ]
    },
    {
      "cell_type": "markdown",
      "id": "716fbb88-012d-4b67-aa9a-fdb932eefdff",
      "metadata": {
        "id": "716fbb88-012d-4b67-aa9a-fdb932eefdff"
      },
      "source": [
        "## Criar arranjos de números"
      ]
    },
    {
      "cell_type": "code",
      "execution_count": null,
      "id": "e3291c1b-bb20-49c6-b293-58dfcfa9467f",
      "metadata": {
        "id": "e3291c1b-bb20-49c6-b293-58dfcfa9467f"
      },
      "outputs": [],
      "source": [
        "idades = np.array([10, 15, 20, 18])\n",
        "notas = np.array([9,8,5,7])"
      ]
    },
    {
      "cell_type": "markdown",
      "id": "d86c2906-4e6d-4933-894f-c0d8254fcf87",
      "metadata": {
        "id": "d86c2906-4e6d-4933-894f-c0d8254fcf87"
      },
      "source": [
        "## Imprimindo os dados"
      ]
    },
    {
      "cell_type": "code",
      "execution_count": null,
      "id": "2ef5e370-9f76-490c-bdd3-c1dfce9ae6e8",
      "metadata": {
        "tags": [],
        "id": "2ef5e370-9f76-490c-bdd3-c1dfce9ae6e8",
        "outputId": "cbf5327b-80e2-4ab6-fa48-01f0782fafdc"
      },
      "outputs": [
        {
          "data": {
            "text/plain": [
              "array([10, 15, 20, 18])"
            ]
          },
          "execution_count": 3,
          "metadata": {},
          "output_type": "execute_result"
        }
      ],
      "source": [
        "idades"
      ]
    },
    {
      "cell_type": "code",
      "execution_count": null,
      "id": "f712c46a-0c44-49e0-8fc2-206516e13496",
      "metadata": {
        "tags": [],
        "id": "f712c46a-0c44-49e0-8fc2-206516e13496",
        "outputId": "24e47e8e-1259-4cd5-f9cd-627878086c4c"
      },
      "outputs": [
        {
          "name": "stdout",
          "output_type": "stream",
          "text": [
            "[10 15 20 18]\n"
          ]
        }
      ],
      "source": [
        "print(idades)"
      ]
    },
    {
      "cell_type": "markdown",
      "source": [
        "## Imprimir o tipo do dado"
      ],
      "metadata": {
        "id": "FLRid9wKa4R9"
      },
      "id": "FLRid9wKa4R9"
    },
    {
      "cell_type": "code",
      "execution_count": null,
      "id": "a6dd5f69-40d8-449f-995e-779d6ec9f449",
      "metadata": {
        "tags": [],
        "id": "a6dd5f69-40d8-449f-995e-779d6ec9f449",
        "outputId": "e4e47517-90bc-4333-cca0-8a18fea04c45"
      },
      "outputs": [
        {
          "data": {
            "text/plain": [
              "numpy.ndarray"
            ]
          },
          "execution_count": 5,
          "metadata": {},
          "output_type": "execute_result"
        }
      ],
      "source": [
        "type(idades)"
      ]
    },
    {
      "cell_type": "code",
      "execution_count": null,
      "id": "a7f3308b-739a-4540-adaa-f7c28e753d3b",
      "metadata": {
        "tags": [],
        "id": "a7f3308b-739a-4540-adaa-f7c28e753d3b",
        "outputId": "4e33d715-34f8-489b-c8bd-4932af2f820f"
      },
      "outputs": [
        {
          "data": {
            "text/plain": [
              "int"
            ]
          },
          "execution_count": 6,
          "metadata": {},
          "output_type": "execute_result"
        }
      ],
      "source": [
        "type(12)"
      ]
    },
    {
      "cell_type": "markdown",
      "id": "ef42f912-2492-454f-8dc7-c26bc9afd785",
      "metadata": {
        "id": "ef42f912-2492-454f-8dc7-c26bc9afd785"
      },
      "source": [
        "## Imprimindo os dados que cumpram uma condição"
      ]
    },
    {
      "cell_type": "code",
      "execution_count": null,
      "id": "63790493-3b94-4aa2-b5e4-95715cd99947",
      "metadata": {
        "id": "63790493-3b94-4aa2-b5e4-95715cd99947",
        "outputId": "f8e5b763-776e-4797-bc90-6d5b8a4c665d"
      },
      "outputs": [
        {
          "name": "stdout",
          "output_type": "stream",
          "text": [
            "[5]\n"
          ]
        }
      ],
      "source": [
        "print(notas[idades==20])"
      ]
    },
    {
      "cell_type": "markdown",
      "id": "ac46107b-86d4-4bf3-aa9a-18dc558d7fb3",
      "metadata": {
        "id": "ac46107b-86d4-4bf3-aa9a-18dc558d7fb3"
      },
      "source": [
        "## Média"
      ]
    },
    {
      "cell_type": "code",
      "execution_count": null,
      "id": "aff88678-27ab-4d16-9190-f22b995dab13",
      "metadata": {
        "id": "aff88678-27ab-4d16-9190-f22b995dab13",
        "outputId": "a0e0d10e-3930-42ca-b6ea-bb47d2ec6f7e"
      },
      "outputs": [
        {
          "data": {
            "text/plain": [
              "15.75"
            ]
          },
          "execution_count": 9,
          "metadata": {},
          "output_type": "execute_result"
        }
      ],
      "source": [
        "np.mean(idades)"
      ]
    },
    {
      "cell_type": "code",
      "execution_count": null,
      "id": "73be0f44-0485-42eb-8f3b-62e845aeb2b6",
      "metadata": {
        "tags": [],
        "id": "73be0f44-0485-42eb-8f3b-62e845aeb2b6",
        "outputId": "10ed3cb6-9934-4594-c6c7-3cfb847390ef"
      },
      "outputs": [
        {
          "data": {
            "text/plain": [
              "7.25"
            ]
          },
          "execution_count": 10,
          "metadata": {},
          "output_type": "execute_result"
        }
      ],
      "source": [
        "np.mean(notas)"
      ]
    },
    {
      "cell_type": "markdown",
      "id": "b6730d92-327c-4a9b-baf8-c8c9c016c071",
      "metadata": {
        "id": "b6730d92-327c-4a9b-baf8-c8c9c016c071"
      },
      "source": [
        "## Criando arranjo de dados (matrizes)"
      ]
    },
    {
      "cell_type": "code",
      "execution_count": null,
      "id": "b77d8bb6-df7f-4540-bc58-7ff37d7e9ec7",
      "metadata": {
        "id": "b77d8bb6-df7f-4540-bc58-7ff37d7e9ec7"
      },
      "outputs": [],
      "source": [
        "salario = np.array([ [1000, 1200, 1300],\n",
        "                    [800, 900, 950 ],\n",
        "                    [2000, 2100, 2200] ])"
      ]
    },
    {
      "cell_type": "code",
      "execution_count": null,
      "id": "eef18e02-b2a5-447d-b2d6-6483b2728770",
      "metadata": {
        "id": "eef18e02-b2a5-447d-b2d6-6483b2728770",
        "outputId": "d4abe47b-0630-4fde-800b-8d7c801539f5"
      },
      "outputs": [
        {
          "data": {
            "text/plain": [
              "array([[1000, 1200, 1300],\n",
              "       [ 800,  900,  950],\n",
              "       [2000, 2100, 2200]])"
            ]
          },
          "execution_count": 12,
          "metadata": {},
          "output_type": "execute_result"
        }
      ],
      "source": [
        "salario"
      ]
    },
    {
      "cell_type": "markdown",
      "id": "2cd230aa-dc62-40ef-8815-6cfba608c340",
      "metadata": {
        "id": "2cd230aa-dc62-40ef-8815-6cfba608c340"
      },
      "source": [
        "## Localizando celulas"
      ]
    },
    {
      "cell_type": "code",
      "execution_count": null,
      "id": "142274a4-ec67-4847-9fd9-941f1cbeb086",
      "metadata": {
        "id": "142274a4-ec67-4847-9fd9-941f1cbeb086",
        "outputId": "07170ca9-6446-435e-bcee-8534cad489b3"
      },
      "outputs": [
        {
          "data": {
            "text/plain": [
              "950"
            ]
          },
          "execution_count": 13,
          "metadata": {},
          "output_type": "execute_result"
        }
      ],
      "source": [
        "salario[1, 2]"
      ]
    },
    {
      "cell_type": "code",
      "execution_count": null,
      "id": "c32bf6be-933b-4839-a54b-ed666a50076b",
      "metadata": {
        "tags": [],
        "id": "c32bf6be-933b-4839-a54b-ed666a50076b",
        "outputId": "0f9202a0-5b30-4f54-bbf8-0ddc4e28f1b6"
      },
      "outputs": [
        {
          "data": {
            "text/plain": [
              "1300"
            ]
          },
          "execution_count": 14,
          "metadata": {},
          "output_type": "execute_result"
        }
      ],
      "source": [
        "salario[0, 2]"
      ]
    },
    {
      "cell_type": "markdown",
      "id": "40e701ff-6194-4ea1-89fc-a0735f8f8931",
      "metadata": {
        "tags": [],
        "id": "40e701ff-6194-4ea1-89fc-a0735f8f8931"
      },
      "source": [
        "- se queremos conhecer os dados da linha `0` e coluna `2`"
      ]
    },
    {
      "cell_type": "code",
      "execution_count": null,
      "id": "f9bbfe05-e445-4c2e-98f8-26720b3fd960",
      "metadata": {
        "tags": [],
        "id": "f9bbfe05-e445-4c2e-98f8-26720b3fd960"
      },
      "outputs": [],
      "source": [
        "salario[0,2]"
      ]
    },
    {
      "cell_type": "markdown",
      "id": "05736c49-a168-4def-b2ae-dfaebfd784f4",
      "metadata": {
        "id": "05736c49-a168-4def-b2ae-dfaebfd784f4"
      },
      "source": [
        "- **praticando** <br> obtenha a sub-matriz de 2x2"
      ]
    },
    {
      "cell_type": "code",
      "execution_count": null,
      "id": "5bd1d558-be1b-4778-aad1-820b88fa878f",
      "metadata": {
        "tags": [],
        "id": "5bd1d558-be1b-4778-aad1-820b88fa878f",
        "outputId": "87e235cb-abe7-47fe-988b-803d6c0e6fc0"
      },
      "outputs": [
        {
          "data": {
            "text/plain": [
              "array([[1000, 1200],\n",
              "       [ 800,  900]])"
            ]
          },
          "execution_count": 15,
          "metadata": {},
          "output_type": "execute_result"
        }
      ],
      "source": [
        "salario[:2,:2]"
      ]
    },
    {
      "cell_type": "markdown",
      "id": "4437e529-4297-448e-a3a5-ed4b83ce6217",
      "metadata": {
        "tags": [],
        "id": "4437e529-4297-448e-a3a5-ed4b83ce6217"
      },
      "source": [
        "- **praticando** <br>\n",
        "Obtenha a sub-matriz 900, 950 e 2100, 2200m"
      ]
    },
    {
      "cell_type": "code",
      "execution_count": null,
      "id": "8a16eac6-7565-4b19-a6ba-2de9498dc1a8",
      "metadata": {
        "tags": [],
        "id": "8a16eac6-7565-4b19-a6ba-2de9498dc1a8",
        "outputId": "976b5cce-531d-46c1-f530-deb055642b65"
      },
      "outputs": [
        {
          "data": {
            "text/plain": [
              "array([[ 900,  950],\n",
              "       [2100, 2200]])"
            ]
          },
          "execution_count": 16,
          "metadata": {},
          "output_type": "execute_result"
        }
      ],
      "source": [
        "salario[1:3, 1:3 ]"
      ]
    },
    {
      "cell_type": "markdown",
      "id": "4c72c1ed-5833-4728-848c-b63852f58657",
      "metadata": {
        "tags": [],
        "id": "4c72c1ed-5833-4728-848c-b63852f58657"
      },
      "source": [
        "- **praticando** <br> Obtenha a sub-matriz 1200, 1300 e 900, 950 e 2100, 2200"
      ]
    },
    {
      "cell_type": "code",
      "execution_count": null,
      "id": "6e4a0b5a-cc68-4c3a-82e6-17627ad95c33",
      "metadata": {
        "tags": [],
        "id": "6e4a0b5a-cc68-4c3a-82e6-17627ad95c33",
        "outputId": "e35e3384-5afc-4ec4-c20c-58e68dc8c76e"
      },
      "outputs": [
        {
          "data": {
            "text/plain": [
              "array([[1200, 1300],\n",
              "       [ 900,  950],\n",
              "       [2100, 2200]])"
            ]
          },
          "execution_count": 17,
          "metadata": {},
          "output_type": "execute_result"
        }
      ],
      "source": [
        "salario[:, 1:]"
      ]
    },
    {
      "cell_type": "markdown",
      "id": "442364e4-ae14-4322-a979-7d4bc4698626",
      "metadata": {
        "id": "442364e4-ae14-4322-a979-7d4bc4698626"
      },
      "source": [
        "## Funções trigonometricas"
      ]
    },
    {
      "cell_type": "code",
      "execution_count": null,
      "id": "bbd2a010-2809-4326-bef5-10253ae45de8",
      "metadata": {
        "id": "bbd2a010-2809-4326-bef5-10253ae45de8",
        "outputId": "f65dfb3e-e56f-4d45-e119-b794820e8f32"
      },
      "outputs": [
        {
          "data": {
            "text/plain": [
              "0.5403023058681398"
            ]
          },
          "execution_count": 18,
          "metadata": {},
          "output_type": "execute_result"
        }
      ],
      "source": [
        "np.cos(1)"
      ]
    },
    {
      "cell_type": "markdown",
      "id": "448e50cd-1c77-474e-b041-d4a8ffae950c",
      "metadata": {
        "id": "448e50cd-1c77-474e-b041-d4a8ffae950c"
      },
      "source": [
        "## Criar listas ou arranjos com valores"
      ]
    },
    {
      "cell_type": "markdown",
      "id": "486bde47-0d10-49d8-b362-1b97dc212677",
      "metadata": {
        "id": "486bde47-0d10-49d8-b362-1b97dc212677"
      },
      "source": [
        "> matriz 4 x 3 de zeros"
      ]
    },
    {
      "cell_type": "code",
      "execution_count": null,
      "id": "75e9487d-54a2-4218-9ee3-3582c7c1d711",
      "metadata": {
        "id": "75e9487d-54a2-4218-9ee3-3582c7c1d711"
      },
      "outputs": [],
      "source": [
        "matriz = np.zeros([4,3])\n",
        "matriz"
      ]
    },
    {
      "cell_type": "markdown",
      "id": "10c55399-8f2e-4ca6-914c-3bd14b6168da",
      "metadata": {
        "id": "10c55399-8f2e-4ca6-914c-3bd14b6168da"
      },
      "source": [
        "> matriz 3 x 3 de Zeros"
      ]
    },
    {
      "cell_type": "code",
      "execution_count": null,
      "id": "d147a776-341f-4d38-bdb6-60e5b0391658",
      "metadata": {
        "tags": [],
        "id": "d147a776-341f-4d38-bdb6-60e5b0391658"
      },
      "outputs": [],
      "source": [
        "matriz = np.zeros([3,3])\n",
        "matriz"
      ]
    },
    {
      "cell_type": "markdown",
      "id": "70265fda-92bd-4e8e-9970-181ee6e34c57",
      "metadata": {
        "id": "70265fda-92bd-4e8e-9970-181ee6e34c57"
      },
      "source": [
        "## Criar arranjos utilizando o loop FOR\n"
      ]
    },
    {
      "cell_type": "code",
      "execution_count": null,
      "id": "3f87ad00-c902-4d76-a781-bb61adf1ab9a",
      "metadata": {
        "tags": [],
        "id": "3f87ad00-c902-4d76-a781-bb61adf1ab9a"
      },
      "outputs": [],
      "source": [
        "\n",
        "for i in range(0, 3):\n",
        "    for j in range(0, 3):\n",
        "        matriz[i][j] = 1\n",
        "\n",
        "matriz"
      ]
    },
    {
      "cell_type": "markdown",
      "id": "e40efbb2-229f-4b70-9e22-53679b9d9c6f",
      "metadata": {
        "id": "e40efbb2-229f-4b70-9e22-53679b9d9c6f"
      },
      "source": [
        "- Matriz contendo valores de 1"
      ]
    },
    {
      "cell_type": "code",
      "execution_count": null,
      "id": "319b993d-3627-494a-91bc-fc67ca195612",
      "metadata": {
        "tags": [],
        "id": "319b993d-3627-494a-91bc-fc67ca195612"
      },
      "outputs": [],
      "source": [
        "matriz2 = np.ones([3, 2])\n",
        "matriz2"
      ]
    }
  ],
  "metadata": {
    "kernelspec": {
      "display_name": "Python 3 (ipykernel)",
      "language": "python",
      "name": "python3"
    },
    "language_info": {
      "codemirror_mode": {
        "name": "ipython",
        "version": 3
      },
      "file_extension": ".py",
      "mimetype": "text/x-python",
      "name": "python",
      "nbconvert_exporter": "python",
      "pygments_lexer": "ipython3",
      "version": "3.11.2"
    },
    "toc-autonumbering": true,
    "toc-showcode": false,
    "toc-showmarkdowntxt": false,
    "colab": {
      "provenance": []
    }
  },
  "nbformat": 4,
  "nbformat_minor": 5
}