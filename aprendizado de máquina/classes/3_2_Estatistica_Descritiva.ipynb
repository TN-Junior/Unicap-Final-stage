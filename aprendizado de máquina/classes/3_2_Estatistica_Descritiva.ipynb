{
  "cells": [
    {
      "cell_type": "markdown",
      "id": "f08b5cec-933e-465d-a718-5f98bbbb57de",
      "metadata": {
        "id": "f08b5cec-933e-465d-a718-5f98bbbb57de",
        "tags": []
      },
      "source": [
        "---\n",
        "\n",
        "<h1 align=left><font size = 8, style=\"color:rgb(200,0,0)\"><b>Estatística Descritiva</b></font></h1>\n",
        "\n",
        "---"
      ]
    },
    {
      "cell_type": "code",
      "source": [
        "from IPython.display import HTML\n",
        "\n",
        "# Função para esconder o código\n",
        "def hide_code():\n",
        "    return HTML('''<script>\n",
        "    code_show=true;\n",
        "    function code_toggle() {\n",
        "     if (code_show){\n",
        "     $('div.input').hide();\n",
        "     } else {\n",
        "     $('div.input').show();\n",
        "     }\n",
        "     code_show = !code_show\n",
        "    }\n",
        "    $( document ).ready(code_toggle);\n",
        "    </script>\n",
        "    <form action=\"javascript:code_toggle()\"><input type=\"submit\" value=\"Mostrar/Ocultar Código\"></form>''')\n",
        "\n",
        "# Executar a função para criar o botão de ocultar código\n",
        "hide_code()\n"
      ],
      "metadata": {
        "collapsed": true,
        "colab": {
          "base_uri": "https://localhost:8080/",
          "height": 36
        },
        "id": "G2-yExYSOYYa",
        "outputId": "28910f11-5f44-44e0-d20a-b5a5c7491099"
      },
      "id": "G2-yExYSOYYa",
      "execution_count": null,
      "outputs": [
        {
          "output_type": "execute_result",
          "data": {
            "text/plain": [
              "<IPython.core.display.HTML object>"
            ],
            "text/html": [
              "<script>\n",
              "    code_show=true; \n",
              "    function code_toggle() {\n",
              "     if (code_show){\n",
              "     $('div.input').hide();\n",
              "     } else {\n",
              "     $('div.input').show();\n",
              "     }\n",
              "     code_show = !code_show\n",
              "    } \n",
              "    $( document ).ready(code_toggle);\n",
              "    </script>\n",
              "    <form action=\"javascript:code_toggle()\"><input type=\"submit\" value=\"Mostrar/Ocultar Código\"></form>"
            ]
          },
          "metadata": {},
          "execution_count": 59
        }
      ]
    },
    {
      "cell_type": "markdown",
      "id": "51c91005-9687-4e30-85f2-5bd943fd83dd",
      "metadata": {
        "id": "51c91005-9687-4e30-85f2-5bd943fd83dd"
      },
      "source": [
        "# Conjunto de Elementos\n"
      ]
    },
    {
      "cell_type": "markdown",
      "id": "a8769a93-a748-425c-b8db-b3b5330d6d50",
      "metadata": {
        "tags": [],
        "id": "a8769a93-a748-425c-b8db-b3b5330d6d50"
      },
      "source": [
        "<br>\n",
        "<img src=\"https://miro.medium.com/v2/resize:fit:1400/1*YAt01yr9Bnba_yg3KORCHw.gif\" width=700, align=\"center\">\n",
        "<br>\n",
        "\n",
        "[imagem](\"https://miro.medium.com/v2/resize:fit:1400/1*YAt01yr9Bnba_yg3KORCHw.gif\")\n"
      ]
    },
    {
      "cell_type": "markdown",
      "source": [
        "## **População** <br>\n",
        "\n",
        "Conjunto de elementos que tem pelo menos uma característica em comum. Esta característica deve delimitar corretamente quais são os elementos da população que podem ser animados ou inanimados.\n",
        "\n",
        "\n"
      ],
      "metadata": {
        "id": "SDgz6jY38-Mz"
      },
      "id": "SDgz6jY38-Mz"
    },
    {
      "cell_type": "markdown",
      "source": [
        "## **Amostra** <br>\n",
        "**Subconjunto de elementos de uma população.** deve ter dimensão menor que o da população e seus elementos devem ser representativos da população.\n",
        "<br>\n",
        "A seleção dos elementos que irão compor a amostra pode ser feita de várias maneiras e irá depender do conhecimento que se tem da população e da quantidade de recursos disponíveis.\n",
        "<br>\n",
        "**A estatística inferencial é a área que trata e apresenta a metodologia de amostragem.** Em se tratando de conjuntos-subconjuntos, estes podem ser: Finitos: possuem um número limitado de elementos. Infinitos: possuem um número ilimitado de elementos."
      ],
      "metadata": {
        "id": "n8TIjoAe9vz6"
      },
      "id": "n8TIjoAe9vz6"
    },
    {
      "cell_type": "markdown",
      "id": "8aa13998-9d1e-4c1b-9910-6d8de7096cd5",
      "metadata": {
        "id": "8aa13998-9d1e-4c1b-9910-6d8de7096cd5",
        "tags": []
      },
      "source": [
        "# **O que é a Estatistica?**"
      ]
    },
    {
      "cell_type": "markdown",
      "id": "fed73fc3-098d-44c2-8f1d-f77935bf3752",
      "metadata": {
        "id": "fed73fc3-098d-44c2-8f1d-f77935bf3752"
      },
      "source": [
        "> Estatística é a ciência que apresenta processos próprios para coletar, apresentar e interpretar adequadamente conjuntos de dados, sejam eles numéricos ou não.\n",
        "<br>\n",
        "<br>\n",
        "**Objetivo:** apresentar informações sobre dados em análise para que se tenha maior compreensão dos fatos que os mesmos representam.\n",
        "<br>\n",
        "<br>\n",
        "A Estatística subdivide-se em duas áreas: <br>\n",
        "\n"
      ]
    },
    {
      "cell_type": "markdown",
      "source": [
        "## **Estatística Descritiva**\n",
        "\n",
        "> Seu objetivo básico é o de `sintetizar uma série de valores de mesma natureza`, permitindo dessa forma que se tenha uma visão global da variação desses valores, **`organiza e descreve os dados`** de três maneiras por meio de:\n",
        "- Tabelas;\n",
        "- Gráficos;\n",
        "- Medidas descritivas.\n",
        "\n"
      ],
      "metadata": {
        "id": "b7IC68Tm9gAq"
      },
      "id": "b7IC68Tm9gAq"
    },
    {
      "cell_type": "markdown",
      "source": [
        "## **Estatística Inferencial**\n",
        "> A estatística inferencial `utiliza amostras` de dados para fazer `inferências ou generalizações sobre uma população maior`.\n",
        "<br>\n",
        "<br>\n",
        "Ao contrário da estatística descritiva, que apenas descreve os dados, a estatística inferencial vai além para **tirar conclusões, prever tendências futuras e testar hipóteses.**"
      ],
      "metadata": {
        "id": "5CINMMKQ9ibE"
      },
      "id": "5CINMMKQ9ibE"
    },
    {
      "cell_type": "markdown",
      "source": [
        "# **Principais Conceitos: Estatística Descritiva**"
      ],
      "metadata": {
        "id": "5Xtu79rN-MDb"
      },
      "id": "5Xtu79rN-MDb"
    },
    {
      "cell_type": "markdown",
      "source": [
        "## Base de dados para Exemplificar"
      ],
      "metadata": {
        "id": "mfhpWuDMR3AZ"
      },
      "id": "mfhpWuDMR3AZ"
    },
    {
      "cell_type": "code",
      "execution_count": null,
      "id": "46861190-423e-44c4-83d9-0274497ac9f6",
      "metadata": {
        "id": "46861190-423e-44c4-83d9-0274497ac9f6",
        "outputId": "50fde11d-0586-4251-a316-5888e4886b86",
        "tags": [],
        "colab": {
          "base_uri": "https://localhost:8080/",
          "height": 161
        }
      },
      "outputs": [
        {
          "output_type": "execute_result",
          "data": {
            "text/plain": [
              "           id             date     price  bedrooms  bathrooms  sqft_living  \\\n",
              "0  7129300520  20141013T000000  221900.0         3       1.00         1180   \n",
              "1  6414100192  20141209T000000  538000.0         3       2.25         2570   \n",
              "\n",
              "   sqft_lot  floors  waterfront  view  ...  grade  sqft_above  sqft_basement  \\\n",
              "0      5650     1.0           0     0  ...      7        1180              0   \n",
              "1      7242     2.0           0     0  ...      7        2170            400   \n",
              "\n",
              "   yr_built  yr_renovated  zipcode      lat     long  sqft_living15  \\\n",
              "0      1955             0    98178  47.5112 -122.257           1340   \n",
              "1      1951          1991    98125  47.7210 -122.319           1690   \n",
              "\n",
              "   sqft_lot15  \n",
              "0        5650  \n",
              "1        7639  \n",
              "\n",
              "[2 rows x 21 columns]"
            ],
            "text/html": [
              "\n",
              "  <div id=\"df-f77a7735-5f7c-4c5d-b118-00cf6a7a8f38\" class=\"colab-df-container\">\n",
              "    <div>\n",
              "<style scoped>\n",
              "    .dataframe tbody tr th:only-of-type {\n",
              "        vertical-align: middle;\n",
              "    }\n",
              "\n",
              "    .dataframe tbody tr th {\n",
              "        vertical-align: top;\n",
              "    }\n",
              "\n",
              "    .dataframe thead th {\n",
              "        text-align: right;\n",
              "    }\n",
              "</style>\n",
              "<table border=\"1\" class=\"dataframe\">\n",
              "  <thead>\n",
              "    <tr style=\"text-align: right;\">\n",
              "      <th></th>\n",
              "      <th>id</th>\n",
              "      <th>date</th>\n",
              "      <th>price</th>\n",
              "      <th>bedrooms</th>\n",
              "      <th>bathrooms</th>\n",
              "      <th>sqft_living</th>\n",
              "      <th>sqft_lot</th>\n",
              "      <th>floors</th>\n",
              "      <th>waterfront</th>\n",
              "      <th>view</th>\n",
              "      <th>...</th>\n",
              "      <th>grade</th>\n",
              "      <th>sqft_above</th>\n",
              "      <th>sqft_basement</th>\n",
              "      <th>yr_built</th>\n",
              "      <th>yr_renovated</th>\n",
              "      <th>zipcode</th>\n",
              "      <th>lat</th>\n",
              "      <th>long</th>\n",
              "      <th>sqft_living15</th>\n",
              "      <th>sqft_lot15</th>\n",
              "    </tr>\n",
              "  </thead>\n",
              "  <tbody>\n",
              "    <tr>\n",
              "      <th>0</th>\n",
              "      <td>7129300520</td>\n",
              "      <td>20141013T000000</td>\n",
              "      <td>221900.0</td>\n",
              "      <td>3</td>\n",
              "      <td>1.00</td>\n",
              "      <td>1180</td>\n",
              "      <td>5650</td>\n",
              "      <td>1.0</td>\n",
              "      <td>0</td>\n",
              "      <td>0</td>\n",
              "      <td>...</td>\n",
              "      <td>7</td>\n",
              "      <td>1180</td>\n",
              "      <td>0</td>\n",
              "      <td>1955</td>\n",
              "      <td>0</td>\n",
              "      <td>98178</td>\n",
              "      <td>47.5112</td>\n",
              "      <td>-122.257</td>\n",
              "      <td>1340</td>\n",
              "      <td>5650</td>\n",
              "    </tr>\n",
              "    <tr>\n",
              "      <th>1</th>\n",
              "      <td>6414100192</td>\n",
              "      <td>20141209T000000</td>\n",
              "      <td>538000.0</td>\n",
              "      <td>3</td>\n",
              "      <td>2.25</td>\n",
              "      <td>2570</td>\n",
              "      <td>7242</td>\n",
              "      <td>2.0</td>\n",
              "      <td>0</td>\n",
              "      <td>0</td>\n",
              "      <td>...</td>\n",
              "      <td>7</td>\n",
              "      <td>2170</td>\n",
              "      <td>400</td>\n",
              "      <td>1951</td>\n",
              "      <td>1991</td>\n",
              "      <td>98125</td>\n",
              "      <td>47.7210</td>\n",
              "      <td>-122.319</td>\n",
              "      <td>1690</td>\n",
              "      <td>7639</td>\n",
              "    </tr>\n",
              "  </tbody>\n",
              "</table>\n",
              "<p>2 rows × 21 columns</p>\n",
              "</div>\n",
              "    <div class=\"colab-df-buttons\">\n",
              "\n",
              "  <div class=\"colab-df-container\">\n",
              "    <button class=\"colab-df-convert\" onclick=\"convertToInteractive('df-f77a7735-5f7c-4c5d-b118-00cf6a7a8f38')\"\n",
              "            title=\"Convert this dataframe to an interactive table.\"\n",
              "            style=\"display:none;\">\n",
              "\n",
              "  <svg xmlns=\"http://www.w3.org/2000/svg\" height=\"24px\" viewBox=\"0 -960 960 960\">\n",
              "    <path d=\"M120-120v-720h720v720H120Zm60-500h600v-160H180v160Zm220 220h160v-160H400v160Zm0 220h160v-160H400v160ZM180-400h160v-160H180v160Zm440 0h160v-160H620v160ZM180-180h160v-160H180v160Zm440 0h160v-160H620v160Z\"/>\n",
              "  </svg>\n",
              "    </button>\n",
              "\n",
              "  <style>\n",
              "    .colab-df-container {\n",
              "      display:flex;\n",
              "      gap: 12px;\n",
              "    }\n",
              "\n",
              "    .colab-df-convert {\n",
              "      background-color: #E8F0FE;\n",
              "      border: none;\n",
              "      border-radius: 50%;\n",
              "      cursor: pointer;\n",
              "      display: none;\n",
              "      fill: #1967D2;\n",
              "      height: 32px;\n",
              "      padding: 0 0 0 0;\n",
              "      width: 32px;\n",
              "    }\n",
              "\n",
              "    .colab-df-convert:hover {\n",
              "      background-color: #E2EBFA;\n",
              "      box-shadow: 0px 1px 2px rgba(60, 64, 67, 0.3), 0px 1px 3px 1px rgba(60, 64, 67, 0.15);\n",
              "      fill: #174EA6;\n",
              "    }\n",
              "\n",
              "    .colab-df-buttons div {\n",
              "      margin-bottom: 4px;\n",
              "    }\n",
              "\n",
              "    [theme=dark] .colab-df-convert {\n",
              "      background-color: #3B4455;\n",
              "      fill: #D2E3FC;\n",
              "    }\n",
              "\n",
              "    [theme=dark] .colab-df-convert:hover {\n",
              "      background-color: #434B5C;\n",
              "      box-shadow: 0px 1px 3px 1px rgba(0, 0, 0, 0.15);\n",
              "      filter: drop-shadow(0px 1px 2px rgba(0, 0, 0, 0.3));\n",
              "      fill: #FFFFFF;\n",
              "    }\n",
              "  </style>\n",
              "\n",
              "    <script>\n",
              "      const buttonEl =\n",
              "        document.querySelector('#df-f77a7735-5f7c-4c5d-b118-00cf6a7a8f38 button.colab-df-convert');\n",
              "      buttonEl.style.display =\n",
              "        google.colab.kernel.accessAllowed ? 'block' : 'none';\n",
              "\n",
              "      async function convertToInteractive(key) {\n",
              "        const element = document.querySelector('#df-f77a7735-5f7c-4c5d-b118-00cf6a7a8f38');\n",
              "        const dataTable =\n",
              "          await google.colab.kernel.invokeFunction('convertToInteractive',\n",
              "                                                    [key], {});\n",
              "        if (!dataTable) return;\n",
              "\n",
              "        const docLinkHtml = 'Like what you see? Visit the ' +\n",
              "          '<a target=\"_blank\" href=https://colab.research.google.com/notebooks/data_table.ipynb>data table notebook</a>'\n",
              "          + ' to learn more about interactive tables.';\n",
              "        element.innerHTML = '';\n",
              "        dataTable['output_type'] = 'display_data';\n",
              "        await google.colab.output.renderOutput(dataTable, element);\n",
              "        const docLink = document.createElement('div');\n",
              "        docLink.innerHTML = docLinkHtml;\n",
              "        element.appendChild(docLink);\n",
              "      }\n",
              "    </script>\n",
              "  </div>\n",
              "\n",
              "\n",
              "<div id=\"df-b116e559-cc57-49a0-b47e-83b3172c1374\">\n",
              "  <button class=\"colab-df-quickchart\" onclick=\"quickchart('df-b116e559-cc57-49a0-b47e-83b3172c1374')\"\n",
              "            title=\"Suggest charts\"\n",
              "            style=\"display:none;\">\n",
              "\n",
              "<svg xmlns=\"http://www.w3.org/2000/svg\" height=\"24px\"viewBox=\"0 0 24 24\"\n",
              "     width=\"24px\">\n",
              "    <g>\n",
              "        <path d=\"M19 3H5c-1.1 0-2 .9-2 2v14c0 1.1.9 2 2 2h14c1.1 0 2-.9 2-2V5c0-1.1-.9-2-2-2zM9 17H7v-7h2v7zm4 0h-2V7h2v10zm4 0h-2v-4h2v4z\"/>\n",
              "    </g>\n",
              "</svg>\n",
              "  </button>\n",
              "\n",
              "<style>\n",
              "  .colab-df-quickchart {\n",
              "      --bg-color: #E8F0FE;\n",
              "      --fill-color: #1967D2;\n",
              "      --hover-bg-color: #E2EBFA;\n",
              "      --hover-fill-color: #174EA6;\n",
              "      --disabled-fill-color: #AAA;\n",
              "      --disabled-bg-color: #DDD;\n",
              "  }\n",
              "\n",
              "  [theme=dark] .colab-df-quickchart {\n",
              "      --bg-color: #3B4455;\n",
              "      --fill-color: #D2E3FC;\n",
              "      --hover-bg-color: #434B5C;\n",
              "      --hover-fill-color: #FFFFFF;\n",
              "      --disabled-bg-color: #3B4455;\n",
              "      --disabled-fill-color: #666;\n",
              "  }\n",
              "\n",
              "  .colab-df-quickchart {\n",
              "    background-color: var(--bg-color);\n",
              "    border: none;\n",
              "    border-radius: 50%;\n",
              "    cursor: pointer;\n",
              "    display: none;\n",
              "    fill: var(--fill-color);\n",
              "    height: 32px;\n",
              "    padding: 0;\n",
              "    width: 32px;\n",
              "  }\n",
              "\n",
              "  .colab-df-quickchart:hover {\n",
              "    background-color: var(--hover-bg-color);\n",
              "    box-shadow: 0 1px 2px rgba(60, 64, 67, 0.3), 0 1px 3px 1px rgba(60, 64, 67, 0.15);\n",
              "    fill: var(--button-hover-fill-color);\n",
              "  }\n",
              "\n",
              "  .colab-df-quickchart-complete:disabled,\n",
              "  .colab-df-quickchart-complete:disabled:hover {\n",
              "    background-color: var(--disabled-bg-color);\n",
              "    fill: var(--disabled-fill-color);\n",
              "    box-shadow: none;\n",
              "  }\n",
              "\n",
              "  .colab-df-spinner {\n",
              "    border: 2px solid var(--fill-color);\n",
              "    border-color: transparent;\n",
              "    border-bottom-color: var(--fill-color);\n",
              "    animation:\n",
              "      spin 1s steps(1) infinite;\n",
              "  }\n",
              "\n",
              "  @keyframes spin {\n",
              "    0% {\n",
              "      border-color: transparent;\n",
              "      border-bottom-color: var(--fill-color);\n",
              "      border-left-color: var(--fill-color);\n",
              "    }\n",
              "    20% {\n",
              "      border-color: transparent;\n",
              "      border-left-color: var(--fill-color);\n",
              "      border-top-color: var(--fill-color);\n",
              "    }\n",
              "    30% {\n",
              "      border-color: transparent;\n",
              "      border-left-color: var(--fill-color);\n",
              "      border-top-color: var(--fill-color);\n",
              "      border-right-color: var(--fill-color);\n",
              "    }\n",
              "    40% {\n",
              "      border-color: transparent;\n",
              "      border-right-color: var(--fill-color);\n",
              "      border-top-color: var(--fill-color);\n",
              "    }\n",
              "    60% {\n",
              "      border-color: transparent;\n",
              "      border-right-color: var(--fill-color);\n",
              "    }\n",
              "    80% {\n",
              "      border-color: transparent;\n",
              "      border-right-color: var(--fill-color);\n",
              "      border-bottom-color: var(--fill-color);\n",
              "    }\n",
              "    90% {\n",
              "      border-color: transparent;\n",
              "      border-bottom-color: var(--fill-color);\n",
              "    }\n",
              "  }\n",
              "</style>\n",
              "\n",
              "  <script>\n",
              "    async function quickchart(key) {\n",
              "      const quickchartButtonEl =\n",
              "        document.querySelector('#' + key + ' button');\n",
              "      quickchartButtonEl.disabled = true;  // To prevent multiple clicks.\n",
              "      quickchartButtonEl.classList.add('colab-df-spinner');\n",
              "      try {\n",
              "        const charts = await google.colab.kernel.invokeFunction(\n",
              "            'suggestCharts', [key], {});\n",
              "      } catch (error) {\n",
              "        console.error('Error during call to suggestCharts:', error);\n",
              "      }\n",
              "      quickchartButtonEl.classList.remove('colab-df-spinner');\n",
              "      quickchartButtonEl.classList.add('colab-df-quickchart-complete');\n",
              "    }\n",
              "    (() => {\n",
              "      let quickchartButtonEl =\n",
              "        document.querySelector('#df-b116e559-cc57-49a0-b47e-83b3172c1374 button');\n",
              "      quickchartButtonEl.style.display =\n",
              "        google.colab.kernel.accessAllowed ? 'block' : 'none';\n",
              "    })();\n",
              "  </script>\n",
              "</div>\n",
              "\n",
              "    </div>\n",
              "  </div>\n"
            ],
            "application/vnd.google.colaboratory.intrinsic+json": {
              "type": "dataframe",
              "variable_name": "df"
            }
          },
          "metadata": {},
          "execution_count": 60
        }
      ],
      "source": [
        "import pandas as pd\n",
        "df = pd.read_csv('https://raw.githubusercontent.com/tuliofor/dados_aula/main/kc_house_data.csv')\n",
        "df.head(2)"
      ]
    },
    {
      "cell_type": "markdown",
      "id": "3ae4f155-2a43-4aa9-9b3b-8b6fd4208809",
      "metadata": {
        "id": "3ae4f155-2a43-4aa9-9b3b-8b6fd4208809",
        "tags": [],
        "toc-hr-collapsed": true
      },
      "source": [
        "## **Medidas de Tendência Central**\n",
        "Indicadores que identificam o ponto central de um conjunto de dados.\n",
        "   - **Média:** A soma de todos os valores dividida pelo número de valores.\n",
        "   - **Mediana:** O valor central que divide o conjunto de dados em duas partes iguais.\n",
        "   - **Moda:** O valor mais frequente em um conjunto de dados."
      ]
    },
    {
      "cell_type": "markdown",
      "id": "c0246e14-1f46-4c9d-a221-8fc731358dd3",
      "metadata": {
        "id": "c0246e14-1f46-4c9d-a221-8fc731358dd3",
        "tags": []
      },
      "source": [
        "### Média  --> **mean( )**\n",
        "Valor onde estão concentrados os dados"
      ]
    },
    {
      "cell_type": "markdown",
      "id": "f871d7b9-be9f-4dcf-ad1f-c453619f3815",
      "metadata": {
        "id": "f871d7b9-be9f-4dcf-ad1f-c453619f3815",
        "tags": []
      },
      "source": [
        "A média é uma medida de tendência central que indica o valor onde estão concentrados os dados de um conjunto de valores, representando um valor significativo para o mesmo."
      ]
    },
    {
      "cell_type": "code",
      "execution_count": null,
      "id": "2002ace5-61a1-42fe-948d-7a016d8dee6a",
      "metadata": {
        "id": "2002ace5-61a1-42fe-948d-7a016d8dee6a",
        "outputId": "5af6044d-5dea-4d21-820c-6c3f09419f7a",
        "tags": [],
        "colab": {
          "base_uri": "https://localhost:8080/"
        }
      },
      "outputs": [
        {
          "output_type": "execute_result",
          "data": {
            "text/plain": [
              "3.37084162309721"
            ]
          },
          "metadata": {},
          "execution_count": 61
        }
      ],
      "source": [
        "#iremos calcular a média dos valores contidos na coluna 'bedrooms'\n",
        "media = df['bedrooms'].mean()\n",
        "media"
      ]
    },
    {
      "cell_type": "code",
      "source": [
        "#Passo 1: Importação das Bibliotecas Necessárias\n",
        "import pandas as pd\n",
        "import numpy as np\n",
        "import matplotlib.pyplot as plt\n",
        "\n",
        "#Passo 2: Criação de um Conjunto de Dados de Exemplo\n",
        "# Dados fictícios de alturas de pessoas (em cm)\n",
        "alturas = [165, 170, 175, 160, 180, 155, 168, 172, 177, 169, 171, 174, 158, 176, 165]\n",
        "# Criando um DataFrame\n",
        "df1 = pd.DataFrame(alturas, columns=['Alturas'])\n",
        "\n",
        "#Passo 3: Cálculo da Média\n",
        "# Cálculo da Média\n",
        "media_alturas = df1['Alturas'].mean()\n",
        "print(f\"A média das alturas é: {media_alturas} cm\")\n",
        "\n",
        "#Passo 4: Visualização da Média com um Gráfico\n",
        "# Plotando um histograma das alturas\n",
        "plt.figure(figsize=(10, 6))\n",
        "plt.hist(df1['Alturas'], bins=8, edgecolor='black', alpha=0.7, color='skyblue')\n",
        "\n",
        "# Adicionando uma linha vertical para a média\n",
        "plt.axvline(media_alturas, color='red', linestyle='dashed', linewidth=2, label=f'Média: {media_alturas:.2f} cm')\n",
        "\n",
        "# Títulos e rótulos\n",
        "plt.title('Distribuição das Alturas com a Média')\n",
        "plt.xlabel('Altura (cm)')\n",
        "plt.ylabel('Frequência')\n",
        "plt.legend()\n",
        "plt.show()\n"
      ],
      "metadata": {
        "colab": {
          "base_uri": "https://localhost:8080/",
          "height": 582
        },
        "id": "Wps9Ti2GLQM5",
        "outputId": "c6e762c6-a922-4de9-8ef3-c67b7cb3a4a3"
      },
      "id": "Wps9Ti2GLQM5",
      "execution_count": null,
      "outputs": [
        {
          "output_type": "stream",
          "name": "stdout",
          "text": [
            "A média das alturas é: 169.0 cm\n"
          ]
        },
        {
          "output_type": "display_data",
          "data": {
            "text/plain": [
              "<Figure size 1000x600 with 1 Axes>"
            ],
            "image/png": "[encoded data removed]"
          },
          "metadata": {}
        }
      ]
    },
    {
      "cell_type": "markdown",
      "id": "f8fa94e2-d67c-4fa1-abf6-7fb631d37fdc",
      "metadata": {
        "id": "f8fa94e2-d67c-4fa1-abf6-7fb631d37fdc",
        "tags": []
      },
      "source": [
        "### Mediana --> **median( )**\n",
        "\n",
        "**Valor que separa** a metade superior da metade inferior de uma distribuição de dados"
      ]
    },
    {
      "cell_type": "markdown",
      "id": "bb3b085c-b8ea-47ab-8fbb-34d0c2ca538e",
      "metadata": {
        "id": "bb3b085c-b8ea-47ab-8fbb-34d0c2ca538e",
        "tags": []
      },
      "source": [
        "\n",
        "\n",
        "A mediana é o valor que separa a metade superior da metade inferior de uma distribuição de dados, ou o valor no centro da distribuição. Na prática, se o número de observações na distribuição é ímpar, ele é o valor central, e se o número de observações é par, ele será a média das duas observações mais centrais.\n",
        "\n",
        "<BR>\n",
        "\n",
        "A mediana é um conceito menos suscetível a grandes valores discrepantes do que a média. Se o número de observações não é muito grande e você tem uma observação que é muito maior do que os outros, a sua média pode começar a ficar menos representativa com relação à maioria do seu grupo.\n",
        "\n",
        "<br>\n",
        "Por exemplo, se você está analisando o rendimento de uma classe da faculdade e um deles é um milionário, enquanto o restante é o trabalhador médio da empresa, a mediana será, provavelmente, uma melhor representação dos rendimentos do grupo como um todo, uma vez que a média estará “contaminada” pelo valor discrepante."
      ]
    },
    {
      "cell_type": "code",
      "execution_count": null,
      "id": "ef74a6de-618f-444b-93b3-67549d62a4eb",
      "metadata": {
        "id": "ef74a6de-618f-444b-93b3-67549d62a4eb",
        "outputId": "e26653e0-fd2d-4ffb-b82c-6419166a4b40",
        "colab": {
          "base_uri": "https://localhost:8080/"
        }
      },
      "outputs": [
        {
          "output_type": "execute_result",
          "data": {
            "text/plain": [
              "3.0"
            ]
          },
          "metadata": {},
          "execution_count": 63
        }
      ],
      "source": [
        "#iremos calcular a mediana dos valores contidos na coluna 'bedrooms'\n",
        "mediana = df['bedrooms'].median()\n",
        "mediana\n",
        "\n"
      ]
    },
    {
      "cell_type": "markdown",
      "id": "187cfdfd-62f3-4d62-a6d7-c0de4f763dea",
      "metadata": {
        "id": "187cfdfd-62f3-4d62-a6d7-c0de4f763dea",
        "tags": []
      },
      "source": [
        "### Moda --> **mode( )**\n",
        "\n",
        "o **valor que mais se repete** dentro de um conjunto."
      ]
    },
    {
      "cell_type": "code",
      "execution_count": null,
      "id": "92dd26aa-abf3-4047-94ba-d15ecf190bc7",
      "metadata": {
        "id": "92dd26aa-abf3-4047-94ba-d15ecf190bc7",
        "outputId": "237da88b-6683-4403-9846-06d1e9c45767",
        "tags": [],
        "colab": {
          "base_uri": "https://localhost:8080/",
          "height": 115
        }
      },
      "outputs": [
        {
          "output_type": "execute_result",
          "data": {
            "text/plain": [
              "0    3\n",
              "Name: bedrooms, dtype: int64"
            ],
            "text/html": [
              "<div>\n",
              "<style scoped>\n",
              "    .dataframe tbody tr th:only-of-type {\n",
              "        vertical-align: middle;\n",
              "    }\n",
              "\n",
              "    .dataframe tbody tr th {\n",
              "        vertical-align: top;\n",
              "    }\n",
              "\n",
              "    .dataframe thead th {\n",
              "        text-align: right;\n",
              "    }\n",
              "</style>\n",
              "<table border=\"1\" class=\"dataframe\">\n",
              "  <thead>\n",
              "    <tr style=\"text-align: right;\">\n",
              "      <th></th>\n",
              "      <th>bedrooms</th>\n",
              "    </tr>\n",
              "  </thead>\n",
              "  <tbody>\n",
              "    <tr>\n",
              "      <th>0</th>\n",
              "      <td>3</td>\n",
              "    </tr>\n",
              "  </tbody>\n",
              "</table>\n",
              "</div><br><label><b>dtype:</b> int64</label>"
            ]
          },
          "metadata": {},
          "execution_count": 64
        }
      ],
      "source": [
        "moda = df['bedrooms'].mode()\n",
        "moda"
      ]
    },
    {
      "cell_type": "markdown",
      "source": [
        "\n",
        "## **Medidas de Posição Relativa**\n",
        "Indicadores que posicionam um valor específico dentro do conjunto de dados.\n",
        "   - **Quartis:** Dividem os dados em quatro partes iguais.\n",
        "   - **Percentis:** Dividem os dados em 100 partes iguais.\n",
        "   - **Z-Score:** Mede quantos desvios padrão um valor está acima ou abaixo da média."
      ],
      "metadata": {
        "id": "dWJ8ljqxFjWR"
      },
      "id": "dWJ8ljqxFjWR"
    },
    {
      "cell_type": "markdown",
      "source": [
        "### Quartis --> **quantile(q=n)** n: porcentagem 0-1\n",
        "**percentual** dos dados"
      ],
      "metadata": {
        "id": "Xv4lCMJ9_7-M"
      },
      "id": "Xv4lCMJ9_7-M"
    },
    {
      "cell_type": "markdown",
      "id": "7a9cb059-ac81-4deb-ab80-4c3f31346fb2",
      "metadata": {
        "id": "7a9cb059-ac81-4deb-ab80-4c3f31346fb2"
      },
      "source": [
        "O quantil pode ser entendido como uma generalização da mediana. O quantil é o valor abaixo do qual está um certo **percentual** dos dados. No caso da mediana, esse percentual é de 50%."
      ]
    },
    {
      "cell_type": "code",
      "execution_count": null,
      "id": "218b4f51-e4c3-4148-980d-5000de5fd1e3",
      "metadata": {
        "id": "218b4f51-e4c3-4148-980d-5000de5fd1e3",
        "outputId": "a323b9b2-b46a-467b-bbc4-c19bd47c45d3",
        "tags": [],
        "colab": {
          "base_uri": "https://localhost:8080/"
        }
      },
      "outputs": [
        {
          "output_type": "execute_result",
          "data": {
            "text/plain": [
              "4.0"
            ]
          },
          "metadata": {},
          "execution_count": 65
        }
      ],
      "source": [
        "#iremos calcular o **terceiro quantil** dos valores contidos na coluna 'bedrooms'\n",
        "quantile_3 = df['bedrooms'].quantile(q=0.75)\n",
        "quantile_3"
      ]
    },
    {
      "cell_type": "markdown",
      "id": "4aa70c23-38b2-46d3-bf89-86fa9b63f39a",
      "metadata": {
        "id": "4aa70c23-38b2-46d3-bf89-86fa9b63f39a",
        "tags": []
      },
      "source": [
        "## **Frequência**\n",
        "Colocar os dados brutos de cada uma das variáveis quantitativas em uma ordem crescente ou decrescente"
      ]
    },
    {
      "cell_type": "code",
      "execution_count": null,
      "id": "9386b6b9-123e-47e6-a86c-e53dd8ba5e69",
      "metadata": {
        "id": "9386b6b9-123e-47e6-a86c-e53dd8ba5e69",
        "outputId": "6da9f313-defb-48ab-a02b-829b9dea1277",
        "tags": [],
        "colab": {
          "base_uri": "https://localhost:8080/",
          "height": 523
        }
      },
      "outputs": [
        {
          "output_type": "execute_result",
          "data": {
            "text/plain": [
              "bedrooms\n",
              "3     9824\n",
              "4     6882\n",
              "2     2760\n",
              "5     1601\n",
              "6      272\n",
              "1      199\n",
              "7       38\n",
              "0       13\n",
              "8       13\n",
              "9        6\n",
              "10       3\n",
              "11       1\n",
              "33       1\n",
              "Name: count, dtype: int64"
            ],
            "text/html": [
              "<div>\n",
              "<style scoped>\n",
              "    .dataframe tbody tr th:only-of-type {\n",
              "        vertical-align: middle;\n",
              "    }\n",
              "\n",
              "    .dataframe tbody tr th {\n",
              "        vertical-align: top;\n",
              "    }\n",
              "\n",
              "    .dataframe thead th {\n",
              "        text-align: right;\n",
              "    }\n",
              "</style>\n",
              "<table border=\"1\" class=\"dataframe\">\n",
              "  <thead>\n",
              "    <tr style=\"text-align: right;\">\n",
              "      <th></th>\n",
              "      <th>count</th>\n",
              "    </tr>\n",
              "    <tr>\n",
              "      <th>bedrooms</th>\n",
              "      <th></th>\n",
              "    </tr>\n",
              "  </thead>\n",
              "  <tbody>\n",
              "    <tr>\n",
              "      <th>3</th>\n",
              "      <td>9824</td>\n",
              "    </tr>\n",
              "    <tr>\n",
              "      <th>4</th>\n",
              "      <td>6882</td>\n",
              "    </tr>\n",
              "    <tr>\n",
              "      <th>2</th>\n",
              "      <td>2760</td>\n",
              "    </tr>\n",
              "    <tr>\n",
              "      <th>5</th>\n",
              "      <td>1601</td>\n",
              "    </tr>\n",
              "    <tr>\n",
              "      <th>6</th>\n",
              "      <td>272</td>\n",
              "    </tr>\n",
              "    <tr>\n",
              "      <th>1</th>\n",
              "      <td>199</td>\n",
              "    </tr>\n",
              "    <tr>\n",
              "      <th>7</th>\n",
              "      <td>38</td>\n",
              "    </tr>\n",
              "    <tr>\n",
              "      <th>0</th>\n",
              "      <td>13</td>\n",
              "    </tr>\n",
              "    <tr>\n",
              "      <th>8</th>\n",
              "      <td>13</td>\n",
              "    </tr>\n",
              "    <tr>\n",
              "      <th>9</th>\n",
              "      <td>6</td>\n",
              "    </tr>\n",
              "    <tr>\n",
              "      <th>10</th>\n",
              "      <td>3</td>\n",
              "    </tr>\n",
              "    <tr>\n",
              "      <th>11</th>\n",
              "      <td>1</td>\n",
              "    </tr>\n",
              "    <tr>\n",
              "      <th>33</th>\n",
              "      <td>1</td>\n",
              "    </tr>\n",
              "  </tbody>\n",
              "</table>\n",
              "</div><br><label><b>dtype:</b> int64</label>"
            ]
          },
          "metadata": {},
          "execution_count": 66
        }
      ],
      "source": [
        "# variavel a ser estudado com a frequência >>> 'bedrooms'\n",
        "\n",
        "#  <número de quartos>   <total imovéis com essa caracteristica>\n",
        "\n",
        "frequencia = df['bedrooms'].value_counts()\n",
        "frequencia"
      ]
    },
    {
      "cell_type": "markdown",
      "id": "b423c21c-550c-4e60-a49f-7f373c3a6b69",
      "metadata": {
        "id": "b423c21c-550c-4e60-a49f-7f373c3a6b69"
      },
      "source": [
        "### Frequência Relativa\n",
        "A frequência relativa é a proporção ou porcentagem da frequência absoluta em relação ao total de dados. É calculada dividindo a frequência absoluta pelo número total de observações.\n",
        "\n"
      ]
    },
    {
      "cell_type": "code",
      "source": [
        "# Agora iremos conhecer a composição em forma percentual dos dados em relação à variavél 'bedrooms'\n",
        "\n",
        "relativa = df['bedrooms'].value_counts(normalize = True)\n",
        "relativa"
      ],
      "metadata": {
        "colab": {
          "base_uri": "https://localhost:8080/"
        },
        "id": "2QvB1k03Iht7",
        "outputId": "dfce733a-c8df-4851-ce74-dbe5ce874f8b"
      },
      "id": "2QvB1k03Iht7",
      "execution_count": null,
      "outputs": [
        {
          "output_type": "execute_result",
          "data": {
            "text/plain": [
              "bedrooms\n",
              "3     0.454541\n",
              "4     0.318419\n",
              "2     0.127701\n",
              "5     0.074076\n",
              "6     0.012585\n",
              "1     0.009207\n",
              "7     0.001758\n",
              "0     0.000601\n",
              "8     0.000601\n",
              "9     0.000278\n",
              "10    0.000139\n",
              "11    0.000046\n",
              "33    0.000046\n",
              "Name: proportion, dtype: float64"
            ],
            "text/html": [
              "<div>\n",
              "<style scoped>\n",
              "    .dataframe tbody tr th:only-of-type {\n",
              "        vertical-align: middle;\n",
              "    }\n",
              "\n",
              "    .dataframe tbody tr th {\n",
              "        vertical-align: top;\n",
              "    }\n",
              "\n",
              "    .dataframe thead th {\n",
              "        text-align: right;\n",
              "    }\n",
              "</style>\n",
              "<table border=\"1\" class=\"dataframe\">\n",
              "  <thead>\n",
              "    <tr style=\"text-align: right;\">\n",
              "      <th></th>\n",
              "      <th>proportion</th>\n",
              "    </tr>\n",
              "    <tr>\n",
              "      <th>bedrooms</th>\n",
              "      <th></th>\n",
              "    </tr>\n",
              "  </thead>\n",
              "  <tbody>\n",
              "    <tr>\n",
              "      <th>3</th>\n",
              "      <td>0.454541</td>\n",
              "    </tr>\n",
              "    <tr>\n",
              "      <th>4</th>\n",
              "      <td>0.318419</td>\n",
              "    </tr>\n",
              "    <tr>\n",
              "      <th>2</th>\n",
              "      <td>0.127701</td>\n",
              "    </tr>\n",
              "    <tr>\n",
              "      <th>5</th>\n",
              "      <td>0.074076</td>\n",
              "    </tr>\n",
              "    <tr>\n",
              "      <th>6</th>\n",
              "      <td>0.012585</td>\n",
              "    </tr>\n",
              "    <tr>\n",
              "      <th>1</th>\n",
              "      <td>0.009207</td>\n",
              "    </tr>\n",
              "    <tr>\n",
              "      <th>7</th>\n",
              "      <td>0.001758</td>\n",
              "    </tr>\n",
              "    <tr>\n",
              "      <th>0</th>\n",
              "      <td>0.000601</td>\n",
              "    </tr>\n",
              "    <tr>\n",
              "      <th>8</th>\n",
              "      <td>0.000601</td>\n",
              "    </tr>\n",
              "    <tr>\n",
              "      <th>9</th>\n",
              "      <td>0.000278</td>\n",
              "    </tr>\n",
              "    <tr>\n",
              "      <th>10</th>\n",
              "      <td>0.000139</td>\n",
              "    </tr>\n",
              "    <tr>\n",
              "      <th>11</th>\n",
              "      <td>0.000046</td>\n",
              "    </tr>\n",
              "    <tr>\n",
              "      <th>33</th>\n",
              "      <td>0.000046</td>\n",
              "    </tr>\n",
              "  </tbody>\n",
              "</table>\n",
              "</div><br><label><b>dtype:</b> float64</label>"
            ]
          },
          "metadata": {},
          "execution_count": 67
        }
      ]
    },
    {
      "cell_type": "markdown",
      "id": "db1c89d1-04fe-4e87-8295-bdb6b1f2b229",
      "metadata": {
        "id": "db1c89d1-04fe-4e87-8295-bdb6b1f2b229",
        "tags": []
      },
      "source": [
        "### Frequência relativa em percentual\n",
        "\n",
        "Representando o percentual de observações que pertentual àquela categoria. A soma das freqüências deve, agora, ser igual a 100%;"
      ]
    },
    {
      "cell_type": "code",
      "execution_count": null,
      "id": "2409f9c9-6ca8-42b7-9268-82d4da3864b8",
      "metadata": {
        "id": "2409f9c9-6ca8-42b7-9268-82d4da3864b8",
        "tags": [],
        "colab": {
          "base_uri": "https://localhost:8080/",
          "height": 523
        },
        "outputId": "ffae9585-2e38-46af-81a3-a201e5d1cd39"
      },
      "outputs": [
        {
          "output_type": "execute_result",
          "data": {
            "text/plain": [
              "bedrooms\n",
              "3     45.454125\n",
              "4     31.841947\n",
              "2     12.770092\n",
              "5      7.407579\n",
              "6      1.258502\n",
              "1      0.920742\n",
              "7      0.175820\n",
              "0      0.060149\n",
              "8      0.060149\n",
              "9      0.027761\n",
              "10     0.013881\n",
              "11     0.004627\n",
              "33     0.004627\n",
              "Name: proportion, dtype: float64"
            ],
            "text/html": [
              "<div>\n",
              "<style scoped>\n",
              "    .dataframe tbody tr th:only-of-type {\n",
              "        vertical-align: middle;\n",
              "    }\n",
              "\n",
              "    .dataframe tbody tr th {\n",
              "        vertical-align: top;\n",
              "    }\n",
              "\n",
              "    .dataframe thead th {\n",
              "        text-align: right;\n",
              "    }\n",
              "</style>\n",
              "<table border=\"1\" class=\"dataframe\">\n",
              "  <thead>\n",
              "    <tr style=\"text-align: right;\">\n",
              "      <th></th>\n",
              "      <th>proportion</th>\n",
              "    </tr>\n",
              "    <tr>\n",
              "      <th>bedrooms</th>\n",
              "      <th></th>\n",
              "    </tr>\n",
              "  </thead>\n",
              "  <tbody>\n",
              "    <tr>\n",
              "      <th>3</th>\n",
              "      <td>45.454125</td>\n",
              "    </tr>\n",
              "    <tr>\n",
              "      <th>4</th>\n",
              "      <td>31.841947</td>\n",
              "    </tr>\n",
              "    <tr>\n",
              "      <th>2</th>\n",
              "      <td>12.770092</td>\n",
              "    </tr>\n",
              "    <tr>\n",
              "      <th>5</th>\n",
              "      <td>7.407579</td>\n",
              "    </tr>\n",
              "    <tr>\n",
              "      <th>6</th>\n",
              "      <td>1.258502</td>\n",
              "    </tr>\n",
              "    <tr>\n",
              "      <th>1</th>\n",
              "      <td>0.920742</td>\n",
              "    </tr>\n",
              "    <tr>\n",
              "      <th>7</th>\n",
              "      <td>0.175820</td>\n",
              "    </tr>\n",
              "    <tr>\n",
              "      <th>0</th>\n",
              "      <td>0.060149</td>\n",
              "    </tr>\n",
              "    <tr>\n",
              "      <th>8</th>\n",
              "      <td>0.060149</td>\n",
              "    </tr>\n",
              "    <tr>\n",
              "      <th>9</th>\n",
              "      <td>0.027761</td>\n",
              "    </tr>\n",
              "    <tr>\n",
              "      <th>10</th>\n",
              "      <td>0.013881</td>\n",
              "    </tr>\n",
              "    <tr>\n",
              "      <th>11</th>\n",
              "      <td>0.004627</td>\n",
              "    </tr>\n",
              "    <tr>\n",
              "      <th>33</th>\n",
              "      <td>0.004627</td>\n",
              "    </tr>\n",
              "  </tbody>\n",
              "</table>\n",
              "</div><br><label><b>dtype:</b> float64</label>"
            ]
          },
          "metadata": {},
          "execution_count": 68
        }
      ],
      "source": [
        "# Agora iremos conhecer a composição em forma percentual dos dados em relação à variavél 'bedrooms'\n",
        "\n",
        "percentual = df['bedrooms'].value_counts(normalize = True)*100\n",
        "percentual"
      ]
    },
    {
      "cell_type": "code",
      "execution_count": null,
      "id": "8393d850-dd75-47d8-9639-2292c94dfc53",
      "metadata": {
        "id": "8393d850-dd75-47d8-9639-2292c94dfc53",
        "tags": [],
        "colab": {
          "base_uri": "https://localhost:8080/",
          "height": 488
        },
        "outputId": "5dbac654-c381-4399-bf73-626b3c2c363d"
      },
      "outputs": [
        {
          "output_type": "execute_result",
          "data": {
            "text/plain": [
              "          Frequência  Porcentagem(%)\n",
              "bedrooms                            \n",
              "3               9824       45.454125\n",
              "4               6882       31.841947\n",
              "2               2760       12.770092\n",
              "5               1601        7.407579\n",
              "6                272        1.258502\n",
              "1                199        0.920742\n",
              "7                 38        0.175820\n",
              "0                 13        0.060149\n",
              "8                 13        0.060149\n",
              "9                  6        0.027761\n",
              "10                 3        0.013881\n",
              "11                 1        0.004627\n",
              "33                 1        0.004627"
            ],
            "text/html": [
              "\n",
              "  <div id=\"df-b5d82731-12de-4f12-8231-8f885b25e45d\" class=\"colab-df-container\">\n",
              "    <div>\n",
              "<style scoped>\n",
              "    .dataframe tbody tr th:only-of-type {\n",
              "        vertical-align: middle;\n",
              "    }\n",
              "\n",
              "    .dataframe tbody tr th {\n",
              "        vertical-align: top;\n",
              "    }\n",
              "\n",
              "    .dataframe thead th {\n",
              "        text-align: right;\n",
              "    }\n",
              "</style>\n",
              "<table border=\"1\" class=\"dataframe\">\n",
              "  <thead>\n",
              "    <tr style=\"text-align: right;\">\n",
              "      <th></th>\n",
              "      <th>Frequência</th>\n",
              "      <th>Porcentagem(%)</th>\n",
              "    </tr>\n",
              "    <tr>\n",
              "      <th>bedrooms</th>\n",
              "      <th></th>\n",
              "      <th></th>\n",
              "    </tr>\n",
              "  </thead>\n",
              "  <tbody>\n",
              "    <tr>\n",
              "      <th>3</th>\n",
              "      <td>9824</td>\n",
              "      <td>45.454125</td>\n",
              "    </tr>\n",
              "    <tr>\n",
              "      <th>4</th>\n",
              "      <td>6882</td>\n",
              "      <td>31.841947</td>\n",
              "    </tr>\n",
              "    <tr>\n",
              "      <th>2</th>\n",
              "      <td>2760</td>\n",
              "      <td>12.770092</td>\n",
              "    </tr>\n",
              "    <tr>\n",
              "      <th>5</th>\n",
              "      <td>1601</td>\n",
              "      <td>7.407579</td>\n",
              "    </tr>\n",
              "    <tr>\n",
              "      <th>6</th>\n",
              "      <td>272</td>\n",
              "      <td>1.258502</td>\n",
              "    </tr>\n",
              "    <tr>\n",
              "      <th>1</th>\n",
              "      <td>199</td>\n",
              "      <td>0.920742</td>\n",
              "    </tr>\n",
              "    <tr>\n",
              "      <th>7</th>\n",
              "      <td>38</td>\n",
              "      <td>0.175820</td>\n",
              "    </tr>\n",
              "    <tr>\n",
              "      <th>0</th>\n",
              "      <td>13</td>\n",
              "      <td>0.060149</td>\n",
              "    </tr>\n",
              "    <tr>\n",
              "      <th>8</th>\n",
              "      <td>13</td>\n",
              "      <td>0.060149</td>\n",
              "    </tr>\n",
              "    <tr>\n",
              "      <th>9</th>\n",
              "      <td>6</td>\n",
              "      <td>0.027761</td>\n",
              "    </tr>\n",
              "    <tr>\n",
              "      <th>10</th>\n",
              "      <td>3</td>\n",
              "      <td>0.013881</td>\n",
              "    </tr>\n",
              "    <tr>\n",
              "      <th>11</th>\n",
              "      <td>1</td>\n",
              "      <td>0.004627</td>\n",
              "    </tr>\n",
              "    <tr>\n",
              "      <th>33</th>\n",
              "      <td>1</td>\n",
              "      <td>0.004627</td>\n",
              "    </tr>\n",
              "  </tbody>\n",
              "</table>\n",
              "</div>\n",
              "    <div class=\"colab-df-buttons\">\n",
              "\n",
              "  <div class=\"colab-df-container\">\n",
              "    <button class=\"colab-df-convert\" onclick=\"convertToInteractive('df-b5d82731-12de-4f12-8231-8f885b25e45d')\"\n",
              "            title=\"Convert this dataframe to an interactive table.\"\n",
              "            style=\"display:none;\">\n",
              "\n",
              "  <svg xmlns=\"http://www.w3.org/2000/svg\" height=\"24px\" viewBox=\"0 -960 960 960\">\n",
              "    <path d=\"M120-120v-720h720v720H120Zm60-500h600v-160H180v160Zm220 220h160v-160H400v160Zm0 220h160v-160H400v160ZM180-400h160v-160H180v160Zm440 0h160v-160H620v160ZM180-180h160v-160H180v160Zm440 0h160v-160H620v160Z\"/>\n",
              "  </svg>\n",
              "    </button>\n",
              "\n",
              "  <style>\n",
              "    .colab-df-container {\n",
              "      display:flex;\n",
              "      gap: 12px;\n",
              "    }\n",
              "\n",
              "    .colab-df-convert {\n",
              "      background-color: #E8F0FE;\n",
              "      border: none;\n",
              "      border-radius: 50%;\n",
              "      cursor: pointer;\n",
              "      display: none;\n",
              "      fill: #1967D2;\n",
              "      height: 32px;\n",
              "      padding: 0 0 0 0;\n",
              "      width: 32px;\n",
              "    }\n",
              "\n",
              "    .colab-df-convert:hover {\n",
              "      background-color: #E2EBFA;\n",
              "      box-shadow: 0px 1px 2px rgba(60, 64, 67, 0.3), 0px 1px 3px 1px rgba(60, 64, 67, 0.15);\n",
              "      fill: #174EA6;\n",
              "    }\n",
              "\n",
              "    .colab-df-buttons div {\n",
              "      margin-bottom: 4px;\n",
              "    }\n",
              "\n",
              "    [theme=dark] .colab-df-convert {\n",
              "      background-color: #3B4455;\n",
              "      fill: #D2E3FC;\n",
              "    }\n",
              "\n",
              "    [theme=dark] .colab-df-convert:hover {\n",
              "      background-color: #434B5C;\n",
              "      box-shadow: 0px 1px 3px 1px rgba(0, 0, 0, 0.15);\n",
              "      filter: drop-shadow(0px 1px 2px rgba(0, 0, 0, 0.3));\n",
              "      fill: #FFFFFF;\n",
              "    }\n",
              "  </style>\n",
              "\n",
              "    <script>\n",
              "      const buttonEl =\n",
              "        document.querySelector('#df-b5d82731-12de-4f12-8231-8f885b25e45d button.colab-df-convert');\n",
              "      buttonEl.style.display =\n",
              "        google.colab.kernel.accessAllowed ? 'block' : 'none';\n",
              "\n",
              "      async function convertToInteractive(key) {\n",
              "        const element = document.querySelector('#df-b5d82731-12de-4f12-8231-8f885b25e45d');\n",
              "        const dataTable =\n",
              "          await google.colab.kernel.invokeFunction('convertToInteractive',\n",
              "                                                    [key], {});\n",
              "        if (!dataTable) return;\n",
              "\n",
              "        const docLinkHtml = 'Like what you see? Visit the ' +\n",
              "          '<a target=\"_blank\" href=https://colab.research.google.com/notebooks/data_table.ipynb>data table notebook</a>'\n",
              "          + ' to learn more about interactive tables.';\n",
              "        element.innerHTML = '';\n",
              "        dataTable['output_type'] = 'display_data';\n",
              "        await google.colab.output.renderOutput(dataTable, element);\n",
              "        const docLink = document.createElement('div');\n",
              "        docLink.innerHTML = docLinkHtml;\n",
              "        element.appendChild(docLink);\n",
              "      }\n",
              "    </script>\n",
              "  </div>\n",
              "\n",
              "\n",
              "<div id=\"df-7abc85e6-0014-4bac-a919-264bc421a9ab\">\n",
              "  <button class=\"colab-df-quickchart\" onclick=\"quickchart('df-7abc85e6-0014-4bac-a919-264bc421a9ab')\"\n",
              "            title=\"Suggest charts\"\n",
              "            style=\"display:none;\">\n",
              "\n",
              "<svg xmlns=\"http://www.w3.org/2000/svg\" height=\"24px\"viewBox=\"0 0 24 24\"\n",
              "     width=\"24px\">\n",
              "    <g>\n",
              "        <path d=\"M19 3H5c-1.1 0-2 .9-2 2v14c0 1.1.9 2 2 2h14c1.1 0 2-.9 2-2V5c0-1.1-.9-2-2-2zM9 17H7v-7h2v7zm4 0h-2V7h2v10zm4 0h-2v-4h2v4z\"/>\n",
              "    </g>\n",
              "</svg>\n",
              "  </button>\n",
              "\n",
              "<style>\n",
              "  .colab-df-quickchart {\n",
              "      --bg-color: #E8F0FE;\n",
              "      --fill-color: #1967D2;\n",
              "      --hover-bg-color: #E2EBFA;\n",
              "      --hover-fill-color: #174EA6;\n",
              "      --disabled-fill-color: #AAA;\n",
              "      --disabled-bg-color: #DDD;\n",
              "  }\n",
              "\n",
              "  [theme=dark] .colab-df-quickchart {\n",
              "      --bg-color: #3B4455;\n",
              "      --fill-color: #D2E3FC;\n",
              "      --hover-bg-color: #434B5C;\n",
              "      --hover-fill-color: #FFFFFF;\n",
              "      --disabled-bg-color: #3B4455;\n",
              "      --disabled-fill-color: #666;\n",
              "  }\n",
              "\n",
              "  .colab-df-quickchart {\n",
              "    background-color: var(--bg-color);\n",
              "    border: none;\n",
              "    border-radius: 50%;\n",
              "    cursor: pointer;\n",
              "    display: none;\n",
              "    fill: var(--fill-color);\n",
              "    height: 32px;\n",
              "    padding: 0;\n",
              "    width: 32px;\n",
              "  }\n",
              "\n",
              "  .colab-df-quickchart:hover {\n",
              "    background-color: var(--hover-bg-color);\n",
              "    box-shadow: 0 1px 2px rgba(60, 64, 67, 0.3), 0 1px 3px 1px rgba(60, 64, 67, 0.15);\n",
              "    fill: var(--button-hover-fill-color);\n",
              "  }\n",
              "\n",
              "  .colab-df-quickchart-complete:disabled,\n",
              "  .colab-df-quickchart-complete:disabled:hover {\n",
              "    background-color: var(--disabled-bg-color);\n",
              "    fill: var(--disabled-fill-color);\n",
              "    box-shadow: none;\n",
              "  }\n",
              "\n",
              "  .colab-df-spinner {\n",
              "    border: 2px solid var(--fill-color);\n",
              "    border-color: transparent;\n",
              "    border-bottom-color: var(--fill-color);\n",
              "    animation:\n",
              "      spin 1s steps(1) infinite;\n",
              "  }\n",
              "\n",
              "  @keyframes spin {\n",
              "    0% {\n",
              "      border-color: transparent;\n",
              "      border-bottom-color: var(--fill-color);\n",
              "      border-left-color: var(--fill-color);\n",
              "    }\n",
              "    20% {\n",
              "      border-color: transparent;\n",
              "      border-left-color: var(--fill-color);\n",
              "      border-top-color: var(--fill-color);\n",
              "    }\n",
              "    30% {\n",
              "      border-color: transparent;\n",
              "      border-left-color: var(--fill-color);\n",
              "      border-top-color: var(--fill-color);\n",
              "      border-right-color: var(--fill-color);\n",
              "    }\n",
              "    40% {\n",
              "      border-color: transparent;\n",
              "      border-right-color: var(--fill-color);\n",
              "      border-top-color: var(--fill-color);\n",
              "    }\n",
              "    60% {\n",
              "      border-color: transparent;\n",
              "      border-right-color: var(--fill-color);\n",
              "    }\n",
              "    80% {\n",
              "      border-color: transparent;\n",
              "      border-right-color: var(--fill-color);\n",
              "      border-bottom-color: var(--fill-color);\n",
              "    }\n",
              "    90% {\n",
              "      border-color: transparent;\n",
              "      border-bottom-color: var(--fill-color);\n",
              "    }\n",
              "  }\n",
              "</style>\n",
              "\n",
              "  <script>\n",
              "    async function quickchart(key) {\n",
              "      const quickchartButtonEl =\n",
              "        document.querySelector('#' + key + ' button');\n",
              "      quickchartButtonEl.disabled = true;  // To prevent multiple clicks.\n",
              "      quickchartButtonEl.classList.add('colab-df-spinner');\n",
              "      try {\n",
              "        const charts = await google.colab.kernel.invokeFunction(\n",
              "            'suggestCharts', [key], {});\n",
              "      } catch (error) {\n",
              "        console.error('Error during call to suggestCharts:', error);\n",
              "      }\n",
              "      quickchartButtonEl.classList.remove('colab-df-spinner');\n",
              "      quickchartButtonEl.classList.add('colab-df-quickchart-complete');\n",
              "    }\n",
              "    (() => {\n",
              "      let quickchartButtonEl =\n",
              "        document.querySelector('#df-7abc85e6-0014-4bac-a919-264bc421a9ab button');\n",
              "      quickchartButtonEl.style.display =\n",
              "        google.colab.kernel.accessAllowed ? 'block' : 'none';\n",
              "    })();\n",
              "  </script>\n",
              "</div>\n",
              "\n",
              "  <div id=\"id_007e2360-215c-480c-a018-5220fe4e9b15\">\n",
              "    <style>\n",
              "      .colab-df-generate {\n",
              "        background-color: #E8F0FE;\n",
              "        border: none;\n",
              "        border-radius: 50%;\n",
              "        cursor: pointer;\n",
              "        display: none;\n",
              "        fill: #1967D2;\n",
              "        height: 32px;\n",
              "        padding: 0 0 0 0;\n",
              "        width: 32px;\n",
              "      }\n",
              "\n",
              "      .colab-df-generate:hover {\n",
              "        background-color: #E2EBFA;\n",
              "        box-shadow: 0px 1px 2px rgba(60, 64, 67, 0.3), 0px 1px 3px 1px rgba(60, 64, 67, 0.15);\n",
              "        fill: #174EA6;\n",
              "      }\n",
              "\n",
              "      [theme=dark] .colab-df-generate {\n",
              "        background-color: #3B4455;\n",
              "        fill: #D2E3FC;\n",
              "      }\n",
              "\n",
              "      [theme=dark] .colab-df-generate:hover {\n",
              "        background-color: #434B5C;\n",
              "        box-shadow: 0px 1px 3px 1px rgba(0, 0, 0, 0.15);\n",
              "        filter: drop-shadow(0px 1px 2px rgba(0, 0, 0, 0.3));\n",
              "        fill: #FFFFFF;\n",
              "      }\n",
              "    </style>\n",
              "    <button class=\"colab-df-generate\" onclick=\"generateWithVariable('dist_freq_qualitativas')\"\n",
              "            title=\"Generate code using this dataframe.\"\n",
              "            style=\"display:none;\">\n",
              "\n",
              "  <svg xmlns=\"http://www.w3.org/2000/svg\" height=\"24px\"viewBox=\"0 0 24 24\"\n",
              "       width=\"24px\">\n",
              "    <path d=\"M7,19H8.4L18.45,9,17,7.55,7,17.6ZM5,21V16.75L18.45,3.32a2,2,0,0,1,2.83,0l1.4,1.43a1.91,1.91,0,0,1,.58,1.4,1.91,1.91,0,0,1-.58,1.4L9.25,21ZM18.45,9,17,7.55Zm-12,3A5.31,5.31,0,0,0,4.9,8.1,5.31,5.31,0,0,0,1,6.5,5.31,5.31,0,0,0,4.9,4.9,5.31,5.31,0,0,0,6.5,1,5.31,5.31,0,0,0,8.1,4.9,5.31,5.31,0,0,0,12,6.5,5.46,5.46,0,0,0,6.5,12Z\"/>\n",
              "  </svg>\n",
              "    </button>\n",
              "    <script>\n",
              "      (() => {\n",
              "      const buttonEl =\n",
              "        document.querySelector('#id_007e2360-215c-480c-a018-5220fe4e9b15 button.colab-df-generate');\n",
              "      buttonEl.style.display =\n",
              "        google.colab.kernel.accessAllowed ? 'block' : 'none';\n",
              "\n",
              "      buttonEl.onclick = () => {\n",
              "        google.colab.notebook.generateWithVariable('dist_freq_qualitativas');\n",
              "      }\n",
              "      })();\n",
              "    </script>\n",
              "  </div>\n",
              "\n",
              "    </div>\n",
              "  </div>\n"
            ],
            "application/vnd.google.colaboratory.intrinsic+json": {
              "type": "dataframe",
              "variable_name": "dist_freq_qualitativas",
              "summary": "{\n  \"name\": \"dist_freq_qualitativas\",\n  \"rows\": 13,\n  \"fields\": [\n    {\n      \"column\": \"bedrooms\",\n      \"properties\": {\n        \"dtype\": \"number\",\n        \"std\": 8,\n        \"min\": 0,\n        \"max\": 33,\n        \"num_unique_values\": 13,\n        \"samples\": [\n          11,\n          9,\n          3\n        ],\n        \"semantic_type\": \"\",\n        \"description\": \"\"\n      }\n    },\n    {\n      \"column\": \"Frequ\\u00eancia\",\n      \"properties\": {\n        \"dtype\": \"number\",\n        \"std\": 3138,\n        \"min\": 1,\n        \"max\": 9824,\n        \"num_unique_values\": 11,\n        \"samples\": [\n          199,\n          9824,\n          3\n        ],\n        \"semantic_type\": \"\",\n        \"description\": \"\"\n      }\n    },\n    {\n      \"column\": \"Porcentagem(%)\",\n      \"properties\": {\n        \"dtype\": \"number\",\n        \"std\": 14.523470960117487,\n        \"min\": 0.004626844954425577,\n        \"max\": 45.45412483227687,\n        \"num_unique_values\": 11,\n        \"samples\": [\n          0.9207421459306898,\n          45.45412483227687,\n          0.013880534863276731\n        ],\n        \"semantic_type\": \"\",\n        \"description\": \"\"\n      }\n    }\n  ]\n}"
            }
          },
          "metadata": {},
          "execution_count": 69
        }
      ],
      "source": [
        "# Construimos o dataframe (tabela) com a frequência percentual\n",
        "\n",
        "dist_freq_qualitativas = pd.DataFrame({'Frequência': frequencia, 'Porcentagem(%)': percentual})\n",
        "dist_freq_qualitativas"
      ]
    },
    {
      "cell_type": "markdown",
      "id": "73303f7c-af09-44e1-9071-ff32a1bbd952",
      "metadata": {
        "id": "73303f7c-af09-44e1-9071-ff32a1bbd952",
        "tags": [],
        "toc-hr-collapsed": true
      },
      "source": [
        "## **Medidas de Dispersão**\n",
        "\n",
        "Indicadores que mostram a variabilidade ou dispersão dos dados.\n",
        "   - **Variância:** Mede a média dos quadrados das diferenças entre os valores e a média.\n",
        "   - **Desvio Padrão:** A raiz quadrada da variância, que expressa a dispersão dos dados em relação à média.\n",
        "   - **Amplitude:** A diferença entre o valor máximo e o mínimo em um conjunto de dados."
      ]
    },
    {
      "cell_type": "markdown",
      "id": "fc1a1e1c-037f-4f24-9547-54912a6a6c93",
      "metadata": {
        "id": "fc1a1e1c-037f-4f24-9547-54912a6a6c93",
        "tags": []
      },
      "source": [
        "### Variância --> **var( )**\n",
        "\n",
        "Medida que expressa quanto os dados de um conjunto estão afastados de seu valor esperado."
      ]
    },
    {
      "cell_type": "code",
      "execution_count": null,
      "id": "9bdc8456-b3c3-4571-8e60-d809c2d79cce",
      "metadata": {
        "id": "9bdc8456-b3c3-4571-8e60-d809c2d79cce",
        "outputId": "0fbf58d1-4f0b-4151-8fc1-7bec46fbf36a",
        "colab": {
          "base_uri": "https://localhost:8080/"
        }
      },
      "outputs": [
        {
          "output_type": "execute_result",
          "data": {
            "text/plain": [
              "0.8650150097573508"
            ]
          },
          "metadata": {},
          "execution_count": 70
        }
      ],
      "source": [
        "# iremos encontrar a variância da coluna ['bedrooms']\n",
        "variancia = df['bedrooms'].var()\n",
        "variancia"
      ]
    },
    {
      "cell_type": "markdown",
      "id": "e3016092-aa00-404c-9619-ff049f7fa155",
      "metadata": {
        "id": "e3016092-aa00-404c-9619-ff049f7fa155",
        "tags": []
      },
      "source": [
        "### Desvio Padrão --> **std( )**\n",
        "\n",
        "Indica quanto os dados estão afastados da média. Um valor de desvio padrão alto indica que os valores estão mais espalhados, mais longe da média, e um desvio padrão baixo indica que os valores estão mais próximos da média."
      ]
    },
    {
      "cell_type": "code",
      "execution_count": null,
      "id": "5c6914c0-73e6-4926-a168-24fb44f3b257",
      "metadata": {
        "id": "5c6914c0-73e6-4926-a168-24fb44f3b257",
        "outputId": "ba56aef9-0c57-4340-c96c-c36a5cddcaab",
        "colab": {
          "base_uri": "https://localhost:8080/"
        }
      },
      "outputs": [
        {
          "output_type": "execute_result",
          "data": {
            "text/plain": [
              "0.9300618311474517"
            ]
          },
          "metadata": {},
          "execution_count": 71
        }
      ],
      "source": [
        "# iremos encontrar o desvio padrão da coluna ['bedrooms']\n",
        "d_padrao = df['bedrooms'].std()\n",
        "d_padrao"
      ]
    },
    {
      "cell_type": "markdown",
      "id": "682cd362-078c-4d3b-bfaf-42d7e78317ee",
      "metadata": {
        "id": "682cd362-078c-4d3b-bfaf-42d7e78317ee",
        "tags": []
      },
      "source": [
        "### Amplitude --> **max( )** | **min( )**\n",
        "\n",
        "É a diferença entre o maior e o menor valor de um conjunto de dados."
      ]
    },
    {
      "cell_type": "code",
      "execution_count": null,
      "id": "37a723a5-1024-4d0f-8448-03073a04e7c2",
      "metadata": {
        "id": "37a723a5-1024-4d0f-8448-03073a04e7c2",
        "outputId": "0035f360-363b-445b-d68c-c20ad3223c4e",
        "tags": [],
        "colab": {
          "base_uri": "https://localhost:8080/"
        }
      },
      "outputs": [
        {
          "output_type": "execute_result",
          "data": {
            "text/plain": [
              "33"
            ]
          },
          "metadata": {},
          "execution_count": 72
        }
      ],
      "source": [
        "# iremos encontrar a amplitude da coluna ['bedrooms']\n",
        "amplitude = df['bedrooms'].max() - df['bedrooms'].min()\n",
        "amplitude"
      ]
    },
    {
      "cell_type": "markdown",
      "source": [
        "\n",
        "## **Medidas de Posição Relativa**\n",
        "\n",
        "As medidas de posição relativa são utilizadas para entender a localização de um valor específico em relação ao restante dos dados em um conjunto. As principais medidas de posição relativa incluem\n",
        "\n",
        "   - **Quartis:** Dividem os dados em quatro partes iguais.\n",
        "   - **Percentis:** Dividem os dados em 100 partes iguais.\n",
        "   - **Z-Score:** Mede quantos desvios padrão um valor está acima ou abaixo da média."
      ],
      "metadata": {
        "id": "gyd_CJujE5Vb"
      },
      "id": "gyd_CJujE5Vb"
    },
    {
      "cell_type": "markdown",
      "source": [
        "\n",
        "### **Quartis**\n",
        "   - Dividem um conjunto de dados ordenado em quatro partes iguais. O primeiro quartil (Q1) é o valor que divide os 25% inferiores dos dados, o segundo quartil (Q2) é a mediana (50%), e o terceiro quartil (Q3) divide os 75% inferiores dos dados.\n",
        "\n",
        "\n"
      ],
      "metadata": {
        "id": "TvTtXh_mJTS4"
      },
      "id": "TvTtXh_mJTS4"
    },
    {
      "cell_type": "markdown",
      "source": [
        "### **Percentis**\n",
        "   - Dividem um conjunto de dados em 100 partes iguais. O percentil \\( P_k \\) é o valor abaixo do qual \\( k \\)% dos dados se encontram.\n",
        "\n"
      ],
      "metadata": {
        "id": "d88omZPJJWB6"
      },
      "id": "d88omZPJJWB6"
    },
    {
      "cell_type": "markdown",
      "source": [
        ".\n",
        "\n",
        "### **Decis**\n",
        " - Dividem um conjunto de dados em 10 partes iguais. O \\( k \\)-ésimo decil divide os dados de forma que \\( 10k \\)% dos dados estão abaixo dele."
      ],
      "metadata": {
        "id": "6bs35_KVJW1J"
      },
      "id": "6bs35_KVJW1J"
    },
    {
      "cell_type": "markdown",
      "source": [
        "### **Exemplo: Medidas de posição realativa**"
      ],
      "metadata": {
        "id": "3dE5DaL7KpYR"
      },
      "id": "3dE5DaL7KpYR"
    },
    {
      "cell_type": "markdown",
      "source": [
        "#### **Passo 1: Bibliotecas**"
      ],
      "metadata": {
        "id": "SOnewzorPrPY"
      },
      "id": "SOnewzorPrPY"
    },
    {
      "cell_type": "code",
      "source": [
        "import pandas as pd\n",
        "import numpy as np\n",
        "import matplotlib.pyplot as plt"
      ],
      "metadata": {
        "id": "9jsemcjjKEwq"
      },
      "id": "9jsemcjjKEwq",
      "execution_count": null,
      "outputs": []
    },
    {
      "cell_type": "markdown",
      "source": [
        "#### **Passo 2: Criação de um Conjunto de Dados de Exemplo**"
      ],
      "metadata": {
        "id": "ZqrhoWXQPnlt"
      },
      "id": "ZqrhoWXQPnlt"
    },
    {
      "cell_type": "code",
      "source": [
        "# Dados fictícios de salários de funcionários\n",
        "salarios = [2800, 3200, 2900, 3500, 4000, 3300, 3600, 2800,\n",
        "            3000, 3900, 4100, 4200, 3300, 3100, 3500, 3700,\n",
        "            2900, 3200, 3400, 3000]\n",
        "\n",
        "# Criando um DataFrame\n",
        "df = pd.DataFrame(salarios, columns=['Salarios'])\n",
        "df.head(5)"
      ],
      "metadata": {
        "colab": {
          "base_uri": "https://localhost:8080/",
          "height": 206
        },
        "id": "RP_1F8CPPmT7",
        "outputId": "b53aaa7a-8ed4-4219-b29b-82e46f1872fc"
      },
      "id": "RP_1F8CPPmT7",
      "execution_count": null,
      "outputs": [
        {
          "output_type": "execute_result",
          "data": {
            "text/plain": [
              "   Salarios\n",
              "0      2800\n",
              "1      3200\n",
              "2      2900\n",
              "3      3500\n",
              "4      4000"
            ],
            "text/html": [
              "\n",
              "  <div id=\"df-8c73ceb1-c3ee-497a-99a3-1b85d9a3d8a8\" class=\"colab-df-container\">\n",
              "    <div>\n",
              "<style scoped>\n",
              "    .dataframe tbody tr th:only-of-type {\n",
              "        vertical-align: middle;\n",
              "    }\n",
              "\n",
              "    .dataframe tbody tr th {\n",
              "        vertical-align: top;\n",
              "    }\n",
              "\n",
              "    .dataframe thead th {\n",
              "        text-align: right;\n",
              "    }\n",
              "</style>\n",
              "<table border=\"1\" class=\"dataframe\">\n",
              "  <thead>\n",
              "    <tr style=\"text-align: right;\">\n",
              "      <th></th>\n",
              "      <th>Salarios</th>\n",
              "    </tr>\n",
              "  </thead>\n",
              "  <tbody>\n",
              "    <tr>\n",
              "      <th>0</th>\n",
              "      <td>2800</td>\n",
              "    </tr>\n",
              "    <tr>\n",
              "      <th>1</th>\n",
              "      <td>3200</td>\n",
              "    </tr>\n",
              "    <tr>\n",
              "      <th>2</th>\n",
              "      <td>2900</td>\n",
              "    </tr>\n",
              "    <tr>\n",
              "      <th>3</th>\n",
              "      <td>3500</td>\n",
              "    </tr>\n",
              "    <tr>\n",
              "      <th>4</th>\n",
              "      <td>4000</td>\n",
              "    </tr>\n",
              "  </tbody>\n",
              "</table>\n",
              "</div>\n",
              "    <div class=\"colab-df-buttons\">\n",
              "\n",
              "  <div class=\"colab-df-container\">\n",
              "    <button class=\"colab-df-convert\" onclick=\"convertToInteractive('df-8c73ceb1-c3ee-497a-99a3-1b85d9a3d8a8')\"\n",
              "            title=\"Convert this dataframe to an interactive table.\"\n",
              "            style=\"display:none;\">\n",
              "\n",
              "  <svg xmlns=\"http://www.w3.org/2000/svg\" height=\"24px\" viewBox=\"0 -960 960 960\">\n",
              "    <path d=\"M120-120v-720h720v720H120Zm60-500h600v-160H180v160Zm220 220h160v-160H400v160Zm0 220h160v-160H400v160ZM180-400h160v-160H180v160Zm440 0h160v-160H620v160ZM180-180h160v-160H180v160Zm440 0h160v-160H620v160Z\"/>\n",
              "  </svg>\n",
              "    </button>\n",
              "\n",
              "  <style>\n",
              "    .colab-df-container {\n",
              "      display:flex;\n",
              "      gap: 12px;\n",
              "    }\n",
              "\n",
              "    .colab-df-convert {\n",
              "      background-color: #E8F0FE;\n",
              "      border: none;\n",
              "      border-radius: 50%;\n",
              "      cursor: pointer;\n",
              "      display: none;\n",
              "      fill: #1967D2;\n",
              "      height: 32px;\n",
              "      padding: 0 0 0 0;\n",
              "      width: 32px;\n",
              "    }\n",
              "\n",
              "    .colab-df-convert:hover {\n",
              "      background-color: #E2EBFA;\n",
              "      box-shadow: 0px 1px 2px rgba(60, 64, 67, 0.3), 0px 1px 3px 1px rgba(60, 64, 67, 0.15);\n",
              "      fill: #174EA6;\n",
              "    }\n",
              "\n",
              "    .colab-df-buttons div {\n",
              "      margin-bottom: 4px;\n",
              "    }\n",
              "\n",
              "    [theme=dark] .colab-df-convert {\n",
              "      background-color: #3B4455;\n",
              "      fill: #D2E3FC;\n",
              "    }\n",
              "\n",
              "    [theme=dark] .colab-df-convert:hover {\n",
              "      background-color: #434B5C;\n",
              "      box-shadow: 0px 1px 3px 1px rgba(0, 0, 0, 0.15);\n",
              "      filter: drop-shadow(0px 1px 2px rgba(0, 0, 0, 0.3));\n",
              "      fill: #FFFFFF;\n",
              "    }\n",
              "  </style>\n",
              "\n",
              "    <script>\n",
              "      const buttonEl =\n",
              "        document.querySelector('#df-8c73ceb1-c3ee-497a-99a3-1b85d9a3d8a8 button.colab-df-convert');\n",
              "      buttonEl.style.display =\n",
              "        google.colab.kernel.accessAllowed ? 'block' : 'none';\n",
              "\n",
              "      async function convertToInteractive(key) {\n",
              "        const element = document.querySelector('#df-8c73ceb1-c3ee-497a-99a3-1b85d9a3d8a8');\n",
              "        const dataTable =\n",
              "          await google.colab.kernel.invokeFunction('convertToInteractive',\n",
              "                                                    [key], {});\n",
              "        if (!dataTable) return;\n",
              "\n",
              "        const docLinkHtml = 'Like what you see? Visit the ' +\n",
              "          '<a target=\"_blank\" href=https://colab.research.google.com/notebooks/data_table.ipynb>data table notebook</a>'\n",
              "          + ' to learn more about interactive tables.';\n",
              "        element.innerHTML = '';\n",
              "        dataTable['output_type'] = 'display_data';\n",
              "        await google.colab.output.renderOutput(dataTable, element);\n",
              "        const docLink = document.createElement('div');\n",
              "        docLink.innerHTML = docLinkHtml;\n",
              "        element.appendChild(docLink);\n",
              "      }\n",
              "    </script>\n",
              "  </div>\n",
              "\n",
              "\n",
              "<div id=\"df-ee23e505-9686-4f6c-84c6-a760d528b0e7\">\n",
              "  <button class=\"colab-df-quickchart\" onclick=\"quickchart('df-ee23e505-9686-4f6c-84c6-a760d528b0e7')\"\n",
              "            title=\"Suggest charts\"\n",
              "            style=\"display:none;\">\n",
              "\n",
              "<svg xmlns=\"http://www.w3.org/2000/svg\" height=\"24px\"viewBox=\"0 0 24 24\"\n",
              "     width=\"24px\">\n",
              "    <g>\n",
              "        <path d=\"M19 3H5c-1.1 0-2 .9-2 2v14c0 1.1.9 2 2 2h14c1.1 0 2-.9 2-2V5c0-1.1-.9-2-2-2zM9 17H7v-7h2v7zm4 0h-2V7h2v10zm4 0h-2v-4h2v4z\"/>\n",
              "    </g>\n",
              "</svg>\n",
              "  </button>\n",
              "\n",
              "<style>\n",
              "  .colab-df-quickchart {\n",
              "      --bg-color: #E8F0FE;\n",
              "      --fill-color: #1967D2;\n",
              "      --hover-bg-color: #E2EBFA;\n",
              "      --hover-fill-color: #174EA6;\n",
              "      --disabled-fill-color: #AAA;\n",
              "      --disabled-bg-color: #DDD;\n",
              "  }\n",
              "\n",
              "  [theme=dark] .colab-df-quickchart {\n",
              "      --bg-color: #3B4455;\n",
              "      --fill-color: #D2E3FC;\n",
              "      --hover-bg-color: #434B5C;\n",
              "      --hover-fill-color: #FFFFFF;\n",
              "      --disabled-bg-color: #3B4455;\n",
              "      --disabled-fill-color: #666;\n",
              "  }\n",
              "\n",
              "  .colab-df-quickchart {\n",
              "    background-color: var(--bg-color);\n",
              "    border: none;\n",
              "    border-radius: 50%;\n",
              "    cursor: pointer;\n",
              "    display: none;\n",
              "    fill: var(--fill-color);\n",
              "    height: 32px;\n",
              "    padding: 0;\n",
              "    width: 32px;\n",
              "  }\n",
              "\n",
              "  .colab-df-quickchart:hover {\n",
              "    background-color: var(--hover-bg-color);\n",
              "    box-shadow: 0 1px 2px rgba(60, 64, 67, 0.3), 0 1px 3px 1px rgba(60, 64, 67, 0.15);\n",
              "    fill: var(--button-hover-fill-color);\n",
              "  }\n",
              "\n",
              "  .colab-df-quickchart-complete:disabled,\n",
              "  .colab-df-quickchart-complete:disabled:hover {\n",
              "    background-color: var(--disabled-bg-color);\n",
              "    fill: var(--disabled-fill-color);\n",
              "    box-shadow: none;\n",
              "  }\n",
              "\n",
              "  .colab-df-spinner {\n",
              "    border: 2px solid var(--fill-color);\n",
              "    border-color: transparent;\n",
              "    border-bottom-color: var(--fill-color);\n",
              "    animation:\n",
              "      spin 1s steps(1) infinite;\n",
              "  }\n",
              "\n",
              "  @keyframes spin {\n",
              "    0% {\n",
              "      border-color: transparent;\n",
              "      border-bottom-color: var(--fill-color);\n",
              "      border-left-color: var(--fill-color);\n",
              "    }\n",
              "    20% {\n",
              "      border-color: transparent;\n",
              "      border-left-color: var(--fill-color);\n",
              "      border-top-color: var(--fill-color);\n",
              "    }\n",
              "    30% {\n",
              "      border-color: transparent;\n",
              "      border-left-color: var(--fill-color);\n",
              "      border-top-color: var(--fill-color);\n",
              "      border-right-color: var(--fill-color);\n",
              "    }\n",
              "    40% {\n",
              "      border-color: transparent;\n",
              "      border-right-color: var(--fill-color);\n",
              "      border-top-color: var(--fill-color);\n",
              "    }\n",
              "    60% {\n",
              "      border-color: transparent;\n",
              "      border-right-color: var(--fill-color);\n",
              "    }\n",
              "    80% {\n",
              "      border-color: transparent;\n",
              "      border-right-color: var(--fill-color);\n",
              "      border-bottom-color: var(--fill-color);\n",
              "    }\n",
              "    90% {\n",
              "      border-color: transparent;\n",
              "      border-bottom-color: var(--fill-color);\n",
              "    }\n",
              "  }\n",
              "</style>\n",
              "\n",
              "  <script>\n",
              "    async function quickchart(key) {\n",
              "      const quickchartButtonEl =\n",
              "        document.querySelector('#' + key + ' button');\n",
              "      quickchartButtonEl.disabled = true;  // To prevent multiple clicks.\n",
              "      quickchartButtonEl.classList.add('colab-df-spinner');\n",
              "      try {\n",
              "        const charts = await google.colab.kernel.invokeFunction(\n",
              "            'suggestCharts', [key], {});\n",
              "      } catch (error) {\n",
              "        console.error('Error during call to suggestCharts:', error);\n",
              "      }\n",
              "      quickchartButtonEl.classList.remove('colab-df-spinner');\n",
              "      quickchartButtonEl.classList.add('colab-df-quickchart-complete');\n",
              "    }\n",
              "    (() => {\n",
              "      let quickchartButtonEl =\n",
              "        document.querySelector('#df-ee23e505-9686-4f6c-84c6-a760d528b0e7 button');\n",
              "      quickchartButtonEl.style.display =\n",
              "        google.colab.kernel.accessAllowed ? 'block' : 'none';\n",
              "    })();\n",
              "  </script>\n",
              "</div>\n",
              "\n",
              "    </div>\n",
              "  </div>\n"
            ],
            "application/vnd.google.colaboratory.intrinsic+json": {
              "type": "dataframe",
              "variable_name": "df",
              "summary": "{\n  \"name\": \"df\",\n  \"rows\": 20,\n  \"fields\": [\n    {\n      \"column\": \"Salarios\",\n      \"properties\": {\n        \"dtype\": \"number\",\n        \"std\": 435,\n        \"min\": 2800,\n        \"max\": 4200,\n        \"num_unique_values\": 14,\n        \"samples\": [\n          4100,\n          3100,\n          2800\n        ],\n        \"semantic_type\": \"\",\n        \"description\": \"\"\n      }\n    }\n  ]\n}"
            }
          },
          "metadata": {},
          "execution_count": 74
        }
      ]
    },
    {
      "cell_type": "markdown",
      "source": [
        "#### **Passo 3: Cálculo das Medidas de Posição Relativa**"
      ],
      "metadata": {
        "id": "57k1nnkiPY4q"
      },
      "id": "57k1nnkiPY4q"
    },
    {
      "cell_type": "code",
      "source": [
        "# Cálculo dos Quartis\n",
        "quartis = np.percentile(df['Salarios'], [25, 50, 75])\n",
        "Q1, Q2, Q3 = quartis[0], quartis[1], quartis[2]\n",
        "\n",
        "# Cálculo dos Percentis\n",
        "percentil_10 = np.percentile(df['Salarios'], 10)\n",
        "percentil_90 = np.percentile(df['Salarios'], 90)\n",
        "\n",
        "# Cálculo dos Decis\n",
        "decis = np.percentile(df['Salarios'], np.arange(10, 100, 10))\n",
        "\n",
        "# Exibindo as medidas\n",
        "print(f\"Primeiro Quartil (Q1): {Q1}\")\n",
        "print(f\"Mediana (Q2): {Q2}\")\n",
        "print(f\"Terceiro Quartil (Q3): {Q3}\")\n",
        "print(f\"Percentil 10: {percentil_10}\")\n",
        "print(f\"Percentil 90: {percentil_90}\")\n",
        "print(f\"Decis: {decis}\")"
      ],
      "metadata": {
        "colab": {
          "base_uri": "https://localhost:8080/"
        },
        "id": "it8_LcLZKTuc",
        "outputId": "9a5a05b7-41db-4693-9590-53701c6e2953"
      },
      "id": "it8_LcLZKTuc",
      "execution_count": null,
      "outputs": [
        {
          "output_type": "stream",
          "name": "stdout",
          "text": [
            "Primeiro Quartil (Q1): 3000.0\n",
            "Mediana (Q2): 3300.0\n",
            "Terceiro Quartil (Q3): 3625.0\n",
            "Percentil 10: 2890.0\n",
            "Percentil 90: 4010.0\n",
            "Decis: [2890. 2980. 3070. 3200. 3300. 3440. 3530. 3740. 4010.]\n"
          ]
        }
      ]
    },
    {
      "cell_type": "markdown",
      "source": [
        "#### **Passo 4: Visualização das Medidas de Posição Relativa**"
      ],
      "metadata": {
        "id": "IIbNNoT6Pc7N"
      },
      "id": "IIbNNoT6Pc7N"
    },
    {
      "cell_type": "code",
      "source": [
        "# Visualizando os Quartis com um Box Plot\n",
        "plt.figure(figsize=(10, 6))\n",
        "plt.boxplot(df['Salarios'], vert=False, patch_artist=True)\n",
        "plt.title('Box Plot dos Salários')\n",
        "plt.xlabel('Salário')\n",
        "plt.show()\n",
        "\n",
        "# Adicionando linhas para os Quartis e Percentis\n",
        "plt.hist(df['Salarios'], bins=10, edgecolor='black', alpha=0.7)\n",
        "plt.axvline(Q1, color='blue', linestyle='dashed', linewidth=2, label=f'Q1: {Q1}')\n",
        "plt.axvline(Q2, color='green', linestyle='dashed', linewidth=2, label=f'Q2 (Mediana): {Q2}')\n",
        "plt.axvline(Q3, color='red', linestyle='dashed', linewidth=2, label=f'Q3: {Q3}')\n",
        "plt.axvline(percentil_10, color='purple', linestyle='dotted', linewidth=2, label=f'Percentil 10: {percentil_10}')\n",
        "plt.axvline(percentil_90, color='orange', linestyle='dotted', linewidth=2, label=f'Percentil 90: {percentil_90}')\n",
        "plt.title('Distribuição dos Salários com Quartis e Percentis')\n",
        "plt.xlabel('Salário')\n",
        "plt.ylabel('Frequência')\n",
        "plt.legend()\n",
        "plt.show()"
      ],
      "metadata": {
        "colab": {
          "base_uri": "https://localhost:8080/",
          "height": 1000
        },
        "id": "6Nxmeak9KWXU",
        "outputId": "60b5a7fb-054c-4ba3-9665-2a6c4f8a3ff2"
      },
      "id": "6Nxmeak9KWXU",
      "execution_count": null,
      "outputs": [
        {
          "output_type": "display_data",
          "data": {
            "text/plain": [
              "<Figure size 1000x600 with 1 Axes>"
            ],
            "image/png": "[encoded data removed]"
          },
          "metadata": {}
        },
        {
          "output_type": "display_data",
          "data": {
            "text/plain": [
              "<Figure size 640x480 with 1 Axes>"
            ],
            "image/png": "[encoded data removed]"
          },
          "metadata": {}
        }
      ]
    }
  ],
  "metadata": {
    "colab": {
      "provenance": [],
      "toc_visible": true,
      "collapsed_sections": [
        "hXSo5FB_63RM",
        "3ae4f155-2a43-4aa9-9b3b-8b6fd4208809",
        "f8fa94e2-d67c-4fa1-abf6-7fb631d37fdc",
        "187cfdfd-62f3-4d62-a6d7-c0de4f763dea",
        "dWJ8ljqxFjWR",
        "4aa70c23-38b2-46d3-bf89-86fa9b63f39a",
        "b423c21c-550c-4e60-a49f-7f373c3a6b69",
        "db1c89d1-04fe-4e87-8295-bdb6b1f2b229",
        "73303f7c-af09-44e1-9071-ff32a1bbd952",
        "fc1a1e1c-037f-4f24-9547-54912a6a6c93",
        "e3016092-aa00-404c-9619-ff049f7fa155"
      ]
    },
    "kernelspec": {
      "display_name": "Python 3 (ipykernel)",
      "language": "python",
      "name": "python3"
    },
    "language_info": {
      "codemirror_mode": {
        "name": "ipython",
        "version": 3
      },
      "file_extension": ".py",
      "mimetype": "text/x-python",
      "name": "python",
      "nbconvert_exporter": "python",
      "pygments_lexer": "ipython3",
      "version": "3.11.2"
    },
    "toc-autonumbering": true,
    "toc-showcode": false,
    "toc-showmarkdowntxt": false
  },
  "nbformat": 4,
  "nbformat_minor": 5
}