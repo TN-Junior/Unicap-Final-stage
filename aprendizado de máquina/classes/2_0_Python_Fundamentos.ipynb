{
  "cells": [
    {
      "cell_type": "markdown",
      "id": "1ddb2312-d8a2-4041-a731-bcc5d80886b0",
      "metadata": {
        "id": "1ddb2312-d8a2-4041-a731-bcc5d80886b0",
        "tags": [],
        "toc-hr-collapsed": true
      },
      "source": [
        "---\n",
        "\n",
        "<h1 align=left><font size = 8, style=\"color:rgb(200,0,0)\"><b>Python: Fundamentos</b></font></h1>\n",
        "\n",
        "---\n"
      ]
    },
    {
      "cell_type": "markdown",
      "id": "aada3690-363e-4738-af7b-5775bbd34c71",
      "metadata": {
        "id": "aada3690-363e-4738-af7b-5775bbd34c71"
      },
      "source": [
        "> Python é uma linguagem bastante poderosa e com muitos recursos. Nessa introdução de Python vamos apenas apresentar um conjunto de recursos mínimo de recursos havendo diversas boas fontes online e livros de introdução ao Python."
      ]
    },
    {
      "cell_type": "markdown",
      "id": "f9bb918b-8e81-41c1-a2b8-1b786fc431e1",
      "metadata": {
        "id": "f9bb918b-8e81-41c1-a2b8-1b786fc431e1",
        "tags": []
      },
      "source": [
        "# Imports básicos\n",
        "\n",
        "> Empregue para importar bibliotecas que adicionam funcionalidades ao Python. Em geral, para nós, os seguintes imports serão suficientes:"
      ]
    },
    {
      "cell_type": "code",
      "execution_count": null,
      "id": "ba5c2fd9-2668-448f-83da-c1b7706cb2b8",
      "metadata": {
        "id": "ba5c2fd9-2668-448f-83da-c1b7706cb2b8",
        "tags": []
      },
      "outputs": [],
      "source": [
        "import pandas as pd                  # Pandas para acesso e manipulação de dados\n",
        "import numpy as np                   # Numpy para operações de vetores e matrizes numéricas (arrays)"
      ]
    },
    {
      "cell_type": "markdown",
      "id": "6599e75d-e28c-4731-998a-8613d0732b9d",
      "metadata": {
        "id": "6599e75d-e28c-4731-998a-8613d0732b9d",
        "tags": []
      },
      "source": [
        "# Variáveis e Atribuições\n",
        "\n",
        "O `Python` implementa tipos fracos, isto é, você não precisa declarar uma variável antes de empregá-la, ela e seu tipo de dado serão automaticamente definidos na primeira atribuição a um rótulo (nome da variável)."
      ]
    },
    {
      "cell_type": "code",
      "execution_count": null,
      "id": "1243d3dc-d81b-49ba-a472-3b03764c9262",
      "metadata": {
        "colab": {
          "base_uri": "https://localhost:8080/"
        },
        "id": "1243d3dc-d81b-49ba-a472-3b03764c9262",
        "outputId": "60d87880-460f-4e83-889a-187bcf7d3701",
        "tags": []
      },
      "outputs": [
        {
          "output_type": "stream",
          "name": "stdout",
          "text": [
            "<class 'int'> <class 'float'> <class 'str'> <class 'str'>\n",
            "123 3.141592653589793 123 Led Zeppelin\n"
          ]
        }
      ],
      "source": [
        "inteiro = 123\n",
        "real = np.pi\n",
        "texto1 = '123'\n",
        "texto2 = 'Led Zeppelin'\n",
        "print(type(inteiro), type(real), type(texto1), type(texto2))\n",
        "print(inteiro, real, texto1, texto2)"
      ]
    },
    {
      "cell_type": "markdown",
      "id": "085b8819-c403-4f9b-a99a-c89a33a7a94c",
      "metadata": {
        "id": "085b8819-c403-4f9b-a99a-c89a33a7a94c",
        "tags": []
      },
      "source": [
        "# Print & Input"
      ]
    },
    {
      "cell_type": "markdown",
      "id": "b33885b0-9c33-4fd9-8ee0-4616cdfc8ffd",
      "metadata": {
        "id": "b33885b0-9c33-4fd9-8ee0-4616cdfc8ffd"
      },
      "source": [
        "\n",
        "A operação `input` permite a entrada de dados pelo terminal e mesmo na execução de notebooks `Python`. O `print` exibe a saída de caracteres no terminal e permite o uso de caracteres de controle como `\\n` para salto de linha, `\\t` para *tab* e formatação de números ao estilo de C.\n"
      ]
    },
    {
      "cell_type": "code",
      "execution_count": null,
      "id": "a4009098-b177-4f62-94f1-995fc8dc9c33",
      "metadata": {
        "id": "a4009098-b177-4f62-94f1-995fc8dc9c33",
        "tags": []
      },
      "outputs": [],
      "source": [
        "\n",
        "text = input('Entre com um texto: ')  # Tire o comentário aqui\n",
        "text = 'Texto'                          # Comente aqui\n",
        "print(type(text))\n",
        "\n",
        "numero = float(input('Entre com um número: '))  # Tire o comentário aqui\n",
        "\n",
        "print('Seu texto: ', text, '\\n', 'Seu número: ', '%0.2f'%numero)"
      ]
    },
    {
      "cell_type": "markdown",
      "id": "415714f8-4e53-40e7-b753-25516c7fbe43",
      "metadata": {
        "id": "415714f8-4e53-40e7-b753-25516c7fbe43"
      },
      "source": [
        "Os vetores do `NumPy` operam como listas indexadas e você pode empregar a mesma forma de índices que empregamos para percorrer arrays `NumPy` (incluindo o método `append`)."
      ]
    },
    {
      "cell_type": "markdown",
      "id": "73541f99-2730-4b01-8f5f-c68d1e2e5904",
      "metadata": {
        "tags": [],
        "toc-hr-collapsed": true,
        "id": "73541f99-2730-4b01-8f5f-c68d1e2e5904"
      },
      "source": [
        "## Tipos de variaveis"
      ]
    },
    {
      "cell_type": "markdown",
      "id": "411df377-069f-4177-b084-4055fe1fe604",
      "metadata": {
        "tags": [],
        "id": "411df377-069f-4177-b084-4055fe1fe604"
      },
      "source": [
        "### Interios"
      ]
    },
    {
      "cell_type": "code",
      "execution_count": null,
      "id": "6827cd23-e52d-4242-a8de-00b6c9604a95",
      "metadata": {
        "id": "6827cd23-e52d-4242-a8de-00b6c9604a95"
      },
      "outputs": [],
      "source": [
        "a = 28\n",
        "a"
      ]
    },
    {
      "cell_type": "markdown",
      "id": "aefe7987-3af3-4220-9c7b-899d4ab22599",
      "metadata": {
        "tags": [],
        "id": "aefe7987-3af3-4220-9c7b-899d4ab22599"
      },
      "source": [
        "### Ponto Fluente - Decimal"
      ]
    },
    {
      "cell_type": "code",
      "execution_count": null,
      "id": "b7f7f4b0-c2a9-48af-95a9-41b204e81fbf",
      "metadata": {
        "id": "b7f7f4b0-c2a9-48af-95a9-41b204e81fbf"
      },
      "outputs": [],
      "source": [
        "pi = 3.1416\n",
        "pi"
      ]
    },
    {
      "cell_type": "markdown",
      "id": "b358b9dd-d47d-484e-927d-a3c19c68048e",
      "metadata": {
        "tags": [],
        "id": "b358b9dd-d47d-484e-927d-a3c19c68048e"
      },
      "source": [
        "### String - texto"
      ]
    },
    {
      "cell_type": "code",
      "execution_count": null,
      "id": "6167e9f3-bfa8-4dc7-8102-53365f484c49",
      "metadata": {
        "id": "6167e9f3-bfa8-4dc7-8102-53365f484c49"
      },
      "outputs": [],
      "source": [
        "name = 'alexsandro Felix'\n",
        "name"
      ]
    },
    {
      "cell_type": "markdown",
      "id": "6312f3dc-ba0a-4aba-8c32-dfa869872cbd",
      "metadata": {
        "tags": [],
        "id": "6312f3dc-ba0a-4aba-8c32-dfa869872cbd"
      },
      "source": [
        "### Boleano"
      ]
    },
    {
      "cell_type": "code",
      "execution_count": null,
      "id": "47224f77-495f-408d-918c-f7323a1f4123",
      "metadata": {
        "id": "47224f77-495f-408d-918c-f7323a1f4123"
      },
      "outputs": [],
      "source": [
        "b = True\n",
        "c = False\n",
        "b, c"
      ]
    },
    {
      "cell_type": "markdown",
      "id": "87166f8a-f28b-4dea-ae9c-8af81287ea11",
      "metadata": {
        "tags": [],
        "toc-hr-collapsed": true,
        "id": "87166f8a-f28b-4dea-ae9c-8af81287ea11"
      },
      "source": [
        "## Estruturas básicos do Python"
      ]
    },
    {
      "cell_type": "markdown",
      "id": "8fe30a72",
      "metadata": {
        "tags": [],
        "id": "8fe30a72"
      },
      "source": [
        "### Listas `[ ]`"
      ]
    },
    {
      "cell_type": "markdown",
      "id": "705e435f-ba2c-4b76-b122-761743621128",
      "metadata": {
        "tags": [],
        "id": "705e435f-ba2c-4b76-b122-761743621128"
      },
      "source": [
        "> Uma lista é a estrutura de dados mais básica do Python e armazena os `dados em sequência`, onde cada elemento possui sua posição na lista, denominada de índice.\n",
        "<br>\n",
        "O primeiro elemento é sempre o índice zero e a cada elemento inserido na lista esse valor é incrementado.\n",
        "\n",
        "No Python, uma lista pode armazenar qualquer tipo de dado primitivo (string, inteiro, float, etc). Na imagem abaixo podemos ver como uma lista se comporta:"
      ]
    },
    {
      "cell_type": "markdown",
      "id": "1bb8d027-0df0-4421-b05d-ef8d31d4865c",
      "metadata": {
        "id": "1bb8d027-0df0-4421-b05d-ef8d31d4865c"
      },
      "source": [
        "> **Declarando Listas*"
      ]
    },
    {
      "cell_type": "markdown",
      "id": "cc625e4a-d566-4275-8dd1-ffa0a9927aab",
      "metadata": {
        "id": "cc625e4a-d566-4275-8dd1-ffa0a9927aab"
      },
      "source": [
        "Lista vazia"
      ]
    },
    {
      "cell_type": "code",
      "execution_count": null,
      "id": "454f854e-b825-4109-9360-b19e956d3613",
      "metadata": {
        "tags": [],
        "id": "454f854e-b825-4109-9360-b19e956d3613"
      },
      "outputs": [],
      "source": [
        "nome_da_lista = [ ]\n",
        "nome_da_lista"
      ]
    },
    {
      "cell_type": "markdown",
      "id": "d0953c04-87da-44e5-8fb6-303f786d7f78",
      "metadata": {
        "tags": [],
        "id": "d0953c04-87da-44e5-8fb6-303f786d7f78"
      },
      "source": [
        "Criação de uma lista de inteiros"
      ]
    },
    {
      "cell_type": "code",
      "execution_count": null,
      "id": "39b1c85e-edc6-491d-ae9f-399697f3654e",
      "metadata": {
        "tags": [],
        "id": "39b1c85e-edc6-491d-ae9f-399697f3654e"
      },
      "outputs": [],
      "source": [
        "nome_da_inteiro = [1, 2, 3]\n",
        "nome_da_inteiro"
      ]
    },
    {
      "cell_type": "markdown",
      "id": "58e82f61-5e1f-4e8a-96b8-c0ca80f0b576",
      "metadata": {
        "id": "58e82f61-5e1f-4e8a-96b8-c0ca80f0b576"
      },
      "source": [
        "Criação de uma lista com vários tipos diferentes"
      ]
    },
    {
      "cell_type": "code",
      "execution_count": null,
      "id": "2653e75d-6326-4d2e-aa01-8f492d04115c",
      "metadata": {
        "tags": [],
        "id": "2653e75d-6326-4d2e-aa01-8f492d04115c"
      },
      "outputs": [],
      "source": [
        "nome_da_lista= [1, \"Olá, mundo!\", 1.1]\n",
        "nome_da_lista"
      ]
    },
    {
      "cell_type": "code",
      "execution_count": null,
      "id": "d9de2232",
      "metadata": {
        "tags": [],
        "id": "d9de2232"
      },
      "outputs": [],
      "source": [
        "nomes  = [ 'Rafel', 'Maria', \"Ana\" ]\n",
        "idades = [ 10, 20, 15]"
      ]
    },
    {
      "cell_type": "code",
      "execution_count": null,
      "id": "8b3302ea",
      "metadata": {
        "tags": [],
        "id": "8b3302ea"
      },
      "outputs": [],
      "source": [
        "nomes"
      ]
    },
    {
      "cell_type": "code",
      "execution_count": null,
      "id": "ebb515d0-affb-470a-b193-66939220ab4d",
      "metadata": {
        "tags": [],
        "id": "ebb515d0-affb-470a-b193-66939220ab4d"
      },
      "outputs": [],
      "source": [
        "idades"
      ]
    },
    {
      "cell_type": "code",
      "execution_count": null,
      "id": "154a28f3-8adb-4ea8-8d17-352505fc6c10",
      "metadata": {
        "tags": [],
        "id": "154a28f3-8adb-4ea8-8d17-352505fc6c10"
      },
      "outputs": [],
      "source": [
        "cidade = ['A', 'B', 'C']\n",
        "cidade"
      ]
    },
    {
      "cell_type": "markdown",
      "id": "fef2a5a7",
      "metadata": {
        "jp-MarkdownHeadingCollapsed": true,
        "tags": [],
        "id": "fef2a5a7"
      },
      "source": [
        "### Tuplas `( )`"
      ]
    },
    {
      "cell_type": "markdown",
      "id": "20e94d69-fdd4-4d70-a959-d109b9630a1c",
      "metadata": {
        "id": "20e94d69-fdd4-4d70-a959-d109b9630a1c"
      },
      "source": [
        "> É uma estrutura bastante similar a uma lista, com apenas uma diferença:\n",
        "\n",
        "- Os elementos inseridos em uma tupla `não podem ser alterados`, diferente de uma lista onde podem ser alterados livremente.\n",
        "\n",
        "**Tuplas x Listas**\n",
        "As tuplas possuem algumas vantagens com relação às listas, que são:\n",
        "\n",
        "- Como as tuplas são imutáveis, a `iteração sobre elas é mais rápida` e, consequentemente, possuem um ganho de desempenho com relação às listas;\n",
        "\n",
        "- Tuplas podem ser utilizadas como chave para um dicionário, já que seus elementos são imutáveis. Já com a lista, isso não é possível;\n",
        "\n",
        "Se for necessário armazenar dados que não serão alterados, utilize uma tupla. Isso garantirá que esses sejam protegidos de alterações posteriores.\n"
      ]
    },
    {
      "cell_type": "markdown",
      "id": "8acf5eda-79fd-4466-8873-ef9079ccd101",
      "metadata": {
        "tags": [],
        "id": "8acf5eda-79fd-4466-8873-ef9079ccd101"
      },
      "source": [
        "> **Declarando Tuplas**"
      ]
    },
    {
      "cell_type": "markdown",
      "id": "9473e025-c261-4b8b-a882-d291c1d14553",
      "metadata": {
        "tags": [],
        "id": "9473e025-c261-4b8b-a882-d291c1d14553"
      },
      "source": [
        "tupla de inteiros"
      ]
    },
    {
      "cell_type": "code",
      "execution_count": null,
      "id": "d713aa02-82e5-4024-ada8-8cd1f9a027f5",
      "metadata": {
        "tags": [],
        "id": "d713aa02-82e5-4024-ada8-8cd1f9a027f5"
      },
      "outputs": [],
      "source": [
        "nome_da_tupla = (1, 2, 3)\n",
        "nome_da_tupla"
      ]
    },
    {
      "cell_type": "markdown",
      "id": "436bf5e6-f66f-4f7a-87f6-5367c8854d94",
      "metadata": {
        "tags": [],
        "id": "436bf5e6-f66f-4f7a-87f6-5367c8854d94"
      },
      "source": [
        "tupla heterogênea"
      ]
    },
    {
      "cell_type": "code",
      "execution_count": null,
      "id": "c756daf8-b43d-4adc-84e6-a6a1ec6d3b62",
      "metadata": {
        "tags": [],
        "id": "c756daf8-b43d-4adc-84e6-a6a1ec6d3b62"
      },
      "outputs": [],
      "source": [
        "nome_da_tupla = (1, \"olá\", 1.5)\n",
        "nome_da_tupla"
      ]
    },
    {
      "cell_type": "code",
      "execution_count": null,
      "id": "485b0dd7",
      "metadata": {
        "id": "485b0dd7"
      },
      "outputs": [],
      "source": [
        "sexo   = ('M', 'F', 'O')\n",
        "sexo"
      ]
    },
    {
      "cell_type": "markdown",
      "id": "df920c6f",
      "metadata": {
        "tags": [],
        "toc-hr-collapsed": true,
        "id": "df920c6f"
      },
      "source": [
        "### Dicionarios `{ }`"
      ]
    },
    {
      "cell_type": "markdown",
      "id": "ca97d03d-2f5e-417e-af94-d692d29eab8d",
      "metadata": {
        "tags": [],
        "id": "ca97d03d-2f5e-417e-af94-d692d29eab8d"
      },
      "source": [
        "> São coleções de itens desordenados onde um elemento dentro de um dicionário possui uma chave atrelada a ele, uma espécie de identificador.\n",
        "- Sendo assim, é muito utilizado quando queremos armazenar dados de forma organizada e que possuem identificação única (como acontece em bancos de dados)."
      ]
    },
    {
      "cell_type": "code",
      "execution_count": null,
      "id": "01ae8ae7",
      "metadata": {
        "id": "01ae8ae7"
      },
      "outputs": [],
      "source": [
        "cadastro = {'nomes': nomes,\n",
        "           'idades': idades,\n",
        "           'cidade': ['A', 'B', 'C']}"
      ]
    },
    {
      "cell_type": "code",
      "execution_count": null,
      "id": "622cb752",
      "metadata": {
        "id": "622cb752"
      },
      "outputs": [],
      "source": [
        "nomes[0]"
      ]
    },
    {
      "cell_type": "code",
      "execution_count": null,
      "id": "359718db",
      "metadata": {
        "id": "359718db"
      },
      "outputs": [],
      "source": [
        "idades[0]"
      ]
    },
    {
      "cell_type": "code",
      "execution_count": null,
      "id": "891de3d3",
      "metadata": {
        "id": "891de3d3"
      },
      "outputs": [],
      "source": [
        "cidade[0]"
      ]
    },
    {
      "cell_type": "code",
      "execution_count": null,
      "id": "2a283b51",
      "metadata": {
        "id": "2a283b51"
      },
      "outputs": [],
      "source": [
        "cadastro['nomes']"
      ]
    },
    {
      "cell_type": "code",
      "execution_count": null,
      "id": "57d6870b",
      "metadata": {
        "id": "57d6870b"
      },
      "outputs": [],
      "source": [
        "cadastro['nomes'][0]"
      ]
    },
    {
      "cell_type": "code",
      "execution_count": null,
      "id": "974276ed",
      "metadata": {
        "id": "974276ed"
      },
      "outputs": [],
      "source": [
        "sum(cadastro['idades'])"
      ]
    },
    {
      "cell_type": "markdown",
      "id": "fa9dbbff-a574-45d6-9b34-2d834d824386",
      "metadata": {
        "tags": [],
        "toc-hr-collapsed": true,
        "id": "fa9dbbff-a574-45d6-9b34-2d834d824386"
      },
      "source": [
        "# Laços condicionais\n"
      ]
    },
    {
      "cell_type": "markdown",
      "id": "8e586adb-e61e-41fa-a23f-bf5edd3a74ad",
      "metadata": {
        "tags": [],
        "id": "8e586adb-e61e-41fa-a23f-bf5edd3a74ad"
      },
      "source": [
        "## O que são?"
      ]
    },
    {
      "cell_type": "markdown",
      "id": "c3475da3-751e-4155-8d0e-12be7c934b75",
      "metadata": {
        "tags": [],
        "id": "c3475da3-751e-4155-8d0e-12be7c934b75"
      },
      "source": [
        "Eles são usados para repetir uma sequência de instruções um número desconhecido de vezes. Este tipo de laço roda enquanto (while, em inglês) uma dada condição é True (verdadeira) e somente é interrompida quando a condição se torna False (falsa)."
      ]
    },
    {
      "cell_type": "markdown",
      "id": "8f7885d5-231c-4d72-a297-729f61d19121",
      "metadata": {
        "id": "8f7885d5-231c-4d72-a297-729f61d19121"
      },
      "source": [
        "<img src='https://www.freecodecamp.org/portuguese/news/content/images/size/w1000/2022/02/image-24.png'>\n",
        "\n",
        "[imagem](https://www.freecodecamp.org/portuguese/news/content/images/size/w1000/2022/02/image-24.png)"
      ]
    },
    {
      "cell_type": "markdown",
      "id": "d1baad5e-e12d-4851-9de4-e1b446cea4b8",
      "metadata": {
        "id": "d1baad5e-e12d-4851-9de4-e1b446cea4b8"
      },
      "source": [
        "Vamos dividir as peças do diagrama em detalhes:\n",
        "\n",
        "O processo inicia (Start) quando um laço while é encontrado durante a execução do programa.\n",
        "A condição é avaliada (Evaluate Condition) para ver se ela é verdadeira (True) ou false (False).\n",
        "Se a condição for True, as instruções (Statements) que pertencem ao laço serão executadas.\n",
        "A condição do laço while é verificada novamente.\n",
        "Se a condição for True novamente, a sequência de instruções é executada novamente e o processo se repete.\n",
        "Quando a condição for False, o laço é interrompido (Loop Stops -> End) e o programa continua para além do laço."
      ]
    },
    {
      "cell_type": "markdown",
      "id": "fd0a87f6-6d17-452a-93b0-4e97cc95ce6a",
      "metadata": {
        "id": "fd0a87f6-6d17-452a-93b0-4e97cc95ce6a"
      },
      "source": [
        "- Vamos então praticar"
      ]
    },
    {
      "cell_type": "code",
      "execution_count": null,
      "id": "9073788e-72cf-409b-9f8b-6acd76b81628",
      "metadata": {
        "id": "9073788e-72cf-409b-9f8b-6acd76b81628"
      },
      "outputs": [],
      "source": [
        "nomes  = [ 'Rafel', 'Maria', \"Ana\" ]"
      ]
    },
    {
      "cell_type": "code",
      "execution_count": null,
      "id": "673aca88-435e-4084-b933-283d1bfad24d",
      "metadata": {
        "id": "673aca88-435e-4084-b933-283d1bfad24d"
      },
      "outputs": [],
      "source": [
        "idades = [ 10, 20, 15]"
      ]
    },
    {
      "cell_type": "code",
      "execution_count": null,
      "id": "d4926637-08f0-444b-a641-d0ededf99db7",
      "metadata": {
        "id": "d4926637-08f0-444b-a641-d0ededf99db7"
      },
      "outputs": [],
      "source": [
        "sexo   = ('M', 'F', 'O')   #tupla"
      ]
    },
    {
      "cell_type": "code",
      "execution_count": null,
      "id": "20ebeb4c-44ff-409a-ac59-0d6b46ca20ed",
      "metadata": {
        "id": "20ebeb4c-44ff-409a-ac59-0d6b46ca20ed"
      },
      "outputs": [],
      "source": [
        "cadastro = {'nomes': nomes,\n",
        "           'idades': idades,\n",
        "           'cidade': ['A', 'B', 'C']}"
      ]
    },
    {
      "cell_type": "markdown",
      "id": "789f3b4d-2cde-49d0-b37f-019c890dfe1e",
      "metadata": {
        "tags": [],
        "id": "789f3b4d-2cde-49d0-b37f-019c890dfe1e"
      },
      "source": [
        "## laço for"
      ]
    },
    {
      "cell_type": "code",
      "execution_count": null,
      "id": "f5dc2d42-263d-49a6-8f27-b3cd8eb59718",
      "metadata": {
        "id": "f5dc2d42-263d-49a6-8f27-b3cd8eb59718"
      },
      "outputs": [],
      "source": [
        "for nome in nomes:\n",
        "    print(nome)\n",
        "    print('etapa')"
      ]
    },
    {
      "cell_type": "code",
      "execution_count": null,
      "id": "7d8f1f11-3231-4427-98e4-01a574067585",
      "metadata": {
        "id": "7d8f1f11-3231-4427-98e4-01a574067585"
      },
      "outputs": [],
      "source": [
        "for idade in idades:\n",
        "    if idade%2 == 0: print(idade)"
      ]
    },
    {
      "cell_type": "code",
      "execution_count": null,
      "id": "58ad2387-e20f-4911-96b6-a7406d3ef0e2",
      "metadata": {
        "id": "58ad2387-e20f-4911-96b6-a7406d3ef0e2"
      },
      "outputs": [],
      "source": [
        "for i in range(0, 5):\n",
        "    print(i)"
      ]
    },
    {
      "cell_type": "code",
      "execution_count": null,
      "id": "3768732c-1063-4081-b802-ecf5bb6e8b0e",
      "metadata": {
        "tags": [],
        "id": "3768732c-1063-4081-b802-ecf5bb6e8b0e"
      },
      "outputs": [],
      "source": [
        "import numpy as np\n",
        "matriz = np.zeros([3,3])\n",
        "matriz"
      ]
    },
    {
      "cell_type": "code",
      "execution_count": null,
      "id": "cfd80b6e-9918-45fc-b3b9-7836e3d4ae2f",
      "metadata": {
        "tags": [],
        "id": "cfd80b6e-9918-45fc-b3b9-7836e3d4ae2f"
      },
      "outputs": [],
      "source": [
        "for i in range(0, 3):\n",
        "    for j in range(0, 3):\n",
        "        matriz[i][j] = 5\n",
        "\n",
        "matriz"
      ]
    },
    {
      "cell_type": "markdown",
      "id": "ac6e2481-0602-4c6e-9bd6-cf00583d6c6e",
      "metadata": {
        "tags": [],
        "id": "ac6e2481-0602-4c6e-9bd6-cf00583d6c6e"
      },
      "source": [
        "## Laço While"
      ]
    },
    {
      "cell_type": "markdown",
      "id": "e277729e-62d9-4868-85c0-c2884dd08bda",
      "metadata": {
        "id": "e277729e-62d9-4868-85c0-c2884dd08bda"
      },
      "source": [
        "Quando escrevemos um laço while, não definimos explicitamente quantas iterações serão realizadas. Somente escrevemos a condição que tem de ser verdadeira (True) para continuar o processo e falsa (False) para interrompê-la.\n",
        "\n",
        "💡Dica: se a condição do laço while nunca chegar a ser False, teremos um laço infinito, que é um laço que nunca é interrompido (em tese) sem intervenção externa."
      ]
    },
    {
      "cell_type": "code",
      "execution_count": null,
      "id": "52091d97-73eb-4bec-bf08-fd961fadced2",
      "metadata": {
        "id": "52091d97-73eb-4bec-bf08-fd961fadced2"
      },
      "outputs": [],
      "source": [
        "i = 0\n",
        "idade = idades[i]\n",
        "while idade <= 10:\n",
        "    print(idade)\n",
        "    i += 1\n",
        "    idade = idades[i]\n"
      ]
    },
    {
      "cell_type": "markdown",
      "metadata": {
        "id": "24f87edb-ddf2-469d-ad8f-d3cd3c0f1b43"
      },
      "source": [
        "# Funções"
      ],
      "id": "24f87edb-ddf2-469d-ad8f-d3cd3c0f1b43"
    },
    {
      "cell_type": "code",
      "execution_count": null,
      "metadata": {
        "id": "b5bd8c5b-ec5a-4e46-87d6-1f8ba46cc5c0"
      },
      "outputs": [],
      "source": [
        "nomes  = [ 'Rafel', 'Maria', \"Ana\" ]\n",
        "\n",
        "idades = [ 10, 20, 15]\n",
        "\n",
        "sexo   = ('M', 'F', 'O')\n",
        "\n",
        "cadastro = {'nomes': nomes,\n",
        "           'idades': idades,\n",
        "           'cidade': ['A', 'B', 'C']}\n",
        "\n",
        "cadastro"
      ],
      "id": "b5bd8c5b-ec5a-4e46-87d6-1f8ba46cc5c0"
    },
    {
      "cell_type": "code",
      "execution_count": null,
      "metadata": {
        "tags": [],
        "id": "10debb1a-3726-4e18-807b-be64e575c952"
      },
      "outputs": [],
      "source": [
        "cadastro['nomes']"
      ],
      "id": "10debb1a-3726-4e18-807b-be64e575c952"
    },
    {
      "cell_type": "code",
      "execution_count": null,
      "metadata": {
        "id": "ec4ed80a-8645-41f8-ab89-b4b3cf9d0b7f"
      },
      "outputs": [],
      "source": [
        "def faixaIdade(idade):\n",
        "    if idade   <= 12:\n",
        "        return 'criança'\n",
        "    elif idade <= 18:\n",
        "        return 'adolescente'\n",
        "    elif idade <=80:\n",
        "        return 'adulto'\n",
        "    else:\n",
        "        return 'idoso'\n"
      ],
      "id": "ec4ed80a-8645-41f8-ab89-b4b3cf9d0b7f"
    },
    {
      "cell_type": "code",
      "execution_count": null,
      "metadata": {
        "id": "d59ed665-c48e-4341-94cc-f20f46f48aad"
      },
      "outputs": [],
      "source": [
        "faixaIdade(10)"
      ],
      "id": "d59ed665-c48e-4341-94cc-f20f46f48aad"
    },
    {
      "cell_type": "markdown",
      "source": [
        "## *Funções - Aulas seguintes**"
      ],
      "metadata": {
        "id": "iMjXpTueYCDe"
      },
      "id": "iMjXpTueYCDe"
    },
    {
      "cell_type": "markdown",
      "source": [
        "### Importar os arquivos"
      ],
      "metadata": {
        "id": "1ao5qWQrYhOX"
      },
      "id": "1ao5qWQrYhOX"
    },
    {
      "cell_type": "code",
      "execution_count": null,
      "metadata": {
        "tags": [],
        "id": "46a60732-0a13-445c-9883-da78e2b06e3d"
      },
      "outputs": [],
      "source": [
        "# A seguinte função permitirá importar os dataframes que foram processados em uma etapa anterior\n",
        "def import_df(nome_processo_anterior):\n",
        "    names_df = ['dfClientes', 'dfLojas','dfProdutos','dfVendas', 'dfPag']\n",
        "    dataframes = [dfClientes, dfLojas, dfProdutos, dfVendas, dfPag]\n",
        "\n",
        "    for i, j in zip(names_df, dataframes):\n",
        "        key = 'Results/'+ nome_processo_anterior + '_ '+ i +'.csv'\n",
        "        j = pd.read_csv(key)\n",
        "        print(i)\n",
        "        print(j.columns)\n",
        "\n",
        "\n"
      ],
      "id": "46a60732-0a13-445c-9883-da78e2b06e3d"
    },
    {
      "cell_type": "markdown",
      "source": [
        "### Exportar os arquivos"
      ],
      "metadata": {
        "id": "UTXSsaqqYnte"
      },
      "id": "UTXSsaqqYnte"
    },
    {
      "cell_type": "code",
      "source": [
        "# A seguinte função permitirá `Exportar` os dataframes que foram processados\n",
        "def export_df(nome_processo_atual):\n",
        "    names_df = ['dfClientes', 'dfLojas','dfProdutos','dfVendas', 'dfPag']\n",
        "    dataframes = [dfClientes, dfLojas, dfProdutos, dfVendas, dfPag]\n",
        "    for i, j  in zip(names_df, dataframes):\n",
        "        key = 'Results/'+ nome_processo_atual + '_ '+ i +'.csv'\n",
        "        j.to_csv(key)"
      ],
      "metadata": {
        "id": "mxK4MC6tYsyM"
      },
      "execution_count": null,
      "outputs": [],
      "id": "mxK4MC6tYsyM"
    },
    {
      "cell_type": "markdown",
      "source": [
        "# **Base de dados - Aulas**"
      ],
      "metadata": {
        "id": "dbwZoy-mY_4r"
      },
      "id": "dbwZoy-mY_4r"
    },
    {
      "cell_type": "code",
      "execution_count": null,
      "metadata": {
        "id": "8bedfa9d-d43a-48c4-9c31-063b581fa4e8",
        "tags": []
      },
      "outputs": [],
      "source": [
        "# endereço do github\n",
        "address = \"https://github.com/tuliofor/dados_aula/blob/main/CasoEstudo.xlsx?raw=true\""
      ],
      "id": "8bedfa9d-d43a-48c4-9c31-063b581fa4e8"
    },
    {
      "cell_type": "code",
      "execution_count": null,
      "metadata": {
        "id": "55d24f27-e3ef-432e-b18a-af4315e42bfe",
        "tags": []
      },
      "outputs": [],
      "source": [
        "import pandas as pd"
      ],
      "id": "55d24f27-e3ef-432e-b18a-af4315e42bfe"
    },
    {
      "cell_type": "code",
      "execution_count": null,
      "metadata": {
        "id": "c3c57966-9d95-40a4-8ab7-ef88c67489ba",
        "tags": []
      },
      "outputs": [],
      "source": [
        "dfClientes = pd.read_excel(address, sheet_name='clientes')\n",
        "dfLojas    = pd.read_excel(address, sheet_name='lojas')\n",
        "dfProdutos = pd.read_excel(address, sheet_name='produtos')\n",
        "dfVendas   = pd.read_excel(address, sheet_name='vendas')\n",
        "dfPag      = pd.read_excel(address, sheet_name='pagamentos')"
      ],
      "id": "c3c57966-9d95-40a4-8ab7-ef88c67489ba"
    }
  ],
  "metadata": {
    "kernelspec": {
      "display_name": "Python 3 (ipykernel)",
      "language": "python",
      "name": "python3"
    },
    "language_info": {
      "codemirror_mode": {
        "name": "ipython",
        "version": 3
      },
      "file_extension": ".py",
      "mimetype": "text/x-python",
      "name": "python",
      "nbconvert_exporter": "python",
      "pygments_lexer": "ipython3",
      "version": "3.11.2"
    },
    "toc-autonumbering": true,
    "toc-showcode": false,
    "toc-showmarkdowntxt": false,
    "colab": {
      "provenance": []
    }
  },
  "nbformat": 4,
  "nbformat_minor": 5
}