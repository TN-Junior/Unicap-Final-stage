{
  "cells": [
    {
      "cell_type": "markdown",
      "metadata": {
        "tags": [],
        "id": "lUymFRooJjJ9"
      },
      "source": [
        "---\n",
        "\n",
        "<h1 align=left><font size = 8, style=\"color:rgb(200,0,0)\"><b>Introdução  </b></font></h1>\n",
        "\n",
        "---"
      ]
    },
    {
      "cell_type": "markdown",
      "metadata": {
        "id": "Mx3tOZ81JjJ9"
      },
      "source": [
        "**Aprendizado de máquina**\n",
        "\n",
        "(em inglês, \"machine learning\") é uma subárea da _inteligência artificial_ que se concentra no desenvolvimento de algoritmos e modelos que permitem aos computadores aprender e melhorar o desempenho em tarefas específicas a partir da experiência com dados, em vez de serem explicitamente programados para realizar uma tarefa.\n"
      ]
    },
    {
      "cell_type": "markdown",
      "metadata": {
        "tags": [],
        "id": "9iwASG_8JjJ-"
      },
      "source": [
        "<figure>\n",
        "<center>\n",
        "<img src=\"https://visibilia.net.br/wp-content/uploads/2020/12/AM-2.png\" width=700, align=\"centre\"/>\n",
        "<figcaption>Divisão dos dados</figcaption></center>\n",
        "</figure>\n",
        "<br>\n",
        "\n",
        "[link: imagem](\"https://visibilia.net.br/wp-content/uploads/2020/12/AM-2.png\")"
      ]
    },
    {
      "cell_type": "markdown",
      "metadata": {
        "id": "XggpBEU9JjJ-"
      },
      "source": [
        "\n",
        "> A ideia fundamental do aprendizado de máquina é que **os sistemas computacionais podem analisar e interpretar dados, identificar padrões e fazer previsões ou tomar decisões com base nesses padrões, tudo de forma autônoma.** Isso é feito através de uma variedade de técnicas e algoritmos que permitem que as máquinas \"aprendam\" a partir dos dados de treinamento."
      ]
    },
    {
      "cell_type": "markdown",
      "metadata": {
        "id": "5pzakzl9QHjh"
      },
      "source": [
        "<figure>\n",
        "<center>\n",
        "<img src=\"https://github.com/Rogerio-mack/Machine-Learning-I/raw/main/Figures/MLparadigmas/Slide2.PNG\" width=700, align=\"centre\"/>\n",
        "<figcaption>Divisão dos dados</figcaption></center>\n",
        "</figure>\n",
        "<br>\n",
        "\n",
        "[link: imagem](\"https://github.com/Rogerio-mack/Machine-Learning-I/raw/main/Figures/MLparadigmas/Slide2.PNG\")"
      ]
    },
    {
      "cell_type": "markdown",
      "metadata": {
        "id": "zQX8WQPeHTwc",
        "tags": [],
        "toc-hr-collapsed": true
      },
      "source": [
        "# <h align=left><font size = 6, > Cases: Aprendizado de Máquina</font></h>"
      ]
    },
    {
      "cell_type": "markdown",
      "source": [
        "Ao longo do texto demos vários exemplos de aplicações que vem sendo feitas do Aprendizado de Máquina. Para algumas empresas o Aprendizado de Máquina está no centro de seus negócios. É caso das redes sociais, do Facebook e o Instagram, ao LinkedIn, ou a Netflix e o sistema de busca da Google. Mas de empresas do varejo à empresas de extração, saúde ou financeiras, todos os setores e mesmo a Ciência, estão adotando o Aprendizado de Máquina, mesmo que não sendo esse o seu propósito central. Revisamos aqui alguns dos usos mais comuns que encontram-se espalhados ao longo do texto para ilustrar aspectos específicos do Aprendizado de Máquina."
      ],
      "metadata": {
        "id": "sCNa1nSKdw84"
      }
    },
    {
      "cell_type": "markdown",
      "metadata": {
        "id": "34ghfX8dJjKB"
      },
      "source": [
        "## Sistemas de recomendação"
      ]
    },
    {
      "cell_type": "markdown",
      "source": [
        "Recomendações da Netflix, YouTube ou Instagram, de mensagens do Twitter ou de anúncios no FaceBook que queremos ver buscam extrair o padrão de preferência dos usuários."
      ],
      "metadata": {
        "id": "M_dCeK63d3s9"
      }
    },
    {
      "cell_type": "markdown",
      "metadata": {
        "tags": [],
        "id": "vpe6qXzGJjKB"
      },
      "source": [
        "<figure>\n",
        "<center>\n",
        "<img src=\"https://slideplayer.com.br/slide/1594488/5/images/15/Sistemas+de+recomenda%C3%A7%C3%A3o.jpg\" width=700, align=\"centre\"/>\n",
        "<figcaption>Divisão dos dados</figcaption></center>\n",
        "</figure>\n",
        "<br>\n",
        "\n",
        "[link: imagem](\"https://slideplayer.com.br/slide/1594488/5/images/15/Sistemas+de+recomenda%C3%A7%C3%A3o.jpg\")"
      ]
    },
    {
      "cell_type": "markdown",
      "metadata": {
        "id": "rjDIu7v8JjKB"
      },
      "source": [
        "\n",
        "## Detecção de fraude"
      ]
    },
    {
      "cell_type": "markdown",
      "metadata": {
        "id": "Jw87GMJJJjKC"
      },
      "source": [
        ">> Identificação de transações de cartão de crédito ou compras fraudulentas em sites de e-commerce, tentativas fraudulentas de login etc."
      ]
    },
    {
      "cell_type": "markdown",
      "metadata": {
        "id": "JfoFsh4YJjKC"
      },
      "source": [
        "## Chatbots"
      ]
    },
    {
      "cell_type": "markdown",
      "metadata": {
        "id": "XHBZiMXZJjKC"
      },
      "source": [
        ">> Chatbots online em que os clientes, interagem por texto ou mesmo fala, com uma máquina que guia o usuário para um determinado resultado empregam uma série de recursos de Aprendizado de Máquina, do processamento de linguagem natural ao aprendizado de reforço."
      ]
    },
    {
      "cell_type": "markdown",
      "metadata": {
        "id": "e3QoSn2IJjKC"
      },
      "source": [
        "## Diagnóstico médico"
      ]
    },
    {
      "cell_type": "markdown",
      "metadata": {
        "id": "2lPdUwTeJjKC"
      },
      "source": [
        ">> Algoritmos de aprendizado de máquina são empregados para examinar imagens médicas ou outros dados de pacientes e auxiliar no diagnóstico precoce de doenças como câncer ou diabetes."
      ]
    },
    {
      "cell_type": "markdown",
      "metadata": {
        "id": "B0B5nPDcJjKD"
      },
      "source": [
        "## Veículos Autônomos"
      ]
    },
    {
      "cell_type": "markdown",
      "metadata": {
        "id": "OCG7eg-KB6QA"
      },
      "source": [
        "\n",
        "<img src=\"http://revistapesquisa.fapesp.br/wp-content/uploads/2015/09/Veiculos_00057830-300x212.jpg\" width=500, align=\"center\">\n",
        "\n",
        "<small>Fonte: https://revistapesquisa.fapesp.br/o-futuro-sem-motorista/\n",
        "\n"
      ]
    },
    {
      "cell_type": "markdown",
      "metadata": {
        "id": "S_0HGlbFJjKF"
      },
      "source": [
        ">> Empregam um grande número de recursos de aprendizado de máquina para segmentação de cenas (identificação de ruas, calçadas, prédios e pessoas em uma cena), movimentação autônoma, predição e tratamento de colisão etc. em geral com emprego de algoritmos de Deep Learning."
      ]
    },
    {
      "cell_type": "markdown",
      "metadata": {
        "id": "PeyoHA6qHTw_"
      },
      "source": [
        "\n",
        "<img src=\"https://revistapesquisa.fapesp.br/wp-content/uploads/2019/12/068-073_evtol_286-1-IMG.png\" width=500, align=\"center\">\n",
        "\n",
        "<small><b>\n",
        "eVTOL aeronave elétrica de decolagem e pouso vertical sendo desenvolvido pela EMBRAER-UBER. Fonte: https://revistapesquisa.fapesp.br/2019/12/03/a-chegada-dos-carros-voadores/"
      ]
    },
    {
      "cell_type": "markdown",
      "metadata": {
        "id": "dTkwlaD8JjKG"
      },
      "source": [
        "## Análise e Classificação de Risco"
      ]
    },
    {
      "cell_type": "markdown",
      "metadata": {
        "id": "fP5J2HddJjKG"
      },
      "source": [
        ">> Para precificação de crédito e seguros."
      ]
    },
    {
      "cell_type": "markdown",
      "metadata": {
        "id": "XlK3CFlPHTw_"
      },
      "source": [
        "\n",
        "<img src=\"https://revistapesquisa.fapesp.br/wp-content/uploads/2017/07/068-071_madeira_257-3.jpg\" width=500, align=\"center\">\n",
        "\n",
        "<small><b>\n",
        "Figura 8. Sistema Automático de identificação de lâminas de madeira para uso industrial. Fonte: https://revistapesquisa.fapesp.br/2017/07/18/identificacao-de-madeiras/\n"
      ]
    },
    {
      "cell_type": "markdown",
      "metadata": {
        "tags": [],
        "id": "aF3UzDvNJjKG"
      },
      "source": [
        "## Exploração eficaz do Presál - PETROBRÁS"
      ]
    },
    {
      "cell_type": "markdown",
      "metadata": {
        "id": "9VoqvkU2RWei"
      },
      "source": [
        "\n",
        "<img src=\"https://revistapesquisa.fapesp.br/wp-content/uploads/2021/04/SITE_Petroleo-0-1140.jpg\" width=500, align=\"center\">\n",
        "\n",
        "<small><b>\n",
        "Figura 9. Sistema Híbrido combina Mecânica dos Fluídos e Aprendizado de Máquina para exploração mais eficaz do Pré-Sal pela Petrobrás. Fonte: https://revistapesquisa.fapesp.br/producao-mais-eficaz-no-pre-sal/\n"
      ]
    },
    {
      "cell_type": "markdown",
      "metadata": {
        "id": "GpauQKx4JjKH"
      },
      "source": [
        "## Tratamento de agua"
      ]
    },
    {
      "cell_type": "markdown",
      "metadata": {
        "id": "0NmSzFrRSaDf"
      },
      "source": [
        "\n",
        "<img src=\"https://revistapesquisa.fapesp.br/wp-content/uploads/2020/03/070-074_mineracao-digital_289-3-1140.jpg\" width=500, align=\"center\">\n",
        "\n",
        "<small><b>\n",
        "Figura 10. Mina de alumínio usa sistema automatizado para tratar água de rejeito. Fonte: https://revistapesquisa.fapesp.br/mineracao-digital/\n"
      ]
    },
    {
      "cell_type": "markdown",
      "metadata": {
        "id": "Iq8S_jFKJjKH"
      },
      "source": [
        "## Outras aplicações"
      ]
    },
    {
      "cell_type": "markdown",
      "metadata": {
        "id": "p2TOw658HZa-"
      },
      "source": [
        "<br>\n",
        "<br>\n",
        "\n",
        "<img src=\"https://github.com/firmai/industry-machine-learning/raw/master/assets/industry.png\" width=500, align=\"center\">\n",
        "\n",
        "[Machine Learning and Data Science Applications in Industry](https://github.com/ashishpatel26/Real-time-ML-Project) | https://github.com/ashishpatel26/Real-time-ML-Project\n",
        "\n",
        "| <!-- -->                         | <!-- -->                         | <!-- -->                          |\n",
        "| -------------------------------- | -------------------------------- | --------------------------------- |\n",
        "| [Accommodation & Food](#accommodation)             | [Agriculture](#agriculture)           | [Banking & Insurance](#bankfin)               |\n",
        "| [Biotechnological & Life Sciences](#biotech) | [Construction & Engineering](#construction)       | [Education & Research](#education)              |\n",
        "| [Emergency & Relief](#emergency)               | [Finance](#finance) | [Manufacturing](#manufacturing)             |\n",
        "| [Government and Public Works](#public)      | [Healthcare](#healthcare)  | [Media & Publishing](#media)                |\n",
        "| [Justice, Law and Regulations](#legal)      | [Miscellaneous](#miscellaneous)                    | [Accounting](#accounting) |\n",
        "| [Real Estate, Rental & Leasing](#realestate)    | [Utilities](#utilities)              | [Wholesale & Retail](#wholesale)                  |\n",
        "\n",
        "<br>\n",
        "<br>\n",
        "\n",
        "\n",
        "\n",
        "\n",
        "\n",
        "\n",
        "\n"
      ]
    },
    {
      "cell_type": "markdown",
      "metadata": {
        "tags": [],
        "toc-hr-collapsed": true,
        "id": "26ISTLt0JjKI"
      },
      "source": [
        "# EXEMPLO"
      ]
    },
    {
      "cell_type": "markdown",
      "metadata": {
        "tags": [],
        "id": "UgNzwa-9JjKI"
      },
      "source": [
        "\n",
        "Em seguida, iremos responder de duas formas diferentes á pergunta: Um grau celsiu a quantos Fahrenheit equivale?\n",
        "\n",
        "1.   Utilizando equações\n",
        "2.   Reconhecimento de padrões"
      ]
    },
    {
      "cell_type": "markdown",
      "metadata": {
        "id": "u94hPih_JjKI"
      },
      "source": [
        "> Você certamente não terá dificuldade de criar um programa para converter temperaturas de $^{o} C$ (Celsius) para $^{o} F$ (Fahrenheit)."
      ]
    },
    {
      "cell_type": "markdown",
      "metadata": {
        "id": "MRxxgtljRy3Z"
      },
      "source": [
        "<img src=\"https://github.com/Rogerio-mack/Machine-Learning-I/raw/main/Figures/MLparadigmas/Slide1.PNG\" width=800, align=\"center\">\n"
      ]
    },
    {
      "cell_type": "markdown",
      "metadata": {
        "id": "YRUcR5CDJjKJ"
      },
      "source": [
        "## 1. Equações matematicas"
      ]
    },
    {
      "cell_type": "markdown",
      "metadata": {
        "id": "N17qTUrqJjKJ"
      },
      "source": [
        "> Lembre-se daquel assunto que vimos em Analise exploratorio de dados chamado de \"funções \"!! então aqui vamos construir uma dessas funções"
      ]
    },
    {
      "cell_type": "code",
      "execution_count": null,
      "metadata": {
        "id": "8sKVNSX8S4gQ"
      },
      "outputs": [],
      "source": [
        "def Celsius_para_Fahrenheit(Celsius):\n",
        "\n",
        "  return Celsius * 9/5 + 32"
      ]
    },
    {
      "cell_type": "markdown",
      "metadata": {
        "id": "dQVVentwJjKQ"
      },
      "source": [
        ">> Vamos testar, troque o \"X\" pelos último digito da sua matricula"
      ]
    },
    {
      "cell_type": "code",
      "execution_count": null,
      "metadata": {
        "colab": {
          "base_uri": "https://localhost:8080/"
        },
        "id": "_xoV_zcxTJoq",
        "outputId": "5f59ebdc-d644-4a92-b14f-3506f6b6727f"
      },
      "outputs": [
        {
          "output_type": "stream",
          "name": "stdout",
          "text": [
            "48.2\n"
          ]
        }
      ],
      "source": [
        "print( Celsius_para_Fahrenheit( 9  ) )"
      ]
    },
    {
      "cell_type": "markdown",
      "metadata": {
        "tags": [],
        "id": "8wser-d9JjKR"
      },
      "source": [
        ">> Vamos testar novamente, troque o \"Y\" pelo primeiro digito da sua matricula\n"
      ]
    },
    {
      "cell_type": "code",
      "execution_count": null,
      "metadata": {
        "colab": {
          "base_uri": "https://localhost:8080/"
        },
        "id": "A9LPvHoJJjKS",
        "outputId": "2523d84c-ec3a-4510-a7e8-20ff224a71bb"
      },
      "outputs": [
        {
          "output_type": "stream",
          "name": "stdout",
          "text": [
            "48.2\n"
          ]
        }
      ],
      "source": [
        "print( Celsius_para_Fahrenheit( 9 ) )"
      ]
    },
    {
      "cell_type": "markdown",
      "metadata": {
        "tags": [],
        "toc-hr-collapsed": true,
        "id": "JAXabS6nJjKS"
      },
      "source": [
        "## 2. Reconhecimento de padrões: Aprendizado de maquina"
      ]
    },
    {
      "cell_type": "markdown",
      "metadata": {
        "id": "C5gtjVi3TQ_D"
      },
      "source": [
        ">> Mas será que um **'programa'** pode criar esse programa de conversão de temperaturas? A ideia do Aprendizado de Máquina é que sim. Mas para que seja possível o aprendizado precisamos partir de algum ponto que são os dados."
      ]
    },
    {
      "cell_type": "markdown",
      "metadata": {
        "id": "OtLuNtm3JjKS"
      },
      "source": [
        "### Importamos as bibliotecas que iremos utilizar"
      ]
    },
    {
      "cell_type": "code",
      "execution_count": null,
      "metadata": {
        "id": "NnPj7lRMSO9J"
      },
      "outputs": [],
      "source": [
        "import numpy as np\n",
        "import pandas as pd\n",
        "import seaborn as sns"
      ]
    },
    {
      "cell_type": "markdown",
      "metadata": {
        "id": "itOct7oNJjKT"
      },
      "source": [
        "### Geramos/importamos os dados"
      ]
    },
    {
      "cell_type": "code",
      "execution_count": null,
      "metadata": {
        "colab": {
          "base_uri": "https://localhost:8080/",
          "height": 1000
        },
        "id": "L00gKtjbTyXY",
        "outputId": "eafe47c5-3f9d-4737-a664-ce05cf69097d"
      },
      "outputs": [
        {
          "output_type": "execute_result",
          "data": {
            "text/plain": [
              "    celsius  fahrenheit\n",
              "0       -20        -4.0\n",
              "1       -19        -2.2\n",
              "2       -18        -0.4\n",
              "3       -17         1.4\n",
              "4       -16         3.2\n",
              "5       -15         5.0\n",
              "6       -14         6.8\n",
              "7       -13         8.6\n",
              "8       -12        10.4\n",
              "9       -11        12.2\n",
              "10      -10        14.0\n",
              "11       -9        15.8\n",
              "12       -8        17.6\n",
              "13       -7        19.4\n",
              "14       -6        21.2\n",
              "15       -5        23.0\n",
              "16       -4        24.8\n",
              "17       -3        26.6\n",
              "18       -2        28.4\n",
              "19       -1        30.2\n",
              "20        0        32.0\n",
              "21        1        33.8\n",
              "22        2        35.6\n",
              "23        3        37.4\n",
              "24        4        39.2\n",
              "25        5        41.0\n",
              "26        6        42.8\n",
              "27        7        44.6\n",
              "28        8        46.4\n",
              "29        9        48.2\n",
              "30       10        50.0\n",
              "31       11        51.8\n",
              "32       12        53.6\n",
              "33       13        55.4\n",
              "34       14        57.2\n",
              "35       15        59.0\n",
              "36       16        60.8\n",
              "37       17        62.6\n",
              "38       18        64.4\n",
              "39       19        66.2"
            ],
            "text/html": [
              "\n",
              "  <div id=\"df-d885dc0c-f1ab-474d-b122-7b7682118fac\" class=\"colab-df-container\">\n",
              "    <div>\n",
              "<style scoped>\n",
              "    .dataframe tbody tr th:only-of-type {\n",
              "        vertical-align: middle;\n",
              "    }\n",
              "\n",
              "    .dataframe tbody tr th {\n",
              "        vertical-align: top;\n",
              "    }\n",
              "\n",
              "    .dataframe thead th {\n",
              "        text-align: right;\n",
              "    }\n",
              "</style>\n",
              "<table border=\"1\" class=\"dataframe\">\n",
              "  <thead>\n",
              "    <tr style=\"text-align: right;\">\n",
              "      <th></th>\n",
              "      <th>celsius</th>\n",
              "      <th>fahrenheit</th>\n",
              "    </tr>\n",
              "  </thead>\n",
              "  <tbody>\n",
              "    <tr>\n",
              "      <th>0</th>\n",
              "      <td>-20</td>\n",
              "      <td>-4.0</td>\n",
              "    </tr>\n",
              "    <tr>\n",
              "      <th>1</th>\n",
              "      <td>-19</td>\n",
              "      <td>-2.2</td>\n",
              "    </tr>\n",
              "    <tr>\n",
              "      <th>2</th>\n",
              "      <td>-18</td>\n",
              "      <td>-0.4</td>\n",
              "    </tr>\n",
              "    <tr>\n",
              "      <th>3</th>\n",
              "      <td>-17</td>\n",
              "      <td>1.4</td>\n",
              "    </tr>\n",
              "    <tr>\n",
              "      <th>4</th>\n",
              "      <td>-16</td>\n",
              "      <td>3.2</td>\n",
              "    </tr>\n",
              "    <tr>\n",
              "      <th>5</th>\n",
              "      <td>-15</td>\n",
              "      <td>5.0</td>\n",
              "    </tr>\n",
              "    <tr>\n",
              "      <th>6</th>\n",
              "      <td>-14</td>\n",
              "      <td>6.8</td>\n",
              "    </tr>\n",
              "    <tr>\n",
              "      <th>7</th>\n",
              "      <td>-13</td>\n",
              "      <td>8.6</td>\n",
              "    </tr>\n",
              "    <tr>\n",
              "      <th>8</th>\n",
              "      <td>-12</td>\n",
              "      <td>10.4</td>\n",
              "    </tr>\n",
              "    <tr>\n",
              "      <th>9</th>\n",
              "      <td>-11</td>\n",
              "      <td>12.2</td>\n",
              "    </tr>\n",
              "    <tr>\n",
              "      <th>10</th>\n",
              "      <td>-10</td>\n",
              "      <td>14.0</td>\n",
              "    </tr>\n",
              "    <tr>\n",
              "      <th>11</th>\n",
              "      <td>-9</td>\n",
              "      <td>15.8</td>\n",
              "    </tr>\n",
              "    <tr>\n",
              "      <th>12</th>\n",
              "      <td>-8</td>\n",
              "      <td>17.6</td>\n",
              "    </tr>\n",
              "    <tr>\n",
              "      <th>13</th>\n",
              "      <td>-7</td>\n",
              "      <td>19.4</td>\n",
              "    </tr>\n",
              "    <tr>\n",
              "      <th>14</th>\n",
              "      <td>-6</td>\n",
              "      <td>21.2</td>\n",
              "    </tr>\n",
              "    <tr>\n",
              "      <th>15</th>\n",
              "      <td>-5</td>\n",
              "      <td>23.0</td>\n",
              "    </tr>\n",
              "    <tr>\n",
              "      <th>16</th>\n",
              "      <td>-4</td>\n",
              "      <td>24.8</td>\n",
              "    </tr>\n",
              "    <tr>\n",
              "      <th>17</th>\n",
              "      <td>-3</td>\n",
              "      <td>26.6</td>\n",
              "    </tr>\n",
              "    <tr>\n",
              "      <th>18</th>\n",
              "      <td>-2</td>\n",
              "      <td>28.4</td>\n",
              "    </tr>\n",
              "    <tr>\n",
              "      <th>19</th>\n",
              "      <td>-1</td>\n",
              "      <td>30.2</td>\n",
              "    </tr>\n",
              "    <tr>\n",
              "      <th>20</th>\n",
              "      <td>0</td>\n",
              "      <td>32.0</td>\n",
              "    </tr>\n",
              "    <tr>\n",
              "      <th>21</th>\n",
              "      <td>1</td>\n",
              "      <td>33.8</td>\n",
              "    </tr>\n",
              "    <tr>\n",
              "      <th>22</th>\n",
              "      <td>2</td>\n",
              "      <td>35.6</td>\n",
              "    </tr>\n",
              "    <tr>\n",
              "      <th>23</th>\n",
              "      <td>3</td>\n",
              "      <td>37.4</td>\n",
              "    </tr>\n",
              "    <tr>\n",
              "      <th>24</th>\n",
              "      <td>4</td>\n",
              "      <td>39.2</td>\n",
              "    </tr>\n",
              "    <tr>\n",
              "      <th>25</th>\n",
              "      <td>5</td>\n",
              "      <td>41.0</td>\n",
              "    </tr>\n",
              "    <tr>\n",
              "      <th>26</th>\n",
              "      <td>6</td>\n",
              "      <td>42.8</td>\n",
              "    </tr>\n",
              "    <tr>\n",
              "      <th>27</th>\n",
              "      <td>7</td>\n",
              "      <td>44.6</td>\n",
              "    </tr>\n",
              "    <tr>\n",
              "      <th>28</th>\n",
              "      <td>8</td>\n",
              "      <td>46.4</td>\n",
              "    </tr>\n",
              "    <tr>\n",
              "      <th>29</th>\n",
              "      <td>9</td>\n",
              "      <td>48.2</td>\n",
              "    </tr>\n",
              "    <tr>\n",
              "      <th>30</th>\n",
              "      <td>10</td>\n",
              "      <td>50.0</td>\n",
              "    </tr>\n",
              "    <tr>\n",
              "      <th>31</th>\n",
              "      <td>11</td>\n",
              "      <td>51.8</td>\n",
              "    </tr>\n",
              "    <tr>\n",
              "      <th>32</th>\n",
              "      <td>12</td>\n",
              "      <td>53.6</td>\n",
              "    </tr>\n",
              "    <tr>\n",
              "      <th>33</th>\n",
              "      <td>13</td>\n",
              "      <td>55.4</td>\n",
              "    </tr>\n",
              "    <tr>\n",
              "      <th>34</th>\n",
              "      <td>14</td>\n",
              "      <td>57.2</td>\n",
              "    </tr>\n",
              "    <tr>\n",
              "      <th>35</th>\n",
              "      <td>15</td>\n",
              "      <td>59.0</td>\n",
              "    </tr>\n",
              "    <tr>\n",
              "      <th>36</th>\n",
              "      <td>16</td>\n",
              "      <td>60.8</td>\n",
              "    </tr>\n",
              "    <tr>\n",
              "      <th>37</th>\n",
              "      <td>17</td>\n",
              "      <td>62.6</td>\n",
              "    </tr>\n",
              "    <tr>\n",
              "      <th>38</th>\n",
              "      <td>18</td>\n",
              "      <td>64.4</td>\n",
              "    </tr>\n",
              "    <tr>\n",
              "      <th>39</th>\n",
              "      <td>19</td>\n",
              "      <td>66.2</td>\n",
              "    </tr>\n",
              "  </tbody>\n",
              "</table>\n",
              "</div>\n",
              "    <div class=\"colab-df-buttons\">\n",
              "\n",
              "  <div class=\"colab-df-container\">\n",
              "    <button class=\"colab-df-convert\" onclick=\"convertToInteractive('df-d885dc0c-f1ab-474d-b122-7b7682118fac')\"\n",
              "            title=\"Convert this dataframe to an interactive table.\"\n",
              "            style=\"display:none;\">\n",
              "\n",
              "  <svg xmlns=\"http://www.w3.org/2000/svg\" height=\"24px\" viewBox=\"0 -960 960 960\">\n",
              "    <path d=\"M120-120v-720h720v720H120Zm60-500h600v-160H180v160Zm220 220h160v-160H400v160Zm0 220h160v-160H400v160ZM180-400h160v-160H180v160Zm440 0h160v-160H620v160ZM180-180h160v-160H180v160Zm440 0h160v-160H620v160Z\"/>\n",
              "  </svg>\n",
              "    </button>\n",
              "\n",
              "  <style>\n",
              "    .colab-df-container {\n",
              "      display:flex;\n",
              "      gap: 12px;\n",
              "    }\n",
              "\n",
              "    .colab-df-convert {\n",
              "      background-color: #E8F0FE;\n",
              "      border: none;\n",
              "      border-radius: 50%;\n",
              "      cursor: pointer;\n",
              "      display: none;\n",
              "      fill: #1967D2;\n",
              "      height: 32px;\n",
              "      padding: 0 0 0 0;\n",
              "      width: 32px;\n",
              "    }\n",
              "\n",
              "    .colab-df-convert:hover {\n",
              "      background-color: #E2EBFA;\n",
              "      box-shadow: 0px 1px 2px rgba(60, 64, 67, 0.3), 0px 1px 3px 1px rgba(60, 64, 67, 0.15);\n",
              "      fill: #174EA6;\n",
              "    }\n",
              "\n",
              "    .colab-df-buttons div {\n",
              "      margin-bottom: 4px;\n",
              "    }\n",
              "\n",
              "    [theme=dark] .colab-df-convert {\n",
              "      background-color: #3B4455;\n",
              "      fill: #D2E3FC;\n",
              "    }\n",
              "\n",
              "    [theme=dark] .colab-df-convert:hover {\n",
              "      background-color: #434B5C;\n",
              "      box-shadow: 0px 1px 3px 1px rgba(0, 0, 0, 0.15);\n",
              "      filter: drop-shadow(0px 1px 2px rgba(0, 0, 0, 0.3));\n",
              "      fill: #FFFFFF;\n",
              "    }\n",
              "  </style>\n",
              "\n",
              "    <script>\n",
              "      const buttonEl =\n",
              "        document.querySelector('#df-d885dc0c-f1ab-474d-b122-7b7682118fac button.colab-df-convert');\n",
              "      buttonEl.style.display =\n",
              "        google.colab.kernel.accessAllowed ? 'block' : 'none';\n",
              "\n",
              "      async function convertToInteractive(key) {\n",
              "        const element = document.querySelector('#df-d885dc0c-f1ab-474d-b122-7b7682118fac');\n",
              "        const dataTable =\n",
              "          await google.colab.kernel.invokeFunction('convertToInteractive',\n",
              "                                                    [key], {});\n",
              "        if (!dataTable) return;\n",
              "\n",
              "        const docLinkHtml = 'Like what you see? Visit the ' +\n",
              "          '<a target=\"_blank\" href=https://colab.research.google.com/notebooks/data_table.ipynb>data table notebook</a>'\n",
              "          + ' to learn more about interactive tables.';\n",
              "        element.innerHTML = '';\n",
              "        dataTable['output_type'] = 'display_data';\n",
              "        await google.colab.output.renderOutput(dataTable, element);\n",
              "        const docLink = document.createElement('div');\n",
              "        docLink.innerHTML = docLinkHtml;\n",
              "        element.appendChild(docLink);\n",
              "      }\n",
              "    </script>\n",
              "  </div>\n",
              "\n",
              "\n",
              "<div id=\"df-afb8777b-2349-4259-8b56-da66c0d46eb7\">\n",
              "  <button class=\"colab-df-quickchart\" onclick=\"quickchart('df-afb8777b-2349-4259-8b56-da66c0d46eb7')\"\n",
              "            title=\"Suggest charts\"\n",
              "            style=\"display:none;\">\n",
              "\n",
              "<svg xmlns=\"http://www.w3.org/2000/svg\" height=\"24px\"viewBox=\"0 0 24 24\"\n",
              "     width=\"24px\">\n",
              "    <g>\n",
              "        <path d=\"M19 3H5c-1.1 0-2 .9-2 2v14c0 1.1.9 2 2 2h14c1.1 0 2-.9 2-2V5c0-1.1-.9-2-2-2zM9 17H7v-7h2v7zm4 0h-2V7h2v10zm4 0h-2v-4h2v4z\"/>\n",
              "    </g>\n",
              "</svg>\n",
              "  </button>\n",
              "\n",
              "<style>\n",
              "  .colab-df-quickchart {\n",
              "      --bg-color: #E8F0FE;\n",
              "      --fill-color: #1967D2;\n",
              "      --hover-bg-color: #E2EBFA;\n",
              "      --hover-fill-color: #174EA6;\n",
              "      --disabled-fill-color: #AAA;\n",
              "      --disabled-bg-color: #DDD;\n",
              "  }\n",
              "\n",
              "  [theme=dark] .colab-df-quickchart {\n",
              "      --bg-color: #3B4455;\n",
              "      --fill-color: #D2E3FC;\n",
              "      --hover-bg-color: #434B5C;\n",
              "      --hover-fill-color: #FFFFFF;\n",
              "      --disabled-bg-color: #3B4455;\n",
              "      --disabled-fill-color: #666;\n",
              "  }\n",
              "\n",
              "  .colab-df-quickchart {\n",
              "    background-color: var(--bg-color);\n",
              "    border: none;\n",
              "    border-radius: 50%;\n",
              "    cursor: pointer;\n",
              "    display: none;\n",
              "    fill: var(--fill-color);\n",
              "    height: 32px;\n",
              "    padding: 0;\n",
              "    width: 32px;\n",
              "  }\n",
              "\n",
              "  .colab-df-quickchart:hover {\n",
              "    background-color: var(--hover-bg-color);\n",
              "    box-shadow: 0 1px 2px rgba(60, 64, 67, 0.3), 0 1px 3px 1px rgba(60, 64, 67, 0.15);\n",
              "    fill: var(--button-hover-fill-color);\n",
              "  }\n",
              "\n",
              "  .colab-df-quickchart-complete:disabled,\n",
              "  .colab-df-quickchart-complete:disabled:hover {\n",
              "    background-color: var(--disabled-bg-color);\n",
              "    fill: var(--disabled-fill-color);\n",
              "    box-shadow: none;\n",
              "  }\n",
              "\n",
              "  .colab-df-spinner {\n",
              "    border: 2px solid var(--fill-color);\n",
              "    border-color: transparent;\n",
              "    border-bottom-color: var(--fill-color);\n",
              "    animation:\n",
              "      spin 1s steps(1) infinite;\n",
              "  }\n",
              "\n",
              "  @keyframes spin {\n",
              "    0% {\n",
              "      border-color: transparent;\n",
              "      border-bottom-color: var(--fill-color);\n",
              "      border-left-color: var(--fill-color);\n",
              "    }\n",
              "    20% {\n",
              "      border-color: transparent;\n",
              "      border-left-color: var(--fill-color);\n",
              "      border-top-color: var(--fill-color);\n",
              "    }\n",
              "    30% {\n",
              "      border-color: transparent;\n",
              "      border-left-color: var(--fill-color);\n",
              "      border-top-color: var(--fill-color);\n",
              "      border-right-color: var(--fill-color);\n",
              "    }\n",
              "    40% {\n",
              "      border-color: transparent;\n",
              "      border-right-color: var(--fill-color);\n",
              "      border-top-color: var(--fill-color);\n",
              "    }\n",
              "    60% {\n",
              "      border-color: transparent;\n",
              "      border-right-color: var(--fill-color);\n",
              "    }\n",
              "    80% {\n",
              "      border-color: transparent;\n",
              "      border-right-color: var(--fill-color);\n",
              "      border-bottom-color: var(--fill-color);\n",
              "    }\n",
              "    90% {\n",
              "      border-color: transparent;\n",
              "      border-bottom-color: var(--fill-color);\n",
              "    }\n",
              "  }\n",
              "</style>\n",
              "\n",
              "  <script>\n",
              "    async function quickchart(key) {\n",
              "      const quickchartButtonEl =\n",
              "        document.querySelector('#' + key + ' button');\n",
              "      quickchartButtonEl.disabled = true;  // To prevent multiple clicks.\n",
              "      quickchartButtonEl.classList.add('colab-df-spinner');\n",
              "      try {\n",
              "        const charts = await google.colab.kernel.invokeFunction(\n",
              "            'suggestCharts', [key], {});\n",
              "      } catch (error) {\n",
              "        console.error('Error during call to suggestCharts:', error);\n",
              "      }\n",
              "      quickchartButtonEl.classList.remove('colab-df-spinner');\n",
              "      quickchartButtonEl.classList.add('colab-df-quickchart-complete');\n",
              "    }\n",
              "    (() => {\n",
              "      let quickchartButtonEl =\n",
              "        document.querySelector('#df-afb8777b-2349-4259-8b56-da66c0d46eb7 button');\n",
              "      quickchartButtonEl.style.display =\n",
              "        google.colab.kernel.accessAllowed ? 'block' : 'none';\n",
              "    })();\n",
              "  </script>\n",
              "</div>\n",
              "\n",
              "    </div>\n",
              "  </div>\n"
            ],
            "application/vnd.google.colaboratory.intrinsic+json": {
              "type": "dataframe",
              "variable_name": "df",
              "summary": "{\n  \"name\": \"df\",\n  \"rows\": 80,\n  \"fields\": [\n    {\n      \"column\": \"celsius\",\n      \"properties\": {\n        \"dtype\": \"number\",\n        \"std\": 23,\n        \"min\": -20,\n        \"max\": 59,\n        \"num_unique_values\": 80,\n        \"samples\": [\n          10,\n          -20,\n          2\n        ],\n        \"semantic_type\": \"\",\n        \"description\": \"\"\n      }\n    },\n    {\n      \"column\": \"fahrenheit\",\n      \"properties\": {\n        \"dtype\": \"number\",\n        \"std\": 41.828220139040106,\n        \"min\": -4.0,\n        \"max\": 138.2,\n        \"num_unique_values\": 80,\n        \"samples\": [\n          50.0,\n          -4.0,\n          35.6\n        ],\n        \"semantic_type\": \"\",\n        \"description\": \"\"\n      }\n    }\n  ]\n}"
            }
          },
          "metadata": {},
          "execution_count": 5
        }
      ],
      "source": [
        "# Criamos uma base de dados vazia para comportar os dados que em seguida vamos gerar\n",
        "df = pd.DataFrame()\n",
        "\n",
        "# Criando um arranjo de dados para iniciar com o aprendizado de máquina\n",
        "df['celsius'] = np.arange(-20,60)\n",
        "\n",
        "# Após criar o arranjo utilizamos o mini-programa que criamos acima para criar uma nova coluna chamada \"Fahrenheit\" e convertimos os valores da coluna de Celsius para Fahrenheit\n",
        "df['fahrenheit'] = Celsius_para_Fahrenheit( df['celsius'] )\n",
        "\n",
        "# Agora vamos lêr as primeras linhas do nosso arranjo\n",
        "df.head(40)\n"
      ]
    },
    {
      "cell_type": "markdown",
      "metadata": {
        "id": "w4c5iFWbT6RA"
      },
      "source": [
        ">> Se tivermos um conjunto de dados com valores de temperaturas em $^{o} C$ (Celsius) e seus respectivos valores em $^{o} F$ (Fahrenheit), podemos criar um programa que *aprende* esse padrão e empregá-lo para a conversão de novos dados."
      ]
    },
    {
      "cell_type": "markdown",
      "metadata": {
        "id": "Zq6Awmn5JjKU"
      },
      "source": [
        "### Importamos as funções das bibliotecas para treinar o nosso modelo de Regressão"
      ]
    },
    {
      "cell_type": "code",
      "execution_count": null,
      "metadata": {
        "id": "vI2svrZsUTDQ"
      },
      "outputs": [],
      "source": [
        "# vamos iniciar importanto a libraria \"sklearn\" e utilizaremos a regressão linear para que o nosso modelo consiga aprender\n",
        "from sklearn.linear_model import LinearRegression"
      ]
    },
    {
      "cell_type": "markdown",
      "metadata": {
        "id": "DNyuaGltJjKU"
      },
      "source": [
        "### Definimos as nossas variveis preditoras"
      ]
    },
    {
      "cell_type": "code",
      "execution_count": null,
      "metadata": {
        "id": "OGqAWhE8JjKV"
      },
      "outputs": [],
      "source": [
        "# Variaveis de entrada\n",
        "X = df[['celsius']]\n",
        "\n",
        "# Variaveis de saida\n",
        "y = df['fahrenheit']"
      ]
    },
    {
      "cell_type": "markdown",
      "metadata": {
        "id": "3sXyLj5xJjKV"
      },
      "source": [
        "### Inicializamos o nosso modelo de aprendizagem [REGRESSÃO]"
      ]
    },
    {
      "cell_type": "code",
      "execution_count": null,
      "metadata": {
        "colab": {
          "base_uri": "https://localhost:8080/",
          "height": 75
        },
        "outputId": "83552238-b770-4a62-a884-4b7f27888bb8",
        "id": "t00U5glvJjKV"
      },
      "outputs": [
        {
          "output_type": "execute_result",
          "data": {
            "text/plain": [
              "LinearRegression()"
            ],
            "text/html": [
              "<style>#sk-container-id-1 {color: black;}#sk-container-id-1 pre{padding: 0;}#sk-container-id-1 div.sk-toggleable {background-color: white;}#sk-container-id-1 label.sk-toggleable__label {cursor: pointer;display: block;width: 100%;margin-bottom: 0;padding: 0.3em;box-sizing: border-box;text-align: center;}#sk-container-id-1 label.sk-toggleable__label-arrow:before {content: \"▸\";float: left;margin-right: 0.25em;color: #696969;}#sk-container-id-1 label.sk-toggleable__label-arrow:hover:before {color: black;}#sk-container-id-1 div.sk-estimator:hover label.sk-toggleable__label-arrow:before {color: black;}#sk-container-id-1 div.sk-toggleable__content {max-height: 0;max-width: 0;overflow: hidden;text-align: left;background-color: #f0f8ff;}#sk-container-id-1 div.sk-toggleable__content pre {margin: 0.2em;color: black;border-radius: 0.25em;background-color: #f0f8ff;}#sk-container-id-1 input.sk-toggleable__control:checked~div.sk-toggleable__content {max-height: 200px;max-width: 100%;overflow: auto;}#sk-container-id-1 input.sk-toggleable__control:checked~label.sk-toggleable__label-arrow:before {content: \"▾\";}#sk-container-id-1 div.sk-estimator input.sk-toggleable__control:checked~label.sk-toggleable__label {background-color: #d4ebff;}#sk-container-id-1 div.sk-label input.sk-toggleable__control:checked~label.sk-toggleable__label {background-color: #d4ebff;}#sk-container-id-1 input.sk-hidden--visually {border: 0;clip: rect(1px 1px 1px 1px);clip: rect(1px, 1px, 1px, 1px);height: 1px;margin: -1px;overflow: hidden;padding: 0;position: absolute;width: 1px;}#sk-container-id-1 div.sk-estimator {font-family: monospace;background-color: #f0f8ff;border: 1px dotted black;border-radius: 0.25em;box-sizing: border-box;margin-bottom: 0.5em;}#sk-container-id-1 div.sk-estimator:hover {background-color: #d4ebff;}#sk-container-id-1 div.sk-parallel-item::after {content: \"\";width: 100%;border-bottom: 1px solid gray;flex-grow: 1;}#sk-container-id-1 div.sk-label:hover label.sk-toggleable__label {background-color: #d4ebff;}#sk-container-id-1 div.sk-serial::before {content: \"\";position: absolute;border-left: 1px solid gray;box-sizing: border-box;top: 0;bottom: 0;left: 50%;z-index: 0;}#sk-container-id-1 div.sk-serial {display: flex;flex-direction: column;align-items: center;background-color: white;padding-right: 0.2em;padding-left: 0.2em;position: relative;}#sk-container-id-1 div.sk-item {position: relative;z-index: 1;}#sk-container-id-1 div.sk-parallel {display: flex;align-items: stretch;justify-content: center;background-color: white;position: relative;}#sk-container-id-1 div.sk-item::before, #sk-container-id-1 div.sk-parallel-item::before {content: \"\";position: absolute;border-left: 1px solid gray;box-sizing: border-box;top: 0;bottom: 0;left: 50%;z-index: -1;}#sk-container-id-1 div.sk-parallel-item {display: flex;flex-direction: column;z-index: 1;position: relative;background-color: white;}#sk-container-id-1 div.sk-parallel-item:first-child::after {align-self: flex-end;width: 50%;}#sk-container-id-1 div.sk-parallel-item:last-child::after {align-self: flex-start;width: 50%;}#sk-container-id-1 div.sk-parallel-item:only-child::after {width: 0;}#sk-container-id-1 div.sk-dashed-wrapped {border: 1px dashed gray;margin: 0 0.4em 0.5em 0.4em;box-sizing: border-box;padding-bottom: 0.4em;background-color: white;}#sk-container-id-1 div.sk-label label {font-family: monospace;font-weight: bold;display: inline-block;line-height: 1.2em;}#sk-container-id-1 div.sk-label-container {text-align: center;}#sk-container-id-1 div.sk-container {/* jupyter's `normalize.less` sets `[hidden] { display: none; }` but bootstrap.min.css set `[hidden] { display: none !important; }` so we also need the `!important` here to be able to override the default hidden behavior on the sphinx rendered scikit-learn.org. See: https://github.com/scikit-learn/scikit-learn/issues/21755 */display: inline-block !important;position: relative;}#sk-container-id-1 div.sk-text-repr-fallback {display: none;}</style><div id=\"sk-container-id-1\" class=\"sk-top-container\"><div class=\"sk-text-repr-fallback\"><pre>LinearRegression()</pre><b>In a Jupyter environment, please rerun this cell to show the HTML representation or trust the notebook. <br />On GitHub, the HTML representation is unable to render, please try loading this page with nbviewer.org.</b></div><div class=\"sk-container\" hidden><div class=\"sk-item\"><div class=\"sk-estimator sk-toggleable\"><input class=\"sk-toggleable__control sk-hidden--visually\" id=\"sk-estimator-id-1\" type=\"checkbox\" checked><label for=\"sk-estimator-id-1\" class=\"sk-toggleable__label sk-toggleable__label-arrow\">LinearRegression</label><div class=\"sk-toggleable__content\"><pre>LinearRegression()</pre></div></div></div></div></div>"
            ]
          },
          "metadata": {},
          "execution_count": 8
        }
      ],
      "source": [
        "regressor = LinearRegression()\n",
        "regressor.fit(X, y)"
      ]
    },
    {
      "cell_type": "markdown",
      "metadata": {
        "id": "8jQXxXM6VKIY"
      },
      "source": [
        ">> O programa acima cria um *modelo* (um modelo linear) para os dados. Esse modelo busca capturar o *padrão* dos dados, isto é, a regra que leva os valores de $^{o} C$ (Celsius) $\\rightarrow$ $^{o} F$ (Fahrenheit), e cria um *programa* com essa regra que pode ser aplicado a novos valores."
      ]
    },
    {
      "cell_type": "markdown",
      "metadata": {
        "tags": [],
        "id": "AaV9xpfDJjKW"
      },
      "source": [
        "- Em seguida, obtemos a predição do valor que desejamos, nesse caso será o mesmo que utilizamos na primeira parte para realizar a comparação"
      ]
    },
    {
      "cell_type": "code",
      "execution_count": null,
      "metadata": {
        "colab": {
          "base_uri": "https://localhost:8080/"
        },
        "id": "tBVS7griU1lI",
        "outputId": "e7629966-102c-448e-d971-d4e701b39bb9"
      },
      "outputs": [
        {
          "output_type": "stream",
          "name": "stdout",
          "text": [
            "[32.  80.6]\n"
          ]
        }
      ],
      "source": [
        "Fahrenheit_prediction = regressor.predict(pd.DataFrame({'celsius':[0,27]}))\n",
        "print(Fahrenheit_prediction)"
      ]
    },
    {
      "cell_type": "markdown",
      "metadata": {
        "id": "PoSUG8tLWYmq"
      },
      "source": [
        ">> Agora, nosso novo programa `regressor`, converte as temperaturas da mesma forma que o programa `Celsius2Fahrenheit` onde explicitamente codificamos a regra de conversão de Celsius para Fahrenheit, mas *criamos* esse programa unicamente a partir de dados, sem conhecermos explicitamente a regra de conversão."
      ]
    },
    {
      "cell_type": "markdown",
      "metadata": {
        "id": "rSfDmQNnJjKX"
      },
      "source": [
        "### Coeficientes do modelo de Regressão"
      ]
    },
    {
      "cell_type": "code",
      "execution_count": null,
      "metadata": {
        "colab": {
          "base_uri": "https://localhost:8080/"
        },
        "id": "we0sxSGzW1AI",
        "outputId": "c7b146f7-6969-4cd5-955a-133c6eec2110"
      },
      "outputs": [
        {
          "output_type": "stream",
          "name": "stdout",
          "text": [
            "Coefficients: \n",
            " [1.8] 32.0\n"
          ]
        }
      ],
      "source": [
        "print(\"Coefficients: \\n\", regressor.coef_, regressor.intercept_)"
      ]
    },
    {
      "cell_type": "markdown",
      "metadata": {
        "id": "PWlVNpqXW3OZ"
      },
      "source": [
        "> Nosso `regressor` é um modelo de regressão linear, um dos modelos de Aprendizado de Máquina mais simples, e que mapeia dados de entrada e saída na forma de uma equação linear.\n",
        "\n",
        "$$ y = a_0 + a_1 x $$\n",
        "\n",
        "O *aprendizado* consiste em encontrar, nesse modelo, os coeficientes que melhor se ajustam aos dados e você pode notar que os coeficientes obtidos são exatamente os mesmos da nossa fórmula colocada explicitamente no nosso código `Celsius_para_Fahrenheit`.\n",
        "\n",
        "$$ y = 32 + 1.8 x \\space \\Rightarrow \\space ^{o}C = 32 + \\frac{5}{9} \\times ^{o}F $$"
      ]
    },
    {
      "cell_type": "markdown",
      "metadata": {
        "id": "hHgEVuFTaENA"
      },
      "source": [
        ">> Talvez você ache pouco interessante o exemplo que apresentamos. Afinal parece ter sido muito mais fácil criar o programa `Celsius_para_Fahrenheit` e, de fato, quando conhecemos a regra por traz dessas transformações é muito mais simples explicitarmos isso em um programa que empregarmos o Aprendizado de Máquina. Um modelo conhecido (a regra explícita) apresentará sempre um resultado melhor."
      ]
    },
    {
      "cell_type": "markdown",
      "metadata": {
        "id": "66a9Ib9WJjKa"
      },
      "source": [
        "<br>**Mas e quando você não conhece essa regra?**\n",
        "\n",
        ">> Há muitos problemas práticos em que não conhecemos essa regra (ela pode até mesmo não existir) e não podemos, portanto, explicitá-la em um programa. É nesses casos que o Aprendizado de Máquina será útil.\n",
        "\n",
        ">"
      ]
    }
  ],
  "metadata": {
    "colab": {
      "provenance": []
    },
    "kernelspec": {
      "display_name": "Python 3 (ipykernel)",
      "language": "python",
      "name": "python3"
    },
    "language_info": {
      "codemirror_mode": {
        "name": "ipython",
        "version": 3
      },
      "file_extension": ".py",
      "mimetype": "text/x-python",
      "name": "python",
      "nbconvert_exporter": "python",
      "pygments_lexer": "ipython3",
      "version": "3.11.2"
    },
    "toc-autonumbering": true
  },
  "nbformat": 4,
  "nbformat_minor": 0
}